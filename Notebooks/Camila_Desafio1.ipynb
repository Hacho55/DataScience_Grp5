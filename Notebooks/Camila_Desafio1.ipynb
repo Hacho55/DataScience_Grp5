{
 "cells": [
  {
   "cell_type": "code",
   "execution_count": 192,
   "metadata": {},
   "outputs": [
    {
     "data": {
      "text/html": [
       "<div>\n",
       "<style scoped>\n",
       "    .dataframe tbody tr th:only-of-type {\n",
       "        vertical-align: middle;\n",
       "    }\n",
       "\n",
       "    .dataframe tbody tr th {\n",
       "        vertical-align: top;\n",
       "    }\n",
       "\n",
       "    .dataframe thead th {\n",
       "        text-align: right;\n",
       "    }\n",
       "</style>\n",
       "<table border=\"1\" class=\"dataframe\">\n",
       "  <thead>\n",
       "    <tr style=\"text-align: right;\">\n",
       "      <th></th>\n",
       "      <th>Unnamed: 0</th>\n",
       "      <th>operation</th>\n",
       "      <th>property_type</th>\n",
       "      <th>place_name</th>\n",
       "      <th>place_with_parent_names</th>\n",
       "      <th>country_name</th>\n",
       "      <th>state_name</th>\n",
       "      <th>geonames_id</th>\n",
       "      <th>lat-lon</th>\n",
       "      <th>lat</th>\n",
       "      <th>...</th>\n",
       "      <th>surface_covered_in_m2</th>\n",
       "      <th>price_usd_per_m2</th>\n",
       "      <th>price_per_m2</th>\n",
       "      <th>floor</th>\n",
       "      <th>rooms</th>\n",
       "      <th>expenses</th>\n",
       "      <th>properati_url</th>\n",
       "      <th>description</th>\n",
       "      <th>title</th>\n",
       "      <th>image_thumbnail</th>\n",
       "    </tr>\n",
       "  </thead>\n",
       "  <tbody>\n",
       "    <tr>\n",
       "      <th>0</th>\n",
       "      <td>0</td>\n",
       "      <td>sell</td>\n",
       "      <td>PH</td>\n",
       "      <td>Mataderos</td>\n",
       "      <td>|Argentina|Capital Federal|Mataderos|</td>\n",
       "      <td>Argentina</td>\n",
       "      <td>Capital Federal</td>\n",
       "      <td>3430787.0</td>\n",
       "      <td>-34.6618237,-58.5088387</td>\n",
       "      <td>-34.661824</td>\n",
       "      <td>...</td>\n",
       "      <td>40.0</td>\n",
       "      <td>1127.272727</td>\n",
       "      <td>1550.000000</td>\n",
       "      <td>NaN</td>\n",
       "      <td>NaN</td>\n",
       "      <td>NaN</td>\n",
       "      <td>http://www.properati.com.ar/15bo8_venta_ph_mat...</td>\n",
       "      <td>2 AMBIENTES TIPO CASA PLANTA BAJA POR PASILLO,...</td>\n",
       "      <td>2 AMB TIPO CASA SIN EXPENSAS EN PB</td>\n",
       "      <td>https://thumbs4.properati.com/8/BluUYiHJLhgIIK...</td>\n",
       "    </tr>\n",
       "    <tr>\n",
       "      <th>1</th>\n",
       "      <td>1</td>\n",
       "      <td>sell</td>\n",
       "      <td>apartment</td>\n",
       "      <td>La Plata</td>\n",
       "      <td>|Argentina|Bs.As. G.B.A. Zona Sur|La Plata|</td>\n",
       "      <td>Argentina</td>\n",
       "      <td>Bs.As. G.B.A. Zona Sur</td>\n",
       "      <td>3432039.0</td>\n",
       "      <td>-34.9038831,-57.9643295</td>\n",
       "      <td>-34.903883</td>\n",
       "      <td>...</td>\n",
       "      <td>NaN</td>\n",
       "      <td>NaN</td>\n",
       "      <td>NaN</td>\n",
       "      <td>NaN</td>\n",
       "      <td>NaN</td>\n",
       "      <td>NaN</td>\n",
       "      <td>http://www.properati.com.ar/15bob_venta_depart...</td>\n",
       "      <td>Venta de departamento en décimo piso al frente...</td>\n",
       "      <td>VENTA Depto 2 dorm. a estrenar 7 e/ 36 y 37   ...</td>\n",
       "      <td>https://thumbs4.properati.com/7/ikpVBu2ztHA7jv...</td>\n",
       "    </tr>\n",
       "    <tr>\n",
       "      <th>2</th>\n",
       "      <td>2</td>\n",
       "      <td>sell</td>\n",
       "      <td>apartment</td>\n",
       "      <td>Mataderos</td>\n",
       "      <td>|Argentina|Capital Federal|Mataderos|</td>\n",
       "      <td>Argentina</td>\n",
       "      <td>Capital Federal</td>\n",
       "      <td>3430787.0</td>\n",
       "      <td>-34.6522615,-58.5229825</td>\n",
       "      <td>-34.652262</td>\n",
       "      <td>...</td>\n",
       "      <td>55.0</td>\n",
       "      <td>1309.090909</td>\n",
       "      <td>1309.090909</td>\n",
       "      <td>NaN</td>\n",
       "      <td>NaN</td>\n",
       "      <td>NaN</td>\n",
       "      <td>http://www.properati.com.ar/15bod_venta_depart...</td>\n",
       "      <td>2 AMBIENTES 3ER PISO LATERAL LIVING COMEDOR AM...</td>\n",
       "      <td>2 AMB 3ER PISO CON ASCENSOR APTO CREDITO</td>\n",
       "      <td>https://thumbs4.properati.com/5/SXKr34F_IwG3W_...</td>\n",
       "    </tr>\n",
       "  </tbody>\n",
       "</table>\n",
       "<p>3 rows × 26 columns</p>\n",
       "</div>"
      ],
      "text/plain": [
       "   Unnamed: 0 operation property_type place_name  \\\n",
       "0           0      sell            PH  Mataderos   \n",
       "1           1      sell     apartment   La Plata   \n",
       "2           2      sell     apartment  Mataderos   \n",
       "\n",
       "                       place_with_parent_names country_name  \\\n",
       "0        |Argentina|Capital Federal|Mataderos|    Argentina   \n",
       "1  |Argentina|Bs.As. G.B.A. Zona Sur|La Plata|    Argentina   \n",
       "2        |Argentina|Capital Federal|Mataderos|    Argentina   \n",
       "\n",
       "               state_name  geonames_id                  lat-lon        lat  \\\n",
       "0         Capital Federal    3430787.0  -34.6618237,-58.5088387 -34.661824   \n",
       "1  Bs.As. G.B.A. Zona Sur    3432039.0  -34.9038831,-57.9643295 -34.903883   \n",
       "2         Capital Federal    3430787.0  -34.6522615,-58.5229825 -34.652262   \n",
       "\n",
       "   ...  surface_covered_in_m2  price_usd_per_m2 price_per_m2  floor  rooms  \\\n",
       "0  ...                   40.0       1127.272727  1550.000000    NaN    NaN   \n",
       "1  ...                    NaN               NaN          NaN    NaN    NaN   \n",
       "2  ...                   55.0       1309.090909  1309.090909    NaN    NaN   \n",
       "\n",
       "   expenses                                      properati_url  \\\n",
       "0       NaN  http://www.properati.com.ar/15bo8_venta_ph_mat...   \n",
       "1       NaN  http://www.properati.com.ar/15bob_venta_depart...   \n",
       "2       NaN  http://www.properati.com.ar/15bod_venta_depart...   \n",
       "\n",
       "                                         description  \\\n",
       "0  2 AMBIENTES TIPO CASA PLANTA BAJA POR PASILLO,...   \n",
       "1  Venta de departamento en décimo piso al frente...   \n",
       "2  2 AMBIENTES 3ER PISO LATERAL LIVING COMEDOR AM...   \n",
       "\n",
       "                                               title  \\\n",
       "0                 2 AMB TIPO CASA SIN EXPENSAS EN PB   \n",
       "1  VENTA Depto 2 dorm. a estrenar 7 e/ 36 y 37   ...   \n",
       "2           2 AMB 3ER PISO CON ASCENSOR APTO CREDITO   \n",
       "\n",
       "                                     image_thumbnail  \n",
       "0  https://thumbs4.properati.com/8/BluUYiHJLhgIIK...  \n",
       "1  https://thumbs4.properati.com/7/ikpVBu2ztHA7jv...  \n",
       "2  https://thumbs4.properati.com/5/SXKr34F_IwG3W_...  \n",
       "\n",
       "[3 rows x 26 columns]"
      ]
     },
     "execution_count": 192,
     "metadata": {},
     "output_type": "execute_result"
    }
   ],
   "source": [
    "import pandas as pd\n",
    "import numpy as np\n",
    "data_location = \"C:/Users/Camila/Desktop/DHDS/properati.csv\"\n",
    "data_desafio = pd.read_csv(data_location, sep=\",\", encoding = \"UTF-8\")\n",
    "\n",
    "data_desafio.head(3)"
   ]
  },
  {
   "cell_type": "code",
   "execution_count": 193,
   "metadata": {},
   "outputs": [
    {
     "data": {
      "text/html": [
       "<div>\n",
       "<style scoped>\n",
       "    .dataframe tbody tr th:only-of-type {\n",
       "        vertical-align: middle;\n",
       "    }\n",
       "\n",
       "    .dataframe tbody tr th {\n",
       "        vertical-align: top;\n",
       "    }\n",
       "\n",
       "    .dataframe thead th {\n",
       "        text-align: right;\n",
       "    }\n",
       "</style>\n",
       "<table border=\"1\" class=\"dataframe\">\n",
       "  <thead>\n",
       "    <tr style=\"text-align: right;\">\n",
       "      <th></th>\n",
       "      <th>Unnamed: 0</th>\n",
       "      <th>operation</th>\n",
       "      <th>property_type</th>\n",
       "      <th>place_name</th>\n",
       "      <th>place_with_parent_names</th>\n",
       "      <th>country_name</th>\n",
       "      <th>state_name</th>\n",
       "      <th>geonames_id</th>\n",
       "      <th>lat-lon</th>\n",
       "      <th>lat</th>\n",
       "      <th>...</th>\n",
       "      <th>surface_covered_in_m2</th>\n",
       "      <th>price_usd_per_m2</th>\n",
       "      <th>price_per_m2</th>\n",
       "      <th>floor</th>\n",
       "      <th>rooms</th>\n",
       "      <th>expenses</th>\n",
       "      <th>properati_url</th>\n",
       "      <th>description</th>\n",
       "      <th>title</th>\n",
       "      <th>image_thumbnail</th>\n",
       "    </tr>\n",
       "  </thead>\n",
       "  <tbody>\n",
       "    <tr>\n",
       "      <th>0</th>\n",
       "      <td>0</td>\n",
       "      <td>sell</td>\n",
       "      <td>ph</td>\n",
       "      <td>mataderos</td>\n",
       "      <td>|argentina|capital federal|mataderos|</td>\n",
       "      <td>argentina</td>\n",
       "      <td>capital federal</td>\n",
       "      <td>3430787.0</td>\n",
       "      <td>-34.6618237,-58.5088387</td>\n",
       "      <td>-34.661824</td>\n",
       "      <td>...</td>\n",
       "      <td>40.0</td>\n",
       "      <td>1127.272727</td>\n",
       "      <td>1550.000000</td>\n",
       "      <td>NaN</td>\n",
       "      <td>NaN</td>\n",
       "      <td>NaN</td>\n",
       "      <td>http://www.properati.com.ar/15bo8_venta_ph_mat...</td>\n",
       "      <td>2 ambientes tipo casa planta baja por pasillo,...</td>\n",
       "      <td>2 amb tipo casa sin expensas en pb</td>\n",
       "      <td>https://thumbs4.properati.com/8/bluuyihjlhgiik...</td>\n",
       "    </tr>\n",
       "    <tr>\n",
       "      <th>1</th>\n",
       "      <td>1</td>\n",
       "      <td>sell</td>\n",
       "      <td>apartment</td>\n",
       "      <td>la plata</td>\n",
       "      <td>|argentina|bs.as. g.b.a. zona sur|la plata|</td>\n",
       "      <td>argentina</td>\n",
       "      <td>bs.as. g.b.a. zona sur</td>\n",
       "      <td>3432039.0</td>\n",
       "      <td>-34.9038831,-57.9643295</td>\n",
       "      <td>-34.903883</td>\n",
       "      <td>...</td>\n",
       "      <td>NaN</td>\n",
       "      <td>NaN</td>\n",
       "      <td>NaN</td>\n",
       "      <td>NaN</td>\n",
       "      <td>NaN</td>\n",
       "      <td>NaN</td>\n",
       "      <td>http://www.properati.com.ar/15bob_venta_depart...</td>\n",
       "      <td>venta de departamento en décimo piso al frente...</td>\n",
       "      <td>venta depto 2 dorm. a estrenar 7 e/ 36 y 37   ...</td>\n",
       "      <td>https://thumbs4.properati.com/7/ikpvbu2ztha7jv...</td>\n",
       "    </tr>\n",
       "    <tr>\n",
       "      <th>2</th>\n",
       "      <td>2</td>\n",
       "      <td>sell</td>\n",
       "      <td>apartment</td>\n",
       "      <td>mataderos</td>\n",
       "      <td>|argentina|capital federal|mataderos|</td>\n",
       "      <td>argentina</td>\n",
       "      <td>capital federal</td>\n",
       "      <td>3430787.0</td>\n",
       "      <td>-34.6522615,-58.5229825</td>\n",
       "      <td>-34.652262</td>\n",
       "      <td>...</td>\n",
       "      <td>55.0</td>\n",
       "      <td>1309.090909</td>\n",
       "      <td>1309.090909</td>\n",
       "      <td>NaN</td>\n",
       "      <td>NaN</td>\n",
       "      <td>NaN</td>\n",
       "      <td>http://www.properati.com.ar/15bod_venta_depart...</td>\n",
       "      <td>2 ambientes 3er piso lateral living comedor am...</td>\n",
       "      <td>2 amb 3er piso con ascensor apto credito</td>\n",
       "      <td>https://thumbs4.properati.com/5/sxkr34f_iwg3w_...</td>\n",
       "    </tr>\n",
       "  </tbody>\n",
       "</table>\n",
       "<p>3 rows × 26 columns</p>\n",
       "</div>"
      ],
      "text/plain": [
       "   Unnamed: 0 operation property_type place_name  \\\n",
       "0           0      sell            ph  mataderos   \n",
       "1           1      sell     apartment   la plata   \n",
       "2           2      sell     apartment  mataderos   \n",
       "\n",
       "                       place_with_parent_names country_name  \\\n",
       "0        |argentina|capital federal|mataderos|    argentina   \n",
       "1  |argentina|bs.as. g.b.a. zona sur|la plata|    argentina   \n",
       "2        |argentina|capital federal|mataderos|    argentina   \n",
       "\n",
       "               state_name  geonames_id                  lat-lon        lat  \\\n",
       "0         capital federal    3430787.0  -34.6618237,-58.5088387 -34.661824   \n",
       "1  bs.as. g.b.a. zona sur    3432039.0  -34.9038831,-57.9643295 -34.903883   \n",
       "2         capital federal    3430787.0  -34.6522615,-58.5229825 -34.652262   \n",
       "\n",
       "   ...  surface_covered_in_m2  price_usd_per_m2 price_per_m2  floor  rooms  \\\n",
       "0  ...                   40.0       1127.272727  1550.000000    NaN    NaN   \n",
       "1  ...                    NaN               NaN          NaN    NaN    NaN   \n",
       "2  ...                   55.0       1309.090909  1309.090909    NaN    NaN   \n",
       "\n",
       "   expenses                                      properati_url  \\\n",
       "0       NaN  http://www.properati.com.ar/15bo8_venta_ph_mat...   \n",
       "1       NaN  http://www.properati.com.ar/15bob_venta_depart...   \n",
       "2       NaN  http://www.properati.com.ar/15bod_venta_depart...   \n",
       "\n",
       "                                         description  \\\n",
       "0  2 ambientes tipo casa planta baja por pasillo,...   \n",
       "1  venta de departamento en décimo piso al frente...   \n",
       "2  2 ambientes 3er piso lateral living comedor am...   \n",
       "\n",
       "                                               title  \\\n",
       "0                 2 amb tipo casa sin expensas en pb   \n",
       "1  venta depto 2 dorm. a estrenar 7 e/ 36 y 37   ...   \n",
       "2           2 amb 3er piso con ascensor apto credito   \n",
       "\n",
       "                                     image_thumbnail  \n",
       "0  https://thumbs4.properati.com/8/bluuyihjlhgiik...  \n",
       "1  https://thumbs4.properati.com/7/ikpvbu2ztha7jv...  \n",
       "2  https://thumbs4.properati.com/5/sxkr34f_iwg3w_...  \n",
       "\n",
       "[3 rows x 26 columns]"
      ]
     },
     "execution_count": 193,
     "metadata": {},
     "output_type": "execute_result"
    }
   ],
   "source": [
    "#Pasar todo a minuscula\n",
    "\n",
    "data= data_desafio.applymap(lambda x: x if np.isreal(x) else str(x).lower())\n",
    "\n",
    "data.head(3)"
   ]
  },
  {
   "cell_type": "code",
   "execution_count": 194,
   "metadata": {},
   "outputs": [
    {
     "name": "stdout",
     "output_type": "stream",
     "text": [
      "Columna surface_total_in_m2: 0          40.0\n",
      "1           NaN\n",
      "2          55.0\n",
      "3           NaN\n",
      "4          35.0\n",
      "          ...  \n",
      "121215     93.0\n",
      "121216    360.0\n",
      "121217     39.0\n",
      "121218     48.0\n",
      "121219     77.0\n",
      "Name: surface_covered_in_m2, Length: 121220, dtype: float64\n",
      "----------------------------------------------\n",
      "Cantidad de nulos en columna surface_total_in_m2: 39328\n",
      "----------------------------------------------\n",
      "Porcentaje de nulos en surface_total_in_m2: 32.44\n"
     ]
    }
   ],
   "source": [
    "#columna: surface_total_in_m2\n",
    "\n",
    "print(\"Columna surface_total_in_m2:\",data['surface_covered_in_m2'])\n",
    "\n",
    "print(\"----------------------------------------------\")\n",
    "\n",
    "#Cantidad de nulos\n",
    "null_mask = data['surface_total_in_m2'].isnull()\n",
    "print(\"Cantidad de nulos en columna surface_total_in_m2:\",null_mask.sum())\n",
    "\n",
    "print(\"----------------------------------------------\")\n",
    "\n",
    "#Porcentaje de nulos\n",
    "porcentaje_mask = null_mask.sum() / data['surface_total_in_m2'].shape[0] * 100 \n",
    "print(\"Porcentaje de nulos en surface_total_in_m2:\",np.round(porcentaje_mask,2))"
   ]
  },
  {
   "cell_type": "code",
   "execution_count": 195,
   "metadata": {},
   "outputs": [
    {
     "data": {
      "text/plain": [
       "200000.0"
      ]
     },
     "execution_count": 195,
     "metadata": {},
     "output_type": "execute_result"
    }
   ],
   "source": [
    "#Construcción columna clean\n",
    "data[\"surface_total_in_m2_clean\"] = data.surface_total_in_m2\n",
    "data[\"surface_total_in_m2_clean\"].max()"
   ]
  },
  {
   "cell_type": "code",
   "execution_count": 196,
   "metadata": {},
   "outputs": [
    {
     "name": "stdout",
     "output_type": "stream",
     "text": [
      "Cantidad de nulos: 31473\n"
     ]
    },
    {
     "data": {
      "text/plain": [
       "0          55\n",
       "1         NaN\n",
       "2          55\n",
       "3         NaN\n",
       "4          35\n",
       "         ... \n",
       "121215    113\n",
       "121216    360\n",
       "121217     46\n",
       "121218     48\n",
       "121219     77\n",
       "Name: surface_total_in_m2_clean, Length: 121220, dtype: object"
      ]
     },
     "execution_count": 196,
     "metadata": {},
     "output_type": "execute_result"
    }
   ],
   "source": [
    "#Limpieza de columna surface_total_in_m2\n",
    "import re\n",
    "\n",
    "#Busco mts2 en columna descripción y los guardo en columna \"surface_total_in_m2_clean\"\n",
    "\n",
    "mts2_pattern = \"(?P<mts2>\\d\\d\\d\\d?)\\s?(?P<metros>mts|mt|metros|mt2|m2|m|mts2|m2c|mÂ²|mts²)\"\n",
    "mts2_pattern_regex = re.compile(mts2_pattern)\n",
    "\n",
    "description_series = data.description\n",
    "\n",
    "data_mts2_match = description_series.apply(lambda x:  x if x is np.NaN else mts2_pattern_regex.search(x))\n",
    "\n",
    "#Relleno los nulos de \"surface_total_in_m2_clean\" con los resultados\n",
    "\n",
    "mask_data_mts2_match_notnull = data_mts2_match.notnull()\n",
    "mask_surface_total_isnull = data.surface_total_in_m2_clean.isnull()\n",
    "\n",
    "mask_surface = mask_data_mts2_match_notnull & mask_surface_total_isnull\n",
    "\n",
    "data.loc[mask_surface, \"surface_total_in_m2_clean\"] = \\\n",
    "data_mts2_match[mask_data_mts2_match_notnull].apply(lambda x: x.group(\"mts2\"))\n",
    "\n",
    "print(\"Cantidad de nulos:\",data[\"surface_total_in_m2_clean\"].isnull().sum())\n",
    "data[\"surface_total_in_m2_clean\"]\n"
   ]
  },
  {
   "cell_type": "code",
   "execution_count": 197,
   "metadata": {},
   "outputs": [
    {
     "data": {
      "text/plain": [
       "200000.0"
      ]
     },
     "execution_count": 197,
     "metadata": {},
     "output_type": "execute_result"
    }
   ],
   "source": [
    "data[\"surface_total_in_m2_clean\"].astype(float).max()"
   ]
  },
  {
   "cell_type": "code",
   "execution_count": 198,
   "metadata": {},
   "outputs": [
    {
     "name": "stdout",
     "output_type": "stream",
     "text": [
      "Cantidad de nulos: 31304\n"
     ]
    },
    {
     "data": {
      "text/plain": [
       "0          55\n",
       "1         NaN\n",
       "2          55\n",
       "3         NaN\n",
       "4          35\n",
       "         ... \n",
       "121215    113\n",
       "121216    360\n",
       "121217     46\n",
       "121218     48\n",
       "121219     77\n",
       "Name: surface_total_in_m2_clean, Length: 121220, dtype: object"
      ]
     },
     "execution_count": 198,
     "metadata": {},
     "output_type": "execute_result"
    }
   ],
   "source": [
    "#Busco mts2 en columna title y los guardo en columna \"surface_total_in_m2_clean\"\n",
    "\n",
    "mts2_pattern = \"(?P<mts2>\\d\\d\\d\\d?)\\s?(?P<metros>mts|mt|metros|mt2|m2|m|mts2|m2c|mÂ²|mts²)\"\n",
    "mts2_pattern_regex = re.compile(mts2_pattern)\n",
    "\n",
    "title_series = data.title\n",
    "\n",
    "data_mts2_match = title_series.apply(lambda x:  x if x is np.NaN else mts2_pattern_regex.search(x))\n",
    "\n",
    "#Relleno los nulos con los resultados\n",
    "\n",
    "mask_data_mts2_match_notnull = data_mts2_match.notnull()\n",
    "mask_surface_total_isnull = data.surface_total_in_m2_clean.isnull()\n",
    "\n",
    "mask_surface = mask_data_mts2_match_notnull & mask_surface_total_isnull\n",
    "\n",
    "data.loc[mask_surface, \"surface_total_in_m2_clean\"] = \\\n",
    "data_mts2_match[mask_data_mts2_match_notnull].apply(lambda x: x.group(\"mts2\"))\n",
    "\n",
    "print(\"Cantidad de nulos:\",data[\"surface_total_in_m2_clean\"].isnull().sum())\n",
    "\n",
    "data[\"surface_total_in_m2_clean\"]"
   ]
  },
  {
   "cell_type": "code",
   "execution_count": 199,
   "metadata": {},
   "outputs": [
    {
     "data": {
      "text/plain": [
       "0          72.727273\n",
       "2         100.000000\n",
       "4         100.000000\n",
       "6          73.584906\n",
       "7          88.888889\n",
       "             ...    \n",
       "121215     82.300885\n",
       "121216    100.000000\n",
       "121217     84.782609\n",
       "121218    100.000000\n",
       "121219    100.000000\n",
       "Length: 80210, dtype: float64"
      ]
     },
     "execution_count": 199,
     "metadata": {},
     "output_type": "execute_result"
    }
   ],
   "source": [
    "#Miro proporción de superficie cubierta en superficie total\n",
    "\n",
    "#Para eso, creamos máscaras de los valores no nulos de superficie total y cubierta.\n",
    "surface_total_in_m2_clean = data[\"surface_total_in_m2_clean\"].astype(float)\n",
    "\n",
    "surface_covered_in_m2_notnull = data.surface_covered_in_m2.notnull()\n",
    "surface_covered_in_m2_notnull_mask = data.surface_covered_in_m2[surface_covered_in_m2_notnull]\n",
    "\n",
    "surface_total_in_m2_clean_notnull = surface_total_in_m2_clean.notnull()\n",
    "surface_total_in_m2_clean_notnull_mask = data.surface_total_in_m2_clean[surface_total_in_m2_clean_notnull]\n",
    "\n",
    "surface__notnullmask = surface_covered_in_m2_notnull_mask.index & \\\n",
    "surface_total_in_m2_clean_notnull_mask.index\n",
    "\n",
    "#Calculamos la proporción\n",
    "proporcion_superficies = \\\n",
    "data.surface_covered_in_m2[surface__notnullmask] / surface_total_in_m2_clean[surface__notnullmask] * 100 \n",
    "proporcion_superficies"
   ]
  },
  {
   "cell_type": "code",
   "execution_count": 200,
   "metadata": {},
   "outputs": [
    {
     "data": {
      "text/plain": [
       "0          55\n",
       "1         NaN\n",
       "2          55\n",
       "3         NaN\n",
       "4          35\n",
       "         ... \n",
       "121215    113\n",
       "121216    360\n",
       "121217     46\n",
       "121218     48\n",
       "121219     77\n",
       "Name: surface_total_in_m2_clean, Length: 121220, dtype: object"
      ]
     },
     "execution_count": 200,
     "metadata": {},
     "output_type": "execute_result"
    }
   ],
   "source": [
    "data[\"surface_total_in_m2_clean\"]"
   ]
  },
  {
   "cell_type": "code",
   "execution_count": 201,
   "metadata": {},
   "outputs": [
    {
     "name": "stdout",
     "output_type": "stream",
     "text": [
      "Porcentaje de observaciones en las cuales la supercie cubierta representa el 100% o más del total: 26.85 %\n",
      "Observamos que en más del 26.85 %de los casos la superficie cubierta es el 100% o más del total\n"
     ]
    }
   ],
   "source": [
    "#Observamos que porcentaje de la superficie cubierta representa 100% o más del total\n",
    "\n",
    "proporcion_superficies_mayor100 = proporcion_superficies >= 100\n",
    "\n",
    "resultado_proporcion_superficies_mayor100 = np.around(len(proporcion_superficies[proporcion_superficies_mayor100]) / \\\n",
    "          len(data.surface_covered_in_m2[surface_covered_in_m2_notnull_mask]) * 100, 2)\n",
    "\n",
    "print(\"Porcentaje de observaciones en las cuales la supercie cubierta representa el 100% o más del total:\",\\\n",
    " resultado_proporcion_superficies_mayor100,\"%\")\n",
    "\n",
    "print(\"Observamos que en más del\",resultado_proporcion_superficies_mayor100,\"%\\\n",
    "de los casos la superficie cubierta es el 100% o más del total\")"
   ]
  },
  {
   "cell_type": "code",
   "execution_count": 202,
   "metadata": {},
   "outputs": [
    {
     "name": "stdout",
     "output_type": "stream",
     "text": [
      "Porcentaje de observaciones en las cuales la supercie cubierta representa el 85% o más del total: 48.98 %\n",
      "Observamos que en más del 48.98 % de los casos la superficie cubierta es el 85% o más del total\n"
     ]
    }
   ],
   "source": [
    "#Observamos que porcentaje de la superficie cubierta representa 85% o más del total\n",
    "\n",
    "proporcion_superficies_mayorigual85 = proporcion_superficies >= 85\n",
    "\n",
    "resultado_proporcion_superficies_mayorigual85 = np.around(len(proporcion_superficies[proporcion_superficies_mayorigual85])/ \\\n",
    "          len(data.surface_covered_in_m2[surface_covered_in_m2_notnull_mask]) * 100, 2 )\n",
    "\n",
    "print(\"Porcentaje de observaciones en las cuales la supercie cubierta representa el 85% o más del total:\",\\\n",
    "resultado_proporcion_superficies_mayorigual85,\"%\")\n",
    "\n",
    "print(\"Observamos que en más del\",resultado_proporcion_superficies_mayorigual85,\"% \\\n",
    "de los casos la superficie cubierta es el 85% o más del total\")"
   ]
  },
  {
   "cell_type": "markdown",
   "metadata": {},
   "source": [
    "--------------------------------------------------------------\n",
    "Por este motivo podemos concluir que la columna 'surface_covered_in_m2' puede ser absorbida por 'surface_total_in_m2'.\n",
    "--------------------------------------------------------------"
   ]
  },
  {
   "cell_type": "code",
   "execution_count": 203,
   "metadata": {},
   "outputs": [
    {
     "data": {
      "text/plain": [
       "68         72\n",
       "77         85\n",
       "79         42\n",
       "87        170\n",
       "89         53\n",
       "         ... \n",
       "121149    195\n",
       "121150     52\n",
       "121151     72\n",
       "121152     33\n",
       "121210    120\n",
       "Name: surface_total_in_m2_clean, Length: 21103, dtype: object"
      ]
     },
     "execution_count": 203,
     "metadata": {},
     "output_type": "execute_result"
    }
   ],
   "source": [
    "#Reemplazamos las filas en las cuales 'surface_covered_in_m2' tiene datos y \"surface_total_in_m2_clean\" tiene nulos\n",
    "\n",
    "#Para eso, creamos máscaras de los valores no nulos de superficie cubierta y nulos de superficie total.\n",
    "\n",
    "surface_covered_in_m2_notnull = data.surface_covered_in_m2.notnull()\n",
    "surface_covered_in_m2_notnull_mask = data.surface_covered_in_m2[surface_covered_in_m2_notnull]\n",
    "\n",
    "surface_total_in_m2_clean_isnull = surface_total_in_m2_clean.isnull()\n",
    "surface_total_in_m2_clean_isnull_mask = data.surface_total_in_m2_clean[surface_total_in_m2_clean_isnull]\n",
    "\n",
    "surface_reemplazo_mask = surface_covered_in_m2_notnull_mask.index & \\\n",
    "surface_total_in_m2_clean_isnull_mask.index\n",
    "\n",
    "# Y reemplazamos los valores de estos índices en surface_total_in_m2_clean\n",
    "\n",
    "data.loc[surface_reemplazo_mask, \"surface_total_in_m2_clean\"] = data.surface_covered_in_m2[surface_reemplazo_mask]\n",
    "\n",
    "data.loc[surface_reemplazo_mask, \"surface_total_in_m2_clean\"]"
   ]
  },
  {
   "cell_type": "code",
   "execution_count": 204,
   "metadata": {},
   "outputs": [
    {
     "name": "stdout",
     "output_type": "stream",
     "text": [
      "Luego de los pasos anteriores, el porcentaje de nulos en la columna surface_total_in_m2_clean es: 8.42 %\n"
     ]
    }
   ],
   "source": [
    "porcentaje_nulos_surface = data[\"surface_total_in_m2_clean\"].isnull().sum() /\\\n",
    "data[\"surface_total_in_m2_clean\"].shape[0] * 100\n",
    "\n",
    "print(\"Luego de los pasos anteriores, el porcentaje de nulos en la columna surface_total_in_m2_clean es:\",\\\n",
    "      np.round(porcentaje_nulos_surface, 2),\"%\")"
   ]
  },
  {
   "cell_type": "code",
   "execution_count": 205,
   "metadata": {},
   "outputs": [
    {
     "data": {
      "text/plain": [
       "<matplotlib.axes._subplots.AxesSubplot at 0x1fb1541da48>"
      ]
     },
     "execution_count": 205,
     "metadata": {},
     "output_type": "execute_result"
    },
    {
     "data": {
      "image/png": "[encoded data removed]",
      "text/plain": [
       "<Figure size 432x288 with 1 Axes>"
      ]
     },
     "metadata": {
      "needs_background": "light"
     },
     "output_type": "display_data"
    }
   ],
   "source": [
    "import matplotlib as mpl\n",
    "import matplotlib.pyplot as plt\n",
    "import seaborn as sns\n",
    "\n",
    "#Análisis de los valores de mts2 para apartamentos\n",
    "property_values = ['apartment']\n",
    "\n",
    "data_property_mask = data.property_type.apply(lambda x: x in property_values)\n",
    "\n",
    "data_surface_order_mask = data.surface_total_in_m2_clean.astype(float) < 150\n",
    "\n",
    "data_property_surface_mask = data_property_mask & data_surface_order_mask\n",
    "data_property_mask = data_property_mask\n",
    "\n",
    "data_property = data.loc[data_property_surface_mask, :]\n",
    "\n",
    "sns.boxplot(data.property_type[data_property_surface_mask], data.surface_total_in_m2_clean.astype(float)[data_property_surface_mask],\\\n",
    "            data = data_property)"
   ]
  },
  {
   "cell_type": "code",
   "execution_count": 206,
   "metadata": {},
   "outputs": [],
   "source": [
    "#Busco outliers\n",
    "\n",
    "mask_apartment = data[\"property_type\"] == 'apartment'\n",
    "\n",
    "surface_apartment = data[\"surface_total_in_m2_clean\"][mask_apartment]\n",
    "\n",
    "surface_apartment = surface_apartment.astype(float)\n",
    "\n",
    "q1_apart = surface_apartment.quantile(q=0.25)\n",
    "q3_apart = surface_apartment.quantile(q=0.75)\n",
    "\n",
    "iqr = (q3_apart - q1_apart) * 1.5\n",
    "\n",
    "up_threshold = q3_apart + iqr\n",
    "low_threshold = q1_apart - iqr\n",
    "\n",
    "outlier_mask_up = surface_apartment  > up_threshold\n",
    "outlier_mask_down = surface_apartment  < low_threshold\n",
    "outlier_mask = np.logical_or(outlier_mask_up, outlier_mask_down)\n",
    "not_outliers = np.logical_not(outlier_mask)\n",
    "\n",
    "\n",
    "outliers_apartment = surface_apartment[outlier_mask]\n",
    "notoutliers_apartment = surface_apartment[not_outliers]\n",
    "\n",
    "                            "
   ]
  },
  {
   "cell_type": "code",
   "execution_count": 207,
   "metadata": {},
   "outputs": [
    {
     "data": {
      "text/plain": [
       "0"
      ]
     },
     "execution_count": 207,
     "metadata": {},
     "output_type": "execute_result"
    }
   ],
   "source": [
    "#Reemplazo los nulos en apartamentos de la columna \"surface_total_in_m2_clean\" por el promedio en esta categoría\n",
    "\n",
    "mask_aparment_surface_isnull = mask_apartment & data[\"surface_total_in_m2_clean\"].isnull()\n",
    "\n",
    "mask_aparment_surface_notnull = not_outliers & data[\"surface_total_in_m2_clean\"].notnull()\n",
    "\n",
    "result_mask_aparment_surface = data.surface_total_in_m2_clean[mask_aparment_surface_notnull]\n",
    "\n",
    "data.loc[mask_aparment_surface_isnull , \"surface_total_in_m2_clean\"]= round(result_mask_aparment_surface.astype(float).mean(),0)\n",
    "\n",
    "data[\"surface_total_in_m2_clean\"][mask_apartment].isnull().sum()\n"
   ]
  },
  {
   "cell_type": "code",
   "execution_count": 208,
   "metadata": {},
   "outputs": [
    {
     "data": {
      "text/plain": [
       "0          55\n",
       "1          64\n",
       "2          55\n",
       "3         NaN\n",
       "4          35\n",
       "         ... \n",
       "121215    113\n",
       "121216    360\n",
       "121217     46\n",
       "121218     48\n",
       "121219     77\n",
       "Name: surface_total_in_m2_clean, Length: 121220, dtype: object"
      ]
     },
     "execution_count": 208,
     "metadata": {},
     "output_type": "execute_result"
    }
   ],
   "source": [
    "data[\"surface_total_in_m2_clean\"]"
   ]
  },
  {
   "cell_type": "code",
   "execution_count": 209,
   "metadata": {},
   "outputs": [
    {
     "data": {
      "text/plain": [
       "<matplotlib.axes._subplots.AxesSubplot at 0x1fb15439548>"
      ]
     },
     "execution_count": 209,
     "metadata": {},
     "output_type": "execute_result"
    },
    {
     "data": {
      "image/png": "[encoded data removed]",
      "text/plain": [
       "<Figure size 432x288 with 1 Axes>"
      ]
     },
     "metadata": {
      "needs_background": "light"
     },
     "output_type": "display_data"
    }
   ],
   "source": [
    "#Análisis de los valores de mts2 para casas\n",
    "property_values = ['house']\n",
    "\n",
    "data_property_mask = data.property_type.apply(lambda x: x in property_values)\n",
    "\n",
    "data_surface_order_mask = data.surface_total_in_m2_clean.astype(float) < 1000\n",
    "\n",
    "data_property_surface_mask = data_property_mask & data_surface_order_mask\n",
    "data_property_mask = data_property_mask\n",
    "\n",
    "data_property = data.loc[data_property_surface_mask, :]\n",
    "\n",
    "sns.boxplot(data.property_type[data_property_surface_mask], data.surface_total_in_m2_clean.astype(float)[data_property_surface_mask],\\\n",
    "            data = data_property)"
   ]
  },
  {
   "cell_type": "code",
   "execution_count": 210,
   "metadata": {},
   "outputs": [],
   "source": [
    "#Busco outliers\n",
    "\n",
    "mask_house = data[\"property_type\"] == 'house'\n",
    "\n",
    "surface_house = data[\"surface_total_in_m2_clean\"][mask_house]\n",
    "\n",
    "surface_house = surface_house.astype(float)\n",
    "\n",
    "\n",
    "q1_house = surface_house.quantile(q=0.25)\n",
    "q3_house = surface_house.quantile(q=0.75)\n",
    "\n",
    "iqr = (q3_house - q1_house) * 1.5\n",
    "\n",
    "up_threshold = q3_house + iqr\n",
    "low_threshold = q1_house - iqr\n",
    "\n",
    "outlier_mask_up = surface_house  > up_threshold\n",
    "outlier_mask_down = surface_house  < low_threshold\n",
    "outlier_mask = np.logical_or(outlier_mask_up, outlier_mask_down)\n",
    "not_outliers = np.logical_not(outlier_mask)\n",
    "\n",
    "\n",
    "outliers_house= surface_house[outlier_mask]\n",
    "notoutliers_house = surface_house[not_outliers]\n"
   ]
  },
  {
   "cell_type": "code",
   "execution_count": 211,
   "metadata": {},
   "outputs": [
    {
     "data": {
      "text/plain": [
       "0"
      ]
     },
     "execution_count": 211,
     "metadata": {},
     "output_type": "execute_result"
    }
   ],
   "source": [
    "#Reemplazo los outliers y nulos en apartamentos de la columna \"surface_total_in_m2_clean\" por el promedio en esta categoría\n",
    "\n",
    "mask_house_surface_isnull = mask_house & data[\"surface_total_in_m2_clean\"].isnull()\n",
    "\n",
    "mask_aparment_surface_notnull = not_outliers & data[\"surface_total_in_m2_clean\"].notnull()\n",
    "\n",
    "result_mask_house_surface = data.surface_total_in_m2_clean[mask_house_surface_notnull]\n",
    "\n",
    "data.loc[mask_house_surface_isnull , \"surface_total_in_m2_clean\"]= round(result_mask_house_surface.astype(float).mean(),0)\n",
    "\n",
    "data[\"surface_total_in_m2_clean\"][mask_house].isnull().sum()"
   ]
  },
  {
   "cell_type": "code",
   "execution_count": 212,
   "metadata": {},
   "outputs": [
    {
     "data": {
      "text/plain": [
       "<matplotlib.axes._subplots.AxesSubplot at 0x1fb15452208>"
      ]
     },
     "execution_count": 212,
     "metadata": {},
     "output_type": "execute_result"
    },
    {
     "data": {
      "image/png": "[encoded data removed]",
      "text/plain": [
       "<Figure size 432x288 with 1 Axes>"
      ]
     },
     "metadata": {
      "needs_background": "light"
     },
     "output_type": "display_data"
    }
   ],
   "source": [
    "#Análisis de los valores de mts2 para PH\n",
    "\n",
    "property_values = ['ph']\n",
    "\n",
    "data_property_mask = data.property_type.apply(lambda x: x in property_values)\n",
    "\n",
    "data_surface_order_mask = data.surface_total_in_m2_clean.astype(float) < 300\n",
    "\n",
    "data_property_surface_mask = data_property_mask & data_surface_order_mask\n",
    "data_property_mask = data_property_mask\n",
    "\n",
    "data_property = data.loc[data_property_surface_mask, :]\n",
    "\n",
    "sns.boxplot(data.property_type[data_property_surface_mask], data.surface_total_in_m2_clean.astype(float)[data_property_surface_mask],\\\n",
    "            data = data_property)\n"
   ]
  },
  {
   "cell_type": "code",
   "execution_count": 213,
   "metadata": {},
   "outputs": [],
   "source": [
    "#Busco outliers\n",
    "\n",
    "mask_ph = data[\"property_type\"] == 'ph'\n",
    "\n",
    "surface_ph = data[\"surface_total_in_m2_clean\"][mask_ph]\n",
    "\n",
    "surface_ph = surface_ph.astype(float)\n",
    "\n",
    "\n",
    "q1_ph = surface_ph.quantile(q=0.25)\n",
    "q3_ph = surface_ph.quantile(q=0.75)\n",
    "\n",
    "iqr = (q3_ph - q1_ph) * 1.5\n",
    "\n",
    "up_threshold = q3_ph + iqr\n",
    "low_threshold = q1_ph - iqr\n",
    "\n",
    "outlier_mask_up = surface_ph  > up_threshold\n",
    "outlier_mask_down = surface_ph  < low_threshold\n",
    "outlier_mask = np.logical_or(outlier_mask_up, outlier_mask_down)\n",
    "not_outliers = np.logical_not(outlier_mask)\n",
    "\n",
    "\n",
    "outliers_ph = surface_ph[outlier_mask]\n",
    "notoutliers_ph = surface_ph[not_outliers]\n"
   ]
  },
  {
   "cell_type": "code",
   "execution_count": 214,
   "metadata": {},
   "outputs": [
    {
     "data": {
      "text/plain": [
       "0"
      ]
     },
     "execution_count": 214,
     "metadata": {},
     "output_type": "execute_result"
    }
   ],
   "source": [
    "#Reemplazo los outliers y nulos en apartamentos de la columna \"surface_total_in_m2_clean\" por el promedio en esta categoría\n",
    "\n",
    "mask_ph_surface_isnull = mask_ph & data[\"surface_total_in_m2_clean\"].isnull()\n",
    "\n",
    "mask_ph_surface_notnull = not_outliers & data[\"surface_total_in_m2_clean\"].notnull()\n",
    "\n",
    "result_mask_ph_surface = data.surface_total_in_m2_clean[mask_ph_surface_notnull]\n",
    "\n",
    "data.loc[mask_ph_surface_isnull , \"surface_total_in_m2_clean\"]= round(result_mask_ph_surface.astype(float).mean(),0)\n",
    "\n",
    "data[\"surface_total_in_m2_clean\"][mask_ph].isnull().sum()"
   ]
  },
  {
   "cell_type": "code",
   "execution_count": 215,
   "metadata": {},
   "outputs": [
    {
     "data": {
      "text/plain": [
       "<matplotlib.axes._subplots.AxesSubplot at 0x1fa990b9208>"
      ]
     },
     "execution_count": 215,
     "metadata": {},
     "output_type": "execute_result"
    },
    {
     "data": {
      "image/png": "[encoded data removed]",
      "text/plain": [
       "<Figure size 432x288 with 1 Axes>"
      ]
     },
     "metadata": {
      "needs_background": "light"
     },
     "output_type": "display_data"
    }
   ],
   "source": [
    "#Análisis de los valores de mts2 para store\n",
    "\n",
    "property_values = ['store']\n",
    "\n",
    "data_property_mask = data.property_type.apply(lambda x: x in property_values)\n",
    "\n",
    "data_surface_order_mask = data.surface_total_in_m2_clean.astype(float) < 800\n",
    "\n",
    "data_property_surface_mask = data_property_mask & data_surface_order_mask\n",
    "data_property_mask = data_property_mask\n",
    "\n",
    "data_property = data.loc[data_property_surface_mask, :]\n",
    "\n",
    "sns.boxplot(data.property_type[data_property_surface_mask], data.surface_total_in_m2_clean.astype(float)[data_property_surface_mask],\\\n",
    "            data = data_property)"
   ]
  },
  {
   "cell_type": "code",
   "execution_count": 216,
   "metadata": {},
   "outputs": [],
   "source": [
    "#Busco outliers\n",
    "\n",
    "mask_store = data[\"property_type\"] == 'store'\n",
    "data_store = data[\"property_type\"][mask_store]\n",
    "\n",
    "surface_store = data[\"surface_total_in_m2_clean\"][mask_store]\n",
    "\n",
    "surface_store = surface_store.astype(float)\n",
    "\n",
    "\n",
    "q1_store = surface_store.quantile(q=0.25)\n",
    "q3_store = surface_store.quantile(q=0.75)\n",
    "\n",
    "iqr = (q3_store - q1_store) * 1.5\n",
    "\n",
    "up_threshold = q3_store + iqr\n",
    "low_threshold = q1_store - iqr\n",
    "\n",
    "outlier_mask_up = surface_store  > up_threshold\n",
    "outlier_mask_down = surface_store  < low_threshold\n",
    "outlier_mask = np.logical_or(outlier_mask_up, outlier_mask_down)\n",
    "not_outliers = np.logical_not(outlier_mask)\n",
    "\n",
    "\n",
    "outliers_store = surface_store[outlier_mask]\n",
    "notoutliers_store = surface_store[not_outliers]\n"
   ]
  },
  {
   "cell_type": "code",
   "execution_count": 224,
   "metadata": {},
   "outputs": [
    {
     "data": {
      "text/plain": [
       "0"
      ]
     },
     "execution_count": 224,
     "metadata": {},
     "output_type": "execute_result"
    }
   ],
   "source": [
    "#Reemplazo los outliers y nulos en apartamentos de la columna \"surface_total_in_m2_clean\" por el promedio en esta categoría\n",
    "\n",
    "mask_store_surface_isnull = mask_store & data[\"surface_total_in_m2_clean\"].isnull()\n",
    "\n",
    "mask_store_surface_notnull = not_outliers & data[\"surface_total_in_m2_clean\"].notnull()\n",
    "\n",
    "result_mask_store_surface = data.surface_total_in_m2_clean[mask_store_surface_notnull]\n",
    "\n",
    "data.loc[mask_store_surface_isnull , \"surface_total_in_m2_clean\"]= round(result_mask_store_surface.astype(float).mean(),0)\n",
    "\n",
    "data[\"surface_total_in_m2_clean\"][mask_store].isnull().sum()"
   ]
  },
  {
   "cell_type": "code",
   "execution_count": 218,
   "metadata": {},
   "outputs": [
    {
     "name": "stdout",
     "output_type": "stream",
     "text": [
      "Luego de los pasos anteriores, el porcentaje de nulos en la columna surface_total_in_m2_clean es: 0.0 %\n"
     ]
    }
   ],
   "source": [
    "porcentaje_nulos_surface = data[\"surface_total_in_m2_clean\"].isnull().sum() /\\\n",
    "data[\"surface_total_in_m2_clean\"].shape[0] * 100\n",
    "\n",
    "print(\"Luego de los pasos anteriores, el porcentaje de nulos en la columna surface_total_in_m2_clean es:\",\\\n",
    "      np.round(porcentaje_nulos_surface, 2),\"%\")"
   ]
  },
  {
   "cell_type": "code",
   "execution_count": 222,
   "metadata": {},
   "outputs": [
    {
     "data": {
      "text/plain": [
       "<matplotlib.axes._subplots.AxesSubplot at 0x1fac0b5abc8>"
      ]
     },
     "execution_count": 222,
     "metadata": {},
     "output_type": "execute_result"
    },
    {
     "data": {
      "image/png": "[encoded data removed]",
      "text/plain": [
       "<Figure size 432x288 with 1 Axes>"
      ]
     },
     "metadata": {
      "needs_background": "light"
     },
     "output_type": "display_data"
    }
   ],
   "source": [
    "property_values = ['ph', 'store', 'house','apartment']\n",
    "\n",
    "data_property_mask = data.property_type.apply(lambda x: x in property_values)\n",
    "\n",
    "data_property = data.loc[data_property_mask, :]\n",
    "\n",
    "sns.boxplot(data.property_type, data.surface_total_in_m2_clean.astype(float), data = data_property)\n"
   ]
  }
 ],
 "metadata": {
  "kernelspec": {
   "display_name": "Python 3",
   "language": "python",
   "name": "python3"
  },
  "language_info": {
   "codemirror_mode": {
    "name": "ipython",
    "version": 3
   },
   "file_extension": ".py",
   "mimetype": "text/x-python",
   "name": "python",
   "nbconvert_exporter": "python",
   "pygments_lexer": "ipython3",
   "version": "3.7.7"
  }
 },
 "nbformat": 4,
 "nbformat_minor": 4
}
