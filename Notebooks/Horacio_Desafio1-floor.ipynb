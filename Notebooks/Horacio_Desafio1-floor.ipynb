{
 "cells": [
  {
   "cell_type": "markdown",
   "metadata": {},
   "source": [
    "# Desafio 1"
   ]
  },
  {
   "cell_type": "markdown",
   "metadata": {},
   "source": [
    "### Importacion de librerias y base de datos"
   ]
  },
  {
   "cell_type": "code",
   "execution_count": 1,
   "metadata": {},
   "outputs": [],
   "source": [
    "import numpy as np\n",
    "import pandas as pd"
   ]
  },
  {
   "cell_type": "code",
   "execution_count": 2,
   "metadata": {},
   "outputs": [
    {
     "name": "stdout",
     "output_type": "stream",
     "text": [
      "(121220, 26)\n"
     ]
    },
    {
     "data": {
      "text/html": [
       "<div>\n",
       "<style scoped>\n",
       "    .dataframe tbody tr th:only-of-type {\n",
       "        vertical-align: middle;\n",
       "    }\n",
       "\n",
       "    .dataframe tbody tr th {\n",
       "        vertical-align: top;\n",
       "    }\n",
       "\n",
       "    .dataframe thead th {\n",
       "        text-align: right;\n",
       "    }\n",
       "</style>\n",
       "<table border=\"1\" class=\"dataframe\">\n",
       "  <thead>\n",
       "    <tr style=\"text-align: right;\">\n",
       "      <th></th>\n",
       "      <th>Unnamed: 0</th>\n",
       "      <th>operation</th>\n",
       "      <th>property_type</th>\n",
       "      <th>place_name</th>\n",
       "      <th>place_with_parent_names</th>\n",
       "      <th>country_name</th>\n",
       "      <th>state_name</th>\n",
       "      <th>geonames_id</th>\n",
       "      <th>lat-lon</th>\n",
       "      <th>lat</th>\n",
       "      <th>...</th>\n",
       "      <th>surface_covered_in_m2</th>\n",
       "      <th>price_usd_per_m2</th>\n",
       "      <th>price_per_m2</th>\n",
       "      <th>floor</th>\n",
       "      <th>rooms</th>\n",
       "      <th>expenses</th>\n",
       "      <th>properati_url</th>\n",
       "      <th>description</th>\n",
       "      <th>title</th>\n",
       "      <th>image_thumbnail</th>\n",
       "    </tr>\n",
       "  </thead>\n",
       "  <tbody>\n",
       "    <tr>\n",
       "      <th>36174</th>\n",
       "      <td>36174</td>\n",
       "      <td>sell</td>\n",
       "      <td>store</td>\n",
       "      <td>Balvanera</td>\n",
       "      <td>|Argentina|Capital Federal|Balvanera|</td>\n",
       "      <td>Argentina</td>\n",
       "      <td>Capital Federal</td>\n",
       "      <td>6693228.0</td>\n",
       "      <td>-34.6105132,-58.411552</td>\n",
       "      <td>-34.610513</td>\n",
       "      <td>...</td>\n",
       "      <td>NaN</td>\n",
       "      <td>2142.857143</td>\n",
       "      <td>NaN</td>\n",
       "      <td>NaN</td>\n",
       "      <td>NaN</td>\n",
       "      <td>NaN</td>\n",
       "      <td>http://www.properati.com.ar/18g8j_venta_local_...</td>\n",
       "      <td>LOCALBALVANERA, LOCAL EN VENTA !!!CON RENTAAPT...</td>\n",
       "      <td>LOCAL EN VENTA</td>\n",
       "      <td>https://thumbs4.properati.com/3/Zywr5zMPWQX-C_...</td>\n",
       "    </tr>\n",
       "  </tbody>\n",
       "</table>\n",
       "<p>1 rows × 26 columns</p>\n",
       "</div>"
      ],
      "text/plain": [
       "       Unnamed: 0 operation property_type place_name  \\\n",
       "36174       36174      sell         store  Balvanera   \n",
       "\n",
       "                     place_with_parent_names country_name       state_name  \\\n",
       "36174  |Argentina|Capital Federal|Balvanera|    Argentina  Capital Federal   \n",
       "\n",
       "       geonames_id                 lat-lon        lat  ...  \\\n",
       "36174    6693228.0  -34.6105132,-58.411552 -34.610513  ...   \n",
       "\n",
       "       surface_covered_in_m2  price_usd_per_m2 price_per_m2  floor  rooms  \\\n",
       "36174                    NaN       2142.857143          NaN    NaN    NaN   \n",
       "\n",
       "       expenses                                      properati_url  \\\n",
       "36174       NaN  http://www.properati.com.ar/18g8j_venta_local_...   \n",
       "\n",
       "                                             description           title  \\\n",
       "36174  LOCALBALVANERA, LOCAL EN VENTA !!!CON RENTAAPT...  LOCAL EN VENTA   \n",
       "\n",
       "                                         image_thumbnail  \n",
       "36174  https://thumbs4.properati.com/3/Zywr5zMPWQX-C_...  \n",
       "\n",
       "[1 rows x 26 columns]"
      ]
     },
     "execution_count": 2,
     "metadata": {},
     "output_type": "execute_result"
    }
   ],
   "source": [
    "data_location = \"../Data/properati.csv\"\n",
    "data = pd.read_csv(data_location, sep=\",\")\n",
    "print(data.shape)\n",
    "data.sample()"
   ]
  },
  {
   "cell_type": "markdown",
   "metadata": {},
   "source": [
    "Limpieza y ordenamiento de las columnas \"floor\" y \"rooms\" basados en el tipo de propiedad y la exploracion de los campos \"description\" y \"title\""
   ]
  },
  {
   "cell_type": "code",
   "execution_count": 3,
   "metadata": {},
   "outputs": [
    {
     "data": {
      "text/html": [
       "<div>\n",
       "<style scoped>\n",
       "    .dataframe tbody tr th:only-of-type {\n",
       "        vertical-align: middle;\n",
       "    }\n",
       "\n",
       "    .dataframe tbody tr th {\n",
       "        vertical-align: top;\n",
       "    }\n",
       "\n",
       "    .dataframe thead th {\n",
       "        text-align: right;\n",
       "    }\n",
       "</style>\n",
       "<table border=\"1\" class=\"dataframe\">\n",
       "  <thead>\n",
       "    <tr style=\"text-align: right;\">\n",
       "      <th></th>\n",
       "      <th>property_type</th>\n",
       "      <th>floor</th>\n",
       "      <th>rooms</th>\n",
       "      <th>description</th>\n",
       "      <th>title</th>\n",
       "    </tr>\n",
       "  </thead>\n",
       "  <tbody>\n",
       "    <tr>\n",
       "      <th>93978</th>\n",
       "      <td>apartment</td>\n",
       "      <td>NaN</td>\n",
       "      <td>NaN</td>\n",
       "      <td>dpto apto profesional, 28mts, ideal inversor. ...</td>\n",
       "      <td>microcentro 1 amb apto profesional</td>\n",
       "    </tr>\n",
       "    <tr>\n",
       "      <th>43876</th>\n",
       "      <td>apartment</td>\n",
       "      <td>NaN</td>\n",
       "      <td>4.0</td>\n",
       "      <td>excelente triplex ubicado en dorado y de las a...</td>\n",
       "      <td>2209 - dorado 923 uf 2</td>\n",
       "    </tr>\n",
       "    <tr>\n",
       "      <th>118285</th>\n",
       "      <td>apartment</td>\n",
       "      <td>NaN</td>\n",
       "      <td>NaN</td>\n",
       "      <td>este emprendimiento se encuentra en una de las...</td>\n",
       "      <td>departamento - general paz</td>\n",
       "    </tr>\n",
       "    <tr>\n",
       "      <th>86524</th>\n",
       "      <td>house</td>\n",
       "      <td>NaN</td>\n",
       "      <td>NaN</td>\n",
       "      <td>descripción excelente chalet en una de las mej...</td>\n",
       "      <td>casa en adrogue</td>\n",
       "    </tr>\n",
       "    <tr>\n",
       "      <th>15884</th>\n",
       "      <td>apartment</td>\n",
       "      <td>NaN</td>\n",
       "      <td>NaN</td>\n",
       "      <td>hermoso departamento ubicado a 3 cuadras y med...</td>\n",
       "      <td>departamento en villa carlos paz</td>\n",
       "    </tr>\n",
       "  </tbody>\n",
       "</table>\n",
       "</div>"
      ],
      "text/plain": [
       "       property_type  floor  rooms  \\\n",
       "93978      apartment    NaN    NaN   \n",
       "43876      apartment    NaN    4.0   \n",
       "118285     apartment    NaN    NaN   \n",
       "86524          house    NaN    NaN   \n",
       "15884      apartment    NaN    NaN   \n",
       "\n",
       "                                              description  \\\n",
       "93978   dpto apto profesional, 28mts, ideal inversor. ...   \n",
       "43876   excelente triplex ubicado en dorado y de las a...   \n",
       "118285  este emprendimiento se encuentra en una de las...   \n",
       "86524   descripción excelente chalet en una de las mej...   \n",
       "15884   hermoso departamento ubicado a 3 cuadras y med...   \n",
       "\n",
       "                                     title  \n",
       "93978   microcentro 1 amb apto profesional  \n",
       "43876               2209 - dorado 923 uf 2  \n",
       "118285          departamento - general paz  \n",
       "86524                      casa en adrogue  \n",
       "15884    departamento en villa carlos paz   "
      ]
     },
     "metadata": {},
     "output_type": "display_data"
    },
    {
     "data": {
      "text/plain": [
       "property_type     object\n",
       "floor            float64\n",
       "rooms            float64\n",
       "description       object\n",
       "title             object\n",
       "dtype: object"
      ]
     },
     "execution_count": 3,
     "metadata": {},
     "output_type": "execute_result"
    }
   ],
   "source": [
    "dataFiltrada = data.loc[:, ['property_type', 'floor', 'rooms', 'description', 'title']]\n",
    "dataFiltrada['description'] = dataFiltrada['description'].str.lower()\n",
    "dataFiltrada['title'] = dataFiltrada['title'].str.lower()\n",
    "dataFiltrada.sample()\n",
    "display(dataFiltrada.sample(5))\n",
    "dataFiltrada.dtypes"
   ]
  },
  {
   "cell_type": "markdown",
   "metadata": {},
   "source": [
    "Las variables tienen el tipo correcto de datos para el analisis.\n",
    "Chequeo nulos en el campo \"property_type\" y valores"
   ]
  },
  {
   "cell_type": "code",
   "execution_count": 4,
   "metadata": {},
   "outputs": [
    {
     "name": "stdout",
     "output_type": "stream",
     "text": [
      "apartment    71065\n",
      "house        40268\n",
      "PH            5751\n",
      "store         4136\n",
      "Name: property_type, dtype: int64\n",
      "0\n"
     ]
    }
   ],
   "source": [
    "print(dataFiltrada.property_type.value_counts())\n",
    "print(dataFiltrada.property_type.isnull().sum())"
   ]
  },
  {
   "cell_type": "markdown",
   "metadata": {},
   "source": [
    "Nuevas columnas que son copia de las originales rooms_clean y floor_clean"
   ]
  },
  {
   "cell_type": "code",
   "execution_count": 5,
   "metadata": {},
   "outputs": [],
   "source": [
    "dataFiltrada['rooms_clean'] = dataFiltrada['rooms']\n",
    "dataFiltrada['floor_clean'] = dataFiltrada['floor']"
   ]
  },
  {
   "cell_type": "code",
   "execution_count": 6,
   "metadata": {},
   "outputs": [
    {
     "data": {
      "text/html": [
       "<div>\n",
       "<style scoped>\n",
       "    .dataframe tbody tr th:only-of-type {\n",
       "        vertical-align: middle;\n",
       "    }\n",
       "\n",
       "    .dataframe tbody tr th {\n",
       "        vertical-align: top;\n",
       "    }\n",
       "\n",
       "    .dataframe thead th {\n",
       "        text-align: right;\n",
       "    }\n",
       "</style>\n",
       "<table border=\"1\" class=\"dataframe\">\n",
       "  <thead>\n",
       "    <tr style=\"text-align: right;\">\n",
       "      <th></th>\n",
       "      <th>property_type</th>\n",
       "      <th>floor</th>\n",
       "      <th>rooms</th>\n",
       "      <th>description</th>\n",
       "      <th>title</th>\n",
       "      <th>rooms_clean</th>\n",
       "      <th>floor_clean</th>\n",
       "    </tr>\n",
       "  </thead>\n",
       "  <tbody>\n",
       "    <tr>\n",
       "      <th>116757</th>\n",
       "      <td>apartment</td>\n",
       "      <td>NaN</td>\n",
       "      <td>NaN</td>\n",
       "      <td>excelente unidad de 3 ambientes con vista pano...</td>\n",
       "      <td>semi piso 3 ambientes con vista al rio y coche...</td>\n",
       "      <td>NaN</td>\n",
       "      <td>NaN</td>\n",
       "    </tr>\n",
       "  </tbody>\n",
       "</table>\n",
       "</div>"
      ],
      "text/plain": [
       "       property_type  floor  rooms  \\\n",
       "116757     apartment    NaN    NaN   \n",
       "\n",
       "                                              description  \\\n",
       "116757  excelente unidad de 3 ambientes con vista pano...   \n",
       "\n",
       "                                                    title  rooms_clean  \\\n",
       "116757  semi piso 3 ambientes con vista al rio y coche...          NaN   \n",
       "\n",
       "        floor_clean  \n",
       "116757          NaN  "
      ]
     },
     "execution_count": 6,
     "metadata": {},
     "output_type": "execute_result"
    }
   ],
   "source": [
    "dataFiltrada.sample()"
   ]
  },
  {
   "cell_type": "markdown",
   "metadata": {},
   "source": [
    "Los tipos de propiedad no tienen valores nulos y estan organizados en 4 categorias, se infiere que la seleccion de este campo es a traves de una lista definida. Esto nos permite organizar el dataframe por el campo de tipo de propiedad si es necesario."
   ]
  },
  {
   "cell_type": "markdown",
   "metadata": {},
   "source": [
    "### Tratamiento de rooms"
   ]
  },
  {
   "cell_type": "code",
   "execution_count": 7,
   "metadata": {},
   "outputs": [],
   "source": [
    "import re"
   ]
  },
  {
   "cell_type": "code",
   "execution_count": 8,
   "metadata": {},
   "outputs": [],
   "source": [
    "numeroAmbientesPattern = '(?P<numero>\\d{1})\\s?(ambientes|amb)'\n",
    "regexAmbientes = re.compile(numeroAmbientesPattern)"
   ]
  },
  {
   "cell_type": "code",
   "execution_count": 9,
   "metadata": {},
   "outputs": [],
   "source": [
    "descriptionObject = dataFiltrada.description\n",
    "ambientesMatches = descriptionObject.apply(lambda x: x if x is np.NaN else regexAmbientes.search(x))\n"
   ]
  },
  {
   "cell_type": "code",
   "execution_count": null,
   "metadata": {
    "collapsed": true,
    "jupyter": {
     "outputs_hidden": true
    }
   },
   "outputs": [],
   "source": []
  },
  {
   "cell_type": "code",
   "execution_count": 10,
   "metadata": {},
   "outputs": [
    {
     "name": "stdout",
     "output_type": "stream",
     "text": [
      "73830\n"
     ]
    }
   ],
   "source": [
    "print(dataFiltrada.rooms_clean.isnull().sum())\n",
    "roomsAmbientesMask = dataFiltrada.rooms_clean.isnull() & ambientesMatches.notnull()\n",
    "\n"
   ]
  },
  {
   "cell_type": "code",
   "execution_count": 11,
   "metadata": {},
   "outputs": [
    {
     "name": "stdout",
     "output_type": "stream",
     "text": [
      "73830\n",
      "54769\n"
     ]
    }
   ],
   "source": [
    "print(dataFiltrada.rooms_clean.isnull().sum())\n",
    "dataFiltrada.loc[roomsAmbientesMask, 'rooms_clean'] = ambientesMatches[roomsAmbientesMask].apply(lambda x: float(x.group(\"numero\")))\n",
    "\n",
    "print(dataFiltrada.rooms_clean.isnull().sum())\n",
    "\n"
   ]
  },
  {
   "cell_type": "markdown",
   "metadata": {},
   "source": [
    "Mismo regex sobre columna Title"
   ]
  },
  {
   "cell_type": "code",
   "execution_count": 12,
   "metadata": {},
   "outputs": [],
   "source": [
    "#numeroAmbientesPattern = '(?P<numero>\\d{1})\\s?(ambientes|amb)'\n",
    "#regexAmbientes = re.compile(numeroAmbientesPattern)"
   ]
  },
  {
   "cell_type": "code",
   "execution_count": 13,
   "metadata": {},
   "outputs": [],
   "source": [
    "titleObject = dataFiltrada.title\n",
    "ambientesMatches2 = titleObject.apply(lambda x: x if x is np.NaN else regexAmbientes.search(x))\n"
   ]
  },
  {
   "cell_type": "code",
   "execution_count": null,
   "metadata": {
    "collapsed": true,
    "jupyter": {
     "outputs_hidden": true
    }
   },
   "outputs": [],
   "source": []
  },
  {
   "cell_type": "code",
   "execution_count": 14,
   "metadata": {},
   "outputs": [
    {
     "name": "stdout",
     "output_type": "stream",
     "text": [
      "54769\n"
     ]
    }
   ],
   "source": [
    "print(dataFiltrada.rooms_clean.isnull().sum())\n",
    "roomsAmbientesMask2 = dataFiltrada.rooms_clean.isnull() & ambientesMatches2.notnull()\n",
    "\n"
   ]
  },
  {
   "cell_type": "code",
   "execution_count": 15,
   "metadata": {},
   "outputs": [
    {
     "name": "stdout",
     "output_type": "stream",
     "text": [
      "54769\n",
      "52131\n"
     ]
    }
   ],
   "source": [
    "print(dataFiltrada.rooms_clean.isnull().sum())\n",
    "dataFiltrada.loc[roomsAmbientesMask2, 'rooms_clean'] = ambientesMatches2[roomsAmbientesMask2].apply(lambda x: float(x.group(\"numero\")))\n",
    "\n",
    "print(dataFiltrada.rooms_clean.isnull().sum())\n",
    "\n"
   ]
  },
  {
   "cell_type": "markdown",
   "metadata": {},
   "source": [
    "Segundo criterio de regex para los ambientes"
   ]
  },
  {
   "cell_type": "code",
   "execution_count": 16,
   "metadata": {},
   "outputs": [],
   "source": [
    "def pasarANumero (x):\n",
    "    numeroStr = x.group(\"numeroPalabra\")\n",
    "    dictAmbientes = {'cero':0, 'uno':1, 'dos':2, 'tres':3, 'cuatro':4, 'cinco': 5, 'seis': 6, 'seís':6, 'siete': 7, 'ocho': 8, 'nueve': 9}\n",
    "    resultado = dictAmbientes[numeroStr]\n",
    "    return resultado\n",
    "\n",
    "    "
   ]
  },
  {
   "cell_type": "code",
   "execution_count": null,
   "metadata": {},
   "outputs": [],
   "source": []
  },
  {
   "cell_type": "code",
   "execution_count": 17,
   "metadata": {},
   "outputs": [],
   "source": [
    "numeroAmbientesPattern2 = '(?P<numeroPalabra>dos|tres|cuatro|cinco|seis|siete|ocho)\\s?(ambientes|amb)'\n",
    "regexAmbientes2 = re.compile(numeroAmbientesPattern2)"
   ]
  },
  {
   "cell_type": "code",
   "execution_count": 18,
   "metadata": {},
   "outputs": [],
   "source": [
    "#descriptionObject = dataFiltrada.description\n",
    "ambientesMatches3 = descriptionObject.apply(lambda x: x if x is np.NaN else regexAmbientes2.search(x))\n"
   ]
  },
  {
   "cell_type": "code",
   "execution_count": null,
   "metadata": {
    "collapsed": true,
    "jupyter": {
     "outputs_hidden": true
    }
   },
   "outputs": [],
   "source": []
  },
  {
   "cell_type": "code",
   "execution_count": 19,
   "metadata": {},
   "outputs": [
    {
     "name": "stdout",
     "output_type": "stream",
     "text": [
      "52131\n",
      "dos\n"
     ]
    }
   ],
   "source": [
    "print(dataFiltrada.rooms_clean.isnull().sum())\n",
    "roomsAmbientesMask3 = dataFiltrada.rooms_clean.isnull() & ambientesMatches3.notnull()\n",
    "\n",
    "print(ambientesMatches3[8].group('numeroPalabra'))"
   ]
  },
  {
   "cell_type": "code",
   "execution_count": 20,
   "metadata": {},
   "outputs": [
    {
     "name": "stdout",
     "output_type": "stream",
     "text": [
      "52131\n",
      "50195\n"
     ]
    }
   ],
   "source": [
    "print(dataFiltrada.rooms_clean.isnull().sum())\n",
    "dataFiltrada.loc[roomsAmbientesMask3, 'rooms_clean'] = ambientesMatches3[roomsAmbientesMask3].apply(pasarANumero)\n",
    "\n",
    "print(dataFiltrada.rooms_clean.isnull().sum())\n",
    "\n"
   ]
  },
  {
   "cell_type": "markdown",
   "metadata": {},
   "source": [
    "Ahora sobre title con el regex 2 de ambientes"
   ]
  },
  {
   "cell_type": "code",
   "execution_count": 21,
   "metadata": {},
   "outputs": [],
   "source": [
    "titleObject = dataFiltrada.title\n",
    "ambientesMatches4 = titleObject.apply(lambda x: x if x is np.NaN else regexAmbientes2.search(x))\n"
   ]
  },
  {
   "cell_type": "code",
   "execution_count": null,
   "metadata": {
    "collapsed": true,
    "jupyter": {
     "outputs_hidden": true
    }
   },
   "outputs": [],
   "source": []
  },
  {
   "cell_type": "code",
   "execution_count": 22,
   "metadata": {},
   "outputs": [
    {
     "name": "stdout",
     "output_type": "stream",
     "text": [
      "50195\n"
     ]
    }
   ],
   "source": [
    "print(dataFiltrada.rooms_clean.isnull().sum())\n",
    "roomsAmbientesMask4 = dataFiltrada.rooms_clean.isnull() & ambientesMatches4.notnull()\n"
   ]
  },
  {
   "cell_type": "code",
   "execution_count": 23,
   "metadata": {},
   "outputs": [
    {
     "name": "stdout",
     "output_type": "stream",
     "text": [
      "50195\n",
      "49928\n"
     ]
    }
   ],
   "source": [
    "print(dataFiltrada.rooms_clean.isnull().sum())\n",
    "dataFiltrada.loc[roomsAmbientesMask4, 'rooms_clean'] = ambientesMatches4[roomsAmbientesMask4].apply(pasarANumero)\n",
    "\n",
    "print(dataFiltrada.rooms_clean.isnull().sum())\n",
    "\n"
   ]
  },
  {
   "cell_type": "markdown",
   "metadata": {},
   "source": [
    "Ahora aplicamos un tercer regex en busqueda de dormitorios para completar los faltantes de ambientes."
   ]
  },
  {
   "cell_type": "code",
   "execution_count": 24,
   "metadata": {},
   "outputs": [],
   "source": [
    "numeroAmbientesPattern3 = '(?P<numeroPalabra>dos|tres|cuatro|cinco|seis|siete|ocho)\\s?(dormitorios|dorm|cuartos|hab|habitaciones)'\n",
    "regexAmbientes3 = re.compile(numeroAmbientesPattern3)\n",
    "\n",
    "\n"
   ]
  },
  {
   "cell_type": "code",
   "execution_count": 25,
   "metadata": {},
   "outputs": [],
   "source": [
    "def pasarANumeroDormi (x):\n",
    "    numeroStr = x.group(\"numeroPalabra\")\n",
    "    dictAmbientes = {'cero':0, 'un':1, 'dos':2, 'tres':3, 'cuatro':4, 'cinco': 5, 'seis': 6, 'seís':6, 'siete': 7, 'ocho': 8, 'nueve': 9}\n",
    "    resultado = dictAmbientes[numeroStr] + 1\n",
    "    return resultado"
   ]
  },
  {
   "cell_type": "code",
   "execution_count": 26,
   "metadata": {},
   "outputs": [],
   "source": [
    "descriptionObject = dataFiltrada.description\n",
    "ambientesMatches5 = descriptionObject.apply(lambda x: x if x is np.NaN else regexAmbientes3.search(x))\n"
   ]
  },
  {
   "cell_type": "code",
   "execution_count": null,
   "metadata": {
    "collapsed": true,
    "jupyter": {
     "outputs_hidden": true
    }
   },
   "outputs": [],
   "source": []
  },
  {
   "cell_type": "code",
   "execution_count": 27,
   "metadata": {},
   "outputs": [
    {
     "name": "stdout",
     "output_type": "stream",
     "text": [
      "49928\n",
      "dos\n"
     ]
    }
   ],
   "source": [
    "print(dataFiltrada.rooms_clean.isnull().sum())\n",
    "roomsAmbientesMask5 = dataFiltrada.rooms_clean.isnull() & ambientesMatches5.notnull()\n",
    "\n",
    "print(ambientesMatches5[5].group('numeroPalabra'))"
   ]
  },
  {
   "cell_type": "code",
   "execution_count": 28,
   "metadata": {},
   "outputs": [
    {
     "name": "stdout",
     "output_type": "stream",
     "text": [
      "49928\n",
      "39864\n"
     ]
    }
   ],
   "source": [
    "print(dataFiltrada.rooms_clean.isnull().sum())\n",
    "dataFiltrada.loc[roomsAmbientesMask5, 'rooms_clean'] = ambientesMatches5[roomsAmbientesMask5].apply(pasarANumeroDormi)\n",
    "\n",
    "print(dataFiltrada.rooms_clean.isnull().sum())\n",
    "\n"
   ]
  },
  {
   "cell_type": "markdown",
   "metadata": {},
   "source": [
    "Tercer regex sobre title"
   ]
  },
  {
   "cell_type": "code",
   "execution_count": 29,
   "metadata": {},
   "outputs": [],
   "source": [
    "\n",
    "ambientesMatches6 = titleObject.apply(lambda x: x if x is np.NaN else regexAmbientes3.search(x))\n"
   ]
  },
  {
   "cell_type": "code",
   "execution_count": null,
   "metadata": {
    "collapsed": true,
    "jupyter": {
     "outputs_hidden": true
    }
   },
   "outputs": [],
   "source": []
  },
  {
   "cell_type": "code",
   "execution_count": 30,
   "metadata": {},
   "outputs": [
    {
     "name": "stdout",
     "output_type": "stream",
     "text": [
      "39864\n",
      "dos\n"
     ]
    }
   ],
   "source": [
    "print(dataFiltrada.rooms_clean.isnull().sum())\n",
    "roomsAmbientesMask6 = dataFiltrada.rooms_clean.isnull() & ambientesMatches6.notnull()\n",
    "\n",
    "print(ambientesMatches6[5].group('numeroPalabra'))"
   ]
  },
  {
   "cell_type": "code",
   "execution_count": 31,
   "metadata": {},
   "outputs": [
    {
     "name": "stdout",
     "output_type": "stream",
     "text": [
      "39864\n",
      "39762\n"
     ]
    }
   ],
   "source": [
    "print(dataFiltrada.rooms_clean.isnull().sum())\n",
    "dataFiltrada.loc[roomsAmbientesMask6, 'rooms_clean'] = ambientesMatches6[roomsAmbientesMask6].apply(pasarANumeroDormi)\n",
    "\n",
    "print(dataFiltrada.rooms_clean.isnull().sum())\n",
    "\n"
   ]
  },
  {
   "cell_type": "markdown",
   "metadata": {},
   "source": [
    "Aplicamos el regex 4 para detectar numero de dormitorios en description"
   ]
  },
  {
   "cell_type": "code",
   "execution_count": 32,
   "metadata": {},
   "outputs": [],
   "source": [
    "numeroAmbientesPattern4 = '(?P<numero>\\d{1})\\s?(dormitorios|dorm|cuartos|hab|habitaciones)'\n",
    "regexAmbientes4 = re.compile(numeroAmbientesPattern4)\n",
    "\n"
   ]
  },
  {
   "cell_type": "code",
   "execution_count": 33,
   "metadata": {},
   "outputs": [],
   "source": [
    "\n",
    "ambientesMatches7 = descriptionObject.apply(lambda x: x if x is np.NaN else regexAmbientes4.search(x))\n"
   ]
  },
  {
   "cell_type": "code",
   "execution_count": null,
   "metadata": {
    "collapsed": true,
    "jupyter": {
     "outputs_hidden": true
    }
   },
   "outputs": [],
   "source": []
  },
  {
   "cell_type": "code",
   "execution_count": 34,
   "metadata": {},
   "outputs": [
    {
     "name": "stdout",
     "output_type": "stream",
     "text": [
      "39762\n",
      "1\n"
     ]
    }
   ],
   "source": [
    "print(dataFiltrada.rooms_clean.isnull().sum())\n",
    "roomsAmbientesMask7 = dataFiltrada.rooms_clean.isnull() & ambientesMatches7.notnull()\n",
    "\n",
    "print(ambientesMatches7[4].group('numero'))"
   ]
  },
  {
   "cell_type": "code",
   "execution_count": 35,
   "metadata": {},
   "outputs": [
    {
     "name": "stdout",
     "output_type": "stream",
     "text": [
      "39762\n",
      "21391\n"
     ]
    }
   ],
   "source": [
    "print(dataFiltrada.rooms_clean.isnull().sum())\n",
    "dataFiltrada.loc[roomsAmbientesMask7, 'rooms_clean'] = ambientesMatches7[roomsAmbientesMask7].apply(lambda x: float(x.group(\"numero\")) + 1)\n",
    "\n",
    "print(dataFiltrada.rooms_clean.isnull().sum())\n",
    "\n"
   ]
  },
  {
   "cell_type": "markdown",
   "metadata": {},
   "source": [
    "Cuarto regex sobre title"
   ]
  },
  {
   "cell_type": "code",
   "execution_count": 36,
   "metadata": {},
   "outputs": [],
   "source": [
    "\n",
    "ambientesMatches8 = titleObject.apply(lambda x: x if x is np.NaN else regexAmbientes4.search(x))\n"
   ]
  },
  {
   "cell_type": "code",
   "execution_count": null,
   "metadata": {
    "collapsed": true,
    "jupyter": {
     "outputs_hidden": true
    }
   },
   "outputs": [],
   "source": []
  },
  {
   "cell_type": "code",
   "execution_count": 37,
   "metadata": {},
   "outputs": [
    {
     "name": "stdout",
     "output_type": "stream",
     "text": [
      "21391\n",
      "2\n"
     ]
    }
   ],
   "source": [
    "print(dataFiltrada.rooms_clean.isnull().sum())\n",
    "roomsAmbientesMask8 = dataFiltrada.rooms_clean.isnull() & ambientesMatches8.notnull()\n",
    "\n",
    "print(ambientesMatches8[1].group('numero'))"
   ]
  },
  {
   "cell_type": "code",
   "execution_count": 38,
   "metadata": {},
   "outputs": [
    {
     "name": "stdout",
     "output_type": "stream",
     "text": [
      "21391\n",
      "20906\n"
     ]
    }
   ],
   "source": [
    "print(dataFiltrada.rooms_clean.isnull().sum())\n",
    "dataFiltrada.loc[roomsAmbientesMask8, 'rooms_clean'] = ambientesMatches8[roomsAmbientesMask8].apply(lambda x: float(x.group(\"numero\")) + 1)\n",
    "\n",
    "print(dataFiltrada.rooms_clean.isnull().sum())\n",
    "\n"
   ]
  },
  {
   "cell_type": "markdown",
   "metadata": {},
   "source": [
    "Quinto regex para detectar monoambientes sobre description. \"un/1 ambiente\""
   ]
  },
  {
   "cell_type": "code",
   "execution_count": 39,
   "metadata": {},
   "outputs": [],
   "source": [
    "numeroAmbientesPattern5 = '(?P<numeroPalabra>un|1|mono)\\s?(ambientes|amb)'\n",
    "regexAmbientes5 = re.compile(numeroAmbientesPattern5)"
   ]
  },
  {
   "cell_type": "code",
   "execution_count": 40,
   "metadata": {},
   "outputs": [],
   "source": [
    "\n",
    "ambientesMatches8 = descriptionObject.apply(lambda x: x if x is np.NaN else regexAmbientes5.search(x))\n"
   ]
  },
  {
   "cell_type": "code",
   "execution_count": null,
   "metadata": {
    "collapsed": true,
    "jupyter": {
     "outputs_hidden": true
    }
   },
   "outputs": [],
   "source": []
  },
  {
   "cell_type": "code",
   "execution_count": 41,
   "metadata": {},
   "outputs": [
    {
     "name": "stdout",
     "output_type": "stream",
     "text": [
      "20906\n",
      "mono\n"
     ]
    }
   ],
   "source": [
    "print(dataFiltrada.rooms_clean.isnull().sum())\n",
    "roomsAmbientesMask8 = dataFiltrada.rooms_clean.isnull() & ambientesMatches8.notnull()\n",
    "\n",
    "print(ambientesMatches8[7].group('numeroPalabra'))"
   ]
  },
  {
   "cell_type": "code",
   "execution_count": 42,
   "metadata": {},
   "outputs": [
    {
     "name": "stdout",
     "output_type": "stream",
     "text": [
      "20906\n",
      "17436\n"
     ]
    }
   ],
   "source": [
    "print(dataFiltrada.rooms_clean.isnull().sum())\n",
    "dataFiltrada.loc[roomsAmbientesMask8, 'rooms_clean'] = ambientesMatches8[roomsAmbientesMask8].apply(lambda x: float(1.0))\n",
    "\n",
    "print(dataFiltrada.rooms_clean.isnull().sum())\n",
    "\n"
   ]
  },
  {
   "cell_type": "code",
   "execution_count": null,
   "metadata": {},
   "outputs": [],
   "source": []
  },
  {
   "cell_type": "code",
   "execution_count": 43,
   "metadata": {},
   "outputs": [],
   "source": [
    "\n",
    "ambientesMatches9 = titleObject.apply(lambda x: x if x is np.NaN else regexAmbientes5.search(x))\n"
   ]
  },
  {
   "cell_type": "code",
   "execution_count": null,
   "metadata": {
    "collapsed": true,
    "jupyter": {
     "outputs_hidden": true
    }
   },
   "outputs": [],
   "source": []
  },
  {
   "cell_type": "code",
   "execution_count": 44,
   "metadata": {},
   "outputs": [
    {
     "name": "stdout",
     "output_type": "stream",
     "text": [
      "17436\n",
      "mono\n"
     ]
    }
   ],
   "source": [
    "print(dataFiltrada.rooms_clean.isnull().sum())\n",
    "roomsAmbientesMask9 = dataFiltrada.rooms_clean.isnull() & ambientesMatches9.notnull()\n",
    "\n",
    "print(ambientesMatches9[7].group('numeroPalabra'))"
   ]
  },
  {
   "cell_type": "code",
   "execution_count": 45,
   "metadata": {},
   "outputs": [
    {
     "name": "stdout",
     "output_type": "stream",
     "text": [
      "17436\n",
      "17259\n"
     ]
    }
   ],
   "source": [
    "print(dataFiltrada.rooms_clean.isnull().sum())\n",
    "dataFiltrada.loc[roomsAmbientesMask9, 'rooms_clean'] = ambientesMatches9[roomsAmbientesMask9].apply(lambda x: float(1.0))\n",
    "\n",
    "print(dataFiltrada.rooms_clean.isnull().sum())\n",
    "\n"
   ]
  },
  {
   "cell_type": "markdown",
   "metadata": {},
   "source": [
    "Regex numero 6 para detectar un dormitorio"
   ]
  },
  {
   "cell_type": "code",
   "execution_count": 46,
   "metadata": {},
   "outputs": [],
   "source": [
    "numeroAmbientesPattern6 = '(?P<numeroPalabra>un|1)\\s?(cuarto|dormi|hab)'\n",
    "regexAmbientes6 = re.compile(numeroAmbientesPattern6)"
   ]
  },
  {
   "cell_type": "code",
   "execution_count": 47,
   "metadata": {},
   "outputs": [],
   "source": [
    "\n",
    "ambientesMatches10 = descriptionObject.apply(lambda x: x if x is np.NaN else regexAmbientes6.search(x))\n"
   ]
  },
  {
   "cell_type": "code",
   "execution_count": null,
   "metadata": {
    "collapsed": true,
    "jupyter": {
     "outputs_hidden": true
    }
   },
   "outputs": [],
   "source": []
  },
  {
   "cell_type": "code",
   "execution_count": 48,
   "metadata": {},
   "outputs": [
    {
     "name": "stdout",
     "output_type": "stream",
     "text": [
      "17259\n",
      "1\n"
     ]
    }
   ],
   "source": [
    "print(dataFiltrada.rooms_clean.isnull().sum())\n",
    "roomsAmbientesMask10 = dataFiltrada.rooms_clean.isnull() & ambientesMatches10.notnull()\n",
    "\n",
    "print(ambientesMatches10[4].group('numeroPalabra'))"
   ]
  },
  {
   "cell_type": "code",
   "execution_count": 49,
   "metadata": {},
   "outputs": [
    {
     "name": "stdout",
     "output_type": "stream",
     "text": [
      "17259\n",
      "15759\n"
     ]
    }
   ],
   "source": [
    "print(dataFiltrada.rooms_clean.isnull().sum())\n",
    "dataFiltrada.loc[roomsAmbientesMask10, 'rooms_clean'] = ambientesMatches10[roomsAmbientesMask10].apply(lambda x: float(1.0)+1)\n",
    "\n",
    "print(dataFiltrada.rooms_clean.isnull().sum())\n",
    "\n"
   ]
  },
  {
   "cell_type": "code",
   "execution_count": 50,
   "metadata": {},
   "outputs": [],
   "source": [
    "\n",
    "ambientesMatches11 = titleObject.apply(lambda x: x if x is np.NaN else regexAmbientes6.search(x))\n"
   ]
  },
  {
   "cell_type": "code",
   "execution_count": null,
   "metadata": {
    "collapsed": true,
    "jupyter": {
     "outputs_hidden": true
    }
   },
   "outputs": [],
   "source": []
  },
  {
   "cell_type": "code",
   "execution_count": 51,
   "metadata": {},
   "outputs": [
    {
     "name": "stdout",
     "output_type": "stream",
     "text": [
      "15759\n"
     ]
    }
   ],
   "source": [
    "print(dataFiltrada.rooms_clean.isnull().sum())\n",
    "roomsAmbientesMask11 = dataFiltrada.rooms_clean.isnull() & ambientesMatches11.notnull()\n",
    "\n"
   ]
  },
  {
   "cell_type": "code",
   "execution_count": 52,
   "metadata": {},
   "outputs": [
    {
     "name": "stdout",
     "output_type": "stream",
     "text": [
      "15759\n",
      "15729\n"
     ]
    }
   ],
   "source": [
    "print(dataFiltrada.rooms_clean.isnull().sum())\n",
    "dataFiltrada.loc[roomsAmbientesMask11, 'rooms_clean'] = ambientesMatches11[roomsAmbientesMask11].apply(lambda x: float(1.0)+1)\n",
    "\n",
    "print(dataFiltrada.rooms_clean.isnull().sum())\n",
    "\n"
   ]
  },
  {
   "cell_type": "code",
   "execution_count": 53,
   "metadata": {},
   "outputs": [
    {
     "name": "stdout",
     "output_type": "stream",
     "text": [
      "73830\n",
      "15729\n"
     ]
    },
    {
     "data": {
      "text/html": [
       "<div>\n",
       "<style scoped>\n",
       "    .dataframe tbody tr th:only-of-type {\n",
       "        vertical-align: middle;\n",
       "    }\n",
       "\n",
       "    .dataframe tbody tr th {\n",
       "        vertical-align: top;\n",
       "    }\n",
       "\n",
       "    .dataframe thead th {\n",
       "        text-align: right;\n",
       "    }\n",
       "</style>\n",
       "<table border=\"1\" class=\"dataframe\">\n",
       "  <thead>\n",
       "    <tr style=\"text-align: right;\">\n",
       "      <th></th>\n",
       "      <th>description</th>\n",
       "      <th>title</th>\n",
       "    </tr>\n",
       "  </thead>\n",
       "  <tbody>\n",
       "    <tr>\n",
       "      <th>27</th>\n",
       "      <td>estancias propone vivir rodeados de naturaleza y verde. por este motivo se destinó el 50% del emprendimiento a espacios comunes con una parquización diseñada por el estudio thays. además de reservar algunos espacios en su estado natural para garantizar una mejor calidad de vida. la ribera del río luján y el bosque natural de acacias le permiten a los habitantes de estancias tener un contacto diario con la naturaleza en su estado puro. donde la mano del hombre solo ha intervenido para asegurar su conservación. barrio la pioneraen cumplimiento de la ley 2340 cucicba, ley 10.973 de la prov.bs.as., ley nacional 25.028, ley 22.802 de lealtad comercial, ley 24.240 de defensa al consumidor, las normas del código civil y comercial de la nación y constitucionales, los agentes no ejercen el corretaje inmobiliario. todas las operaciones inmobiliarias son objeto de intermediación y conclusión por parte de los martilleros y corredores colegiados, cuyos datos se exhiben debajo del nombre de la i...</td>\n",
       "      <td>excelente propiedad!!!! en estancias del pilar</td>\n",
       "    </tr>\n",
       "    <tr>\n",
       "      <th>47</th>\n",
       "      <td>estructura ecologica flotanteideal para ubicar en  centro nauticomateriales eps normas de calidad din 4102 y r1 según abnt mb 1562 y ensayado por el inti según iram 11918. trasladables por aguatransportables por tierrabiodigestor para tratamiento de aguasprotección galvanizada en toda la estructuracerramientos de aluminiovidrios  de seguridad a/a frio calordoble circuitos de agua instalación eléctrica</td>\n",
       "      <td>float life - casa flotante - ubicable en clubs nauticos</td>\n",
       "    </tr>\n",
       "    <tr>\n",
       "      <th>49</th>\n",
       "      <td>jpl. casa en el barrio san sebastian con bajada al lago, la casa se encuentra en construccion, ya se encuentra totalmente pintada ya sea por fuera o por dentro. esta ubicada en el area 5 de san sebastioan en un lote de 1000 m2</td>\n",
       "      <td>jpl. casa en san sebastian</td>\n",
       "    </tr>\n",
       "    <tr>\n",
       "      <th>57</th>\n",
       "      <td>venta de local sobre vía pública con renta - 3 de frente x 10 de fondo - baño compartimentado - excelente ubicación - a mts. de estacionamiento - frente a importante edificio de oficinas - a 2 cuadras de subte d, cabildo y juramento, etc. - ideal para inversionista -  de la paz 1970consúltenos:</td>\n",
       "      <td>local en excelente ubicación - venta con renta</td>\n",
       "    </tr>\n",
       "    <tr>\n",
       "      <th>58</th>\n",
       "      <td>magnífica residencia con calidad de construcción superlativa. se trata de un chalet con frente de ladrillo a la vista y techo pizarra. desarrollado sobre un lote de 1300m2, totalmente soleado por su orientación norte y entorno privado. salida a dos calles, en el exclusivo sector de av. del libertador al río en acassuso, partido de san isidro. cuenta con garage para tres autos y entrada para varios más.pb:se ingresa a un hall de entrada muy amplio con piso de mármol botticino originario de italia.al frente se encuentra un escritorio muy privado, con biblioteca.la recepción y el comedor principal son muy amplios con inmejorables visuales hacia el jardín, tienen grandes ventanales que permiten el ingreso de mucha luz. hogar a leña.el baño principal de la planta baja tiene ingreso también por el jardín, sirviendo el mismo tanto para recepción como vestuario, ya que posee ducha.el family room se integra a la recepción, ampliando esta última. luminosa cocina con isla desayunadora, amplia...</td>\n",
       "      <td>magnífica residencia en venta, ubicada en el exclusivo sector de av. del libertador al río en acassuso.</td>\n",
       "    </tr>\n",
       "    <tr>\n",
       "      <th>...</th>\n",
       "      <td>...</td>\n",
       "      <td>...</td>\n",
       "    </tr>\n",
       "    <tr>\n",
       "      <th>121157</th>\n",
       "      <td>torre de 16º pisos ubicado en pleno centro comercial de belgrano, sobre un lote con 23m de frenteunidades de entre 40m2 y 130m2 con flexibilidad para combinar departamentos y tipologías.sky view y gimnasio en piso 16º + pack completo de amenities interiores y exteriores en pb (terraza /parrillas/juego para niños/piscina/sum/laundry).cochera de uso mixto con servicio de valet parking para propietarios.aviso legal: las descripciones arquitectónicas y funcionales, valores de expensas, impuestos y servicios, fotos y medidas de este inmueble son aproximados. los datos fueron proporcionados por el propietario y pueden no estar actualizados a la hora de la visualización de este aviso por lo cual pueden arrojar inexactitudes y discordancias con las que surgen de los las facturas, títulos y planos legales del inmueble. los precios indicados podrán modificarse sin previo aviso. la fechas de inicio de obra o posesión son estimadas, podrán ser reprogramadas por la dirección de obra y dependerá...</td>\n",
       "      <td>departamento - belgrano c</td>\n",
       "    </tr>\n",
       "    <tr>\n",
       "      <th>121160</th>\n",
       "      <td>edificio en esquina de muy buena categoría de unos 45 años de antigüedad. pisos de altura 14, unidades por piso 1, ascensor principal 1, ascensor de servicio 1. vigilancia 24hs.funcionalidad: palier privado, hall de recepción, living y comedor amplios con salida a balcón al frente, hall íntimo con placards, dormitorio principal al frente con placards, 2º dormitorio al frente con placards, 3º dormitorio con placards y salida a balcón corrido al frente (sobre zabala), baño completo de época, baño con ducha de época, playroon/escritorio, cocina completa de época con office y entrada de servicio, lavadero independiente, dependencia de servicio con baño. doble circulación.luminosidad muy buena en toda la unidad. todos los ambientesson externos. vista: muy buenas vistas al frente a copa de los árboles.orientación: noreste (sol de mañana).estado general: muy bueno. pisos de parquet en toda la unidad (con alfombra). equipo de aire acondicionado split en living comedor y de pared en 2º dorm...</td>\n",
       "      <td>av .luis maria campos 1400- belgrano-capital federal</td>\n",
       "    </tr>\n",
       "    <tr>\n",
       "      <th>121209</th>\n",
       "      <td>edificio en esquina de muy buena categoría de unos 45 años de antigüedad. pisos de altura 14, unidades por piso 1, ascensor principal 1, ascensor de servicio 1. vigilancia 24hs.funcionalidad: palier privado, hall de recepción, living y comedor amplios con salida a balcón al frente, hall íntimo con placards, dormitorio principal al frente con placards, 2º dormitorio al frente con placards, 3º dormitorio con placards y salida a balcón corrido al frente (sobre zabala), baño completo de época, baño con ducha de época, playroon/escritorio, cocina completa de época con office y entrada de servicio, lavadero independiente, dependencia de servicio con baño. doble circulación.luminosidad muy buena en toda la unidad. todos los ambientesson externos. vista: muy buenas vistas al frente a copa de los árboles.orientación: noreste (sol de mañana).estado general: muy bueno. pisos de parquet en toda la unidad (con alfombra). equipo de aire acondicionado split en living comedor y de pared en 2º dorm...</td>\n",
       "      <td>av .luis maria campos 1400- belgrano-capital federal</td>\n",
       "    </tr>\n",
       "    <tr>\n",
       "      <th>121214</th>\n",
       "      <td>***venta con renta***local en edificio lomas park muy bien ubicado.muy buen local súper luminoso,amplio salón de ventas y atención al público. privado.2 baños. kichinette. 3 cocheras cubiertas. estacionamiento de cortesía.venta con renta: alquilado a search seguridad contrato por 5 años. inicio diciembre 2014 . con proyección de quedarse, alquilan además  oficinas en el piso de arriba. actualmente valor de alquiler: u$s 1.338. -para el 4to. año u$s 1.471.-para el 5to. año u$s 1.619.-</td>\n",
       "      <td>local - san isidro</td>\n",
       "    </tr>\n",
       "    <tr>\n",
       "      <th>121219</th>\n",
       "      <td>departamento de 77 m2 apto profesional. edificio racionalista de buena categoría. hall de recepción. dos despachos al frente y otro interno. cocina. baño completo. cocina. lavadero. dependencia. baño de servicio. para reciclar. baulera.código de inmueble: iap478380izrastzoff compañía inmobiliariajorge izrastzoff: cucicba 1354maría izrastzoff: cucicba 4516 | csi 5191continúe su búsqueda en el sitio web de izrastzoff, el más avanzado de la industria. contamos con sucursales en recoleta, barrio norte, nordelta y pilar. llámenos al .</td>\n",
       "      <td>departamento apto profesional en el centro</td>\n",
       "    </tr>\n",
       "  </tbody>\n",
       "</table>\n",
       "<p>15729 rows × 2 columns</p>\n",
       "</div>"
      ],
      "text/plain": [
       "                                                                                                                                                                                                                                                                                                                                                                                                                                                                                                                                                                                                                                                                                                                                                                                                                                                                                                                                                                                                                                    description  \\\n",
       "27      estancias propone vivir rodeados de naturaleza y verde. por este motivo se destinó el 50% del emprendimiento a espacios comunes con una parquización diseñada por el estudio thays. además de reservar algunos espacios en su estado natural para garantizar una mejor calidad de vida. la ribera del río luján y el bosque natural de acacias le permiten a los habitantes de estancias tener un contacto diario con la naturaleza en su estado puro. donde la mano del hombre solo ha intervenido para asegurar su conservación. barrio la pioneraen cumplimiento de la ley 2340 cucicba, ley 10.973 de la prov.bs.as., ley nacional 25.028, ley 22.802 de lealtad comercial, ley 24.240 de defensa al consumidor, las normas del código civil y comercial de la nación y constitucionales, los agentes no ejercen el corretaje inmobiliario. todas las operaciones inmobiliarias son objeto de intermediación y conclusión por parte de los martilleros y corredores colegiados, cuyos datos se exhiben debajo del nombre de la i...   \n",
       "47                                                                                                                                                                                                                                                                                                                                                                                                                                                                                                                                                                                                                         estructura ecologica flotanteideal para ubicar en  centro nauticomateriales eps normas de calidad din 4102 y r1 según abnt mb 1562 y ensayado por el inti según iram 11918. trasladables por aguatransportables por tierrabiodigestor para tratamiento de aguasprotección galvanizada en toda la estructuracerramientos de aluminiovidrios  de seguridad a/a frio calordoble circuitos de agua instalación eléctrica   \n",
       "49                                                                                                                                                                                                                                                                                                                                                                                                                                                                                                                                                                                                                                                                                                                                                                                                           jpl. casa en el barrio san sebastian con bajada al lago, la casa se encuentra en construccion, ya se encuentra totalmente pintada ya sea por fuera o por dentro. esta ubicada en el area 5 de san sebastioan en un lote de 1000 m2   \n",
       "57                                                                                                                                                                                                                                                                                                                                                                                                                                                                                                                                                                                                                                                                                                                                     venta de local sobre vía pública con renta - 3 de frente x 10 de fondo - baño compartimentado - excelente ubicación - a mts. de estacionamiento - frente a importante edificio de oficinas - a 2 cuadras de subte d, cabildo y juramento, etc. - ideal para inversionista -  de la paz 1970consúltenos:    \n",
       "58      magnífica residencia con calidad de construcción superlativa. se trata de un chalet con frente de ladrillo a la vista y techo pizarra. desarrollado sobre un lote de 1300m2, totalmente soleado por su orientación norte y entorno privado. salida a dos calles, en el exclusivo sector de av. del libertador al río en acassuso, partido de san isidro. cuenta con garage para tres autos y entrada para varios más.pb:se ingresa a un hall de entrada muy amplio con piso de mármol botticino originario de italia.al frente se encuentra un escritorio muy privado, con biblioteca.la recepción y el comedor principal son muy amplios con inmejorables visuales hacia el jardín, tienen grandes ventanales que permiten el ingreso de mucha luz. hogar a leña.el baño principal de la planta baja tiene ingreso también por el jardín, sirviendo el mismo tanto para recepción como vestuario, ya que posee ducha.el family room se integra a la recepción, ampliando esta última. luminosa cocina con isla desayunadora, amplia...   \n",
       "...                                                                                                                                                                                                                                                                                                                                                                                                                                                                                                                                                                                                                                                                                                                                                                                                                                                                                                                                                                                                                                         ...   \n",
       "121157  torre de 16º pisos ubicado en pleno centro comercial de belgrano, sobre un lote con 23m de frenteunidades de entre 40m2 y 130m2 con flexibilidad para combinar departamentos y tipologías.sky view y gimnasio en piso 16º + pack completo de amenities interiores y exteriores en pb (terraza /parrillas/juego para niños/piscina/sum/laundry).cochera de uso mixto con servicio de valet parking para propietarios.aviso legal: las descripciones arquitectónicas y funcionales, valores de expensas, impuestos y servicios, fotos y medidas de este inmueble son aproximados. los datos fueron proporcionados por el propietario y pueden no estar actualizados a la hora de la visualización de este aviso por lo cual pueden arrojar inexactitudes y discordancias con las que surgen de los las facturas, títulos y planos legales del inmueble. los precios indicados podrán modificarse sin previo aviso. la fechas de inicio de obra o posesión son estimadas, podrán ser reprogramadas por la dirección de obra y dependerá...   \n",
       "121160  edificio en esquina de muy buena categoría de unos 45 años de antigüedad. pisos de altura 14, unidades por piso 1, ascensor principal 1, ascensor de servicio 1. vigilancia 24hs.funcionalidad: palier privado, hall de recepción, living y comedor amplios con salida a balcón al frente, hall íntimo con placards, dormitorio principal al frente con placards, 2º dormitorio al frente con placards, 3º dormitorio con placards y salida a balcón corrido al frente (sobre zabala), baño completo de época, baño con ducha de época, playroon/escritorio, cocina completa de época con office y entrada de servicio, lavadero independiente, dependencia de servicio con baño. doble circulación.luminosidad muy buena en toda la unidad. todos los ambientesson externos. vista: muy buenas vistas al frente a copa de los árboles.orientación: noreste (sol de mañana).estado general: muy bueno. pisos de parquet en toda la unidad (con alfombra). equipo de aire acondicionado split en living comedor y de pared en 2º dorm...   \n",
       "121209  edificio en esquina de muy buena categoría de unos 45 años de antigüedad. pisos de altura 14, unidades por piso 1, ascensor principal 1, ascensor de servicio 1. vigilancia 24hs.funcionalidad: palier privado, hall de recepción, living y comedor amplios con salida a balcón al frente, hall íntimo con placards, dormitorio principal al frente con placards, 2º dormitorio al frente con placards, 3º dormitorio con placards y salida a balcón corrido al frente (sobre zabala), baño completo de época, baño con ducha de época, playroon/escritorio, cocina completa de época con office y entrada de servicio, lavadero independiente, dependencia de servicio con baño. doble circulación.luminosidad muy buena en toda la unidad. todos los ambientesson externos. vista: muy buenas vistas al frente a copa de los árboles.orientación: noreste (sol de mañana).estado general: muy bueno. pisos de parquet en toda la unidad (con alfombra). equipo de aire acondicionado split en living comedor y de pared en 2º dorm...   \n",
       "121214                                                                                                                                                                                                                                                                                                                                                                                                                                                                                                                                 ***venta con renta***local en edificio lomas park muy bien ubicado.muy buen local súper luminoso,amplio salón de ventas y atención al público. privado.2 baños. kichinette. 3 cocheras cubiertas. estacionamiento de cortesía.venta con renta: alquilado a search seguridad contrato por 5 años. inicio diciembre 2014 . con proyección de quedarse, alquilan además  oficinas en el piso de arriba. actualmente valor de alquiler: u$s 1.338. -para el 4to. año u$s 1.471.-para el 5to. año u$s 1.619.-   \n",
       "121219                                                                                                                                                                                                                                                                                                                                                                                                                                                                                  departamento de 77 m2 apto profesional. edificio racionalista de buena categoría. hall de recepción. dos despachos al frente y otro interno. cocina. baño completo. cocina. lavadero. dependencia. baño de servicio. para reciclar. baulera.código de inmueble: iap478380izrastzoff compañía inmobiliariajorge izrastzoff: cucicba 1354maría izrastzoff: cucicba 4516 | csi 5191continúe su búsqueda en el sitio web de izrastzoff, el más avanzado de la industria. contamos con sucursales en recoleta, barrio norte, nordelta y pilar. llámenos al .   \n",
       "\n",
       "                                                                                                           title  \n",
       "27                                                                excelente propiedad!!!! en estancias del pilar  \n",
       "47                                                       float life - casa flotante - ubicable en clubs nauticos  \n",
       "49                                                                                    jpl. casa en san sebastian  \n",
       "57                                                                local en excelente ubicación - venta con renta  \n",
       "58      magnífica residencia en venta, ubicada en el exclusivo sector de av. del libertador al río en acassuso.   \n",
       "...                                                                                                          ...  \n",
       "121157                                                                                 departamento - belgrano c  \n",
       "121160                                                      av .luis maria campos 1400- belgrano-capital federal  \n",
       "121209                                                      av .luis maria campos 1400- belgrano-capital federal  \n",
       "121214                                                                                        local - san isidro  \n",
       "121219                                                                departamento apto profesional en el centro  \n",
       "\n",
       "[15729 rows x 2 columns]"
      ]
     },
     "execution_count": 53,
     "metadata": {},
     "output_type": "execute_result"
    }
   ],
   "source": [
    "pd.options.display.max_colwidth = 1000\n",
    "print(dataFiltrada.rooms.isnull().sum())\n",
    "print(dataFiltrada.rooms_clean.isnull().sum())\n",
    "postAmbientesRegexMask = dataFiltrada.rooms_clean.isnull()\n",
    "dataFiltrada.loc[postAmbientesRegexMask,['description', 'title']]"
   ]
  },
  {
   "cell_type": "markdown",
   "metadata": {},
   "source": [
    "Analisis de promedio en cantidad de ambientes segun el tipo de propiedad sobre los valores no nulos."
   ]
  },
  {
   "cell_type": "code",
   "execution_count": 54,
   "metadata": {},
   "outputs": [
    {
     "data": {
      "text/html": [
       "<div>\n",
       "<style scoped>\n",
       "    .dataframe tbody tr th:only-of-type {\n",
       "        vertical-align: middle;\n",
       "    }\n",
       "\n",
       "    .dataframe tbody tr th {\n",
       "        vertical-align: top;\n",
       "    }\n",
       "\n",
       "    .dataframe thead th {\n",
       "        text-align: right;\n",
       "    }\n",
       "</style>\n",
       "<table border=\"1\" class=\"dataframe\">\n",
       "  <thead>\n",
       "    <tr style=\"text-align: right;\">\n",
       "      <th></th>\n",
       "      <th>rooms_clean</th>\n",
       "    </tr>\n",
       "    <tr>\n",
       "      <th>property_type</th>\n",
       "      <th></th>\n",
       "    </tr>\n",
       "  </thead>\n",
       "  <tbody>\n",
       "    <tr>\n",
       "      <th>PH</th>\n",
       "      <td>3.184500</td>\n",
       "    </tr>\n",
       "    <tr>\n",
       "      <th>apartment</th>\n",
       "      <td>2.515387</td>\n",
       "    </tr>\n",
       "    <tr>\n",
       "      <th>house</th>\n",
       "      <td>3.936017</td>\n",
       "    </tr>\n",
       "    <tr>\n",
       "      <th>store</th>\n",
       "      <td>2.933518</td>\n",
       "    </tr>\n",
       "  </tbody>\n",
       "</table>\n",
       "</div>"
      ],
      "text/plain": [
       "               rooms_clean\n",
       "property_type             \n",
       "PH                3.184500\n",
       "apartment         2.515387\n",
       "house             3.936017\n",
       "store             2.933518"
      ]
     },
     "execution_count": 54,
     "metadata": {},
     "output_type": "execute_result"
    }
   ],
   "source": [
    "roomsNoNulosMasK = dataFiltrada.rooms_clean.notnull()\n",
    "roomsNoNulos = dataFiltrada.loc[roomsNoNulosMasK, ['property_type', 'rooms_clean']]\n",
    "mediaRoomsPorTipo = roomsNoNulos.groupby(['property_type']).mean()\n",
    "#mediaRoomsPorTipo.rooms_clean.PH\n",
    "mediaRoomsPorTipo\n"
   ]
  },
  {
   "cell_type": "markdown",
   "metadata": {},
   "source": [
    "### Si consideramos que la cantidad de ambientes puede tener un caracter predictivo, se puede asignar a los nulos de acada tipo de propiedad el promedio para su categoria. "
   ]
  },
  {
   "cell_type": "code",
   "execution_count": 55,
   "metadata": {},
   "outputs": [
    {
     "data": {
      "text/plain": [
       "0         2.000000\n",
       "1         3.000000\n",
       "2         2.000000\n",
       "3         3.000000\n",
       "4         2.000000\n",
       "            ...   \n",
       "121215    3.000000\n",
       "121216    4.000000\n",
       "121217    1.000000\n",
       "121218    2.000000\n",
       "121219    2.515387\n",
       "Name: rooms_clean, Length: 121220, dtype: float64"
      ]
     },
     "execution_count": 55,
     "metadata": {},
     "output_type": "execute_result"
    }
   ],
   "source": [
    "#defino el agrupamiento\n",
    "grupoPorPropiedad = dataFiltrada.groupby(['property_type'])\n",
    "#transform para imputar los valores promedio por grupo\n",
    "roomsNullFilled = grupoPorPropiedad['rooms_clean'].transform(lambda grp: grp.fillna(grp.mean()))\n",
    "roomsNullFilled"
   ]
  },
  {
   "cell_type": "code",
   "execution_count": 56,
   "metadata": {},
   "outputs": [
    {
     "data": {
      "text/plain": [
       "0"
      ]
     },
     "execution_count": 56,
     "metadata": {},
     "output_type": "execute_result"
    }
   ],
   "source": [
    "roomsNullFilled.isnull().sum()"
   ]
  },
  {
   "cell_type": "code",
   "execution_count": 57,
   "metadata": {},
   "outputs": [
    {
     "data": {
      "text/plain": [
       "0"
      ]
     },
     "execution_count": 57,
     "metadata": {},
     "output_type": "execute_result"
    }
   ],
   "source": [
    "dataFiltrada['rooms_clean'] = roomsNullFilled\n",
    "dataFiltrada.rooms_clean.isnull().sum()"
   ]
  },
  {
   "cell_type": "markdown",
   "metadata": {},
   "source": [
    "## Hasta aca esta completa la columna 'rooms_clean' sobre el dataframe filtrado. ------------------------"
   ]
  },
  {
   "cell_type": "code",
   "execution_count": 58,
   "metadata": {},
   "outputs": [
    {
     "data": {
      "text/plain": [
       "<Figure size 640x480 with 1 Axes>"
      ]
     },
     "metadata": {},
     "output_type": "display_data"
    }
   ],
   "source": [
    "import matplotlib.pyplot as plt\n",
    "\n",
    "#propertySumPlot = dataFiltrada.property_type.value_counts()\n",
    "#propertySumPlot.dtypes\n",
    "plt.clf()\n",
    "dataFiltrada.groupby('property_type').size().plot(kind='bar')\n",
    "plt.show()\n"
   ]
  },
  {
   "cell_type": "markdown",
   "metadata": {},
   "source": [
    "### -------------------------------------------------------"
   ]
  },
  {
   "cell_type": "markdown",
   "metadata": {},
   "source": [
    "### CRITERIO A ESTABLECER - Las propiedades tipo \"house\" y \"store\" imputamos NaN en el valor floor_clean."
   ]
  },
  {
   "cell_type": "code",
   "execution_count": 59,
   "metadata": {},
   "outputs": [],
   "source": [
    "houseMask = dataFiltrada.property_type == \"house\"\n",
    "soloHouse = dataFiltrada.loc[houseMask, :]\n"
   ]
  },
  {
   "cell_type": "code",
   "execution_count": 60,
   "metadata": {},
   "outputs": [
    {
     "name": "stdout",
     "output_type": "stream",
     "text": [
      "(40268, 7)\n",
      "39503\n",
      "0.9810022846925599\n"
     ]
    },
    {
     "data": {
      "text/plain": [
       "1.0       385\n",
       "2.0       290\n",
       "3.0        18\n",
       "8.0         4\n",
       "7.0         4\n",
       "14.0        3\n",
       "32.0        2\n",
       "10.0        2\n",
       "22.0        2\n",
       "6.0         2\n",
       "135.0       2\n",
       "5.0         2\n",
       "313.0       2\n",
       "1420.0      1\n",
       "28.0        1\n",
       "36.0        1\n",
       "691.0       1\n",
       "33.0        1\n",
       "391.0       1\n",
       "27.0        1\n",
       "42.0        1\n",
       "9.0         1\n",
       "324.0       1\n",
       "11.0        1\n",
       "722.0       1\n",
       "50.0        1\n",
       "643.0       1\n",
       "57.0        1\n",
       "64.0        1\n",
       "12.0        1\n",
       "4.0         1\n",
       "1512.0      1\n",
       "21.0        1\n",
       "41.0        1\n",
       "15.0        1\n",
       "1291.0      1\n",
       "181.0       1\n",
       "3150.0      1\n",
       "82.0        1\n",
       "252.0       1\n",
       "343.0       1\n",
       "201.0       1\n",
       "25.0        1\n",
       "26.0        1\n",
       "77.0        1\n",
       "403.0       1\n",
       "136.0       1\n",
       "338.0       1\n",
       "2177.0      1\n",
       "1450.0      1\n",
       "384.0       1\n",
       "56.0        1\n",
       "1379.0      1\n",
       "24.0        1\n",
       "17.0        1\n",
       "110.0       1\n",
       "368.0       1\n",
       "269.0       1\n",
       "67.0        1\n",
       "287.0       1\n",
       "Name: floor, dtype: int64"
      ]
     },
     "execution_count": 60,
     "metadata": {},
     "output_type": "execute_result"
    }
   ],
   "source": [
    "print(soloHouse.shape)\n",
    "print(soloHouse.floor.isnull().sum())\n",
    "porcentajeNulosHouse = soloHouse.floor.isnull().sum() / soloHouse.shape[0]\n",
    "print(porcentajeNulosHouse)\n",
    "soloHouse.floor.value_counts()"
   ]
  },
  {
   "cell_type": "markdown",
   "metadata": {},
   "source": [
    "Los valores de house que no corresponden a valores nulos son el 2% de los datos. Por esto podemos aplicar el criterio para house, con floor en NaN"
   ]
  },
  {
   "cell_type": "code",
   "execution_count": 61,
   "metadata": {},
   "outputs": [
    {
     "data": {
      "text/plain": [
       "Series([], Name: floor_clean, dtype: int64)"
      ]
     },
     "execution_count": 61,
     "metadata": {},
     "output_type": "execute_result"
    }
   ],
   "source": [
    "soloHouse = soloHouse.assign(floor_clean=np.NaN)\n",
    "soloHouse.floor_clean.value_counts()"
   ]
  },
  {
   "cell_type": "code",
   "execution_count": null,
   "metadata": {},
   "outputs": [],
   "source": []
  },
  {
   "cell_type": "markdown",
   "metadata": {},
   "source": [
    "Ahora introduzco en dataFiltrada los valores para house con floor en NaN"
   ]
  },
  {
   "cell_type": "code",
   "execution_count": 62,
   "metadata": {},
   "outputs": [],
   "source": [
    "dataFiltrada['floor_clean'] = soloHouse.floor_clean"
   ]
  },
  {
   "cell_type": "code",
   "execution_count": 63,
   "metadata": {},
   "outputs": [
    {
     "data": {
      "text/html": [
       "<div>\n",
       "<style scoped>\n",
       "    .dataframe tbody tr th:only-of-type {\n",
       "        vertical-align: middle;\n",
       "    }\n",
       "\n",
       "    .dataframe tbody tr th {\n",
       "        vertical-align: top;\n",
       "    }\n",
       "\n",
       "    .dataframe thead th {\n",
       "        text-align: right;\n",
       "    }\n",
       "</style>\n",
       "<table border=\"1\" class=\"dataframe\">\n",
       "  <thead>\n",
       "    <tr style=\"text-align: right;\">\n",
       "      <th></th>\n",
       "      <th>property_type</th>\n",
       "      <th>floor</th>\n",
       "      <th>rooms</th>\n",
       "      <th>description</th>\n",
       "      <th>title</th>\n",
       "      <th>rooms_clean</th>\n",
       "      <th>floor_clean</th>\n",
       "    </tr>\n",
       "  </thead>\n",
       "  <tbody>\n",
       "    <tr>\n",
       "      <th>65524</th>\n",
       "      <td>house</td>\n",
       "      <td>NaN</td>\n",
       "      <td>NaN</td>\n",
       "      <td>excelente casa a 200 mts del shopping de villa cabrera.se desarrolla toda en planta baja.living- comedor.cocina -comedor.galeria.tres dormitorios.un baño muy amplio.cochera.patio de invierno.consultas: (0351) 155 185 520</td>\n",
       "      <td>casa - villa cabrera. 3 dormitorios. cochera.a metros del shoping de villa cabrera. (0351)155 185 520</td>\n",
       "      <td>4.0</td>\n",
       "      <td>NaN</td>\n",
       "    </tr>\n",
       "  </tbody>\n",
       "</table>\n",
       "</div>"
      ],
      "text/plain": [
       "      property_type  floor  rooms  \\\n",
       "65524         house    NaN    NaN   \n",
       "\n",
       "                                                                                                                                                                                                                                 description  \\\n",
       "65524  excelente casa a 200 mts del shopping de villa cabrera.se desarrolla toda en planta baja.living- comedor.cocina -comedor.galeria.tres dormitorios.un baño muy amplio.cochera.patio de invierno.consultas: (0351) 155 185 520            \n",
       "\n",
       "                                                                                                       title  \\\n",
       "65524  casa - villa cabrera. 3 dormitorios. cochera.a metros del shoping de villa cabrera. (0351)155 185 520   \n",
       "\n",
       "       rooms_clean  floor_clean  \n",
       "65524          4.0          NaN  "
      ]
     },
     "execution_count": 63,
     "metadata": {},
     "output_type": "execute_result"
    }
   ],
   "source": [
    "dataFiltrada.loc[houseMask,:].sample()"
   ]
  },
  {
   "cell_type": "markdown",
   "metadata": {},
   "source": [
    "Ahora exploramos los locales \"store\""
   ]
  },
  {
   "cell_type": "code",
   "execution_count": 64,
   "metadata": {},
   "outputs": [],
   "source": [
    "soloStoreMask = dataFiltrada.property_type == 'store'\n",
    "soloStore = dataFiltrada.loc[soloStoreMask, :]\n"
   ]
  },
  {
   "cell_type": "code",
   "execution_count": 65,
   "metadata": {},
   "outputs": [
    {
     "name": "stdout",
     "output_type": "stream",
     "text": [
      "(4136, 7)\n",
      "4096\n",
      "0.9903288201160542\n"
     ]
    },
    {
     "data": {
      "text/plain": [
       "1.0     24\n",
       "2.0     10\n",
       "19.0     1\n",
       "31.0     1\n",
       "53.0     1\n",
       "10.0     1\n",
       "14.0     1\n",
       "4.0      1\n",
       "Name: floor, dtype: int64"
      ]
     },
     "execution_count": 65,
     "metadata": {},
     "output_type": "execute_result"
    }
   ],
   "source": [
    "print(soloStore.shape)\n",
    "print(soloStore.floor.isnull().sum())\n",
    "porcentajeNulosStore = soloStore.floor.isnull().sum() / soloStore.shape[0]\n",
    "print(porcentajeNulosStore)\n",
    "soloStore.floor.value_counts()"
   ]
  },
  {
   "cell_type": "markdown",
   "metadata": {},
   "source": [
    "Existe un muy bajo porcentaje de valores distintos a NaN(un 1%) aplicamos el mismo criterio que para el tipo house."
   ]
  },
  {
   "cell_type": "code",
   "execution_count": 66,
   "metadata": {},
   "outputs": [
    {
     "data": {
      "text/html": [
       "<div>\n",
       "<style scoped>\n",
       "    .dataframe tbody tr th:only-of-type {\n",
       "        vertical-align: middle;\n",
       "    }\n",
       "\n",
       "    .dataframe tbody tr th {\n",
       "        vertical-align: top;\n",
       "    }\n",
       "\n",
       "    .dataframe thead th {\n",
       "        text-align: right;\n",
       "    }\n",
       "</style>\n",
       "<table border=\"1\" class=\"dataframe\">\n",
       "  <thead>\n",
       "    <tr style=\"text-align: right;\">\n",
       "      <th></th>\n",
       "      <th>property_type</th>\n",
       "      <th>floor</th>\n",
       "      <th>rooms</th>\n",
       "      <th>description</th>\n",
       "      <th>title</th>\n",
       "      <th>rooms_clean</th>\n",
       "      <th>floor_clean</th>\n",
       "    </tr>\n",
       "  </thead>\n",
       "  <tbody>\n",
       "    <tr>\n",
       "      <th>20296</th>\n",
       "      <td>store</td>\n",
       "      <td>NaN</td>\n",
       "      <td>NaN</td>\n",
       "      <td>local comercial. planta baja: 3 x 9 m.  a metros de santa fe</td>\n",
       "      <td>local comercial. planta baja: 3 x 9 m.  a metros de santa fe</td>\n",
       "      <td>2.933518</td>\n",
       "      <td>NaN</td>\n",
       "    </tr>\n",
       "  </tbody>\n",
       "</table>\n",
       "</div>"
      ],
      "text/plain": [
       "      property_type  floor  rooms  \\\n",
       "20296         store    NaN    NaN   \n",
       "\n",
       "                                                        description  \\\n",
       "20296  local comercial. planta baja: 3 x 9 m.  a metros de santa fe   \n",
       "\n",
       "                                                              title  \\\n",
       "20296  local comercial. planta baja: 3 x 9 m.  a metros de santa fe   \n",
       "\n",
       "       rooms_clean  floor_clean  \n",
       "20296     2.933518          NaN  "
      ]
     },
     "execution_count": 66,
     "metadata": {},
     "output_type": "execute_result"
    }
   ],
   "source": [
    "soloStore = soloStore.assign(floor_clean=np.NaN)\n",
    "soloStore.floor_clean.value_counts()\n",
    "soloStore.sample()"
   ]
  },
  {
   "cell_type": "markdown",
   "metadata": {},
   "source": [
    "Actualizo el dataframe con los valoers de locales en NaN"
   ]
  },
  {
   "cell_type": "code",
   "execution_count": 67,
   "metadata": {},
   "outputs": [],
   "source": [
    "dataFiltrada['floor_clean'] = soloStore.floor_clean"
   ]
  },
  {
   "cell_type": "markdown",
   "metadata": {},
   "source": [
    "Exploración de PH"
   ]
  },
  {
   "cell_type": "code",
   "execution_count": 68,
   "metadata": {},
   "outputs": [
    {
     "data": {
      "text/html": [
       "<div>\n",
       "<style scoped>\n",
       "    .dataframe tbody tr th:only-of-type {\n",
       "        vertical-align: middle;\n",
       "    }\n",
       "\n",
       "    .dataframe tbody tr th {\n",
       "        vertical-align: top;\n",
       "    }\n",
       "\n",
       "    .dataframe thead th {\n",
       "        text-align: right;\n",
       "    }\n",
       "</style>\n",
       "<table border=\"1\" class=\"dataframe\">\n",
       "  <thead>\n",
       "    <tr style=\"text-align: right;\">\n",
       "      <th></th>\n",
       "      <th>property_type</th>\n",
       "      <th>floor</th>\n",
       "      <th>rooms</th>\n",
       "      <th>description</th>\n",
       "      <th>title</th>\n",
       "      <th>rooms_clean</th>\n",
       "      <th>floor_clean</th>\n",
       "    </tr>\n",
       "  </thead>\n",
       "  <tbody>\n",
       "    <tr>\n",
       "      <th>11281</th>\n",
       "      <td>PH</td>\n",
       "      <td>3.0</td>\n",
       "      <td>3.0</td>\n",
       "      <td>duplex en venta de 2 dorm. en cordoba</td>\n",
       "      <td>arguello, duplex. 3 dormitorios, venta</td>\n",
       "      <td>3.0000</td>\n",
       "      <td>NaN</td>\n",
       "    </tr>\n",
       "    <tr>\n",
       "      <th>6895</th>\n",
       "      <td>PH</td>\n",
       "      <td>NaN</td>\n",
       "      <td>3.0</td>\n",
       "      <td>ph 3 amb al fondo por pasillo.en muy buenas condiciones. patio de llegada, living comedor, bano completo, 2 dormitorios bien ventilados, cocina, lavadero interno, patio interno y terraza con cuarto guarda utiles. - publicado a traves de visualgestion -</td>\n",
       "      <td>ph en venta san justo / la matanza (a017 449)</td>\n",
       "      <td>3.0000</td>\n",
       "      <td>NaN</td>\n",
       "    </tr>\n",
       "    <tr>\n",
       "      <th>70302</th>\n",
       "      <td>PH</td>\n",
       "      <td>NaN</td>\n",
       "      <td>NaN</td>\n",
       "      <td>excelente ubicacion. primer piso x escalera. primer piso: 2 amplios dormitorios, living comedor con 2 ventanales a calle san martin, cocina comedor diario y baño.segundo piso: habitacion, baño, sala de estar o enseres, lavadero y patio.excelente estado.apta credito“las fotos publicadas de esta propiedad no son vinculantes y tampoco contractuales”</td>\n",
       "      <td>ph - lomas de zamora</td>\n",
       "      <td>3.1845</td>\n",
       "      <td>NaN</td>\n",
       "    </tr>\n",
       "    <tr>\n",
       "      <th>37603</th>\n",
       "      <td>PH</td>\n",
       "      <td>NaN</td>\n",
       "      <td>NaN</td>\n",
       "      <td>departamento tipo casa, planta baja, frente, entrada independiente.cocina comedor con pisos de porcelanato, baño completo, dormitorio de 3 x 3,40, patio con lavadero .                 aviso publicado por pixel inmobiliario (servicio de páginas web para inmobiliarias).</td>\n",
       "      <td>depto tipo casa, 2 ambientes, con patio</td>\n",
       "      <td>2.0000</td>\n",
       "      <td>NaN</td>\n",
       "    </tr>\n",
       "    <tr>\n",
       "      <th>101126</th>\n",
       "      <td>PH</td>\n",
       "      <td>NaN</td>\n",
       "      <td>NaN</td>\n",
       "      <td>ph 3 al frente 3 amb con escritorio en inmejorable zona de florida. cuenta con living comedor con gran ventanal y salida a un patio de 16 mts, cocina independiente, cocina comedor independiente con parrilla de material y hierro con excelente salida al exterior, baño completo, 2 dormitorios al frente con ventanales, uno de ellos con placar de techo a piso y un lugar para escritorio independiente con lugar de guardado. el mismo posee pisos de parquet, un hermoso patio, calefacción por  tiro  balanceado y un gran potencial para refaccionar a gusto.</td>\n",
       "      <td>ph - florida</td>\n",
       "      <td>3.0000</td>\n",
       "      <td>NaN</td>\n",
       "    </tr>\n",
       "  </tbody>\n",
       "</table>\n",
       "</div>"
      ],
      "text/plain": [
       "       property_type  floor  rooms  \\\n",
       "11281             PH    3.0    3.0   \n",
       "6895              PH    NaN    3.0   \n",
       "70302             PH    NaN    NaN   \n",
       "37603             PH    NaN    NaN   \n",
       "101126            PH    NaN    NaN   \n",
       "\n",
       "                                                                                                                                                                                                                                                                                                                                                                                                                                                                                                                                                                    description  \\\n",
       "11281                                                                                                                                                                                                                                                                                                                                                                                                                                                                                                                                     duplex en venta de 2 dorm. en cordoba   \n",
       "6895                                                                                                                                                                                                                                                                                                              ph 3 amb al fondo por pasillo.en muy buenas condiciones. patio de llegada, living comedor, bano completo, 2 dormitorios bien ventilados, cocina, lavadero interno, patio interno y terraza con cuarto guarda utiles. - publicado a traves de visualgestion -    \n",
       "70302                                                                                                                                                                                                              excelente ubicacion. primer piso x escalera. primer piso: 2 amplios dormitorios, living comedor con 2 ventanales a calle san martin, cocina comedor diario y baño.segundo piso: habitacion, baño, sala de estar o enseres, lavadero y patio.excelente estado.apta credito“las fotos publicadas de esta propiedad no son vinculantes y tampoco contractuales”   \n",
       "37603                                                                                                                                                                                                                                                                                              departamento tipo casa, planta baja, frente, entrada independiente.cocina comedor con pisos de porcelanato, baño completo, dormitorio de 3 x 3,40, patio con lavadero .                 aviso publicado por pixel inmobiliario (servicio de páginas web para inmobiliarias).   \n",
       "101126  ph 3 al frente 3 amb con escritorio en inmejorable zona de florida. cuenta con living comedor con gran ventanal y salida a un patio de 16 mts, cocina independiente, cocina comedor independiente con parrilla de material y hierro con excelente salida al exterior, baño completo, 2 dormitorios al frente con ventanales, uno de ellos con placar de techo a piso y un lugar para escritorio independiente con lugar de guardado. el mismo posee pisos de parquet, un hermoso patio, calefacción por  tiro  balanceado y un gran potencial para refaccionar a gusto.   \n",
       "\n",
       "                                                            title  \\\n",
       "11281                      arguello, duplex. 3 dormitorios, venta   \n",
       "6895                ph en venta san justo / la matanza (a017 449)   \n",
       "70302                                        ph - lomas de zamora   \n",
       "37603   depto tipo casa, 2 ambientes, con patio                     \n",
       "101126                                               ph - florida   \n",
       "\n",
       "        rooms_clean  floor_clean  \n",
       "11281        3.0000          NaN  \n",
       "6895         3.0000          NaN  \n",
       "70302        3.1845          NaN  \n",
       "37603        2.0000          NaN  \n",
       "101126       3.0000          NaN  "
      ]
     },
     "execution_count": 68,
     "metadata": {},
     "output_type": "execute_result"
    }
   ],
   "source": [
    "\n",
    "phMask = dataFiltrada.property_type == \"PH\"\n",
    "soloPH = dataFiltrada.loc[phMask, :]\n",
    "soloPH.sample(5)"
   ]
  },
  {
   "cell_type": "code",
   "execution_count": 69,
   "metadata": {},
   "outputs": [
    {
     "name": "stdout",
     "output_type": "stream",
     "text": [
      "(5751, 7)\n",
      "5178\n",
      "0.9003651538862807\n"
     ]
    },
    {
     "data": {
      "text/plain": [
       "1.0     154\n",
       "2.0     146\n",
       "3.0      63\n",
       "6.0      42\n",
       "5.0      38\n",
       "7.0      31\n",
       "4.0      31\n",
       "8.0      12\n",
       "9.0      11\n",
       "11.0     10\n",
       "10.0      9\n",
       "12.0      8\n",
       "14.0      7\n",
       "13.0      7\n",
       "16.0      2\n",
       "15.0      1\n",
       "17.0      1\n",
       "Name: floor, dtype: int64"
      ]
     },
     "execution_count": 69,
     "metadata": {},
     "output_type": "execute_result"
    }
   ],
   "source": [
    "\n",
    "print(soloPH.shape)\n",
    "print(soloPH.floor.isnull().sum())\n",
    "porcentajeNulosPH = soloPH.floor.isnull().sum() / soloPH.shape[0]\n",
    "print(porcentajeNulosPH)\n",
    "soloPH.floor.value_counts()\n",
    "#Creo que se puede hacer un corte en 3\n"
   ]
  },
  {
   "cell_type": "markdown",
   "metadata": {},
   "source": [
    "#### Si bien los PH tiene un gran porcentaje de valores nulos, podemos probar completarlo a partir de las descripciones junto a los departamentos."
   ]
  },
  {
   "cell_type": "markdown",
   "metadata": {},
   "source": []
  },
  {
   "cell_type": "markdown",
   "metadata": {},
   "source": []
  },
  {
   "cell_type": "code",
   "execution_count": 70,
   "metadata": {},
   "outputs": [
    {
     "data": {
      "text/plain": [
       "0     True\n",
       "1     True\n",
       "2     True\n",
       "3     True\n",
       "4     True\n",
       "5    False\n",
       "Name: property_type, dtype: bool"
      ]
     },
     "execution_count": 70,
     "metadata": {},
     "output_type": "execute_result"
    }
   ],
   "source": [
    "#Mascara de solo 'PH' y 'apartment'\n",
    "apartmentPHMask = (dataFiltrada.property_type == 'PH') | (dataFiltrada.property_type == 'apartment')\n",
    "apartmentPHMask.head(6)"
   ]
  },
  {
   "cell_type": "code",
   "execution_count": 71,
   "metadata": {},
   "outputs": [],
   "source": [
    "numeroPisoPattern = '(?P<numeroPiso>\\d\\d?\\d?\\s?)(er|to|mo|ro|vo|no)'\n",
    "numeroPisoRegex = re.compile(numeroPisoPattern)\n"
   ]
  },
  {
   "cell_type": "code",
   "execution_count": 72,
   "metadata": {},
   "outputs": [],
   "source": [
    "numeroPisoMatches1 = descriptionObject.apply(lambda x: x if x is np.NaN else numeroPisoRegex.search(x))\n"
   ]
  },
  {
   "cell_type": "code",
   "execution_count": 73,
   "metadata": {},
   "outputs": [
    {
     "data": {
      "text/plain": [
       "0         False\n",
       "1         False\n",
       "2          True\n",
       "3         False\n",
       "4         False\n",
       "          ...  \n",
       "121215    False\n",
       "121216    False\n",
       "121217    False\n",
       "121218    False\n",
       "121219    False\n",
       "Length: 121220, dtype: bool"
      ]
     },
     "execution_count": 73,
     "metadata": {},
     "output_type": "execute_result"
    }
   ],
   "source": [
    "numeroPisosMask1 = dataFiltrada.floor_clean.isnull() & numeroPisoMatches1.notnull() & apartmentPHMask\n",
    "numeroPisosMask1"
   ]
  },
  {
   "cell_type": "code",
   "execution_count": 74,
   "metadata": {},
   "outputs": [
    {
     "name": "stdout",
     "output_type": "stream",
     "text": [
      "76816\n",
      "-------------\n",
      "69764\n"
     ]
    }
   ],
   "source": [
    "print(dataFiltrada.loc[apartmentPHMask, 'floor_clean'].isnull().sum())\n",
    "dataFiltrada.loc[numeroPisosMask1, 'floor_clean'] = numeroPisoMatches1[numeroPisosMask1].apply(lambda x: float(x.group(\"numeroPiso\")))\n",
    "print('-------------')\n",
    "print(dataFiltrada.loc[apartmentPHMask, 'floor_clean'].isnull().sum())"
   ]
  },
  {
   "cell_type": "markdown",
   "metadata": {},
   "source": [
    "Mismo regex sobre campo title"
   ]
  },
  {
   "cell_type": "code",
   "execution_count": 75,
   "metadata": {},
   "outputs": [
    {
     "data": {
      "text/plain": [
       "0         False\n",
       "1         False\n",
       "2         False\n",
       "3         False\n",
       "4         False\n",
       "          ...  \n",
       "121215    False\n",
       "121216    False\n",
       "121217    False\n",
       "121218    False\n",
       "121219    False\n",
       "Length: 121220, dtype: bool"
      ]
     },
     "execution_count": 75,
     "metadata": {},
     "output_type": "execute_result"
    }
   ],
   "source": [
    "numeroPisoMatches2 = titleObject.apply(lambda x: x if x is np.NaN else numeroPisoRegex.search(x))\n",
    "numeroPisosMask2 = dataFiltrada.floor_clean.isnull() & numeroPisoMatches2.notnull() & apartmentPHMask\n",
    "numeroPisosMask2\n"
   ]
  },
  {
   "cell_type": "code",
   "execution_count": 76,
   "metadata": {},
   "outputs": [
    {
     "name": "stdout",
     "output_type": "stream",
     "text": [
      "69764\n",
      "-------------\n",
      "69590\n"
     ]
    }
   ],
   "source": [
    "print(dataFiltrada.loc[apartmentPHMask, 'floor_clean'].isnull().sum())\n",
    "dataFiltrada.loc[numeroPisosMask2, 'floor_clean'] = numeroPisoMatches2[numeroPisosMask2].apply(lambda x: float(x.group(\"numeroPiso\")))\n",
    "print('-------------')\n",
    "print(dataFiltrada.loc[apartmentPHMask, 'floor_clean'].isnull().sum())"
   ]
  },
  {
   "cell_type": "markdown",
   "metadata": {},
   "source": [
    "Nuevo reges para detectar numero de piso."
   ]
  },
  {
   "cell_type": "code",
   "execution_count": 77,
   "metadata": {},
   "outputs": [],
   "source": [
    "numeroPisoPattern2 = 'piso\\s?(?P<numeroPiso>\\d\\d?\\d?)[^er|to|mo|ro|vo|no|do]'\n",
    "numeroPisoRegex2 = re.compile(numeroPisoPattern2)\n",
    "\n"
   ]
  },
  {
   "cell_type": "code",
   "execution_count": 78,
   "metadata": {},
   "outputs": [],
   "source": [
    "numeroPisoMatches3 = descriptionObject.apply(lambda x: x if x is np.NaN else numeroPisoRegex2.search(x))\n"
   ]
  },
  {
   "cell_type": "code",
   "execution_count": 79,
   "metadata": {},
   "outputs": [],
   "source": [
    "numeroPisosMask3 = dataFiltrada.floor_clean.isnull() & numeroPisoMatches3.notnull() & apartmentPHMask\n"
   ]
  },
  {
   "cell_type": "code",
   "execution_count": 80,
   "metadata": {},
   "outputs": [
    {
     "name": "stdout",
     "output_type": "stream",
     "text": [
      "69590\n",
      "-------------\n",
      "66070\n"
     ]
    }
   ],
   "source": [
    "print(dataFiltrada.loc[apartmentPHMask, 'floor_clean'].isnull().sum())\n",
    "dataFiltrada.loc[numeroPisosMask3, 'floor_clean'] = numeroPisoMatches3[numeroPisosMask3].apply(lambda x: float(x.group(\"numeroPiso\")) if x.group(\"numeroPiso\") else x)\n",
    "print('-------------')\n",
    "print(dataFiltrada.loc[apartmentPHMask, 'floor_clean'].isnull().sum())"
   ]
  },
  {
   "cell_type": "code",
   "execution_count": 81,
   "metadata": {},
   "outputs": [],
   "source": [
    "numeroPisoMatches4 = titleObject.apply(lambda x: x if x is np.NaN else numeroPisoRegex2.search(x))\n"
   ]
  },
  {
   "cell_type": "code",
   "execution_count": 82,
   "metadata": {},
   "outputs": [],
   "source": [
    "numeroPisosMask4 = dataFiltrada.floor_clean.isnull() & numeroPisoMatches4.notnull() & apartmentPHMask\n"
   ]
  },
  {
   "cell_type": "code",
   "execution_count": 83,
   "metadata": {},
   "outputs": [
    {
     "name": "stdout",
     "output_type": "stream",
     "text": [
      "66070\n",
      "-------------\n",
      "65646\n"
     ]
    }
   ],
   "source": [
    "print(dataFiltrada.loc[apartmentPHMask, 'floor_clean'].isnull().sum())\n",
    "dataFiltrada.loc[numeroPisosMask4, 'floor_clean'] = numeroPisoMatches4[numeroPisosMask4].apply(lambda x: float(x.group(\"numeroPiso\")) if x.group(\"numeroPiso\") else x)\n",
    "print('-------------')\n",
    "print(dataFiltrada.loc[apartmentPHMask, 'floor_clean'].isnull().sum())"
   ]
  },
  {
   "cell_type": "markdown",
   "metadata": {},
   "source": [
    "Regex para nombre de piso."
   ]
  },
  {
   "cell_type": "code",
   "execution_count": 84,
   "metadata": {},
   "outputs": [],
   "source": [
    "nombrePisoPattern3 = '(?P<pisoPalabra>primer|segundo|tercero|cuarto|quinto|sexto|septimo|octavo|noveno|decimo)\\spiso\\s'\n",
    "nombrePisoRegex3 = re.compile(nombrePisoPattern3)\n",
    "\n"
   ]
  },
  {
   "cell_type": "code",
   "execution_count": 85,
   "metadata": {},
   "outputs": [],
   "source": [
    "numeroPisoMatches5 = descriptionObject.apply(lambda x: x if x is np.NaN else nombrePisoRegex3.search(x))"
   ]
  },
  {
   "cell_type": "code",
   "execution_count": 86,
   "metadata": {},
   "outputs": [],
   "source": [
    "numeroPisosMask5 = dataFiltrada.floor_clean.isnull() & numeroPisoMatches5.notnull() & apartmentPHMask"
   ]
  },
  {
   "cell_type": "code",
   "execution_count": 87,
   "metadata": {},
   "outputs": [],
   "source": [
    "def nombreNumero (valor):\n",
    "    nombre = valor.group('pisoPalabra')\n",
    "    aNumero = {'primer':1, 'segundo':2, 'tercero':3, 'cuarto':4, 'quinto':5, 'sexto':6, 'septimo':7, 'octavo':8, 'noveno':9, 'decimo':10}\n",
    "    resultado = aNumero[nombre]\n",
    "    return resultado"
   ]
  },
  {
   "cell_type": "code",
   "execution_count": 88,
   "metadata": {},
   "outputs": [
    {
     "name": "stdout",
     "output_type": "stream",
     "text": [
      "65646\n",
      "-------------\n",
      "62728\n"
     ]
    }
   ],
   "source": [
    "print(dataFiltrada.loc[apartmentPHMask, 'floor_clean'].isnull().sum())\n",
    "dataFiltrada.loc[numeroPisosMask5, 'floor_clean'] = numeroPisoMatches5[numeroPisosMask5].apply(nombreNumero)\n",
    "print('-------------')\n",
    "print(dataFiltrada.loc[apartmentPHMask, 'floor_clean'].isnull().sum())"
   ]
  },
  {
   "cell_type": "code",
   "execution_count": 89,
   "metadata": {},
   "outputs": [],
   "source": [
    "numeroPisoMatches6 = titleObject.apply(lambda x: x if x is np.NaN else nombrePisoRegex3.search(x))"
   ]
  },
  {
   "cell_type": "code",
   "execution_count": 90,
   "metadata": {},
   "outputs": [],
   "source": [
    "numeroPisosMask6 = dataFiltrada.floor_clean.isnull() & numeroPisoMatches6.notnull() & apartmentPHMask"
   ]
  },
  {
   "cell_type": "code",
   "execution_count": 91,
   "metadata": {},
   "outputs": [
    {
     "name": "stdout",
     "output_type": "stream",
     "text": [
      "62728\n",
      "-------------\n",
      "62699\n"
     ]
    }
   ],
   "source": [
    "print(dataFiltrada.loc[apartmentPHMask, 'floor_clean'].isnull().sum())\n",
    "dataFiltrada.loc[numeroPisosMask6, 'floor_clean'] = numeroPisoMatches6[numeroPisosMask6].apply(nombreNumero)\n",
    "print('-------------')\n",
    "print(dataFiltrada.loc[apartmentPHMask, 'floor_clean'].isnull().sum())"
   ]
  },
  {
   "cell_type": "markdown",
   "metadata": {},
   "source": [
    "Regex de piso con caracter especial º"
   ]
  },
  {
   "cell_type": "code",
   "execution_count": 92,
   "metadata": {},
   "outputs": [],
   "source": [
    "nombrePisoPattern4 = '(?P<numeroPiso>\\d\\d?)\\º\\s?piso'\n",
    "nombrePisoRegex4 = re.compile(nombrePisoPattern4)\n",
    "\n"
   ]
  },
  {
   "cell_type": "code",
   "execution_count": 93,
   "metadata": {},
   "outputs": [],
   "source": [
    "numeroPisoMatches7 = descriptionObject.apply(lambda x: x if x is np.NaN else nombrePisoRegex4.search(x))"
   ]
  },
  {
   "cell_type": "code",
   "execution_count": 94,
   "metadata": {},
   "outputs": [],
   "source": [
    "numeroPisosMask7 = dataFiltrada.floor_clean.isnull() & numeroPisoMatches7.notnull() & apartmentPHMask"
   ]
  },
  {
   "cell_type": "code",
   "execution_count": 95,
   "metadata": {},
   "outputs": [
    {
     "name": "stdout",
     "output_type": "stream",
     "text": [
      "62699\n",
      "-------------\n",
      "61158\n"
     ]
    }
   ],
   "source": [
    "print(dataFiltrada.loc[apartmentPHMask, 'floor_clean'].isnull().sum())\n",
    "dataFiltrada.loc[numeroPisosMask7, 'floor_clean'] = numeroPisoMatches7[numeroPisosMask7].apply(lambda x: float(x.group(\"numeroPiso\")) )\n",
    "print('-------------')\n",
    "print(dataFiltrada.loc[apartmentPHMask, 'floor_clean'].isnull().sum())"
   ]
  },
  {
   "cell_type": "code",
   "execution_count": 96,
   "metadata": {},
   "outputs": [],
   "source": [
    "numeroPisoMatches8 = titleObject.apply(lambda x: x if x is np.NaN else nombrePisoRegex4.search(x))"
   ]
  },
  {
   "cell_type": "code",
   "execution_count": 97,
   "metadata": {},
   "outputs": [],
   "source": [
    "numeroPisosMask8 = dataFiltrada.floor_clean.isnull() & numeroPisoMatches8.notnull() & apartmentPHMask"
   ]
  },
  {
   "cell_type": "code",
   "execution_count": 98,
   "metadata": {},
   "outputs": [
    {
     "name": "stdout",
     "output_type": "stream",
     "text": [
      "61158\n",
      "-------------\n",
      "61117\n"
     ]
    }
   ],
   "source": [
    "print(dataFiltrada.loc[apartmentPHMask, 'floor_clean'].isnull().sum())\n",
    "dataFiltrada.loc[numeroPisosMask8, 'floor_clean'] = numeroPisoMatches8[numeroPisosMask8].apply(lambda x: float(x.group(\"numeroPiso\")) )\n",
    "print('-------------')\n",
    "print(dataFiltrada.loc[apartmentPHMask, 'floor_clean'].isnull().sum())"
   ]
  },
  {
   "cell_type": "code",
   "execution_count": 99,
   "metadata": {},
   "outputs": [
    {
     "data": {
      "text/plain": [
       "1.0      4306\n",
       "2.0      3322\n",
       "3.0      1332\n",
       "4.0      1080\n",
       "7.0       623\n",
       "         ... \n",
       "701.0       1\n",
       "92.0        1\n",
       "350.0       1\n",
       "205.0       1\n",
       "540.0       1\n",
       "Name: floor_clean, Length: 342, dtype: int64"
      ]
     },
     "execution_count": 99,
     "metadata": {},
     "output_type": "execute_result"
    }
   ],
   "source": [
    "dataFiltrada.loc[apartmentPHMask, 'floor_clean'].value_counts()"
   ]
  },
  {
   "cell_type": "markdown",
   "metadata": {},
   "source": [
    "### En argentina el edificio mas alto del país tiene 54 pisos."
   ]
  },
  {
   "cell_type": "markdown",
   "metadata": {},
   "source": [
    "Por lo tanto podemos hacer un corte en el piso 54 y asignar NaN a los que esten por encima de ese valor."
   ]
  },
  {
   "cell_type": "code",
   "execution_count": 100,
   "metadata": {},
   "outputs": [
    {
     "data": {
      "text/plain": [
       "1.0     4306\n",
       "2.0     3322\n",
       "3.0     1332\n",
       "4.0     1080\n",
       "7.0      623\n",
       "5.0      616\n",
       "6.0      616\n",
       "8.0      425\n",
       "9.0      375\n",
       "10.0     365\n",
       "12.0     280\n",
       "14.0     233\n",
       "11.0     228\n",
       "15.0     191\n",
       "0.0      146\n",
       "13.0     123\n",
       "16.0     119\n",
       "18.0     111\n",
       "17.0      81\n",
       "19.0      72\n",
       "28.0      36\n",
       "21.0      32\n",
       "20.0      29\n",
       "24.0      23\n",
       "23.0      18\n",
       "35.0      16\n",
       "25.0      16\n",
       "34.0      16\n",
       "40.0      14\n",
       "27.0      14\n",
       "22.0      13\n",
       "26.0      12\n",
       "50.0      12\n",
       "48.0      12\n",
       "32.0       7\n",
       "46.0       7\n",
       "31.0       7\n",
       "29.0       6\n",
       "30.0       6\n",
       "33.0       4\n",
       "49.0       4\n",
       "36.0       4\n",
       "45.0       4\n",
       "39.0       4\n",
       "41.0       3\n",
       "42.0       3\n",
       "52.0       3\n",
       "47.0       3\n",
       "37.0       2\n",
       "54.0       1\n",
       "51.0       1\n",
       "53.0       1\n",
       "Name: floor_clean, dtype: int64"
      ]
     },
     "execution_count": 100,
     "metadata": {},
     "output_type": "execute_result"
    }
   ],
   "source": [
    "dataFiltrada.loc[apartmentPHMask, 'floor_clean'] = dataFiltrada.floor_clean[apartmentPHMask].apply(lambda x: x if x<55 else np.NaN)\n",
    "dataFiltrada.loc[apartmentPHMask, 'floor_clean'].value_counts()"
   ]
  },
  {
   "cell_type": "code",
   "execution_count": 101,
   "metadata": {},
   "outputs": [],
   "source": [
    "import seaborn as sns"
   ]
  },
  {
   "cell_type": "code",
   "execution_count": 106,
   "metadata": {},
   "outputs": [],
   "source": [
    "nulosApartmentPHMask = dataFiltrada.loc[apartmentPHMask, \"floor_clean\"].isnull()"
   ]
  },
  {
   "cell_type": "markdown",
   "metadata": {},
   "source": [
    "### Detección de planta baja sobre los valores nulos de apartment y PH"
   ]
  },
  {
   "cell_type": "code",
   "execution_count": null,
   "metadata": {},
   "outputs": [],
   "source": []
  },
  {
   "cell_type": "code",
   "execution_count": 107,
   "metadata": {},
   "outputs": [
    {
     "data": {
      "text/plain": [
       "0         <re.Match object; span=(22, 34), match='planta baja '>\n",
       "1                                                           None\n",
       "2                                                           None\n",
       "3                                                           None\n",
       "4                                                           None\n",
       "                                   ...                          \n",
       "121215                                                      None\n",
       "121216                                                      None\n",
       "121217                                                      None\n",
       "121218                                                      None\n",
       "121219                                                      None\n",
       "Name: description, Length: 121220, dtype: object"
      ]
     },
     "execution_count": 107,
     "metadata": {},
     "output_type": "execute_result"
    }
   ],
   "source": [
    "pbPattern = 'planta\\s?baja\\s?'\n",
    "pbRegex = re.compile(pbPattern)\n",
    "pbMatches = descriptionObject.apply(lambda x: x if x is np.NaN else pbRegex.search(x))\n",
    "\n",
    "pbMatches\n",
    "\n",
    "\n"
   ]
  },
  {
   "cell_type": "code",
   "execution_count": 108,
   "metadata": {},
   "outputs": [],
   "source": [
    "pbMask = nulosApartmentPHMask & pbMatches.notnull()"
   ]
  },
  {
   "cell_type": "code",
   "execution_count": 109,
   "metadata": {},
   "outputs": [
    {
     "name": "stdout",
     "output_type": "stream",
     "text": [
      "61839\n",
      "-------------\n",
      "54368\n"
     ]
    }
   ],
   "source": [
    "print(dataFiltrada.loc[apartmentPHMask, 'floor_clean'].isnull().sum())\n",
    "dataFiltrada.loc[pbMask, 'floor_clean'] = pbMatches[pbMask].apply(lambda x: 0)\n",
    "print('-------------')\n",
    "print(dataFiltrada.loc[apartmentPHMask, 'floor_clean'].isnull().sum())"
   ]
  },
  {
   "cell_type": "code",
   "execution_count": 113,
   "metadata": {},
   "outputs": [
    {
     "data": {
      "text/plain": [
       "[(0, 20)]"
      ]
     },
     "execution_count": 113,
     "metadata": {},
     "output_type": "execute_result"
    },
    {
     "data": {
      "image/png": "[encoded data removed]",
      "text/plain": [
       "<Figure size 720x720 with 1 Axes>"
      ]
     },
     "metadata": {
      "needs_background": "light"
     },
     "output_type": "display_data"
    }
   ],
   "source": [
    "fig, axs = plt.subplots(figsize=(10,10))\n",
    "\n",
    "floorsFig = sns.boxplot(\"property_type\", \"floor_clean\", data=dataFiltrada,\n",
    "               palette=[\"blue\", \"red\"])\n",
    "floorsFig.set(ylim=(0, 20))"
   ]
  },
  {
   "cell_type": "markdown",
   "metadata": {},
   "source": [
    "### Posibles rangos 0a3 4a10 >11"
   ]
  },
  {
   "cell_type": "code",
   "execution_count": null,
   "metadata": {},
   "outputs": [],
   "source": []
  }
 ],
 "metadata": {
  "kernelspec": {
   "display_name": "Python 3",
   "language": "python",
   "name": "python3"
  },
  "language_info": {
   "codemirror_mode": {
    "name": "ipython",
    "version": 3
   },
   "file_extension": ".py",
   "mimetype": "text/x-python",
   "name": "python",
   "nbconvert_exporter": "python",
   "pygments_lexer": "ipython3",
   "version": "3.7.7"
  }
 },
 "nbformat": 4,
 "nbformat_minor": 4
}
