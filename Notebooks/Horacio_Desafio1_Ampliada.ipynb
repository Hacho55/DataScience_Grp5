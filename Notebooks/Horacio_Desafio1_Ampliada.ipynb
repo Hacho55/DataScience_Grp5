{
 "cells": [
  {
   "cell_type": "markdown",
   "metadata": {},
   "source": [
    "--------------\n",
    "## Comentario\n",
    "Van a encontrar los comentarios que les hacemos con este formato.\n",
    "Tengan en cuenta que sólo vamos a remarcarles con recomendaciones el código. Donde no haya comentarios, es porque está bien.\n",
    "\n",
    "--------------\n",
    "<h1>Desafio 1 - Grupo 5</h1>\n",
    "\n",
    "<h3><u>Intregrantes del grupo</u></h3>\n",
    "\n",
    "- Lesertesseur, Diego\n",
    "- Panizza, Camila  \n",
    "- Pellecchia, Franco   \n",
    "- Magariños, Néstor  \n",
    "- Suarez, Horacio  \n",
    "\n",
    "<h3><u>Objetivos</u></h3>\n",
    "La inmobiliaria Properati publica periódicamente información sobre ofertas de propiedades\n",
    "para venta y alquiler. Ud. deberá asesorar a la inmobiliaria a desarrollar un modelo de\n",
    "regresión que permita predecir el precio por metro cuadrado de una propiedad. El objetivo\n",
    "final es que el modelo que desarrollen sea utilizado como tasador automático a ser\n",
    "aplicados a las próximas propiedades que sean comercializadas por la empresa. Para ello\n",
    "la empresa le provee de un dataset correspondiente al primer semestre de 2017.\n",
    "\n",
    "- Efectuar una limpieza del dataset provisto. Particularmente, deberá diseñar estrategias para lidiar con los datos perdidos en ciertas variables.\n",
    "- Realizar un análisis descriptivo de las principales variables.\n",
    "- Crear nuevas columnas a partir de las características dadas que puedan tener valor\n",
    "predictivo.\n",
    "\n",
    "<h3><u>Variables</u></h3>\n",
    "\n",
    "- Fecha de creación\n",
    "- Tipo de la propiedad (house, apartment, ph)\n",
    "- Operación del aviso (sell, rent)\n",
    "- Nombre del lugar\n",
    "- Nombre del lugar + nombre de sus ‘padres’\n",
    "- ID de geonames del lugar (si está disponible)\n",
    "- Latitud,Longitud\n",
    "- Precio original del aviso\n",
    "- Moneda original del aviso (ARS, USD)\n",
    "- Precio del aviso en moneda local (ARS)\n",
    "- Precio aproximado en USD\n",
    "- Superficie en m²\n",
    "- Superficie cubierta en m²\n",
    "- Precio en USD/m²\n",
    "- Precio por m²\n",
    "- N° de piso, si corresponde\n",
    "- Ambientes\n",
    "- URL en Properati\n",
    "- Descripción\n",
    "- Título\n",
    "- URL de un thumbnail de la\n",
    "\n",
    "<h3><u>Índice</u></h3>\n",
    "<a href='#section_1'>1. Preparación del dataset</a> \n",
    "\n",
    "<a href='#section_2'>2. Data wrangling</a>  \n",
    "<a href='#section_3'>3. Nuevas variables</a>  \n",
    "<a href='#section_4'>4. Dataset final</a>"
   ]
  },
  {
   "cell_type": "markdown",
   "metadata": {},
   "source": [
    "---\n",
    "---\n",
    "<b><a id='section_1'><h4>1. Preparación del dataset</h4></a></b>\n",
    "<a href='#section_1_1'>1.1. Importación de librerías y carga del dataset</a>  \n",
    "<a href='#section_1_2'>1.2. Descripción del dataset</a>  \n",
    "<a href='#section_1_3'>1.3. Selección de columnas útiles</a>"
   ]
  },
  {
   "cell_type": "markdown",
   "metadata": {},
   "source": [
    "<b><a id='section_1_1'>1.1. Importación de librerías y carga del dataset</a>  </b>"
   ]
  },
  {
   "cell_type": "code",
   "execution_count": 2,
   "metadata": {},
   "outputs": [],
   "source": [
    "import numpy as np\n",
    "import pandas as pd\n",
    "import re \n",
    "import seaborn as sns\n",
    "%matplotlib inline\n",
    "import matplotlib.pyplot as plt\n",
    "import math"
   ]
  },
  {
   "cell_type": "code",
   "execution_count": 3,
   "metadata": {},
   "outputs": [],
   "source": [
    "data= pd.read_csv(\"../Data/properati.csv\")"
   ]
  },
  {
   "cell_type": "markdown",
   "metadata": {},
   "source": [
    "---\n",
    "<b><a id='section_1_2'>1.2. Descripción del dataset</a></b>"
   ]
  },
  {
   "cell_type": "code",
   "execution_count": 4,
   "metadata": {},
   "outputs": [
    {
     "data": {
      "text/html": [
       "<div>\n",
       "<style scoped>\n",
       "    .dataframe tbody tr th:only-of-type {\n",
       "        vertical-align: middle;\n",
       "    }\n",
       "\n",
       "    .dataframe tbody tr th {\n",
       "        vertical-align: top;\n",
       "    }\n",
       "\n",
       "    .dataframe thead th {\n",
       "        text-align: right;\n",
       "    }\n",
       "</style>\n",
       "<table border=\"1\" class=\"dataframe\">\n",
       "  <thead>\n",
       "    <tr style=\"text-align: right;\">\n",
       "      <th></th>\n",
       "      <th>type</th>\n",
       "      <th>Porcentaje de nulos</th>\n",
       "      <th>Nulos</th>\n",
       "      <th>Valores distintos</th>\n",
       "      <th>Ejemplos</th>\n",
       "    </tr>\n",
       "  </thead>\n",
       "  <tbody>\n",
       "    <tr>\n",
       "      <th>Unnamed: 0</th>\n",
       "      <td>int64</td>\n",
       "      <td>0.00</td>\n",
       "      <td>0</td>\n",
       "      <td>121220</td>\n",
       "      <td>[0, 1, 2, 3, 4, 5, 6, 7, 8, 9, 10, 11, 12, 13,...</td>\n",
       "    </tr>\n",
       "    <tr>\n",
       "      <th>operation</th>\n",
       "      <td>object</td>\n",
       "      <td>0.00</td>\n",
       "      <td>0</td>\n",
       "      <td>1</td>\n",
       "      <td>[sell]</td>\n",
       "    </tr>\n",
       "    <tr>\n",
       "      <th>property_type</th>\n",
       "      <td>object</td>\n",
       "      <td>0.00</td>\n",
       "      <td>0</td>\n",
       "      <td>4</td>\n",
       "      <td>[PH, apartment, house, store]</td>\n",
       "    </tr>\n",
       "    <tr>\n",
       "      <th>place_name</th>\n",
       "      <td>object</td>\n",
       "      <td>0.00</td>\n",
       "      <td>23</td>\n",
       "      <td>1061</td>\n",
       "      <td>[Mataderos, La Plata, Liniers, Centro, Gualegu...</td>\n",
       "    </tr>\n",
       "    <tr>\n",
       "      <th>place_with_parent_names</th>\n",
       "      <td>object</td>\n",
       "      <td>0.00</td>\n",
       "      <td>0</td>\n",
       "      <td>1164</td>\n",
       "      <td>[|Argentina|Capital Federal|Mataderos|, |Argen...</td>\n",
       "    </tr>\n",
       "    <tr>\n",
       "      <th>country_name</th>\n",
       "      <td>object</td>\n",
       "      <td>0.00</td>\n",
       "      <td>0</td>\n",
       "      <td>1</td>\n",
       "      <td>[Argentina]</td>\n",
       "    </tr>\n",
       "    <tr>\n",
       "      <th>state_name</th>\n",
       "      <td>object</td>\n",
       "      <td>0.00</td>\n",
       "      <td>0</td>\n",
       "      <td>28</td>\n",
       "      <td>[Capital Federal, Bs.As. G.B.A. Zona Sur, Buen...</td>\n",
       "    </tr>\n",
       "    <tr>\n",
       "      <th>geonames_id</th>\n",
       "      <td>float64</td>\n",
       "      <td>0.15</td>\n",
       "      <td>18717</td>\n",
       "      <td>647</td>\n",
       "      <td>[3430787.0, 3432039.0, 3431333.0, 3435548.0, 3...</td>\n",
       "    </tr>\n",
       "    <tr>\n",
       "      <th>lat-lon</th>\n",
       "      <td>object</td>\n",
       "      <td>0.43</td>\n",
       "      <td>51550</td>\n",
       "      <td>47204</td>\n",
       "      <td>[-34.6618237,-58.5088387, -34.9038831,-57.9643...</td>\n",
       "    </tr>\n",
       "    <tr>\n",
       "      <th>lat</th>\n",
       "      <td>float64</td>\n",
       "      <td>0.43</td>\n",
       "      <td>51550</td>\n",
       "      <td>46496</td>\n",
       "      <td>[-34.6618237, -34.9038831, -34.6522615, -34.64...</td>\n",
       "    </tr>\n",
       "    <tr>\n",
       "      <th>lon</th>\n",
       "      <td>float64</td>\n",
       "      <td>0.43</td>\n",
       "      <td>51550</td>\n",
       "      <td>46523</td>\n",
       "      <td>[-58.5088387, -57.96432950000001, -58.5229825,...</td>\n",
       "    </tr>\n",
       "    <tr>\n",
       "      <th>price</th>\n",
       "      <td>float64</td>\n",
       "      <td>0.17</td>\n",
       "      <td>20410</td>\n",
       "      <td>9747</td>\n",
       "      <td>[62000.0, 150000.0, 72000.0, 95000.0, 64000.0,...</td>\n",
       "    </tr>\n",
       "    <tr>\n",
       "      <th>currency</th>\n",
       "      <td>object</td>\n",
       "      <td>0.17</td>\n",
       "      <td>20411</td>\n",
       "      <td>5</td>\n",
       "      <td>[USD, nan, ARS, PEN, UYU]</td>\n",
       "    </tr>\n",
       "    <tr>\n",
       "      <th>price_aprox_local_currency</th>\n",
       "      <td>float64</td>\n",
       "      <td>0.17</td>\n",
       "      <td>20410</td>\n",
       "      <td>10365</td>\n",
       "      <td>[1093959.0, 2646675.0, 1270404.0, 1676227.5, 1...</td>\n",
       "    </tr>\n",
       "    <tr>\n",
       "      <th>price_aprox_usd</th>\n",
       "      <td>float64</td>\n",
       "      <td>0.17</td>\n",
       "      <td>20410</td>\n",
       "      <td>10365</td>\n",
       "      <td>[62000.0, 150000.0, 72000.0, 95000.0, 64000.0,...</td>\n",
       "    </tr>\n",
       "    <tr>\n",
       "      <th>surface_total_in_m2</th>\n",
       "      <td>float64</td>\n",
       "      <td>0.32</td>\n",
       "      <td>39328</td>\n",
       "      <td>1688</td>\n",
       "      <td>[55.0, nan, 35.0, 53.0, 106.0, 45.0, 65.0, 151...</td>\n",
       "    </tr>\n",
       "    <tr>\n",
       "      <th>surface_covered_in_m2</th>\n",
       "      <td>float64</td>\n",
       "      <td>0.16</td>\n",
       "      <td>19907</td>\n",
       "      <td>996</td>\n",
       "      <td>[40.0, nan, 55.0, 35.0, 78.0, 60.0, 36.0, 30.0...</td>\n",
       "    </tr>\n",
       "    <tr>\n",
       "      <th>price_usd_per_m2</th>\n",
       "      <td>float64</td>\n",
       "      <td>0.43</td>\n",
       "      <td>52603</td>\n",
       "      <td>25568</td>\n",
       "      <td>[1127.2727272727273, nan, 1309.090909090909, 1...</td>\n",
       "    </tr>\n",
       "    <tr>\n",
       "      <th>price_per_m2</th>\n",
       "      <td>float64</td>\n",
       "      <td>0.28</td>\n",
       "      <td>33562</td>\n",
       "      <td>25186</td>\n",
       "      <td>[1550.0, nan, 1309.090909090909, 1828.57142857...</td>\n",
       "    </tr>\n",
       "    <tr>\n",
       "      <th>floor</th>\n",
       "      <td>float64</td>\n",
       "      <td>0.93</td>\n",
       "      <td>113321</td>\n",
       "      <td>183</td>\n",
       "      <td>[nan, 5.0, 1.0, 2.0, 3.0, 12.0, 6.0, 4.0, 7.0,...</td>\n",
       "    </tr>\n",
       "    <tr>\n",
       "      <th>rooms</th>\n",
       "      <td>float64</td>\n",
       "      <td>0.61</td>\n",
       "      <td>73830</td>\n",
       "      <td>32</td>\n",
       "      <td>[nan, 1.0, 4.0, 3.0, 2.0, 6.0, 5.0, 10.0, 7.0,...</td>\n",
       "    </tr>\n",
       "    <tr>\n",
       "      <th>expenses</th>\n",
       "      <td>float64</td>\n",
       "      <td>0.88</td>\n",
       "      <td>106958</td>\n",
       "      <td>983</td>\n",
       "      <td>[nan, 1200.0, 800.0, 1577.0, 1800.0, 1000.0, 1...</td>\n",
       "    </tr>\n",
       "    <tr>\n",
       "      <th>properati_url</th>\n",
       "      <td>object</td>\n",
       "      <td>0.00</td>\n",
       "      <td>0</td>\n",
       "      <td>121220</td>\n",
       "      <td>[http://www.properati.com.ar/15bo8_venta_ph_ma...</td>\n",
       "    </tr>\n",
       "    <tr>\n",
       "      <th>description</th>\n",
       "      <td>object</td>\n",
       "      <td>0.00</td>\n",
       "      <td>2</td>\n",
       "      <td>104056</td>\n",
       "      <td>[2 AMBIENTES TIPO CASA PLANTA BAJA POR PASILLO...</td>\n",
       "    </tr>\n",
       "    <tr>\n",
       "      <th>title</th>\n",
       "      <td>object</td>\n",
       "      <td>0.00</td>\n",
       "      <td>0</td>\n",
       "      <td>72705</td>\n",
       "      <td>[2 AMB TIPO CASA SIN EXPENSAS EN PB, VENTA Dep...</td>\n",
       "    </tr>\n",
       "    <tr>\n",
       "      <th>image_thumbnail</th>\n",
       "      <td>object</td>\n",
       "      <td>0.03</td>\n",
       "      <td>3112</td>\n",
       "      <td>114390</td>\n",
       "      <td>[https://thumbs4.properati.com/8/BluUYiHJLhgII...</td>\n",
       "    </tr>\n",
       "  </tbody>\n",
       "</table>\n",
       "</div>"
      ],
      "text/plain": [
       "                               type  Porcentaje de nulos   Nulos  \\\n",
       "Unnamed: 0                    int64                 0.00       0   \n",
       "operation                    object                 0.00       0   \n",
       "property_type                object                 0.00       0   \n",
       "place_name                   object                 0.00      23   \n",
       "place_with_parent_names      object                 0.00       0   \n",
       "country_name                 object                 0.00       0   \n",
       "state_name                   object                 0.00       0   \n",
       "geonames_id                 float64                 0.15   18717   \n",
       "lat-lon                      object                 0.43   51550   \n",
       "lat                         float64                 0.43   51550   \n",
       "lon                         float64                 0.43   51550   \n",
       "price                       float64                 0.17   20410   \n",
       "currency                     object                 0.17   20411   \n",
       "price_aprox_local_currency  float64                 0.17   20410   \n",
       "price_aprox_usd             float64                 0.17   20410   \n",
       "surface_total_in_m2         float64                 0.32   39328   \n",
       "surface_covered_in_m2       float64                 0.16   19907   \n",
       "price_usd_per_m2            float64                 0.43   52603   \n",
       "price_per_m2                float64                 0.28   33562   \n",
       "floor                       float64                 0.93  113321   \n",
       "rooms                       float64                 0.61   73830   \n",
       "expenses                    float64                 0.88  106958   \n",
       "properati_url                object                 0.00       0   \n",
       "description                  object                 0.00       2   \n",
       "title                        object                 0.00       0   \n",
       "image_thumbnail              object                 0.03    3112   \n",
       "\n",
       "                            Valores distintos  \\\n",
       "Unnamed: 0                             121220   \n",
       "operation                                   1   \n",
       "property_type                               4   \n",
       "place_name                               1061   \n",
       "place_with_parent_names                  1164   \n",
       "country_name                                1   \n",
       "state_name                                 28   \n",
       "geonames_id                               647   \n",
       "lat-lon                                 47204   \n",
       "lat                                     46496   \n",
       "lon                                     46523   \n",
       "price                                    9747   \n",
       "currency                                    5   \n",
       "price_aprox_local_currency              10365   \n",
       "price_aprox_usd                         10365   \n",
       "surface_total_in_m2                      1688   \n",
       "surface_covered_in_m2                     996   \n",
       "price_usd_per_m2                        25568   \n",
       "price_per_m2                            25186   \n",
       "floor                                     183   \n",
       "rooms                                      32   \n",
       "expenses                                  983   \n",
       "properati_url                          121220   \n",
       "description                            104056   \n",
       "title                                   72705   \n",
       "image_thumbnail                        114390   \n",
       "\n",
       "                                                                     Ejemplos  \n",
       "Unnamed: 0                  [0, 1, 2, 3, 4, 5, 6, 7, 8, 9, 10, 11, 12, 13,...  \n",
       "operation                                                              [sell]  \n",
       "property_type                                   [PH, apartment, house, store]  \n",
       "place_name                  [Mataderos, La Plata, Liniers, Centro, Gualegu...  \n",
       "place_with_parent_names     [|Argentina|Capital Federal|Mataderos|, |Argen...  \n",
       "country_name                                                      [Argentina]  \n",
       "state_name                  [Capital Federal, Bs.As. G.B.A. Zona Sur, Buen...  \n",
       "geonames_id                 [3430787.0, 3432039.0, 3431333.0, 3435548.0, 3...  \n",
       "lat-lon                     [-34.6618237,-58.5088387, -34.9038831,-57.9643...  \n",
       "lat                         [-34.6618237, -34.9038831, -34.6522615, -34.64...  \n",
       "lon                         [-58.5088387, -57.96432950000001, -58.5229825,...  \n",
       "price                       [62000.0, 150000.0, 72000.0, 95000.0, 64000.0,...  \n",
       "currency                                            [USD, nan, ARS, PEN, UYU]  \n",
       "price_aprox_local_currency  [1093959.0, 2646675.0, 1270404.0, 1676227.5, 1...  \n",
       "price_aprox_usd             [62000.0, 150000.0, 72000.0, 95000.0, 64000.0,...  \n",
       "surface_total_in_m2         [55.0, nan, 35.0, 53.0, 106.0, 45.0, 65.0, 151...  \n",
       "surface_covered_in_m2       [40.0, nan, 55.0, 35.0, 78.0, 60.0, 36.0, 30.0...  \n",
       "price_usd_per_m2            [1127.2727272727273, nan, 1309.090909090909, 1...  \n",
       "price_per_m2                [1550.0, nan, 1309.090909090909, 1828.57142857...  \n",
       "floor                       [nan, 5.0, 1.0, 2.0, 3.0, 12.0, 6.0, 4.0, 7.0,...  \n",
       "rooms                       [nan, 1.0, 4.0, 3.0, 2.0, 6.0, 5.0, 10.0, 7.0,...  \n",
       "expenses                    [nan, 1200.0, 800.0, 1577.0, 1800.0, 1000.0, 1...  \n",
       "properati_url               [http://www.properati.com.ar/15bo8_venta_ph_ma...  \n",
       "description                 [2 AMBIENTES TIPO CASA PLANTA BAJA POR PASILLO...  \n",
       "title                       [2 AMB TIPO CASA SIN EXPENSAS EN PB, VENTA Dep...  \n",
       "image_thumbnail             [https://thumbs4.properati.com/8/BluUYiHJLhgII...  "
      ]
     },
     "execution_count": 4,
     "metadata": {},
     "output_type": "execute_result"
    }
   ],
   "source": [
    "data_describe = pd.DataFrame(round(data.isnull().sum() /data.shape[0],2), columns= ['Porcentaje de nulos'])\n",
    "data_describe['type'] = data.dtypes\n",
    "data_describe = data_describe[['type','Porcentaje de nulos']]\n",
    "data_describe['Nulos'] = data.isnull().sum()\n",
    "values= []\n",
    "example=[]\n",
    "for x in data:\n",
    "    values.append(len(data[x].unique()))\n",
    "    example.append(data[x].unique())\n",
    "data_describe['Valores distintos'] = values\n",
    "data_describe['Ejemplos'] = example\n",
    "\n",
    "data_describe"
   ]
  },
  {
   "cell_type": "markdown",
   "metadata": {},
   "source": [
    "---\n",
    "<b><a id='section_1_3'>1.3. Selección de columnas útiles</a></b>"
   ]
  },
  {
   "cell_type": "code",
   "execution_count": 5,
   "metadata": {},
   "outputs": [
    {
     "data": {
      "text/html": [
       "<div>\n",
       "<style scoped>\n",
       "    .dataframe tbody tr th:only-of-type {\n",
       "        vertical-align: middle;\n",
       "    }\n",
       "\n",
       "    .dataframe tbody tr th {\n",
       "        vertical-align: top;\n",
       "    }\n",
       "\n",
       "    .dataframe thead th {\n",
       "        text-align: right;\n",
       "    }\n",
       "</style>\n",
       "<table border=\"1\" class=\"dataframe\">\n",
       "  <thead>\n",
       "    <tr style=\"text-align: right;\">\n",
       "      <th></th>\n",
       "      <th>type</th>\n",
       "      <th>Porcentaje de nulos</th>\n",
       "      <th>Nulos</th>\n",
       "      <th>Valores distintos</th>\n",
       "      <th>Ejemplos</th>\n",
       "    </tr>\n",
       "  </thead>\n",
       "  <tbody>\n",
       "    <tr>\n",
       "      <th>property_type</th>\n",
       "      <td>object</td>\n",
       "      <td>0.00</td>\n",
       "      <td>0</td>\n",
       "      <td>4</td>\n",
       "      <td>[PH, apartment, house, store]</td>\n",
       "    </tr>\n",
       "    <tr>\n",
       "      <th>place_name</th>\n",
       "      <td>object</td>\n",
       "      <td>0.00</td>\n",
       "      <td>23</td>\n",
       "      <td>1061</td>\n",
       "      <td>[Mataderos, La Plata, Liniers, Centro, Gualegu...</td>\n",
       "    </tr>\n",
       "    <tr>\n",
       "      <th>state_name</th>\n",
       "      <td>object</td>\n",
       "      <td>0.00</td>\n",
       "      <td>0</td>\n",
       "      <td>28</td>\n",
       "      <td>[Capital Federal, Bs.As. G.B.A. Zona Sur, Buen...</td>\n",
       "    </tr>\n",
       "    <tr>\n",
       "      <th>place_with_parent_names</th>\n",
       "      <td>object</td>\n",
       "      <td>0.00</td>\n",
       "      <td>0</td>\n",
       "      <td>1164</td>\n",
       "      <td>[|Argentina|Capital Federal|Mataderos|, |Argen...</td>\n",
       "    </tr>\n",
       "    <tr>\n",
       "      <th>price</th>\n",
       "      <td>float64</td>\n",
       "      <td>0.17</td>\n",
       "      <td>20410</td>\n",
       "      <td>9747</td>\n",
       "      <td>[62000.0, 150000.0, 72000.0, 95000.0, 64000.0,...</td>\n",
       "    </tr>\n",
       "    <tr>\n",
       "      <th>currency</th>\n",
       "      <td>object</td>\n",
       "      <td>0.17</td>\n",
       "      <td>20411</td>\n",
       "      <td>5</td>\n",
       "      <td>[USD, nan, ARS, PEN, UYU]</td>\n",
       "    </tr>\n",
       "    <tr>\n",
       "      <th>price_aprox_local_currency</th>\n",
       "      <td>float64</td>\n",
       "      <td>0.17</td>\n",
       "      <td>20410</td>\n",
       "      <td>10365</td>\n",
       "      <td>[1093959.0, 2646675.0, 1270404.0, 1676227.5, 1...</td>\n",
       "    </tr>\n",
       "    <tr>\n",
       "      <th>price_aprox_usd</th>\n",
       "      <td>float64</td>\n",
       "      <td>0.17</td>\n",
       "      <td>20410</td>\n",
       "      <td>10365</td>\n",
       "      <td>[62000.0, 150000.0, 72000.0, 95000.0, 64000.0,...</td>\n",
       "    </tr>\n",
       "    <tr>\n",
       "      <th>surface_total_in_m2</th>\n",
       "      <td>float64</td>\n",
       "      <td>0.32</td>\n",
       "      <td>39328</td>\n",
       "      <td>1688</td>\n",
       "      <td>[55.0, nan, 35.0, 53.0, 106.0, 45.0, 65.0, 151...</td>\n",
       "    </tr>\n",
       "    <tr>\n",
       "      <th>surface_covered_in_m2</th>\n",
       "      <td>float64</td>\n",
       "      <td>0.16</td>\n",
       "      <td>19907</td>\n",
       "      <td>996</td>\n",
       "      <td>[40.0, nan, 55.0, 35.0, 78.0, 60.0, 36.0, 30.0...</td>\n",
       "    </tr>\n",
       "    <tr>\n",
       "      <th>price_usd_per_m2</th>\n",
       "      <td>float64</td>\n",
       "      <td>0.43</td>\n",
       "      <td>52603</td>\n",
       "      <td>25568</td>\n",
       "      <td>[1127.2727272727273, nan, 1309.090909090909, 1...</td>\n",
       "    </tr>\n",
       "    <tr>\n",
       "      <th>rooms</th>\n",
       "      <td>float64</td>\n",
       "      <td>0.61</td>\n",
       "      <td>73830</td>\n",
       "      <td>32</td>\n",
       "      <td>[nan, 1.0, 4.0, 3.0, 2.0, 6.0, 5.0, 10.0, 7.0,...</td>\n",
       "    </tr>\n",
       "    <tr>\n",
       "      <th>expenses</th>\n",
       "      <td>float64</td>\n",
       "      <td>0.88</td>\n",
       "      <td>106958</td>\n",
       "      <td>983</td>\n",
       "      <td>[nan, 1200.0, 800.0, 1577.0, 1800.0, 1000.0, 1...</td>\n",
       "    </tr>\n",
       "    <tr>\n",
       "      <th>description</th>\n",
       "      <td>object</td>\n",
       "      <td>0.00</td>\n",
       "      <td>2</td>\n",
       "      <td>104056</td>\n",
       "      <td>[2 AMBIENTES TIPO CASA PLANTA BAJA POR PASILLO...</td>\n",
       "    </tr>\n",
       "    <tr>\n",
       "      <th>title</th>\n",
       "      <td>object</td>\n",
       "      <td>0.00</td>\n",
       "      <td>0</td>\n",
       "      <td>72705</td>\n",
       "      <td>[2 AMB TIPO CASA SIN EXPENSAS EN PB, VENTA Dep...</td>\n",
       "    </tr>\n",
       "  </tbody>\n",
       "</table>\n",
       "</div>"
      ],
      "text/plain": [
       "                               type  Porcentaje de nulos   Nulos  \\\n",
       "property_type                object                 0.00       0   \n",
       "place_name                   object                 0.00      23   \n",
       "state_name                   object                 0.00       0   \n",
       "place_with_parent_names      object                 0.00       0   \n",
       "price                       float64                 0.17   20410   \n",
       "currency                     object                 0.17   20411   \n",
       "price_aprox_local_currency  float64                 0.17   20410   \n",
       "price_aprox_usd             float64                 0.17   20410   \n",
       "surface_total_in_m2         float64                 0.32   39328   \n",
       "surface_covered_in_m2       float64                 0.16   19907   \n",
       "price_usd_per_m2            float64                 0.43   52603   \n",
       "rooms                       float64                 0.61   73830   \n",
       "expenses                    float64                 0.88  106958   \n",
       "description                  object                 0.00       2   \n",
       "title                        object                 0.00       0   \n",
       "\n",
       "                            Valores distintos  \\\n",
       "property_type                               4   \n",
       "place_name                               1061   \n",
       "state_name                                 28   \n",
       "place_with_parent_names                  1164   \n",
       "price                                    9747   \n",
       "currency                                    5   \n",
       "price_aprox_local_currency              10365   \n",
       "price_aprox_usd                         10365   \n",
       "surface_total_in_m2                      1688   \n",
       "surface_covered_in_m2                     996   \n",
       "price_usd_per_m2                        25568   \n",
       "rooms                                      32   \n",
       "expenses                                  983   \n",
       "description                            104056   \n",
       "title                                   72705   \n",
       "\n",
       "                                                                     Ejemplos  \n",
       "property_type                                   [PH, apartment, house, store]  \n",
       "place_name                  [Mataderos, La Plata, Liniers, Centro, Gualegu...  \n",
       "state_name                  [Capital Federal, Bs.As. G.B.A. Zona Sur, Buen...  \n",
       "place_with_parent_names     [|Argentina|Capital Federal|Mataderos|, |Argen...  \n",
       "price                       [62000.0, 150000.0, 72000.0, 95000.0, 64000.0,...  \n",
       "currency                                            [USD, nan, ARS, PEN, UYU]  \n",
       "price_aprox_local_currency  [1093959.0, 2646675.0, 1270404.0, 1676227.5, 1...  \n",
       "price_aprox_usd             [62000.0, 150000.0, 72000.0, 95000.0, 64000.0,...  \n",
       "surface_total_in_m2         [55.0, nan, 35.0, 53.0, 106.0, 45.0, 65.0, 151...  \n",
       "surface_covered_in_m2       [40.0, nan, 55.0, 35.0, 78.0, 60.0, 36.0, 30.0...  \n",
       "price_usd_per_m2            [1127.2727272727273, nan, 1309.090909090909, 1...  \n",
       "rooms                       [nan, 1.0, 4.0, 3.0, 2.0, 6.0, 5.0, 10.0, 7.0,...  \n",
       "expenses                    [nan, 1200.0, 800.0, 1577.0, 1800.0, 1000.0, 1...  \n",
       "description                 [2 AMBIENTES TIPO CASA PLANTA BAJA POR PASILLO...  \n",
       "title                       [2 AMB TIPO CASA SIN EXPENSAS EN PB, VENTA Dep...  "
      ]
     },
     "execution_count": 5,
     "metadata": {},
     "output_type": "execute_result"
    }
   ],
   "source": [
    "columnasUtiles=   ['property_type','place_name','state_name', 'place_with_parent_names', 'price', 'currency','price_aprox_local_currency',\n",
    "                   'price_aprox_usd','surface_total_in_m2','surface_covered_in_m2','price_usd_per_m2',\n",
    "                   'rooms', 'expenses','description','title']\n",
    "data_describe_utiles = data_describe.loc[columnasUtiles,:]\n",
    "data_describe_utiles"
   ]
  },
  {
   "cell_type": "markdown",
   "metadata": {},
   "source": [
    "---\n",
    "---"
   ]
  },
  {
   "cell_type": "markdown",
   "metadata": {},
   "source": [
    "<b><a id='section_2'><h4>2. Data wrangling</h4></a></b>\n",
    "<a href='#section_2_1'>2.1. Columna 'property_type'</a>  \n",
    "<a href='#section_2_2'>2.2. Columnas 'country_name', 'state_name', 'place_name' y'place_with_parent_names'</a>  \n",
    "<a href='#section_2_3'>2.3. Columnas 'price','currency','price_aprox_local_currency' y 'price_aprox_usd' </a>  \n",
    "<a href='#section_2_4'>2.4. Columna 'rooms'</a>  \n",
    "<a href='#section_2_5'>2.5. Columna 'floor'</a>  \n",
    "<a href='#section_2_6'>2.6. Columnas 'surface_total_in_m2' y 'surface_covered_in_m2'</a>  \n",
    "<a href='#section_2_7'>2.7. Columna 'price_usd_per_m2'</a>  "
   ]
  },
  {
   "cell_type": "code",
   "execution_count": 6,
   "metadata": {},
   "outputs": [],
   "source": [
    "data['description_lower'] = data['description'].str.lower()\n",
    "data['title_lower'] = data['title'].str.lower()"
   ]
  },
  {
   "cell_type": "markdown",
   "metadata": {},
   "source": [
    "<b><a id='section_2_1'>2.1. Columna 'property_type'</a></b>"
   ]
  },
  {
   "cell_type": "markdown",
   "metadata": {},
   "source": [
    "Análisis de valores y nulos"
   ]
  },
  {
   "cell_type": "code",
   "execution_count": 7,
   "metadata": {},
   "outputs": [
    {
     "data": {
      "text/html": [
       "<div>\n",
       "<style scoped>\n",
       "    .dataframe tbody tr th:only-of-type {\n",
       "        vertical-align: middle;\n",
       "    }\n",
       "\n",
       "    .dataframe tbody tr th {\n",
       "        vertical-align: top;\n",
       "    }\n",
       "\n",
       "    .dataframe thead th {\n",
       "        text-align: right;\n",
       "    }\n",
       "</style>\n",
       "<table border=\"1\" class=\"dataframe\">\n",
       "  <thead>\n",
       "    <tr style=\"text-align: right;\">\n",
       "      <th></th>\n",
       "      <th>type</th>\n",
       "      <th>Porcentaje de nulos</th>\n",
       "      <th>Nulos</th>\n",
       "      <th>Valores distintos</th>\n",
       "      <th>Ejemplos</th>\n",
       "    </tr>\n",
       "  </thead>\n",
       "  <tbody>\n",
       "    <tr>\n",
       "      <th>property_type</th>\n",
       "      <td>object</td>\n",
       "      <td>0.0</td>\n",
       "      <td>0</td>\n",
       "      <td>4</td>\n",
       "      <td>[PH, apartment, house, store]</td>\n",
       "    </tr>\n",
       "  </tbody>\n",
       "</table>\n",
       "</div>"
      ],
      "text/plain": [
       "                 type  Porcentaje de nulos  Nulos  Valores distintos  \\\n",
       "property_type  object                  0.0      0                  4   \n",
       "\n",
       "                                    Ejemplos  \n",
       "property_type  [PH, apartment, house, store]  "
      ]
     },
     "execution_count": 7,
     "metadata": {},
     "output_type": "execute_result"
    }
   ],
   "source": [
    "data_describe.loc[data_describe.index.isin(['property_type']),:]"
   ]
  },
  {
   "cell_type": "markdown",
   "metadata": {},
   "source": [
    "Visualización"
   ]
  },
  {
   "cell_type": "markdown",
   "metadata": {},
   "source": [
    "--------------\n",
    "## Comentario\n",
    "Si bien está perfecta la premisa de mostrar la relación de la frecuencia de observaciones según tipo, en general no es recomendado usar gráficos de torta. Les dejo una nota al respecto <a href=\"https://www.geckoboard.com/blog/pie-charts/#:~:text=The%20basic%20premise%20is%20that,reading%20accurate%20values%20is%20difficult.\">acá</a>. Fuera de eso, está bien construido.\n",
    "\n",
    "Recomiendo mostrar un `barplot` con una barra para cada tipo, o una única barra con los datos apilados por color representando cada tipo de inmueble.\n",
    "Otra buena visualización para este caso, es usar un `distplot` de tipo _kernel density_ diferenciando cada población con un color, pero está bien que no lo hayan utilizado porque en este momento los datos tienen outliers.\n",
    "\n",
    "--------------"
   ]
  },
  {
   "cell_type": "code",
   "execution_count": 8,
   "metadata": {},
   "outputs": [
    {
     "name": "stdout",
     "output_type": "stream",
     "text": [
      "\n"
     ]
    },
    {
     "data": {
      "image/png": "[encoded data removed]",
      "text/plain": [
       "<Figure size 504x504 with 1 Axes>"
      ]
     },
     "metadata": {},
     "output_type": "display_data"
    }
   ],
   "source": [
    "f, ax = plt.subplots()\n",
    "f.set_figwidth(7)\n",
    "f.set_figheight(7)\n",
    "plt.pie(data['property_type'].value_counts(), autopct='%1.0f%%', pctdistance=0.8)\n",
    "plt.title(\"Distribución de propiedades según tipo\",fontsize=15)\n",
    "plt.legend(labels=data['property_type'].value_counts().index)\n",
    "print()"
   ]
  },
  {
   "cell_type": "markdown",
   "metadata": {},
   "source": [
    "---\n",
    "<b><a id='section_2_1'>2.2. Columnas 'country_name', 'state_name', 'place_name' y'place_with_parent_names'</a></b>"
   ]
  },
  {
   "cell_type": "markdown",
   "metadata": {},
   "source": [
    "Análisis de valores y nulos"
   ]
  },
  {
   "cell_type": "code",
   "execution_count": 9,
   "metadata": {},
   "outputs": [
    {
     "data": {
      "text/html": [
       "<div>\n",
       "<style scoped>\n",
       "    .dataframe tbody tr th:only-of-type {\n",
       "        vertical-align: middle;\n",
       "    }\n",
       "\n",
       "    .dataframe tbody tr th {\n",
       "        vertical-align: top;\n",
       "    }\n",
       "\n",
       "    .dataframe thead th {\n",
       "        text-align: right;\n",
       "    }\n",
       "</style>\n",
       "<table border=\"1\" class=\"dataframe\">\n",
       "  <thead>\n",
       "    <tr style=\"text-align: right;\">\n",
       "      <th></th>\n",
       "      <th>type</th>\n",
       "      <th>Porcentaje de nulos</th>\n",
       "      <th>Nulos</th>\n",
       "      <th>Valores distintos</th>\n",
       "      <th>Ejemplos</th>\n",
       "    </tr>\n",
       "  </thead>\n",
       "  <tbody>\n",
       "    <tr>\n",
       "      <th>place_name</th>\n",
       "      <td>object</td>\n",
       "      <td>0.0</td>\n",
       "      <td>23</td>\n",
       "      <td>1061</td>\n",
       "      <td>[Mataderos, La Plata, Liniers, Centro, Gualegu...</td>\n",
       "    </tr>\n",
       "    <tr>\n",
       "      <th>place_with_parent_names</th>\n",
       "      <td>object</td>\n",
       "      <td>0.0</td>\n",
       "      <td>0</td>\n",
       "      <td>1164</td>\n",
       "      <td>[|Argentina|Capital Federal|Mataderos|, |Argen...</td>\n",
       "    </tr>\n",
       "    <tr>\n",
       "      <th>country_name</th>\n",
       "      <td>object</td>\n",
       "      <td>0.0</td>\n",
       "      <td>0</td>\n",
       "      <td>1</td>\n",
       "      <td>[Argentina]</td>\n",
       "    </tr>\n",
       "    <tr>\n",
       "      <th>state_name</th>\n",
       "      <td>object</td>\n",
       "      <td>0.0</td>\n",
       "      <td>0</td>\n",
       "      <td>28</td>\n",
       "      <td>[Capital Federal, Bs.As. G.B.A. Zona Sur, Buen...</td>\n",
       "    </tr>\n",
       "  </tbody>\n",
       "</table>\n",
       "</div>"
      ],
      "text/plain": [
       "                           type  Porcentaje de nulos  Nulos  \\\n",
       "place_name               object                  0.0     23   \n",
       "place_with_parent_names  object                  0.0      0   \n",
       "country_name             object                  0.0      0   \n",
       "state_name               object                  0.0      0   \n",
       "\n",
       "                         Valores distintos  \\\n",
       "place_name                            1061   \n",
       "place_with_parent_names               1164   \n",
       "country_name                             1   \n",
       "state_name                              28   \n",
       "\n",
       "                                                                  Ejemplos  \n",
       "place_name               [Mataderos, La Plata, Liniers, Centro, Gualegu...  \n",
       "place_with_parent_names  [|Argentina|Capital Federal|Mataderos|, |Argen...  \n",
       "country_name                                                   [Argentina]  \n",
       "state_name               [Capital Federal, Bs.As. G.B.A. Zona Sur, Buen...  "
      ]
     },
     "execution_count": 9,
     "metadata": {},
     "output_type": "execute_result"
    }
   ],
   "source": [
    "data_describe.loc[data_describe.index.isin(['country_name', 'state_name', 'place_name','place_with_parent_names']),:]"
   ]
  },
  {
   "cell_type": "markdown",
   "metadata": {},
   "source": [
    "Dividimos la columna 'place_with_parent_names' y analizamos su contenido.\n"
   ]
  },
  {
   "cell_type": "markdown",
   "metadata": {},
   "source": [
    "--------------\n",
    "## Comentario\n",
    "\n",
    "Los loops de python son mucho más lentos que las operaciones vectorizadas de pandas o numpy, ya que estas se ejecutan directamente en C (o C++, no recuerdo). Por otra parte, trante de ser lo más expresivos posibles en los nombres de las funciones o de las variables. Por ejemplo, no entiendo por que hay un `-2` en la línea `total_place = data['place_with_parent_names_clean'].apply(lambda x: len(x.split('|'))-2)`.\n",
    "\n",
    "El resultado final está bien, pero les recomiendo ejecutar:\n",
    "```python\n",
    "data['place_with_parent_names_clean'] = data['place_with_parent_names']\n",
    "\n",
    "clean_place = data['place_with_parent_names_clean'].apply(lambda row: row.split('|'))   # esto devuelve una serie con listas dentro de cada row.\n",
    "\n",
    "clean_place = clean_place.apply(pd.Series)  # esto devuelve un dataframe con la cantidad de columnas necesarias.\n",
    "\n",
    "clean_place.columns = ['nombre', 'representativo', 'de', 'valores', 'en', 'columnas'] \n",
    "\n",
    "# alternativamente pueden hacer algo como:\n",
    "clean_place.columns = [f'place{i}' for i, value in enumerate(clean_place.columns)]\n",
    "\n",
    "data = data.join(clean_place)\n",
    "\n",
    "```\n",
    "\n",
    "--------------"
   ]
  },
  {
   "cell_type": "code",
   "execution_count": 10,
   "metadata": {},
   "outputs": [],
   "source": [
    "data['place_with_parent_names_clean'] = data['place_with_parent_names']\n",
    "\n",
    "total_place = data['place_with_parent_names_clean'].apply(lambda x: len(x.split('|'))-2)\n",
    "dic_ret = dict()\n",
    "for i in range(total_place.max()):\n",
    "    dic_ret['place_'+ str(i)] = ([None] * total_place.shape[0])"
   ]
  },
  {
   "cell_type": "code",
   "execution_count": 11,
   "metadata": {},
   "outputs": [],
   "source": [
    "for row in data['place_with_parent_names_clean'].index:\n",
    "    i=0;\n",
    "    list_places = data['place_with_parent_names_clean'].loc[row].split('|')\n",
    "    for x in list_places:\n",
    "        if len(x)>0:\n",
    "            colname='place_' + str(i)\n",
    "            dic_ret[colname][row] = x\n",
    "            i+=1"
   ]
  },
  {
   "cell_type": "code",
   "execution_count": 12,
   "metadata": {},
   "outputs": [],
   "source": [
    "new_columns = pd.DataFrame(dic_ret)\n",
    "data = data.join(new_columns)"
   ]
  },
  {
   "cell_type": "code",
   "execution_count": 13,
   "metadata": {},
   "outputs": [
    {
     "data": {
      "text/html": [
       "<div>\n",
       "<style scoped>\n",
       "    .dataframe tbody tr th:only-of-type {\n",
       "        vertical-align: middle;\n",
       "    }\n",
       "\n",
       "    .dataframe tbody tr th {\n",
       "        vertical-align: top;\n",
       "    }\n",
       "\n",
       "    .dataframe thead th {\n",
       "        text-align: right;\n",
       "    }\n",
       "</style>\n",
       "<table border=\"1\" class=\"dataframe\">\n",
       "  <thead>\n",
       "    <tr style=\"text-align: right;\">\n",
       "      <th></th>\n",
       "      <th>country_name</th>\n",
       "      <th>state_name</th>\n",
       "      <th>place_name</th>\n",
       "      <th>place_0</th>\n",
       "      <th>place_1</th>\n",
       "      <th>place_2</th>\n",
       "      <th>place_3</th>\n",
       "      <th>place_4</th>\n",
       "    </tr>\n",
       "  </thead>\n",
       "  <tbody>\n",
       "    <tr>\n",
       "      <th>17212</th>\n",
       "      <td>Argentina</td>\n",
       "      <td>Buenos Aires Costa Atlántica</td>\n",
       "      <td>San Bernardo</td>\n",
       "      <td>Argentina</td>\n",
       "      <td>Buenos Aires Costa Atlántica</td>\n",
       "      <td>San Bernardo</td>\n",
       "      <td>None</td>\n",
       "      <td>None</td>\n",
       "    </tr>\n",
       "    <tr>\n",
       "      <th>72201</th>\n",
       "      <td>Argentina</td>\n",
       "      <td>Capital Federal</td>\n",
       "      <td>Villa Real</td>\n",
       "      <td>Argentina</td>\n",
       "      <td>Capital Federal</td>\n",
       "      <td>Villa Real</td>\n",
       "      <td>None</td>\n",
       "      <td>None</td>\n",
       "    </tr>\n",
       "    <tr>\n",
       "      <th>37431</th>\n",
       "      <td>Argentina</td>\n",
       "      <td>Bs.As. G.B.A. Zona Norte</td>\n",
       "      <td>Pilar</td>\n",
       "      <td>Argentina</td>\n",
       "      <td>Bs.As. G.B.A. Zona Norte</td>\n",
       "      <td>Pilar</td>\n",
       "      <td>None</td>\n",
       "      <td>None</td>\n",
       "    </tr>\n",
       "    <tr>\n",
       "      <th>105599</th>\n",
       "      <td>Argentina</td>\n",
       "      <td>Santa Fe</td>\n",
       "      <td>Rosario</td>\n",
       "      <td>Argentina</td>\n",
       "      <td>Santa Fe</td>\n",
       "      <td>Rosario</td>\n",
       "      <td>None</td>\n",
       "      <td>None</td>\n",
       "    </tr>\n",
       "    <tr>\n",
       "      <th>16641</th>\n",
       "      <td>Argentina</td>\n",
       "      <td>Buenos Aires Costa Atlántica</td>\n",
       "      <td>Mar del Plata</td>\n",
       "      <td>Argentina</td>\n",
       "      <td>Buenos Aires Costa Atlántica</td>\n",
       "      <td>Mar del Plata</td>\n",
       "      <td>None</td>\n",
       "      <td>None</td>\n",
       "    </tr>\n",
       "    <tr>\n",
       "      <th>87031</th>\n",
       "      <td>Argentina</td>\n",
       "      <td>Capital Federal</td>\n",
       "      <td>Palermo Hollywood</td>\n",
       "      <td>Argentina</td>\n",
       "      <td>Capital Federal</td>\n",
       "      <td>Palermo</td>\n",
       "      <td>Palermo Hollywood</td>\n",
       "      <td>None</td>\n",
       "    </tr>\n",
       "    <tr>\n",
       "      <th>45871</th>\n",
       "      <td>Argentina</td>\n",
       "      <td>Buenos Aires Costa Atlántica</td>\n",
       "      <td>Mar del Plata</td>\n",
       "      <td>Argentina</td>\n",
       "      <td>Buenos Aires Costa Atlántica</td>\n",
       "      <td>Mar del Plata</td>\n",
       "      <td>None</td>\n",
       "      <td>None</td>\n",
       "    </tr>\n",
       "    <tr>\n",
       "      <th>6607</th>\n",
       "      <td>Argentina</td>\n",
       "      <td>Capital Federal</td>\n",
       "      <td>Belgrano</td>\n",
       "      <td>Argentina</td>\n",
       "      <td>Capital Federal</td>\n",
       "      <td>Belgrano</td>\n",
       "      <td>None</td>\n",
       "      <td>None</td>\n",
       "    </tr>\n",
       "    <tr>\n",
       "      <th>57499</th>\n",
       "      <td>Argentina</td>\n",
       "      <td>Capital Federal</td>\n",
       "      <td>Villa Urquiza</td>\n",
       "      <td>Argentina</td>\n",
       "      <td>Capital Federal</td>\n",
       "      <td>Villa Urquiza</td>\n",
       "      <td>None</td>\n",
       "      <td>None</td>\n",
       "    </tr>\n",
       "    <tr>\n",
       "      <th>19512</th>\n",
       "      <td>Argentina</td>\n",
       "      <td>Bs.As. G.B.A. Zona Oeste</td>\n",
       "      <td>Sáenz Peña</td>\n",
       "      <td>Argentina</td>\n",
       "      <td>Bs.As. G.B.A. Zona Oeste</td>\n",
       "      <td>Tres de Febrero</td>\n",
       "      <td>Sáenz Peña</td>\n",
       "      <td>None</td>\n",
       "    </tr>\n",
       "  </tbody>\n",
       "</table>\n",
       "</div>"
      ],
      "text/plain": [
       "       country_name                    state_name         place_name  \\\n",
       "17212     Argentina  Buenos Aires Costa Atlántica       San Bernardo   \n",
       "72201     Argentina               Capital Federal         Villa Real   \n",
       "37431     Argentina      Bs.As. G.B.A. Zona Norte              Pilar   \n",
       "105599    Argentina                      Santa Fe            Rosario   \n",
       "16641     Argentina  Buenos Aires Costa Atlántica      Mar del Plata   \n",
       "87031     Argentina               Capital Federal  Palermo Hollywood   \n",
       "45871     Argentina  Buenos Aires Costa Atlántica      Mar del Plata   \n",
       "6607      Argentina               Capital Federal           Belgrano   \n",
       "57499     Argentina               Capital Federal      Villa Urquiza   \n",
       "19512     Argentina      Bs.As. G.B.A. Zona Oeste         Sáenz Peña   \n",
       "\n",
       "          place_0                       place_1          place_2  \\\n",
       "17212   Argentina  Buenos Aires Costa Atlántica     San Bernardo   \n",
       "72201   Argentina               Capital Federal       Villa Real   \n",
       "37431   Argentina      Bs.As. G.B.A. Zona Norte            Pilar   \n",
       "105599  Argentina                      Santa Fe          Rosario   \n",
       "16641   Argentina  Buenos Aires Costa Atlántica    Mar del Plata   \n",
       "87031   Argentina               Capital Federal          Palermo   \n",
       "45871   Argentina  Buenos Aires Costa Atlántica    Mar del Plata   \n",
       "6607    Argentina               Capital Federal         Belgrano   \n",
       "57499   Argentina               Capital Federal    Villa Urquiza   \n",
       "19512   Argentina      Bs.As. G.B.A. Zona Oeste  Tres de Febrero   \n",
       "\n",
       "                  place_3 place_4  \n",
       "17212                None    None  \n",
       "72201                None    None  \n",
       "37431                None    None  \n",
       "105599               None    None  \n",
       "16641                None    None  \n",
       "87031   Palermo Hollywood    None  \n",
       "45871                None    None  \n",
       "6607                 None    None  \n",
       "57499                None    None  \n",
       "19512          Sáenz Peña    None  "
      ]
     },
     "execution_count": 13,
     "metadata": {},
     "output_type": "execute_result"
    }
   ],
   "source": [
    "data[['country_name','state_name','place_name','place_0','place_1','place_2','place_3','place_4']].sample(10)"
   ]
  },
  {
   "cell_type": "markdown",
   "metadata": {},
   "source": [
    "La columna place_with_parent_names contiene la misma información que las columnas 'country_name', 'state_name' y 'place_name' e incluye información adicional.  \n",
    "Se opta por utilizar la información proveniente de 'place_with_parent_name' y <u>se generan las variables 'provincia','ciudad','departamento' y'barrio'</u>"
   ]
  },
  {
   "cell_type": "code",
   "execution_count": 14,
   "metadata": {},
   "outputs": [],
   "source": [
    "data[['provincia','ciudad','departamento','barrio']] = data[['place_1','place_2','place_3','place_4']]"
   ]
  },
  {
   "cell_type": "markdown",
   "metadata": {},
   "source": [
    "Visualización"
   ]
  },
  {
   "cell_type": "code",
   "execution_count": 15,
   "metadata": {},
   "outputs": [
    {
     "data": {
      "image/png": "[encoded data removed]",
      "text/plain": [
       "<Figure size 1080x864 with 1 Axes>"
      ]
     },
     "metadata": {
      "needs_background": "light"
     },
     "output_type": "display_data"
    }
   ],
   "source": [
    "patternBsAs = re.compile(\"Buenos Aires\\s*\")\n",
    "data['provincia'] = data['provincia'].apply(lambda x: patternBsAs.sub('Bs.As. ', x))\n",
    "\n",
    "f, ax = plt.subplots()\n",
    "f.set_figwidth(15)\n",
    "f.set_figheight(12)\n",
    "sns.barplot((data['provincia'].value_counts()/data['provincia'].shape[0])*100,data['provincia'].unique(), ax=ax , color = \"#009966\", orient=\"h\")\n",
    "plt.title(\"Distribución de propiedades según provincia\\n\\n\",fontsize=15)\n",
    "plt.xlabel(\"Porcentaje\",fontsize=11)\n",
    "ax.xaxis.set_label_position('top') \n",
    "plt.ylabel(\"Provincia\",fontsize=11)\n",
    "ax.xaxis.tick_top()"
   ]
  },
  {
   "cell_type": "markdown",
   "metadata": {},
   "source": [
    "---\n",
    "<b><a id='section_2_3'>2.3. Columnas 'price','currency','price_aprox_local_currency' y 'price_aprox_usd' </a>  </b>"
   ]
  },
  {
   "cell_type": "markdown",
   "metadata": {},
   "source": [
    "Análisis de valores y nulos"
   ]
  },
  {
   "cell_type": "code",
   "execution_count": 16,
   "metadata": {},
   "outputs": [
    {
     "data": {
      "text/html": [
       "<div>\n",
       "<style scoped>\n",
       "    .dataframe tbody tr th:only-of-type {\n",
       "        vertical-align: middle;\n",
       "    }\n",
       "\n",
       "    .dataframe tbody tr th {\n",
       "        vertical-align: top;\n",
       "    }\n",
       "\n",
       "    .dataframe thead th {\n",
       "        text-align: right;\n",
       "    }\n",
       "</style>\n",
       "<table border=\"1\" class=\"dataframe\">\n",
       "  <thead>\n",
       "    <tr style=\"text-align: right;\">\n",
       "      <th></th>\n",
       "      <th>type</th>\n",
       "      <th>Porcentaje de nulos</th>\n",
       "      <th>Nulos</th>\n",
       "      <th>Valores distintos</th>\n",
       "      <th>Ejemplos</th>\n",
       "    </tr>\n",
       "  </thead>\n",
       "  <tbody>\n",
       "    <tr>\n",
       "      <th>price</th>\n",
       "      <td>float64</td>\n",
       "      <td>0.17</td>\n",
       "      <td>20410</td>\n",
       "      <td>9747</td>\n",
       "      <td>[62000.0, 150000.0, 72000.0, 95000.0, 64000.0,...</td>\n",
       "    </tr>\n",
       "    <tr>\n",
       "      <th>currency</th>\n",
       "      <td>object</td>\n",
       "      <td>0.17</td>\n",
       "      <td>20411</td>\n",
       "      <td>5</td>\n",
       "      <td>[USD, nan, ARS, PEN, UYU]</td>\n",
       "    </tr>\n",
       "    <tr>\n",
       "      <th>price_aprox_local_currency</th>\n",
       "      <td>float64</td>\n",
       "      <td>0.17</td>\n",
       "      <td>20410</td>\n",
       "      <td>10365</td>\n",
       "      <td>[1093959.0, 2646675.0, 1270404.0, 1676227.5, 1...</td>\n",
       "    </tr>\n",
       "    <tr>\n",
       "      <th>price_aprox_usd</th>\n",
       "      <td>float64</td>\n",
       "      <td>0.17</td>\n",
       "      <td>20410</td>\n",
       "      <td>10365</td>\n",
       "      <td>[62000.0, 150000.0, 72000.0, 95000.0, 64000.0,...</td>\n",
       "    </tr>\n",
       "  </tbody>\n",
       "</table>\n",
       "</div>"
      ],
      "text/plain": [
       "                               type  Porcentaje de nulos  Nulos  \\\n",
       "price                       float64                 0.17  20410   \n",
       "currency                     object                 0.17  20411   \n",
       "price_aprox_local_currency  float64                 0.17  20410   \n",
       "price_aprox_usd             float64                 0.17  20410   \n",
       "\n",
       "                            Valores distintos  \\\n",
       "price                                    9747   \n",
       "currency                                    5   \n",
       "price_aprox_local_currency              10365   \n",
       "price_aprox_usd                         10365   \n",
       "\n",
       "                                                                     Ejemplos  \n",
       "price                       [62000.0, 150000.0, 72000.0, 95000.0, 64000.0,...  \n",
       "currency                                            [USD, nan, ARS, PEN, UYU]  \n",
       "price_aprox_local_currency  [1093959.0, 2646675.0, 1270404.0, 1676227.5, 1...  \n",
       "price_aprox_usd             [62000.0, 150000.0, 72000.0, 95000.0, 64000.0,...  "
      ]
     },
     "execution_count": 16,
     "metadata": {},
     "output_type": "execute_result"
    }
   ],
   "source": [
    "data_describe.loc[data_describe.index.isin(['price','currency','price_aprox_local_currency','price_aprox_usd']),:]"
   ]
  },
  {
   "cell_type": "markdown",
   "metadata": {},
   "source": [
    "--------------\n",
    "## Comentario\n",
    "La máscara está perfecta, pero esto es simplemente una cuestión de legibilidad:\n",
    "Cuando utilizan varias condiciones booleanas, no está de más generar variables para cada una para no tener líneas tan largas. Pueden encontrar cuestiones de formateo estándar en PEP 8. Lo mismo con utilziar lowerCamelCase (es sólo una costumbre de python no usarla, como sí lo es de javascript)."
   ]
  },
  {
   "cell_type": "code",
   "execution_count": 17,
   "metadata": {},
   "outputs": [
    {
     "name": "stdout",
     "output_type": "stream",
     "text": [
      "Cantidad de nulos que coinciden: 20410 de 20411\n"
     ]
    }
   ],
   "source": [
    "maskNull_priceAndCurrency = data['price'].isnull() & data['currency'].isnull() & data['price_aprox_local_currency'].isnull() & data['price_aprox_usd'].isnull()\n",
    "\n",
    "print(\"Cantidad de nulos que coinciden:\",maskNull_priceAndCurrency.value_counts()[True],\"de 20411\")"
   ]
  },
  {
   "cell_type": "code",
   "execution_count": 18,
   "metadata": {},
   "outputs": [
    {
     "data": {
      "text/html": [
       "<div>\n",
       "<style scoped>\n",
       "    .dataframe tbody tr th:only-of-type {\n",
       "        vertical-align: middle;\n",
       "    }\n",
       "\n",
       "    .dataframe tbody tr th {\n",
       "        vertical-align: top;\n",
       "    }\n",
       "\n",
       "    .dataframe thead th {\n",
       "        text-align: right;\n",
       "    }\n",
       "</style>\n",
       "<table border=\"1\" class=\"dataframe\">\n",
       "  <thead>\n",
       "    <tr style=\"text-align: right;\">\n",
       "      <th></th>\n",
       "      <th>price</th>\n",
       "      <th>currency</th>\n",
       "      <th>price_aprox_local_currency</th>\n",
       "      <th>price_aprox_usd</th>\n",
       "    </tr>\n",
       "  </thead>\n",
       "  <tbody>\n",
       "    <tr>\n",
       "      <th>9761</th>\n",
       "      <td>0.0</td>\n",
       "      <td>NaN</td>\n",
       "      <td>0.0</td>\n",
       "      <td>0.0</td>\n",
       "    </tr>\n",
       "  </tbody>\n",
       "</table>\n",
       "</div>"
      ],
      "text/plain": [
       "      price currency  price_aprox_local_currency  price_aprox_usd\n",
       "9761    0.0      NaN                         0.0              0.0"
      ]
     },
     "execution_count": 18,
     "metadata": {},
     "output_type": "execute_result"
    }
   ],
   "source": [
    "data.loc[data['currency'].isnull() & data['price'].notnull() ,['price','currency','price_aprox_local_currency','price_aprox_usd']]"
   ]
  },
  {
   "cell_type": "markdown",
   "metadata": {},
   "source": [
    "Detectamos que <u>los nulos de las columnas  'price','currency','price_aprox_local_currency' y 'price_aprox_usd' coinciden</u>  \n",
    "Existe un solo nulo adicional en la columna 'currency' en el cual el resto toma valor 0. Se decide reemplazar esos 0 por NaN"
   ]
  },
  {
   "cell_type": "code",
   "execution_count": 19,
   "metadata": {},
   "outputs": [],
   "source": [
    "data[['price_clean', 'price_aprox_local_currency_clean','price_aprox_usd_clean']]=data[['price','price_aprox_local_currency','price_aprox_usd']]"
   ]
  },
  {
   "cell_type": "code",
   "execution_count": 20,
   "metadata": {},
   "outputs": [
    {
     "data": {
      "text/plain": [
       "price_clean                         NaN\n",
       "currency                            NaN\n",
       "price_aprox_local_currency_clean    NaN\n",
       "price_aprox_usd_clean               NaN\n",
       "Name: 9761, dtype: object"
      ]
     },
     "execution_count": 20,
     "metadata": {},
     "output_type": "execute_result"
    }
   ],
   "source": [
    "data.loc[data['currency'].isnull(),['price_clean', 'price_aprox_local_currency_clean','price_aprox_usd_clean']] = np.NaN\n",
    "data.loc[9761,['price_clean', 'currency', 'price_aprox_local_currency_clean','price_aprox_usd_clean']]"
   ]
  },
  {
   "cell_type": "markdown",
   "metadata": {},
   "source": [
    "Para la propiedades que tienen 'price' expresado en USD, imputamos estos valores en la columna 'price_aprox_usd_clean'"
   ]
  },
  {
   "cell_type": "code",
   "execution_count": 21,
   "metadata": {},
   "outputs": [],
   "source": [
    "maskUSD = data['currency'] == \"USD\"\n",
    "data.loc[maskUSD, 'price_aprox_usd_clean'] = data.loc[maskUSD, 'price']"
   ]
  },
  {
   "cell_type": "markdown",
   "metadata": {},
   "source": [
    "Visualización"
   ]
  },
  {
   "cell_type": "code",
   "execution_count": 22,
   "metadata": {},
   "outputs": [
    {
     "data": {
      "text/plain": [
       "Text(0, 0.5, 'Porcentaje')"
      ]
     },
     "execution_count": 22,
     "metadata": {},
     "output_type": "execute_result"
    },
    {
     "data": {
      "image/png": "[encoded data removed]",
      "text/plain": [
       "<Figure size 1440x324 with 1 Axes>"
      ]
     },
     "metadata": {
      "needs_background": "light"
     },
     "output_type": "display_data"
    }
   ],
   "source": [
    "maskNotNull_price= data['price_aprox_usd_clean'].notnull()\n",
    "precioMaximo=data['price_aprox_usd_clean'].max()\n",
    "bins= [0,75000,150000,225000,300000,375000,450000, 525000, 600000, precioMaximo]\n",
    "\n",
    "dist = pd.cut(data.loc[maskNotNull_price, 'price_aprox_usd_clean'], bins) \n",
    "\n",
    "f, ax = plt.subplots()\n",
    "f.set_figwidth(20)\n",
    "f.set_figheight(4.5)\n",
    "sns.barplot(dist.unique(),(dist.value_counts()/data.loc[maskNotNull_price, 'price_aprox_usd_clean'].shape[0])*100,ax=ax , color = \"#009966\")\n",
    "plt.title(\"Distribución de propiedades según precio\",fontsize=15)\n",
    "plt.xlabel(\"Precio\",fontsize=11)\n",
    "plt.ylabel(\"Porcentaje\",fontsize=11)"
   ]
  },
  {
   "cell_type": "markdown",
   "metadata": {},
   "source": [
    "Análisis de outliers.   \n",
    "  \n",
    "Debido a la diferencias que pueden existir entre el tipo de propiedad, se calculan valores límites para determinar outliers según tipo de propiedad. Esta consideración es tenida en cuenta en todos los procesos de \"Análisis de outliers\""
   ]
  },
  {
   "cell_type": "code",
   "execution_count": 23,
   "metadata": {},
   "outputs": [
    {
     "data": {
      "text/html": [
       "<div>\n",
       "<style scoped>\n",
       "    .dataframe tbody tr th:only-of-type {\n",
       "        vertical-align: middle;\n",
       "    }\n",
       "\n",
       "    .dataframe tbody tr th {\n",
       "        vertical-align: top;\n",
       "    }\n",
       "\n",
       "    .dataframe thead th {\n",
       "        text-align: right;\n",
       "    }\n",
       "</style>\n",
       "<table border=\"1\" class=\"dataframe\">\n",
       "  <thead>\n",
       "    <tr style=\"text-align: right;\">\n",
       "      <th></th>\n",
       "      <th>outliers_price</th>\n",
       "    </tr>\n",
       "  </thead>\n",
       "  <tbody>\n",
       "    <tr>\n",
       "      <th>No es outlier</th>\n",
       "      <td>91.5</td>\n",
       "    </tr>\n",
       "    <tr>\n",
       "      <th>Outlier superior</th>\n",
       "      <td>8.5</td>\n",
       "    </tr>\n",
       "  </tbody>\n",
       "</table>\n",
       "</div>"
      ],
      "text/plain": [
       "                  outliers_price\n",
       "No es outlier               91.5\n",
       "Outlier superior             8.5"
      ]
     },
     "execution_count": 23,
     "metadata": {},
     "output_type": "execute_result"
    }
   ],
   "source": [
    "data['outliers_price'] = None\n",
    "for i in data['property_type'].unique():\n",
    "    rangoInterquartil_price= data.loc[data['property_type']==i,'price_aprox_usd_clean'].quantile(0.75) - data.loc[data['property_type']==i,'price_aprox_usd_clean'].quantile(0.25)\n",
    "    umbral_lower_price = data.loc[data['property_type']==i,'price_aprox_usd_clean'].quantile(0.25) - rangoInterquartil_price*1.5\n",
    "    umbral_upper_price = data.loc[data['property_type']==i,'price_aprox_usd_clean'].quantile(0.75) + rangoInterquartil_price*1.5\n",
    "\n",
    "\n",
    "    data.loc[maskNotNull_price & (data['property_type']==i), 'outliers_price']= data.loc[maskNotNull_price & (data['property_type']==i), 'price_aprox_usd_clean'].apply\\\n",
    "                                                                                    (lambda x: \"Outlier superior\" if x >umbral_upper_price else(\n",
    "                                                                                 \"Outlier inferior\" if x<umbral_lower_price else \n",
    "                                                                                 \"No es outlier\"))\n",
    "\n",
    "outliers_price = data['outliers_price']\n",
    "data = data.drop(columns = ['outliers_price'])\n",
    "pd.DataFrame(round((outliers_price.value_counts() / outliers_price[maskNotNull_price].shape[0])*100,1))"
   ]
  },
  {
   "cell_type": "markdown",
   "metadata": {},
   "source": [
    "--------------\n",
    "## Comentario\n",
    "Buen ojo en fijarse de quitar outliers por tipo de inmueble. Para el desafío, pueden incluir también alguna variable de ubicación como condición para hacerlo. Eso sí, si desean hacerlo, les aviso que va a ser un loop largo.\n",
    "Tengan en cuenta que pueden ir eliminando outliers por separado también. Por ejemplo, si eliminan precios sin evaluar el tipo de inmuebe ni el barrio, pueden eliminar los outliers de Catamarca y San Juan, ya que los valores que tienen esas provincias son ridículos. Después pueden entrar en detalle e ir eliminando con distintos criterios.\n",
    "\n",
    "--------------"
   ]
  },
  {
   "cell_type": "markdown",
   "metadata": {},
   "source": [
    "Solo existen outliers en la cola superior de la distribución. Se reemplaza a los outliers por nulos"
   ]
  },
  {
   "cell_type": "code",
   "execution_count": 24,
   "metadata": {},
   "outputs": [],
   "source": [
    "maskOutliers= outliers_price !=\"No es outlier\"\n",
    "data.loc[maskOutliers,'price_aprox_usd_clean'] = np.NaN"
   ]
  },
  {
   "cell_type": "markdown",
   "metadata": {},
   "source": [
    "Visualización sin outliers"
   ]
  },
  {
   "cell_type": "code",
   "execution_count": 25,
   "metadata": {},
   "outputs": [
    {
     "data": {
      "text/plain": [
       "Text(0, 0.5, 'Porcentaje')"
      ]
     },
     "execution_count": 25,
     "metadata": {},
     "output_type": "execute_result"
    },
    {
     "data": {
      "image/png": "[encoded data removed]",
      "text/plain": [
       "<Figure size 1440x324 with 1 Axes>"
      ]
     },
     "metadata": {
      "needs_background": "light"
     },
     "output_type": "display_data"
    }
   ],
   "source": [
    "maskNotNull_price= data['price_aprox_usd_clean'].notnull()\n",
    "precioMaximo=data['price_aprox_usd_clean'].max()\n",
    "bins= [0,75000,150000,225000,300000,375000,450000, precioMaximo]\n",
    "\n",
    "dist = pd.cut(data.loc[maskNotNull_price, 'price_aprox_usd_clean'], bins) \n",
    "\n",
    "f, ax = plt.subplots()\n",
    "f.set_figwidth(20)\n",
    "f.set_figheight(4.5)\n",
    "sns.barplot(dist.unique(),(dist.value_counts()/data.loc[maskNotNull_price, 'price_aprox_usd_clean'].shape[0])*100,ax=ax , color = \"#009966\")\n",
    "plt.title(\"Distribución de propiedades según precio (sin outliers)\",fontsize=15)\n",
    "plt.xlabel(\"Precio\",fontsize=11)\n",
    "plt.ylabel(\"Porcentaje\",fontsize=11)"
   ]
  },
  {
   "cell_type": "code",
   "execution_count": 26,
   "metadata": {},
   "outputs": [
    {
     "data": {
      "text/plain": [
       "Text(0, 0.5, 'Precio')"
      ]
     },
     "execution_count": 26,
     "metadata": {},
     "output_type": "execute_result"
    },
    {
     "data": {
      "image/png": "[encoded data removed]",
      "text/plain": [
       "<Figure size 864x504 with 1 Axes>"
      ]
     },
     "metadata": {
      "needs_background": "light"
     },
     "output_type": "display_data"
    }
   ],
   "source": [
    "maskNotNull_Rooms = data['price_aprox_usd_clean'].notnull()\n",
    "f, ax = plt.subplots()\n",
    "f.set_figwidth(12)\n",
    "f.set_figheight(7)\n",
    "sns.boxplot(x=data.loc[maskNotNull_Rooms,'property_type'],y=data.loc[maskNotNull_Rooms,'price_aprox_usd_clean'])\n",
    "plt.title(\"Precio según tipo de propiedad\",fontsize=15)\n",
    "plt.xlabel(\"Tipo de propiedad\",fontsize=11)\n",
    "plt.ylabel(\"Precio\",fontsize=11)"
   ]
  },
  {
   "cell_type": "markdown",
   "metadata": {},
   "source": [
    "---\n",
    "<b><a id='section_2_4'>2.4. Columna 'rooms'</a>  </b>"
   ]
  },
  {
   "cell_type": "code",
   "execution_count": 27,
   "metadata": {},
   "outputs": [],
   "source": [
    "data['rooms_clean'] = data['rooms']"
   ]
  },
  {
   "cell_type": "markdown",
   "metadata": {},
   "source": [
    "Análisis de nulos y valores"
   ]
  },
  {
   "cell_type": "code",
   "execution_count": 28,
   "metadata": {},
   "outputs": [
    {
     "data": {
      "text/html": [
       "<div>\n",
       "<style scoped>\n",
       "    .dataframe tbody tr th:only-of-type {\n",
       "        vertical-align: middle;\n",
       "    }\n",
       "\n",
       "    .dataframe tbody tr th {\n",
       "        vertical-align: top;\n",
       "    }\n",
       "\n",
       "    .dataframe thead th {\n",
       "        text-align: right;\n",
       "    }\n",
       "</style>\n",
       "<table border=\"1\" class=\"dataframe\">\n",
       "  <thead>\n",
       "    <tr style=\"text-align: right;\">\n",
       "      <th></th>\n",
       "      <th>type</th>\n",
       "      <th>Porcentaje de nulos</th>\n",
       "      <th>Nulos</th>\n",
       "      <th>Valores distintos</th>\n",
       "      <th>Ejemplos</th>\n",
       "    </tr>\n",
       "  </thead>\n",
       "  <tbody>\n",
       "    <tr>\n",
       "      <th>rooms</th>\n",
       "      <td>float64</td>\n",
       "      <td>0.61</td>\n",
       "      <td>73830</td>\n",
       "      <td>32</td>\n",
       "      <td>[nan, 1.0, 4.0, 3.0, 2.0, 6.0, 5.0, 10.0, 7.0,...</td>\n",
       "    </tr>\n",
       "  </tbody>\n",
       "</table>\n",
       "</div>"
      ],
      "text/plain": [
       "          type  Porcentaje de nulos  Nulos  Valores distintos  \\\n",
       "rooms  float64                 0.61  73830                 32   \n",
       "\n",
       "                                                Ejemplos  \n",
       "rooms  [nan, 1.0, 4.0, 3.0, 2.0, 6.0, 5.0, 10.0, 7.0,...  "
      ]
     },
     "execution_count": 28,
     "metadata": {},
     "output_type": "execute_result"
    }
   ],
   "source": [
    "data_describe.loc[data_describe.index.isin(['rooms']),:]"
   ]
  },
  {
   "cell_type": "markdown",
   "metadata": {},
   "source": [
    "Completamos los nulos de la columna 'rooms' con datos extraidos de la columna 'descripcion' y 'title'"
   ]
  },
  {
   "cell_type": "code",
   "execution_count": 29,
   "metadata": {},
   "outputs": [],
   "source": [
    "#Primer pattern\n",
    "regexAmbientes = re.compile('(?P<numero>\\d{1})\\s?(amb)')\n",
    "\n",
    "#Regex en la columna 'descripcion'\n",
    "MatchsAmbientes = data['description_lower'].apply(lambda x: x if x is np.NaN else regexAmbientes.search(x))\n",
    "maskRooms_NullsAndMatch = data['rooms'].isnull() & MatchsAmbientes.notnull()\n",
    "data.loc[maskRooms_NullsAndMatch, 'rooms_clean'] = MatchsAmbientes[maskRooms_NullsAndMatch].apply(lambda x: float(x.group(\"numero\")))\n",
    "#Regex en la columna 'title'\n",
    "MatchsAmbientes = data['title_lower'].apply(lambda x: x if x is np.NaN else regexAmbientes.search(x))\n",
    "maskRooms_NullsAndMatch = data['rooms_clean'].isnull() & MatchsAmbientes.notnull()\n",
    "data.loc[maskRooms_NullsAndMatch, 'rooms_clean'] = MatchsAmbientes[maskRooms_NullsAndMatch].apply(lambda x: float(x.group(\"numero\")))"
   ]
  },
  {
   "cell_type": "code",
   "execution_count": 30,
   "metadata": {},
   "outputs": [],
   "source": [
    "#Segundo pattern\n",
    "regexAmbientes2 = re.compile('(?P<numeroPalabra>uno|un|dos|tres|cuatro|cinco|seis|siete|ocho)\\s?(amb)')\n",
    "\n",
    "#Definimos una función para transformar el match obtenido en el search en un número\n",
    "def MatchToNumber(x):\n",
    "    numeroStr = x.group(\"numeroPalabra\")\n",
    "    dictAmbientes = {'un': 1, 'uno':1,'dos':2, 'tres':3, 'cuatro':4, 'cinco': 5, 'seis': 6, 'seís':6, 'siete': 7, 'ocho': 8}\n",
    "    resultado = dictAmbientes[numeroStr]\n",
    "    return resultado\n",
    "\n",
    "#Regex en la columna 'descripcion'\n",
    "MatchsAmbientes = data['description_lower'].apply(lambda x: x if x is np.NaN else regexAmbientes2.search(x))\n",
    "maskRooms_NullsAndMatch = data['rooms_clean'].isnull() & MatchsAmbientes.notnull()\n",
    "data.loc[maskRooms_NullsAndMatch, 'rooms_clean'] = MatchsAmbientes[maskRooms_NullsAndMatch].apply(MatchToNumber)\n",
    "\n",
    "#Regex en la columna 'title'\n",
    "MatchsAmbientes = data['title_lower'].apply(lambda x: x if x is np.NaN else regexAmbientes2.search(x))\n",
    "maskRooms_NullsAndMatch = data['rooms_clean'].isnull() & MatchsAmbientes.notnull()\n",
    "data.loc[maskRooms_NullsAndMatch, 'rooms_clean'] = MatchsAmbientes[maskRooms_NullsAndMatch].apply(MatchToNumber)"
   ]
  },
  {
   "cell_type": "code",
   "execution_count": 31,
   "metadata": {},
   "outputs": [],
   "source": [
    "#Tercer pattern\n",
    "regexAmbientes3 = re.compile('(?P<numero>\\d{1})\\s?(dorm|cuarto|hab)')\n",
    "#Debido a que este Pattern considera únicamente dormitorios/habitaciones, se le agrega 1 habitación a todos los matchs\n",
    "\n",
    "#Regex en la columna 'descripcion'\n",
    "MatchsAmbientes = data['description_lower'].apply(lambda x: x if x is np.NaN else regexAmbientes3.search(x))\n",
    "maskRooms_NullsAndMatch = data['rooms'].isnull() & MatchsAmbientes.notnull()\n",
    "data.loc[maskRooms_NullsAndMatch, 'rooms_clean'] = MatchsAmbientes[maskRooms_NullsAndMatch].apply(lambda x: float(x.group(\"numero\"))+1)\n",
    "#Regex en la columna 'title'\n",
    "MatchsAmbientes = data['title_lower'].apply(lambda x: x if x is np.NaN else regexAmbientes3.search(x))\n",
    "maskRooms_NullsAndMatch = data['rooms_clean'].isnull() & MatchsAmbientes.notnull()\n",
    "data.loc[maskRooms_NullsAndMatch, 'rooms_clean'] = MatchsAmbientes[maskRooms_NullsAndMatch].apply(lambda x: float(x.group(\"numero\"))+1)\n"
   ]
  },
  {
   "cell_type": "code",
   "execution_count": 32,
   "metadata": {},
   "outputs": [],
   "source": [
    "#Cuarto pattern\n",
    "regexAmbientes4 = re.compile('(?P<numeroPalabra>un|1|mono)\\s?(amb)')\n",
    "\n",
    "#Regex en la columna 'descripcion'\n",
    "MatchsAmbientes = data['description_lower'].apply(lambda x: x if x is np.NaN else regexAmbientes4.search(x))\n",
    "maskRooms_NullsAndMatch = data['rooms_clean'].isnull() & MatchsAmbientes.notnull()\n",
    "data.loc[maskRooms_NullsAndMatch, 'rooms_clean'] = MatchsAmbientes[maskRooms_NullsAndMatch].apply(lambda x: float(1.0))\n",
    "\n",
    "#Regex en la columna 'title'\n",
    "MatchsAmbientes = data['title_lower'].apply(lambda x: x if x is np.NaN else regexAmbientes4.search(x))\n",
    "maskRooms_NullsAndMatch = data['rooms_clean'].isnull() & MatchsAmbientes.notnull()\n",
    "data.loc[maskRooms_NullsAndMatch, 'rooms_clean'] = MatchsAmbientes[maskRooms_NullsAndMatch].apply(lambda x: float(1.0))"
   ]
  },
  {
   "cell_type": "code",
   "execution_count": 33,
   "metadata": {},
   "outputs": [],
   "source": [
    "#Quinto pattern\n",
    "regexAmbientes5 = re.compile('(?P<numeroPalabra>un|dos|tres|cuatro|cinco|seis|siete|ocho)\\s?(dorm|cuarto|hab)')\n",
    "#Debido a que este Pattern considera únicamente dormitorios/habitaciones, se le agrega 1 habitación a todos los matchs\n",
    "\n",
    "#Regex en la columna 'descripcion'\n",
    "MatchsAmbientes = data['description_lower'].apply(lambda x: x if x is np.NaN else regexAmbientes5.search(x))\n",
    "maskRooms_NullsAndMatch = data['rooms_clean'].isnull() & MatchsAmbientes.notnull()\n",
    "data.loc[maskRooms_NullsAndMatch, 'rooms_clean'] = MatchsAmbientes[maskRooms_NullsAndMatch].apply(lambda x: MatchToNumber(x)+1)\n",
    "\n",
    "#Regex en la columna 'title'\n",
    "MatchsAmbientes = data['title_lower'].apply(lambda x: x if x is np.NaN else regexAmbientes5.search(x))\n",
    "maskRooms_NullsAndMatch = data['rooms_clean'].isnull() & MatchsAmbientes.notnull()\n",
    "data.loc[maskRooms_NullsAndMatch, 'rooms_clean'] = MatchsAmbientes[maskRooms_NullsAndMatch].apply(lambda x: MatchToNumber(x)+1)"
   ]
  },
  {
   "cell_type": "code",
   "execution_count": 34,
   "metadata": {},
   "outputs": [
    {
     "name": "stdout",
     "output_type": "stream",
     "text": [
      "Columna 'rooms'\n",
      "Cantidad de nulos antes del regex: 73830 (60.9%)\n",
      "Cantidad de nulos después del regex: 15717 (13.0%)\n"
     ]
    }
   ],
   "source": [
    "print(\"Columna 'rooms'\")\n",
    "print(\"Cantidad de nulos antes del regex:\", data['rooms'].isnull().sum(), \"(\"+str(round((data['rooms'].isnull().sum()/data.shape[0])*100,1))+\"%)\")\n",
    "print(\"Cantidad de nulos después del regex:\", data['rooms_clean'].isnull().sum(),\"(\"+str(round((data['rooms_clean'].isnull().sum()/data.shape[0])*100,1))+\"%)\")"
   ]
  },
  {
   "cell_type": "markdown",
   "metadata": {},
   "source": [
    "Visualización"
   ]
  },
  {
   "cell_type": "code",
   "execution_count": 35,
   "metadata": {},
   "outputs": [
    {
     "data": {
      "text/plain": [
       "Text(0, 0.5, 'Cuartos')"
      ]
     },
     "execution_count": 35,
     "metadata": {},
     "output_type": "execute_result"
    },
    {
     "data": {
      "image/png": "[encoded data removed]",
      "text/plain": [
       "<Figure size 864x504 with 1 Axes>"
      ]
     },
     "metadata": {
      "needs_background": "light"
     },
     "output_type": "display_data"
    }
   ],
   "source": [
    "maskNotNull_Rooms = data['rooms_clean'].notnull()\n",
    "f, ax = plt.subplots()\n",
    "f.set_figwidth(12)\n",
    "f.set_figheight(7)\n",
    "sns.boxplot(x=data.loc[maskNotNull_Rooms,'property_type'],y=data.loc[maskNotNull_Rooms,'rooms_clean'])\n",
    "plt.title(\"Distribución de cuartos según propiedad\",fontsize=15)\n",
    "plt.xlabel(\"Tipo de propiedad\",fontsize=11)\n",
    "plt.ylabel(\"Cuartos\",fontsize=11)"
   ]
  },
  {
   "cell_type": "markdown",
   "metadata": {},
   "source": [
    "Análisis de outliers"
   ]
  },
  {
   "cell_type": "code",
   "execution_count": 36,
   "metadata": {},
   "outputs": [
    {
     "data": {
      "text/html": [
       "<div>\n",
       "<style scoped>\n",
       "    .dataframe tbody tr th:only-of-type {\n",
       "        vertical-align: middle;\n",
       "    }\n",
       "\n",
       "    .dataframe tbody tr th {\n",
       "        vertical-align: top;\n",
       "    }\n",
       "\n",
       "    .dataframe thead th {\n",
       "        text-align: right;\n",
       "    }\n",
       "</style>\n",
       "<table border=\"1\" class=\"dataframe\">\n",
       "  <thead>\n",
       "    <tr style=\"text-align: right;\">\n",
       "      <th></th>\n",
       "      <th>outliers_rooms</th>\n",
       "    </tr>\n",
       "  </thead>\n",
       "  <tbody>\n",
       "    <tr>\n",
       "      <th>No es outlier</th>\n",
       "      <td>94.0</td>\n",
       "    </tr>\n",
       "    <tr>\n",
       "      <th>Outlier superior</th>\n",
       "      <td>5.4</td>\n",
       "    </tr>\n",
       "    <tr>\n",
       "      <th>Outlier inferior</th>\n",
       "      <td>0.6</td>\n",
       "    </tr>\n",
       "  </tbody>\n",
       "</table>\n",
       "</div>"
      ],
      "text/plain": [
       "                  outliers_rooms\n",
       "No es outlier               94.0\n",
       "Outlier superior             5.4\n",
       "Outlier inferior             0.6"
      ]
     },
     "execution_count": 36,
     "metadata": {},
     "output_type": "execute_result"
    }
   ],
   "source": [
    "data['outliers_rooms'] = None\n",
    "for i in data['property_type'].unique():\n",
    "    rangoInterquartil_rooms= data.loc[data['property_type']==i,'rooms_clean'].quantile(0.75) - data.loc[data['property_type']==i,'rooms_clean'].quantile(0.25)\n",
    "    umbral_lower_rooms = data.loc[data['property_type']==i,'rooms_clean'].quantile(0.25) - rangoInterquartil_rooms*1.5\n",
    "    umbral_upper_rooms = data.loc[data['property_type']==i,'rooms_clean'].quantile(0.75) + rangoInterquartil_rooms*1.5\n",
    "\n",
    "\n",
    "    data.loc[maskNotNull_Rooms & (data['property_type']==i), 'outliers_rooms']= data.loc[maskNotNull_Rooms & (data['property_type']==i), 'rooms_clean'].apply\\\n",
    "                                                                                    (lambda x: \"Outlier superior\" if x >umbral_upper_rooms else(\n",
    "                                                                                 \"Outlier inferior\" if x<umbral_lower_rooms else \n",
    "                                                                                 \"No es outlier\"))\n",
    "\n",
    "outliers_rooms = data['outliers_rooms']\n",
    "data = data.drop(columns = ['outliers_rooms'])\n",
    "pd.DataFrame(round((outliers_rooms.value_counts() / outliers_rooms[maskNotNull_Rooms].shape[0])*100,1))"
   ]
  },
  {
   "cell_type": "markdown",
   "metadata": {},
   "source": [
    "Se reemplaza a los outliers por nulos"
   ]
  },
  {
   "cell_type": "code",
   "execution_count": 37,
   "metadata": {},
   "outputs": [],
   "source": [
    "maskOutliers= outliers_rooms !=\"No es outlier\"\n",
    "data.loc[maskOutliers,'rooms_clean'] = np.NaN"
   ]
  },
  {
   "cell_type": "markdown",
   "metadata": {},
   "source": [
    "Le imputamos a los datos que los nulos el valor promedio de cuartos según su tipo de propiedad.\n",
    "Los nulos proveniente de los outliers quedan nulos"
   ]
  },
  {
   "cell_type": "code",
   "execution_count": 38,
   "metadata": {},
   "outputs": [],
   "source": [
    "maskOldNulls = maskNotNull_Rooms ==False "
   ]
  },
  {
   "cell_type": "code",
   "execution_count": 39,
   "metadata": {},
   "outputs": [
    {
     "data": {
      "text/html": [
       "<div>\n",
       "<style scoped>\n",
       "    .dataframe tbody tr th:only-of-type {\n",
       "        vertical-align: middle;\n",
       "    }\n",
       "\n",
       "    .dataframe tbody tr th {\n",
       "        vertical-align: top;\n",
       "    }\n",
       "\n",
       "    .dataframe thead th {\n",
       "        text-align: right;\n",
       "    }\n",
       "</style>\n",
       "<table border=\"1\" class=\"dataframe\">\n",
       "  <thead>\n",
       "    <tr style=\"text-align: right;\">\n",
       "      <th></th>\n",
       "      <th>rooms_clean_mean</th>\n",
       "    </tr>\n",
       "    <tr>\n",
       "      <th>property_type</th>\n",
       "      <th></th>\n",
       "    </tr>\n",
       "  </thead>\n",
       "  <tbody>\n",
       "    <tr>\n",
       "      <th>PH</th>\n",
       "      <td>3</td>\n",
       "    </tr>\n",
       "    <tr>\n",
       "      <th>house</th>\n",
       "      <td>3</td>\n",
       "    </tr>\n",
       "    <tr>\n",
       "      <th>apartment</th>\n",
       "      <td>2</td>\n",
       "    </tr>\n",
       "    <tr>\n",
       "      <th>store</th>\n",
       "      <td>2</td>\n",
       "    </tr>\n",
       "  </tbody>\n",
       "</table>\n",
       "</div>"
      ],
      "text/plain": [
       "               rooms_clean_mean\n",
       "property_type                  \n",
       "PH                            3\n",
       "house                         3\n",
       "apartment                     2\n",
       "store                         2"
      ]
     },
     "execution_count": 39,
     "metadata": {},
     "output_type": "execute_result"
    }
   ],
   "source": [
    "meanByProperty_rooms = pd.DataFrame(data.groupby('property_type')['rooms_clean'].mean())\n",
    "meanByProperty_rooms.columns = ['rooms_clean_mean']\n",
    "meanByProperty_rooms['rooms_clean_mean'] = meanByProperty_rooms['rooms_clean_mean'].apply(lambda x: math.floor(x))\n",
    "meanByProperty_rooms.sort_values(by = 'rooms_clean_mean', ascending=False)"
   ]
  },
  {
   "cell_type": "code",
   "execution_count": 40,
   "metadata": {},
   "outputs": [],
   "source": [
    "data= data.merge(meanByProperty_rooms, on='property_type')"
   ]
  },
  {
   "cell_type": "code",
   "execution_count": 41,
   "metadata": {},
   "outputs": [],
   "source": [
    "data.loc[maskOldNulls,'rooms_clean'] = data.loc[maskOldNulls,'rooms_clean_mean'] \n",
    "data = data.drop(columns=['rooms_clean_mean'])"
   ]
  },
  {
   "cell_type": "markdown",
   "metadata": {},
   "source": [
    "Visualización sin outliers"
   ]
  },
  {
   "cell_type": "code",
   "execution_count": 42,
   "metadata": {},
   "outputs": [
    {
     "data": {
      "text/plain": [
       "Text(0, 0.5, 'Cuartos')"
      ]
     },
     "execution_count": 42,
     "metadata": {},
     "output_type": "execute_result"
    },
    {
     "data": {
      "image/png": "[encoded data removed]",
      "text/plain": [
       "<Figure size 864x504 with 1 Axes>"
      ]
     },
     "metadata": {
      "needs_background": "light"
     },
     "output_type": "display_data"
    }
   ],
   "source": [
    "f, ax = plt.subplots()\n",
    "f.set_figwidth(12)\n",
    "f.set_figheight(7)\n",
    "sns.boxplot(x=data['property_type'],y=data['rooms_clean'])\n",
    "plt.title(\"Distribución de cuartos según propiedad (sin outliers)\",fontsize=15)\n",
    "plt.xlabel(\"Tipo de propiedad\",fontsize=11)\n",
    "plt.ylabel(\"Cuartos\",fontsize=11)"
   ]
  },
  {
   "cell_type": "markdown",
   "metadata": {},
   "source": [
    "---\n",
    "<b><a id='section_2_5'>2.5. Columna 'floor'</a> </b>"
   ]
  },
  {
   "cell_type": "code",
   "execution_count": 43,
   "metadata": {},
   "outputs": [],
   "source": [
    "data['floor_clean'] = data['floor']"
   ]
  },
  {
   "cell_type": "markdown",
   "metadata": {},
   "source": [
    "Análisis de nulos y valores"
   ]
  },
  {
   "cell_type": "code",
   "execution_count": 44,
   "metadata": {},
   "outputs": [
    {
     "data": {
      "text/html": [
       "<div>\n",
       "<style scoped>\n",
       "    .dataframe tbody tr th:only-of-type {\n",
       "        vertical-align: middle;\n",
       "    }\n",
       "\n",
       "    .dataframe tbody tr th {\n",
       "        vertical-align: top;\n",
       "    }\n",
       "\n",
       "    .dataframe thead th {\n",
       "        text-align: right;\n",
       "    }\n",
       "</style>\n",
       "<table border=\"1\" class=\"dataframe\">\n",
       "  <thead>\n",
       "    <tr style=\"text-align: right;\">\n",
       "      <th></th>\n",
       "      <th>type</th>\n",
       "      <th>Porcentaje de nulos</th>\n",
       "      <th>Nulos</th>\n",
       "      <th>Valores distintos</th>\n",
       "      <th>Ejemplos</th>\n",
       "    </tr>\n",
       "  </thead>\n",
       "  <tbody>\n",
       "    <tr>\n",
       "      <th>floor</th>\n",
       "      <td>float64</td>\n",
       "      <td>0.93</td>\n",
       "      <td>113321</td>\n",
       "      <td>183</td>\n",
       "      <td>[nan, 5.0, 1.0, 2.0, 3.0, 12.0, 6.0, 4.0, 7.0,...</td>\n",
       "    </tr>\n",
       "  </tbody>\n",
       "</table>\n",
       "</div>"
      ],
      "text/plain": [
       "          type  Porcentaje de nulos   Nulos  Valores distintos  \\\n",
       "floor  float64                 0.93  113321                183   \n",
       "\n",
       "                                                Ejemplos  \n",
       "floor  [nan, 5.0, 1.0, 2.0, 3.0, 12.0, 6.0, 4.0, 7.0,...  "
      ]
     },
     "execution_count": 44,
     "metadata": {},
     "output_type": "execute_result"
    }
   ],
   "source": [
    "data_describe.loc[data_describe.index.isin(['floor']),:]"
   ]
  },
  {
   "cell_type": "code",
   "execution_count": 45,
   "metadata": {},
   "outputs": [
    {
     "name": "stdout",
     "output_type": "stream",
     "text": [
      "Campos con información en la columna 'floor' según tipo de propiedad\n"
     ]
    },
    {
     "data": {
      "text/html": [
       "<div>\n",
       "<style scoped>\n",
       "    .dataframe tbody tr th:only-of-type {\n",
       "        vertical-align: middle;\n",
       "    }\n",
       "\n",
       "    .dataframe tbody tr th {\n",
       "        vertical-align: top;\n",
       "    }\n",
       "\n",
       "    .dataframe thead th {\n",
       "        text-align: right;\n",
       "    }\n",
       "</style>\n",
       "<table border=\"1\" class=\"dataframe\">\n",
       "  <thead>\n",
       "    <tr style=\"text-align: right;\">\n",
       "      <th></th>\n",
       "      <th>floor</th>\n",
       "    </tr>\n",
       "    <tr>\n",
       "      <th>property_type</th>\n",
       "      <th></th>\n",
       "    </tr>\n",
       "  </thead>\n",
       "  <tbody>\n",
       "    <tr>\n",
       "      <th>PH</th>\n",
       "      <td>573</td>\n",
       "    </tr>\n",
       "    <tr>\n",
       "      <th>apartment</th>\n",
       "      <td>6521</td>\n",
       "    </tr>\n",
       "    <tr>\n",
       "      <th>house</th>\n",
       "      <td>765</td>\n",
       "    </tr>\n",
       "    <tr>\n",
       "      <th>store</th>\n",
       "      <td>40</td>\n",
       "    </tr>\n",
       "  </tbody>\n",
       "</table>\n",
       "</div>"
      ],
      "text/plain": [
       "               floor\n",
       "property_type       \n",
       "PH               573\n",
       "apartment       6521\n",
       "house            765\n",
       "store             40"
      ]
     },
     "execution_count": 45,
     "metadata": {},
     "output_type": "execute_result"
    }
   ],
   "source": [
    "print(\"Campos con información en la columna 'floor' según tipo de propiedad\")\n",
    "pd.DataFrame(data.groupby('property_type')['floor'].apply(lambda x: x.notnull().sum()))"
   ]
  },
  {
   "cell_type": "markdown",
   "metadata": {},
   "source": [
    "Se decide contemplar la variable 'floor' únicamente para los departamentos. Se le imputa valor nulo a los otros tipo de propiedad"
   ]
  },
  {
   "cell_type": "code",
   "execution_count": 46,
   "metadata": {},
   "outputs": [
    {
     "data": {
      "text/html": [
       "<div>\n",
       "<style scoped>\n",
       "    .dataframe tbody tr th:only-of-type {\n",
       "        vertical-align: middle;\n",
       "    }\n",
       "\n",
       "    .dataframe tbody tr th {\n",
       "        vertical-align: top;\n",
       "    }\n",
       "\n",
       "    .dataframe thead th {\n",
       "        text-align: right;\n",
       "    }\n",
       "</style>\n",
       "<table border=\"1\" class=\"dataframe\">\n",
       "  <thead>\n",
       "    <tr style=\"text-align: right;\">\n",
       "      <th></th>\n",
       "      <th>floor_clean</th>\n",
       "    </tr>\n",
       "    <tr>\n",
       "      <th>property_type</th>\n",
       "      <th></th>\n",
       "    </tr>\n",
       "  </thead>\n",
       "  <tbody>\n",
       "    <tr>\n",
       "      <th>PH</th>\n",
       "      <td>0</td>\n",
       "    </tr>\n",
       "    <tr>\n",
       "      <th>apartment</th>\n",
       "      <td>6521</td>\n",
       "    </tr>\n",
       "    <tr>\n",
       "      <th>house</th>\n",
       "      <td>0</td>\n",
       "    </tr>\n",
       "    <tr>\n",
       "      <th>store</th>\n",
       "      <td>0</td>\n",
       "    </tr>\n",
       "  </tbody>\n",
       "</table>\n",
       "</div>"
      ],
      "text/plain": [
       "               floor_clean\n",
       "property_type             \n",
       "PH                       0\n",
       "apartment             6521\n",
       "house                    0\n",
       "store                    0"
      ]
     },
     "execution_count": 46,
     "metadata": {},
     "output_type": "execute_result"
    }
   ],
   "source": [
    "maskNotApartment = data['property_type'] != 'apartment'\n",
    "data.loc[maskNotApartment, 'floor_clean'] = np.NaN\n",
    "pd.DataFrame(data.groupby('property_type')['floor_clean'].apply(lambda x: x.notnull().sum()))"
   ]
  },
  {
   "cell_type": "markdown",
   "metadata": {},
   "source": [
    "Completamos los nulos de la columna 'floor_clean' con datos extraidos de la columna 'descripcion' y 'title'"
   ]
  },
  {
   "cell_type": "code",
   "execution_count": 47,
   "metadata": {},
   "outputs": [],
   "source": [
    "maskApartment = data['property_type'] == 'apartment'"
   ]
  },
  {
   "cell_type": "code",
   "execution_count": 48,
   "metadata": {},
   "outputs": [],
   "source": [
    "#Primer pattern\n",
    "regexFloor = re.compile('(?P<numeroPiso>\\d\\d?)\\s?(^er|er|do|to|mo|ro|avo|vo|no)')\n",
    "\n",
    "#Regex en la columna 'descripcion'\n",
    "MatchsFloor = data['description_lower'].apply(lambda x: x if x is np.NaN else regexFloor.search(x))\n",
    "maskFloor_NullsAndMatch = data['floor_clean'].isnull() & MatchsFloor.notnull()\n",
    "data.loc[maskFloor_NullsAndMatch, 'floor_clean'] = MatchsFloor[maskFloor_NullsAndMatch].apply(lambda x: float(x.group(\"numeroPiso\")))\n",
    "\n",
    "#Regex en la columna 'title'\n",
    "MatchsFloor = data['title_lower'].apply(lambda x: x if x is np.NaN else regexFloor.search(x))\n",
    "maskFloor_NullsAndMatch = data['floor_clean'].isnull() & MatchsFloor.notnull()\n",
    "data.loc[maskFloor_NullsAndMatch, 'floor_clean'] = MatchsFloor[maskFloor_NullsAndMatch].apply(lambda x: float(x.group(\"numeroPiso\")))"
   ]
  },
  {
   "cell_type": "code",
   "execution_count": 49,
   "metadata": {},
   "outputs": [],
   "source": [
    "#Segundo pattern\n",
    "regexFloor2 = re.compile('(?P<numeroPiso>\\d\\d?)\\s?\\º?\\s?(piso)')\n",
    "\n",
    "#Regex en la columna 'descripcion'\n",
    "MatchsFloor = data['description_lower'].apply(lambda x: x if x is np.NaN else regexFloor2.search(x))\n",
    "maskFloor_NullsAndMatch = data['floor_clean'].isnull() & MatchsFloor.notnull()\n",
    "data.loc[maskFloor_NullsAndMatch, 'floor_clean'] = MatchsFloor[maskFloor_NullsAndMatch].apply(lambda x: float(x.group(\"numeroPiso\")))\n",
    "\n",
    "#Regex en la columna 'title'\n",
    "MatchsFloor = data['title_lower'].apply(lambda x: x if x is np.NaN else regexFloor2.search(x))\n",
    "maskFloor_NullsAndMatch = data['floor_clean'].isnull() & MatchsFloor.notnull()\n",
    "data.loc[maskFloor_NullsAndMatch, 'floor_clean'] = MatchsFloor[maskFloor_NullsAndMatch].apply(lambda x: float(x.group(\"numeroPiso\")))"
   ]
  },
  {
   "cell_type": "code",
   "execution_count": 50,
   "metadata": {},
   "outputs": [],
   "source": [
    "#Tercer pattern\n",
    "regexFloor3 = re.compile('(piso)\\s?(?P<numeroPiso>\\d\\d?)')\n",
    "\n",
    "#Regex en la columna 'descripcion'\n",
    "MatchsFloor = data['description_lower'].apply(lambda x: x if x is np.NaN else regexFloor3.search(x))\n",
    "maskFloor_NullsAndMatch = data['floor_clean'].isnull() & MatchsFloor.notnull()\n",
    "data.loc[maskFloor_NullsAndMatch, 'floor_clean'] = MatchsFloor[maskFloor_NullsAndMatch].apply(lambda x: float(x.group(\"numeroPiso\")))\n",
    "\n",
    "#Regex en la columna 'title'\n",
    "MatchsFloor = data['title_lower'].apply(lambda x: x if x is np.NaN else regexFloor3.search(x))\n",
    "maskFloor_NullsAndMatch = data['floor_clean'].isnull() & MatchsFloor.notnull()\n",
    "data.loc[maskFloor_NullsAndMatch, 'floor_clean'] = MatchsFloor[maskFloor_NullsAndMatch].apply(lambda x: float(x.group(\"numeroPiso\")))"
   ]
  },
  {
   "cell_type": "code",
   "execution_count": 51,
   "metadata": {},
   "outputs": [],
   "source": [
    "#Cuarto pattern\n",
    "regexFloor3 = re.compile('pb|plantabaja|planta baja')\n",
    "\n",
    "#Regex en la columna 'descripcion'\n",
    "MatchsFloor = data['description_lower'].apply(lambda x: x if x is np.NaN else regexFloor3.search(x))\n",
    "maskFloor_NullsAndMatch = data['floor_clean'].isnull() & MatchsFloor.notnull()\n",
    "data.loc[maskFloor_NullsAndMatch, 'floor_clean'] = MatchsFloor[maskFloor_NullsAndMatch].apply(lambda x: float(0))\n",
    "\n",
    "#Regex en la columna 'title'\n",
    "MatchsFloor = data['title_lower'].apply(lambda x: x if x is np.NaN else regexFloor3.search(x))\n",
    "maskFloor_NullsAndMatch = data['floor_clean'].isnull() & MatchsFloor.notnull()\n",
    "data.loc[maskFloor_NullsAndMatch, 'floor_clean'] = MatchsFloor[maskFloor_NullsAndMatch].apply(lambda x: float(0))"
   ]
  },
  {
   "cell_type": "code",
   "execution_count": 52,
   "metadata": {},
   "outputs": [],
   "source": [
    "data['floor_clean'] = data['floor_clean'].astype(float)"
   ]
  },
  {
   "cell_type": "code",
   "execution_count": 53,
   "metadata": {},
   "outputs": [
    {
     "name": "stdout",
     "output_type": "stream",
     "text": [
      "Columna 'floor'\n",
      "Cantidad de nulos antes del regex: 64544 (90.8%)\n",
      "Cantidad de nulos después del regex: 31235 (44.0%)\n"
     ]
    }
   ],
   "source": [
    "print(\"Columna 'floor'\")\n",
    "print(\"Cantidad de nulos antes del regex:\", data.loc[maskApartment,'floor'].isnull().sum(), \"(\"+str(round((data.loc[maskApartment,'floor'].isnull().sum()/data.loc[maskApartment,:].shape[0])*100,1))+\"%)\")\n",
    "print(\"Cantidad de nulos después del regex:\", data.loc[maskApartment,'floor_clean'].isnull().sum(),\"(\"+str(round((data.loc[maskApartment,'floor_clean'].isnull().sum()/data.loc[maskApartment,:].shape[0])*100,1))+\"%)\")"
   ]
  },
  {
   "cell_type": "markdown",
   "metadata": {},
   "source": [
    "Visualización"
   ]
  },
  {
   "cell_type": "code",
   "execution_count": 54,
   "metadata": {},
   "outputs": [
    {
     "data": {
      "text/plain": [
       "Text(0, 0.5, 'Pisos')"
      ]
     },
     "execution_count": 54,
     "metadata": {},
     "output_type": "execute_result"
    },
    {
     "data": {
      "image/png": "[encoded data removed]",
      "text/plain": [
       "<Figure size 576x504 with 1 Axes>"
      ]
     },
     "metadata": {
      "needs_background": "light"
     },
     "output_type": "display_data"
    }
   ],
   "source": [
    "maskNotNull_Floor = data['floor_clean'].notnull()\n",
    "f, ax = plt.subplots()\n",
    "f.set_figwidth(8)\n",
    "f.set_figheight(7)\n",
    "sns.boxplot(y=data.loc[maskNotNull_Floor,'floor_clean'])\n",
    "plt.title(\"Distribución de pisos\",fontsize=15)\n",
    "plt.xlabel(\"Departamentos\",fontsize=11)\n",
    "plt.ylabel(\"Pisos\",fontsize=11)"
   ]
  },
  {
   "cell_type": "markdown",
   "metadata": {},
   "source": [
    "Análisis de outliers. Se consideran nulos a los pisos superiores a 20."
   ]
  },
  {
   "cell_type": "code",
   "execution_count": 55,
   "metadata": {},
   "outputs": [
    {
     "data": {
      "text/plain": [
       "False    119792\n",
       "True       1428\n",
       "Name: floor_clean, dtype: int64"
      ]
     },
     "execution_count": 55,
     "metadata": {},
     "output_type": "execute_result"
    }
   ],
   "source": [
    "maskOutliers = data['floor_clean'] > 20\n",
    "maskOutliers.value_counts()"
   ]
  },
  {
   "cell_type": "markdown",
   "metadata": {},
   "source": [
    "Se reemplaza los outliers por nulos"
   ]
  },
  {
   "cell_type": "code",
   "execution_count": 56,
   "metadata": {},
   "outputs": [],
   "source": [
    "maskOutliers = data['floor_clean'] > 20\n",
    "data.loc[maskOutliers,'floor_clean'] = np.NaN"
   ]
  },
  {
   "cell_type": "markdown",
   "metadata": {},
   "source": [
    "Visualización sin outliers"
   ]
  },
  {
   "cell_type": "code",
   "execution_count": 57,
   "metadata": {},
   "outputs": [
    {
     "data": {
      "text/plain": [
       "Text(0, 0.5, 'Pisos')"
      ]
     },
     "execution_count": 57,
     "metadata": {},
     "output_type": "execute_result"
    },
    {
     "data": {
      "image/png": "[encoded data removed]",
      "text/plain": [
       "<Figure size 576x504 with 1 Axes>"
      ]
     },
     "metadata": {
      "needs_background": "light"
     },
     "output_type": "display_data"
    }
   ],
   "source": [
    "f, ax = plt.subplots()\n",
    "f.set_figwidth(8)\n",
    "f.set_figheight(7)\n",
    "sns.boxplot(y=data['floor_clean'])\n",
    "plt.title(\"Distribución de pisos (sin outliers)\",fontsize=15)\n",
    "plt.xlabel(\"Departamentos\",fontsize=11)\n",
    "plt.ylabel(\"Pisos\",fontsize=11)"
   ]
  },
  {
   "cell_type": "markdown",
   "metadata": {},
   "source": [
    "---\n",
    "<b><a id='section_2_6'>2.6. Columnas 'surface_total_in_m2' y 'surface_covered_in_m2'</a> </b>"
   ]
  },
  {
   "cell_type": "code",
   "execution_count": 58,
   "metadata": {},
   "outputs": [],
   "source": [
    "data['surface_total_in_m2_clean'] = data['surface_total_in_m2']"
   ]
  },
  {
   "cell_type": "markdown",
   "metadata": {},
   "source": [
    "Análisis de nulos y valores"
   ]
  },
  {
   "cell_type": "code",
   "execution_count": 59,
   "metadata": {},
   "outputs": [
    {
     "data": {
      "text/html": [
       "<div>\n",
       "<style scoped>\n",
       "    .dataframe tbody tr th:only-of-type {\n",
       "        vertical-align: middle;\n",
       "    }\n",
       "\n",
       "    .dataframe tbody tr th {\n",
       "        vertical-align: top;\n",
       "    }\n",
       "\n",
       "    .dataframe thead th {\n",
       "        text-align: right;\n",
       "    }\n",
       "</style>\n",
       "<table border=\"1\" class=\"dataframe\">\n",
       "  <thead>\n",
       "    <tr style=\"text-align: right;\">\n",
       "      <th></th>\n",
       "      <th>type</th>\n",
       "      <th>Porcentaje de nulos</th>\n",
       "      <th>Nulos</th>\n",
       "      <th>Valores distintos</th>\n",
       "      <th>Ejemplos</th>\n",
       "    </tr>\n",
       "  </thead>\n",
       "  <tbody>\n",
       "    <tr>\n",
       "      <th>surface_total_in_m2</th>\n",
       "      <td>float64</td>\n",
       "      <td>0.32</td>\n",
       "      <td>39328</td>\n",
       "      <td>1688</td>\n",
       "      <td>[55.0, nan, 35.0, 53.0, 106.0, 45.0, 65.0, 151...</td>\n",
       "    </tr>\n",
       "    <tr>\n",
       "      <th>surface_covered_in_m2</th>\n",
       "      <td>float64</td>\n",
       "      <td>0.16</td>\n",
       "      <td>19907</td>\n",
       "      <td>996</td>\n",
       "      <td>[40.0, nan, 55.0, 35.0, 78.0, 60.0, 36.0, 30.0...</td>\n",
       "    </tr>\n",
       "  </tbody>\n",
       "</table>\n",
       "</div>"
      ],
      "text/plain": [
       "                          type  Porcentaje de nulos  Nulos  Valores distintos  \\\n",
       "surface_total_in_m2    float64                 0.32  39328               1688   \n",
       "surface_covered_in_m2  float64                 0.16  19907                996   \n",
       "\n",
       "                                                                Ejemplos  \n",
       "surface_total_in_m2    [55.0, nan, 35.0, 53.0, 106.0, 45.0, 65.0, 151...  \n",
       "surface_covered_in_m2  [40.0, nan, 55.0, 35.0, 78.0, 60.0, 36.0, 30.0...  "
      ]
     },
     "execution_count": 59,
     "metadata": {},
     "output_type": "execute_result"
    }
   ],
   "source": [
    "data_describe.loc[data_describe.index.isin(['surface_covered_in_m2','surface_total_in_m2']),:]"
   ]
  },
  {
   "cell_type": "code",
   "execution_count": 60,
   "metadata": {},
   "outputs": [
    {
     "name": "stdout",
     "output_type": "stream",
     "text": [
      "Cantidad de nulos que coinciden: 12369\n"
     ]
    }
   ],
   "source": [
    "maskNull_coveredAndTotal = data['surface_covered_in_m2'].isnull() & data['surface_total_in_m2'].isnull()\n",
    "print(\"Cantidad de nulos que coinciden:\",maskNull_coveredAndTotal.value_counts()[True])"
   ]
  },
  {
   "cell_type": "markdown",
   "metadata": {},
   "source": [
    "Se opta por completar la columna 'surface_total_in_m2' mediante el siguiente proceso:  \n",
    "1- Imputar datos de acuerdo a la proporción media entre  'surface_covered_in_m2'  y 'surface_total_in_m2'  \n",
    "2- Completamos los nulos restantes con datos extraidos de la columna 'descripcion' y 'title'"
   ]
  },
  {
   "cell_type": "code",
   "execution_count": 61,
   "metadata": {},
   "outputs": [
    {
     "name": "stdout",
     "output_type": "stream",
     "text": [
      "Las casas son las que menos metros cuadrados tienen cubierto\n"
     ]
    },
    {
     "data": {
      "text/html": [
       "<div>\n",
       "<style scoped>\n",
       "    .dataframe tbody tr th:only-of-type {\n",
       "        vertical-align: middle;\n",
       "    }\n",
       "\n",
       "    .dataframe tbody tr th {\n",
       "        vertical-align: top;\n",
       "    }\n",
       "\n",
       "    .dataframe thead th {\n",
       "        text-align: right;\n",
       "    }\n",
       "</style>\n",
       "<table border=\"1\" class=\"dataframe\">\n",
       "  <thead>\n",
       "    <tr style=\"text-align: right;\">\n",
       "      <th></th>\n",
       "      <th>covered_pct_mean</th>\n",
       "    </tr>\n",
       "    <tr>\n",
       "      <th>property_type</th>\n",
       "      <th></th>\n",
       "    </tr>\n",
       "  </thead>\n",
       "  <tbody>\n",
       "    <tr>\n",
       "      <th>store</th>\n",
       "      <td>0.938940</td>\n",
       "    </tr>\n",
       "    <tr>\n",
       "      <th>apartment</th>\n",
       "      <td>0.887711</td>\n",
       "    </tr>\n",
       "    <tr>\n",
       "      <th>PH</th>\n",
       "      <td>0.811623</td>\n",
       "    </tr>\n",
       "    <tr>\n",
       "      <th>house</th>\n",
       "      <td>0.693948</td>\n",
       "    </tr>\n",
       "  </tbody>\n",
       "</table>\n",
       "</div>"
      ],
      "text/plain": [
       "               covered_pct_mean\n",
       "property_type                  \n",
       "store                  0.938940\n",
       "apartment              0.887711\n",
       "PH                     0.811623\n",
       "house                  0.693948"
      ]
     },
     "execution_count": 61,
     "metadata": {},
     "output_type": "execute_result"
    }
   ],
   "source": [
    "maskNotNull_TotalAndCovered = data['surface_covered_in_m2'].notnull() & data['surface_total_in_m2'].notnull()\n",
    "data['covered_pct'] = data.loc[maskNotNull_TotalAndCovered, 'surface_covered_in_m2'] / data.loc[maskNotNull_TotalAndCovered, 'surface_total_in_m2'] \n",
    "data['covered_pct'] = data['covered_pct'].apply(lambda x: 1 if x>1 else x)\n",
    "meanByProperty = pd.DataFrame(data.groupby('property_type')['covered_pct'].mean())\n",
    "meanByProperty.columns = ['covered_pct_mean']\n",
    "print(\"Las casas son las que menos metros cuadrados tienen cubierto\")\n",
    "meanByProperty.sort_values(by = 'covered_pct_mean', ascending=False)"
   ]
  },
  {
   "cell_type": "code",
   "execution_count": 62,
   "metadata": {},
   "outputs": [],
   "source": [
    "data = data.merge(meanByProperty, on='property_type')"
   ]
  },
  {
   "cell_type": "code",
   "execution_count": 63,
   "metadata": {},
   "outputs": [],
   "source": [
    "maskFill = data['surface_covered_in_m2'].notnull() & data['surface_total_in_m2'].isnull()\n",
    "surface_total_parche = data.loc[maskFill,'surface_covered_in_m2'] / data.loc[maskFill,'covered_pct_mean']\n",
    "data.loc[maskFill, 'surface_total_in_m2_clean'] = surface_total_parche[maskFill] "
   ]
  },
  {
   "cell_type": "code",
   "execution_count": 64,
   "metadata": {},
   "outputs": [
    {
     "name": "stdout",
     "output_type": "stream",
     "text": [
      "Columna 'surface_total_in_m2'\n",
      "Cantidad de nulos antes de la imputación: 39328 (32.4%)\n",
      "Cantidad de nulos después de la imputación: 12369 (10.2%)\n"
     ]
    }
   ],
   "source": [
    "print(\"Columna 'surface_total_in_m2'\")\n",
    "print(\"Cantidad de nulos antes de la imputación:\", data['surface_total_in_m2'].isnull().sum(), \"(\"+str(round((data['surface_total_in_m2'].isnull().sum()/data.shape[0])*100,1))+\"%)\")\n",
    "print(\"Cantidad de nulos después de la imputación:\", data['surface_total_in_m2_clean'].isnull().sum(),\"(\"+str(round((data['surface_total_in_m2_clean'].isnull().sum()/data.shape[0])*100,1))+\"%)\")"
   ]
  },
  {
   "cell_type": "code",
   "execution_count": 65,
   "metadata": {},
   "outputs": [],
   "source": [
    "#Pattern\n",
    "regexSurface = re.compile('(?P<mts2>\\d\\d?\\d?\\d?)\\s?(?P<metros>mts|mt|metros|mt2|m2|m|mts2|m2c|mÂ²|mts²)')\n",
    "\n",
    "#Regex en la columna 'descripcion'\n",
    "MatchsSurface = data['description_lower'].apply(lambda x: x if x is np.NaN else regexSurface.search(x))\n",
    "maskSurface_NullsAndMatch = data['surface_total_in_m2_clean'].isnull() & MatchsSurface.notnull()\n",
    "data.loc[maskSurface_NullsAndMatch, 'surface_total_in_m2_clean'] = MatchsSurface[maskSurface_NullsAndMatch].apply(lambda x: float(x.group(\"mts2\")))\n",
    "\n",
    "#Regex en la columna 'title'\n",
    "MatchsSurface = data['title_lower'].apply(lambda x: x if x is np.NaN else regexSurface.search(x))\n",
    "maskSurface_NullsAndMatch = data['surface_total_in_m2_clean'].isnull() & MatchsSurface.notnull()\n",
    "data.loc[maskSurface_NullsAndMatch, 'surface_total_in_m2_clean'] = MatchsSurface[maskSurface_NullsAndMatch].apply(lambda x: float(x.group(\"mts2\")))"
   ]
  },
  {
   "cell_type": "markdown",
   "metadata": {},
   "source": [
    "Se considera que una propiedad no puede tener menos de 20 mts cuadrados"
   ]
  },
  {
   "cell_type": "code",
   "execution_count": 66,
   "metadata": {},
   "outputs": [],
   "source": [
    "data['surface_total_in_m2_clean'] = data['surface_total_in_m2_clean'].apply(lambda x: np.NaN if x < 20 else x)"
   ]
  },
  {
   "cell_type": "code",
   "execution_count": 67,
   "metadata": {},
   "outputs": [
    {
     "name": "stdout",
     "output_type": "stream",
     "text": [
      "Columna 'surface_total_in_m2'\n",
      "Cantidad de nulos antes del regex: 39328 (32.4%)\n",
      "Cantidad de nulos después del regex: 9829 (8.1%)\n"
     ]
    }
   ],
   "source": [
    "print(\"Columna 'surface_total_in_m2'\")\n",
    "print(\"Cantidad de nulos antes del regex:\", data['surface_total_in_m2'].isnull().sum(), \"(\"+str(round((data['surface_total_in_m2'].isnull().sum()/data.shape[0])*100,1))+\"%)\")\n",
    "print(\"Cantidad de nulos después del regex:\", data['surface_total_in_m2_clean'].isnull().sum(),\"(\"+str(round((data['surface_total_in_m2_clean'].isnull().sum()/data.shape[0])*100,1))+\"%)\")"
   ]
  },
  {
   "cell_type": "markdown",
   "metadata": {},
   "source": [
    "Visualización"
   ]
  },
  {
   "cell_type": "code",
   "execution_count": 68,
   "metadata": {},
   "outputs": [
    {
     "data": {
      "text/plain": [
       "Text(0, 0.5, 'Metros cuadrados')"
      ]
     },
     "execution_count": 68,
     "metadata": {},
     "output_type": "execute_result"
    },
    {
     "data": {
      "image/png": "[encoded data removed]",
      "text/plain": [
       "<Figure size 864x504 with 1 Axes>"
      ]
     },
     "metadata": {
      "needs_background": "light"
     },
     "output_type": "display_data"
    }
   ],
   "source": [
    "maskNotNull_Surface = data['surface_total_in_m2_clean'].notnull()\n",
    "f, ax = plt.subplots()\n",
    "f.set_figwidth(12)\n",
    "f.set_figheight(7)\n",
    "sns.boxplot(x=data.loc[maskNotNull_Rooms,'property_type'],y=data.loc[maskNotNull_Rooms,'surface_total_in_m2_clean'])\n",
    "plt.title(\"Cantidad de metros cuadrados según propiedad\",fontsize=15)\n",
    "plt.xlabel(\"Tipo de propiedad\",fontsize=11)\n",
    "plt.ylabel(\"Metros cuadrados\",fontsize=11)"
   ]
  },
  {
   "cell_type": "markdown",
   "metadata": {},
   "source": [
    "Análisis de outliers.  "
   ]
  },
  {
   "cell_type": "code",
   "execution_count": 69,
   "metadata": {},
   "outputs": [
    {
     "data": {
      "text/html": [
       "<div>\n",
       "<style scoped>\n",
       "    .dataframe tbody tr th:only-of-type {\n",
       "        vertical-align: middle;\n",
       "    }\n",
       "\n",
       "    .dataframe tbody tr th {\n",
       "        vertical-align: top;\n",
       "    }\n",
       "\n",
       "    .dataframe thead th {\n",
       "        text-align: right;\n",
       "    }\n",
       "</style>\n",
       "<table border=\"1\" class=\"dataframe\">\n",
       "  <thead>\n",
       "    <tr style=\"text-align: right;\">\n",
       "      <th></th>\n",
       "      <th>outliers_Surface</th>\n",
       "    </tr>\n",
       "  </thead>\n",
       "  <tbody>\n",
       "    <tr>\n",
       "      <th>No es outlier</th>\n",
       "      <td>92.1</td>\n",
       "    </tr>\n",
       "    <tr>\n",
       "      <th>Outlier superior</th>\n",
       "      <td>7.9</td>\n",
       "    </tr>\n",
       "  </tbody>\n",
       "</table>\n",
       "</div>"
      ],
      "text/plain": [
       "                  outliers_Surface\n",
       "No es outlier                 92.1\n",
       "Outlier superior               7.9"
      ]
     },
     "execution_count": 69,
     "metadata": {},
     "output_type": "execute_result"
    }
   ],
   "source": [
    "data['outliers_Surface'] = None\n",
    "for i in data['property_type'].unique():\n",
    "    rangoInterquartil_Surface= data.loc[data['property_type']==i,'surface_total_in_m2_clean'].quantile(0.75) - data.loc[data['property_type']==i,'surface_total_in_m2_clean'].quantile(0.25)\n",
    "    umbral_lower_Surface = data.loc[data['property_type']==i,'surface_total_in_m2_clean'].quantile(0.25) - rangoInterquartil_Surface*1.5\n",
    "    umbral_upper_Surface = data.loc[data['property_type']==i,'surface_total_in_m2_clean'].quantile(0.75) + rangoInterquartil_Surface*1.5\n",
    "\n",
    "\n",
    "    data.loc[maskNotNull_Surface & (data['property_type']==i), 'outliers_Surface']= data.loc[maskNotNull_Surface & (data['property_type']==i), 'surface_total_in_m2_clean'].apply\\\n",
    "                                                                                    (lambda x: \"Outlier superior\" if x >umbral_upper_Surface else(\n",
    "                                                                                 \"Outlier inferior\" if x<umbral_lower_Surface else \n",
    "                                                                                 \"No es outlier\"))\n",
    "\n",
    "outliers_Surface = data['outliers_Surface']\n",
    "data = data.drop(columns = ['outliers_Surface'])\n",
    "pd.DataFrame(round((outliers_Surface.value_counts() / outliers_Surface[maskNotNull_Surface].shape[0])*100,1))"
   ]
  },
  {
   "cell_type": "markdown",
   "metadata": {},
   "source": [
    "Se reemplaza a los outliers por nulos"
   ]
  },
  {
   "cell_type": "code",
   "execution_count": 70,
   "metadata": {},
   "outputs": [],
   "source": [
    "maskOutliers= outliers_Surface !=\"No es outlier\"\n",
    "data.loc[maskOutliers,'surface_total_in_m2_clean'] = np.NaN"
   ]
  },
  {
   "cell_type": "markdown",
   "metadata": {},
   "source": [
    "Visualización sin outliers"
   ]
  },
  {
   "cell_type": "code",
   "execution_count": 71,
   "metadata": {},
   "outputs": [
    {
     "data": {
      "text/plain": [
       "Text(0, 0.5, 'Metros cuadrados')"
      ]
     },
     "execution_count": 71,
     "metadata": {},
     "output_type": "execute_result"
    },
    {
     "data": {
      "image/png": "[encoded data removed]",
      "text/plain": [
       "<Figure size 864x504 with 1 Axes>"
      ]
     },
     "metadata": {
      "needs_background": "light"
     },
     "output_type": "display_data"
    }
   ],
   "source": [
    "f, ax = plt.subplots()\n",
    "f.set_figwidth(12)\n",
    "f.set_figheight(7)\n",
    "\n",
    "sns.boxplot(x=data['property_type'],y=data['surface_total_in_m2_clean'])\n",
    "plt.title(\"Cantidad de metros cuadrados según propiedad (sin outliers)\",fontsize=15)\n",
    "plt.xlabel(\"Tipo de propiedad\",fontsize=11)\n",
    "plt.ylabel(\"Metros cuadrados\",fontsize=11)"
   ]
  },
  {
   "cell_type": "markdown",
   "metadata": {},
   "source": [
    "---\n",
    "<b><a id='section_2_7'>2.7. Columna 'price_usd_per_m2'</a> </b>"
   ]
  },
  {
   "cell_type": "markdown",
   "metadata": {},
   "source": [
    "Análisis de nulos y valores"
   ]
  },
  {
   "cell_type": "code",
   "execution_count": 72,
   "metadata": {},
   "outputs": [
    {
     "data": {
      "text/html": [
       "<div>\n",
       "<style scoped>\n",
       "    .dataframe tbody tr th:only-of-type {\n",
       "        vertical-align: middle;\n",
       "    }\n",
       "\n",
       "    .dataframe tbody tr th {\n",
       "        vertical-align: top;\n",
       "    }\n",
       "\n",
       "    .dataframe thead th {\n",
       "        text-align: right;\n",
       "    }\n",
       "</style>\n",
       "<table border=\"1\" class=\"dataframe\">\n",
       "  <thead>\n",
       "    <tr style=\"text-align: right;\">\n",
       "      <th></th>\n",
       "      <th>type</th>\n",
       "      <th>Porcentaje de nulos</th>\n",
       "      <th>Nulos</th>\n",
       "      <th>Valores distintos</th>\n",
       "      <th>Ejemplos</th>\n",
       "    </tr>\n",
       "  </thead>\n",
       "  <tbody>\n",
       "    <tr>\n",
       "      <th>price_usd_per_m2</th>\n",
       "      <td>float64</td>\n",
       "      <td>0.43</td>\n",
       "      <td>52603</td>\n",
       "      <td>25568</td>\n",
       "      <td>[1127.2727272727273, nan, 1309.090909090909, 1...</td>\n",
       "    </tr>\n",
       "  </tbody>\n",
       "</table>\n",
       "</div>"
      ],
      "text/plain": [
       "                     type  Porcentaje de nulos  Nulos  Valores distintos  \\\n",
       "price_usd_per_m2  float64                 0.43  52603              25568   \n",
       "\n",
       "                                                           Ejemplos  \n",
       "price_usd_per_m2  [1127.2727272727273, nan, 1309.090909090909, 1...  "
      ]
     },
     "execution_count": 72,
     "metadata": {},
     "output_type": "execute_result"
    }
   ],
   "source": [
    "data_describe.loc[data_describe.index.isin(['price_usd_per_m2']),:]"
   ]
  },
  {
   "cell_type": "markdown",
   "metadata": {},
   "source": [
    "Se reemplaza la columna 'price_usd_per_m2' por el cociente de las columnas 'price_aprox_usd_clean' y 'surface_total_in_m2_clean' para que sea consistente con los cambios realizados"
   ]
  },
  {
   "cell_type": "code",
   "execution_count": 73,
   "metadata": {},
   "outputs": [],
   "source": [
    "maskNotNull = data['price_aprox_usd_clean'].notnull() & data['surface_total_in_m2_clean'].notnull()\n",
    "data['price_usd_per_m2_clean'] = (data.loc[maskNotNull, 'price_aprox_usd_clean'] / data.loc[maskNotNull, 'surface_total_in_m2_clean']).round(0)"
   ]
  },
  {
   "cell_type": "markdown",
   "metadata": {},
   "source": [
    "Visualización"
   ]
  },
  {
   "cell_type": "code",
   "execution_count": 74,
   "metadata": {},
   "outputs": [
    {
     "data": {
      "text/plain": [
       "Text(0, 0.5, 'Precio por metro cuadrado')"
      ]
     },
     "execution_count": 74,
     "metadata": {},
     "output_type": "execute_result"
    },
    {
     "data": {
      "image/png": "[encoded data removed]",
      "text/plain": [
       "<Figure size 864x504 with 1 Axes>"
      ]
     },
     "metadata": {
      "needs_background": "light"
     },
     "output_type": "display_data"
    }
   ],
   "source": [
    "f, ax = plt.subplots()\n",
    "f.set_figwidth(12)\n",
    "f.set_figheight(7)\n",
    "sns.violinplot(data['property_type'], data['price_usd_per_m2_clean'])\n",
    "plt.title(\"Precio por metro cuadrado\",fontsize=15)\n",
    "plt.xlabel(\"Tipo de propiedad\",fontsize=11)\n",
    "plt.ylabel(\"Precio por metro cuadrado\",fontsize=11)"
   ]
  },
  {
   "cell_type": "markdown",
   "metadata": {},
   "source": [
    "Análisis de outliers"
   ]
  },
  {
   "cell_type": "code",
   "execution_count": 75,
   "metadata": {},
   "outputs": [
    {
     "data": {
      "text/html": [
       "<div>\n",
       "<style scoped>\n",
       "    .dataframe tbody tr th:only-of-type {\n",
       "        vertical-align: middle;\n",
       "    }\n",
       "\n",
       "    .dataframe tbody tr th {\n",
       "        vertical-align: top;\n",
       "    }\n",
       "\n",
       "    .dataframe thead th {\n",
       "        text-align: right;\n",
       "    }\n",
       "</style>\n",
       "<table border=\"1\" class=\"dataframe\">\n",
       "  <thead>\n",
       "    <tr style=\"text-align: right;\">\n",
       "      <th></th>\n",
       "      <th>outliers_pricexmt2</th>\n",
       "    </tr>\n",
       "  </thead>\n",
       "  <tbody>\n",
       "    <tr>\n",
       "      <th>No es outlier</th>\n",
       "      <td>96.5</td>\n",
       "    </tr>\n",
       "    <tr>\n",
       "      <th>Outlier superior</th>\n",
       "      <td>3.4</td>\n",
       "    </tr>\n",
       "    <tr>\n",
       "      <th>Outlier inferior</th>\n",
       "      <td>0.1</td>\n",
       "    </tr>\n",
       "  </tbody>\n",
       "</table>\n",
       "</div>"
      ],
      "text/plain": [
       "                  outliers_pricexmt2\n",
       "No es outlier                   96.5\n",
       "Outlier superior                 3.4\n",
       "Outlier inferior                 0.1"
      ]
     },
     "execution_count": 75,
     "metadata": {},
     "output_type": "execute_result"
    }
   ],
   "source": [
    "maskNotNull_pricexmt2 = data['price_usd_per_m2_clean'].notnull()\n",
    "data['outliers_pricexmt2'] = None\n",
    "for i in data['property_type'].unique():\n",
    "    rangoInterquartil_pricexmt2= data.loc[data['property_type']==i,'price_usd_per_m2_clean'].quantile(0.75) - data.loc[data['property_type']==i,'price_usd_per_m2_clean'].quantile(0.25)\n",
    "    umbral_lower_pricexmt2 = data.loc[data['property_type']==i,'price_usd_per_m2_clean'].quantile(0.25) - rangoInterquartil_pricexmt2*1.5\n",
    "    umbral_upper_pricexmt2 = data.loc[data['property_type']==i,'price_usd_per_m2_clean'].quantile(0.75) + rangoInterquartil_pricexmt2*1.5\n",
    "\n",
    "\n",
    "    data.loc[maskNotNull_pricexmt2 & (data['property_type']==i), 'outliers_pricexmt2']= data.loc[maskNotNull_pricexmt2 & (data['property_type']==i), 'price_usd_per_m2_clean'].apply\\\n",
    "                                                                                    (lambda x: \"Outlier superior\" if x >umbral_upper_pricexmt2 else(\n",
    "                                                                                 \"Outlier inferior\" if x<umbral_lower_pricexmt2 else \n",
    "                                                                                 \"No es outlier\"))\n",
    "\n",
    "outliers_pricexmt2 = data['outliers_pricexmt2']\n",
    "data = data.drop(columns = ['outliers_pricexmt2'])\n",
    "pd.DataFrame(round((outliers_pricexmt2.value_counts() / outliers_pricexmt2[maskNotNull_pricexmt2].shape[0])*100,1))"
   ]
  },
  {
   "cell_type": "markdown",
   "metadata": {},
   "source": [
    "Se reemplaza a los outliers por nulos"
   ]
  },
  {
   "cell_type": "markdown",
   "metadata": {},
   "source": [
    "--------------\n",
    "## Comentario\n",
    "Está perfecto la forma en la que eliminan outliers. Les recomendaría hacer una **función** que lo haga, así no tienen que repetir el mismo código tantas veces.\n",
    "\n",
    "```python\n",
    "def outliers_cleaning(dataframe, target_column, category_column=None):\n",
    "    dataf = dataframe.copy()\n",
    "    mask_notnull = dataf[target_column].notnull()\n",
    "    \n",
    "    for category in dataf[category_column].unique():\n",
    "        mask_category = dataf[category_column] == category\n",
    "        \n",
    "        iq_range = dataf.loc[mask_category, target_column].quantile(0.75) - \\\n",
    "                   dataf.loc[mask_category, target_column].quantile(0.25)\n",
    "        \n",
    "        lower_range = dataf.loc[mask_category, target_column].quantile(0.25) - iq_range * 1.5\n",
    "        upper_range = dataf.loc[mask_category, target_column].quantile(0.75) + iq_range * 1.5\n",
    "\n",
    "        \n",
    "        dataf.loc[(mask_notnull & mask_category), 'outliers'] = data.loc[(mask_notnull & mask_category), target_category]\\\n",
    "                                                                    .apply(lambda x: \"Outlier superior\" if x > upper_range \\\n",
    "                                                                                      else ( \"Outlier inferior\" if x < lower_range \\\n",
    "                                                                                          else \"No es outlier\"))\n",
    "\n",
    "    outliers = data['outliers']\n",
    "    dataf = dataf.drop(columns = ['outliers'])\n",
    "    summary = pd.DataFrame(round((outliers.value_counts() / outliers[mask_notnull].shape[0])*100,1))\n",
    "    display(summary)\n",
    "    \n",
    "    return dataf\n",
    "```\n",
    "\n",
    "#### Lo mismo va para los gráficos\n",
    "--------------\n",
    "\n"
   ]
  },
  {
   "cell_type": "code",
   "execution_count": 76,
   "metadata": {},
   "outputs": [],
   "source": [
    "maskOutliers= outliers_pricexmt2 !=\"No es outlier\"\n",
    "data.loc[maskOutliers,'price_usd_per_m2_clean'] = np.NaN"
   ]
  },
  {
   "cell_type": "markdown",
   "metadata": {},
   "source": [
    "Visualización sin outliers"
   ]
  },
  {
   "cell_type": "code",
   "execution_count": 77,
   "metadata": {},
   "outputs": [
    {
     "data": {
      "text/plain": [
       "Text(0, 0.5, 'Precio por metro cuadrado')"
      ]
     },
     "execution_count": 77,
     "metadata": {},
     "output_type": "execute_result"
    },
    {
     "data": {
      "image/png": "[encoded data removed]",
      "text/plain": [
       "<Figure size 864x504 with 1 Axes>"
      ]
     },
     "metadata": {
      "needs_background": "light"
     },
     "output_type": "display_data"
    }
   ],
   "source": [
    "f, ax = plt.subplots()\n",
    "f.set_figwidth(12)\n",
    "f.set_figheight(7)\n",
    "sns.violinplot(data['property_type'], data['price_usd_per_m2_clean'])\n",
    "plt.title(\"Precio por metro cuadrado (sin outliers)\",fontsize=15)\n",
    "plt.xlabel(\"Tipo de propiedad\",fontsize=11)\n",
    "plt.ylabel(\"Precio por metro cuadrado\",fontsize=11)"
   ]
  },
  {
   "cell_type": "markdown",
   "metadata": {},
   "source": [
    "---\n",
    "---"
   ]
  },
  {
   "cell_type": "markdown",
   "metadata": {},
   "source": [
    "<b><a id='section_3'><h4>3. Nuevas variables</h4></a></b>\n",
    "<a href='#section_3_1'>3.1. Pileta</a>  \n",
    "<a href='#section_3_2'>3.2. Cochera  </a>  \n",
    "<a href='#section_3_3'>3.3. Barrio cerrado</a>"
   ]
  },
  {
   "cell_type": "markdown",
   "metadata": {},
   "source": [
    "Definimos una función para graficar los patrones encontrados"
   ]
  },
  {
   "cell_type": "code",
   "execution_count": 78,
   "metadata": {},
   "outputs": [],
   "source": [
    "data['decil'] = pd.qcut(data['price_aprox_usd_clean'],10,labels=[1,2,3,4,5,6,7,8,9,10])\n",
    "def chart_type(y_value):\n",
    "    chart_pattern = pd.DataFrame(data[y_value].value_counts())\n",
    "    chart_pattern[y_value+\" (%)\"] = round(pd.DataFrame(data[y_value].value_counts())/data[y_value].shape[0]*100,2)\n",
    "    \n",
    "    chart_property = (data.groupby('property_type')[y_value].sum()/data.groupby('property_type')[y_value].count())*100\n",
    "    chart_property = pd.DataFrame(round(chart_property,2))\n",
    "    chart_property =chart_property.reset_index()\n",
    "    \n",
    "    chart_decil = (data.groupby('decil')[y_value].sum()/data.groupby('decil')[y_value].count())*100\n",
    "    chart_decil = pd.DataFrame(round(chart_decil,2))\n",
    "    chart_decil =chart_decil.reset_index()\n",
    "    \n",
    "    f, (ax1, ax2, ax3) = plt.subplots(1, 3)\n",
    "    f.set_figwidth(12)\n",
    "    f.set_figheight(4.5)\n",
    "    \n",
    "    ax1.pie(chart_pattern[y_value],labels=chart_pattern.index, autopct='%1.1f%%', shadow=True)  \n",
    "    sns.barplot(x='property_type', y=y_value, data=chart_property, ax=ax2)\n",
    "    sns.barplot(x='decil', y=y_value, data=chart_decil, color = \"#009966\", ax=ax3)\n",
    "    \n",
    "    plt.tight_layout()\n",
    "    ax1.title.set_text(\"Patrones de \\'\"+y_value+\"\\' encontrados\")\n",
    "    ax2.title.set_text(\"Porcentaje de \"+y_value+\" por tipo de propiedad\")\n",
    "    ax3.title.set_text(\"Porcentaje de \"+y_value+\" según decil\\ndel valor de la propiedad\")\n",
    "    return"
   ]
  },
  {
   "cell_type": "markdown",
   "metadata": {},
   "source": [
    "--------------\n",
    "## Comentario\n",
    "Muy bien por hacer una función para los gráficos, específicamente para unos tan complejos. Recomiendo permitir pasar más argumentos a la función, por si quieren darle otro uso.\n",
    "\n",
    "--------------"
   ]
  },
  {
   "cell_type": "markdown",
   "metadata": {},
   "source": [
    "---\n",
    "<b><a id='section_3_1'>3.1. Pileta</a>  </b>"
   ]
  },
  {
   "cell_type": "code",
   "execution_count": 79,
   "metadata": {},
   "outputs": [
    {
     "data": {
      "image/png": "[encoded data removed]",
      "text/plain": [
       "<Figure size 864x324 with 3 Axes>"
      ]
     },
     "metadata": {
      "needs_background": "light"
     },
     "output_type": "display_data"
    }
   ],
   "source": [
    "#Pattern\n",
    "regexPileta = re.compile(\"(?P<pileta>pileta|picina|piscina|pisina)\")\n",
    "\n",
    "data['pileta'] = 0\n",
    "#Regex en la columna 'descripcion'\n",
    "MatchsPileta = data['description_lower'].apply(lambda x: x if x is np.NaN else regexPileta.search(x))\n",
    "maskPileta_Match = MatchsPileta.notnull()\n",
    "data.loc[maskPileta_Match, 'pileta'] = 1\n",
    "\n",
    "#Regex en la columna 'title'\n",
    "MatchsPileta = data['title_lower'].apply(lambda x: x if x is np.NaN else regexPileta.search(x))\n",
    "maskPileta_Match = MatchsPileta.notnull()\n",
    "data.loc[maskPileta_Match, 'pileta'] = 1\n",
    "\n",
    "chart_type('pileta')"
   ]
  },
  {
   "cell_type": "markdown",
   "metadata": {},
   "source": [
    "---\n",
    "<b><a id='section_3_2'>3.2. Cochera</a>  </b>"
   ]
  },
  {
   "cell_type": "code",
   "execution_count": 80,
   "metadata": {},
   "outputs": [
    {
     "data": {
      "image/png": "[encoded data removed]",
      "text/plain": [
       "<Figure size 864x324 with 3 Axes>"
      ]
     },
     "metadata": {
      "needs_background": "light"
     },
     "output_type": "display_data"
    }
   ],
   "source": [
    "#Pattern\n",
    "regexCochera = re.compile(\"(?P<cochera>cochera|garage|auto\\s|automovil|vehiculo|\\scoche\\s|\\scoches\\s)\")\n",
    "\n",
    "data['cochera'] = 0\n",
    "#Regex en la columna 'descripcion'\n",
    "MatchsCochera = data['description_lower'].apply(lambda x: x if x is np.NaN else regexCochera.search(x))\n",
    "maskCochera_Match = MatchsCochera.notnull()\n",
    "data.loc[maskCochera_Match, 'cochera'] = 1\n",
    "\n",
    "#Regex en la columna 'title'\n",
    "MatchsCochera = data['title_lower'].apply(lambda x: x if x is np.NaN else regexCochera.search(x))\n",
    "maskCochera_Match = MatchsCochera.notnull()\n",
    "data.loc[maskCochera_Match, 'cochera'] = 1\n",
    "\n",
    "chart_type('cochera')"
   ]
  },
  {
   "cell_type": "markdown",
   "metadata": {},
   "source": [
    "---\n",
    "<b><a id='section_3_3'>3.3. Barrio cerrado</a>  </b>"
   ]
  },
  {
   "cell_type": "code",
   "execution_count": 81,
   "metadata": {},
   "outputs": [
    {
     "data": {
      "image/png": "[encoded data removed]",
      "text/plain": [
       "<Figure size 864x324 with 3 Axes>"
      ]
     },
     "metadata": {
      "needs_background": "light"
     },
     "output_type": "display_data"
    }
   ],
   "source": [
    "#Pattern\n",
    "regexBarrioCerrado = re.compile(\"(?P<barrio>(barrio cerrado)|(barrio semicerrado)|(barrio semi cerrado)|country)\")\n",
    "\n",
    "data['BarrioCerrado'] = 0\n",
    "#Regex en la columna 'descripcion'\n",
    "MatchsBarrioCerrado = data['description_lower'].apply(lambda x: x if x is np.NaN else regexBarrioCerrado.search(x))\n",
    "maskBarrioCerrado_Match = MatchsBarrioCerrado.notnull()\n",
    "data.loc[maskBarrioCerrado_Match, 'BarrioCerrado'] = 1\n",
    "\n",
    "#Regex en la columna 'title'\n",
    "MatchsBarrioCerrado = data['title_lower'].apply(lambda x: x if x is np.NaN else regexBarrioCerrado.search(x))\n",
    "maskBarrioCerrado_Match = MatchsBarrioCerrado.notnull()\n",
    "data.loc[maskBarrioCerrado_Match, 'BarrioCerrado'] = 1\n",
    "\n",
    "chart_type('BarrioCerrado')"
   ]
  },
  {
   "cell_type": "markdown",
   "metadata": {},
   "source": [
    "---\n",
    "<b><a id='section_3_9'>3.9. Seguridad</a>  </b>"
   ]
  },
  {
   "cell_type": "code",
   "execution_count": 84,
   "metadata": {},
   "outputs": [
    {
     "data": {
      "image/png": "[encoded data removed]",
      "text/plain": [
       "<Figure size 864x324 with 3 Axes>"
      ]
     },
     "metadata": {
      "needs_background": "light"
     },
     "output_type": "display_data"
    }
   ],
   "source": [
    "#Pattern\n",
    "regexSeguridad = re.compile(\"(?P<seguridad>seguridad|vigilancia|c[a|á]maras|ojo de halc[o|ó]n|vigilador|garita|circuito cerrado|cctv|monitoreo|seg 24|24hr)+\")\n",
    "\n",
    "data['Seguridad'] = 0\n",
    "#Regex en la columna 'descripcion'\n",
    "MatchsSeguridad = data['description_lower'].apply(lambda x: x if x is np.NaN else regexSeguridad.search(x))\n",
    "maskSeguridad_Match = MatchsSeguridad.notnull()\n",
    "data.loc[maskSeguridad_Match, 'Seguridad'] = 1\n",
    "\n",
    "#Regex en la columna 'title'\n",
    "MatchsSeguridad = data['title_lower'].apply(lambda x: x if x is np.NaN else regexSeguridad.search(x))\n",
    "maskSeguridad_Match = MatchsSeguridad.notnull()\n",
    "data.loc[maskSeguridad_Match, 'Seguridad'] = 1\n",
    "\n",
    "chart_type('Seguridad')"
   ]
  },
  {
   "cell_type": "markdown",
   "metadata": {},
   "source": [
    "---\n",
    "<b><a id='section_3_10'>3.10. A Reciclar</a>  </b>"
   ]
  },
  {
   "cell_type": "code",
   "execution_count": 85,
   "metadata": {},
   "outputs": [
    {
     "data": {
      "image/png": "[encoded data removed]",
      "text/plain": [
       "<Figure size 864x324 with 3 Axes>"
      ]
     },
     "metadata": {
      "needs_background": "light"
     },
     "output_type": "display_data"
    }
   ],
   "source": [
    "#Pattern\n",
    "regexReciclar = re.compile(\"(?P<reciclar>reciclar|refaccionar|acondicionar|a terminar|para terminar)+\")\n",
    "\n",
    "data['Reciclar'] = 0\n",
    "#Regex en la columna 'descripcion'\n",
    "MatchsReciclar = data['description_lower'].apply(lambda x: x if x is np.NaN else regexReciclar.search(x))\n",
    "maskReciclar_Match = MatchsReciclar.notnull()\n",
    "data.loc[maskReciclar_Match, 'Reciclar'] = 1\n",
    "\n",
    "#Regex en la columna 'title'\n",
    "MatchsReciclar = data['title_lower'].apply(lambda x: x if x is np.NaN else regexReciclar.search(x))\n",
    "maskReciclar_Match = MatchsReciclar.notnull()\n",
    "data.loc[maskReciclar_Match, 'Reciclar'] = 1\n",
    "\n",
    "chart_type('Reciclar')"
   ]
  },
  {
   "cell_type": "markdown",
   "metadata": {},
   "source": [
    "---\n",
    "<b><a id='section_3_11'>3.11. De Epoca</a>  </b>"
   ]
  },
  {
   "cell_type": "code",
   "execution_count": 86,
   "metadata": {},
   "outputs": [
    {
     "data": {
      "image/png": "[encoded data removed]",
      "text/plain": [
       "<Figure size 864x324 with 3 Axes>"
      ]
     },
     "metadata": {
      "needs_background": "light"
     },
     "output_type": "display_data"
    }
   ],
   "source": [
    "#Pattern\n",
    "regexEpoca = re.compile(\"(?P<epoca>de [é|e]poca)+\")\n",
    "\n",
    "data['Epoca'] = 0\n",
    "#Regex en la columna 'descripcion'\n",
    "MatchsEpoca = data['description_lower'].apply(lambda x: x if x is np.NaN else regexEpoca.search(x))\n",
    "maskEpoca_Match = MatchsEpoca.notnull()\n",
    "data.loc[maskEpoca_Match, 'Epoca'] = 1\n",
    "\n",
    "#Regex en la columna 'title'\n",
    "MatchsEpoca = data['title_lower'].apply(lambda x: x if x is np.NaN else regexEpoca.search(x))\n",
    "maskEpoca_Match = MatchsEpoca.notnull()\n",
    "data.loc[maskEpoca_Match, 'Epoca'] = 1\n",
    "\n",
    "chart_type('Epoca')"
   ]
  },
  {
   "cell_type": "markdown",
   "metadata": {},
   "source": [
    "---\n",
    "<b><a id='section_3_12'>3.12. Parque, Patio, Jardin</a>  </b>"
   ]
  },
  {
   "cell_type": "code",
   "execution_count": 88,
   "metadata": {},
   "outputs": [
    {
     "data": {
      "image/png": "[encoded data removed]",
      "text/plain": [
       "<Figure size 864x324 with 3 Axes>"
      ]
     },
     "metadata": {
      "needs_background": "light"
     },
     "output_type": "display_data"
    }
   ],
   "source": [
    "#Pattern\n",
    "regexJardin = re.compile(\"(?P<parque>con parque|al parque|jard[i|í]n|patio)+\")\n",
    "\n",
    "data['Jardin'] = 0\n",
    "#Regex en la columna 'descripcion'\n",
    "MatchsJardin = data['description_lower'].apply(lambda x: x if x is np.NaN else regexJardin.search(x))\n",
    "maskJardin_Match = MatchsJardin.notnull()\n",
    "data.loc[maskJardin_Match, 'Jardin'] = 1\n",
    "\n",
    "#Regex en la columna 'title'\n",
    "MatchsJardin = data['title_lower'].apply(lambda x: x if x is np.NaN else regexJardin.search(x))\n",
    "maskJardin_Match = MatchsJardin.notnull()\n",
    "data.loc[maskJardin_Match, 'Jardin'] = 1\n",
    "\n",
    "chart_type('Jardin')"
   ]
  },
  {
   "cell_type": "code",
   "execution_count": null,
   "metadata": {},
   "outputs": [],
   "source": []
  },
  {
   "cell_type": "code",
   "execution_count": null,
   "metadata": {},
   "outputs": [],
   "source": []
  },
  {
   "cell_type": "markdown",
   "metadata": {},
   "source": [
    "---\n",
    "---\n",
    "<b><a id='section_4'><h4>4. Dataset final</h4></a></b>"
   ]
  },
  {
   "cell_type": "markdown",
   "metadata": {},
   "source": [
    "Se construye un dataset con las variables que serán utilizadas en el modelo"
   ]
  },
  {
   "cell_type": "code",
   "execution_count": 89,
   "metadata": {},
   "outputs": [],
   "source": [
    "data_final = data[['property_type','provincia','ciudad','departamento','barrio',\n",
    "                   'price_aprox_usd_clean','surface_total_in_m2_clean','price_usd_per_m2_clean','rooms_clean',\n",
    "                  'pileta','cochera','BarrioCerrado','Seguridad', 'Reciclar', 'Epoca', 'Jardin']]"
   ]
  },
  {
   "cell_type": "markdown",
   "metadata": {},
   "source": [
    "Se conserva únicamente las observaciones donde el <u>precio por metro cuadrado no es nulo</u>, ya que esta será la variable a estimar en el modelo"
   ]
  },
  {
   "cell_type": "code",
   "execution_count": 90,
   "metadata": {},
   "outputs": [],
   "source": [
    "mask = data['price_usd_per_m2_clean'].notnull()\n",
    "data_final = data_final.loc[mask,:]"
   ]
  },
  {
   "cell_type": "code",
   "execution_count": 91,
   "metadata": {},
   "outputs": [
    {
     "name": "stdout",
     "output_type": "stream",
     "text": [
      "El dataset que se utilizará para realizar el modelo tiene 79511  observaciones.\n"
     ]
    },
    {
     "data": {
      "text/html": [
       "<div>\n",
       "<style scoped>\n",
       "    .dataframe tbody tr th:only-of-type {\n",
       "        vertical-align: middle;\n",
       "    }\n",
       "\n",
       "    .dataframe tbody tr th {\n",
       "        vertical-align: top;\n",
       "    }\n",
       "\n",
       "    .dataframe thead th {\n",
       "        text-align: right;\n",
       "    }\n",
       "</style>\n",
       "<table border=\"1\" class=\"dataframe\">\n",
       "  <thead>\n",
       "    <tr style=\"text-align: right;\">\n",
       "      <th></th>\n",
       "      <th>type</th>\n",
       "      <th>Porcentaje de nulos</th>\n",
       "      <th>Valores distintos</th>\n",
       "      <th>Ejemplos</th>\n",
       "    </tr>\n",
       "  </thead>\n",
       "  <tbody>\n",
       "    <tr>\n",
       "      <th>property_type</th>\n",
       "      <td>object</td>\n",
       "      <td>0.00</td>\n",
       "      <td>4</td>\n",
       "      <td>[PH, apartment, house, store]</td>\n",
       "    </tr>\n",
       "    <tr>\n",
       "      <th>provincia</th>\n",
       "      <td>object</td>\n",
       "      <td>0.00</td>\n",
       "      <td>28</td>\n",
       "      <td>[Capital Federal, Bs.As. G.B.A. Zona Norte, Bs...</td>\n",
       "    </tr>\n",
       "    <tr>\n",
       "      <th>ciudad</th>\n",
       "      <td>object</td>\n",
       "      <td>0.03</td>\n",
       "      <td>409</td>\n",
       "      <td>[Mataderos, Vicente López, Pilar, Mar del Plat...</td>\n",
       "    </tr>\n",
       "    <tr>\n",
       "      <th>departamento</th>\n",
       "      <td>object</td>\n",
       "      <td>0.64</td>\n",
       "      <td>515</td>\n",
       "      <td>[None, Munro, Pilar, Quilmes, Ramos Mejía, San...</td>\n",
       "    </tr>\n",
       "    <tr>\n",
       "      <th>barrio</th>\n",
       "      <td>object</td>\n",
       "      <td>0.99</td>\n",
       "      <td>17</td>\n",
       "      <td>[None, Enyoi, QBay Yacht, Islas del Canal, Bar...</td>\n",
       "    </tr>\n",
       "    <tr>\n",
       "      <th>price_aprox_usd_clean</th>\n",
       "      <td>float64</td>\n",
       "      <td>0.00</td>\n",
       "      <td>8238</td>\n",
       "      <td>[62000.0, 130000.0, 239000.0, 169000.0, 165000...</td>\n",
       "    </tr>\n",
       "    <tr>\n",
       "      <th>surface_total_in_m2_clean</th>\n",
       "      <td>float64</td>\n",
       "      <td>0.00</td>\n",
       "      <td>1644</td>\n",
       "      <td>[55.0, 106.0, 140.0, 172.0, 117.04945629183474...</td>\n",
       "    </tr>\n",
       "    <tr>\n",
       "      <th>price_usd_per_m2_clean</th>\n",
       "      <td>float64</td>\n",
       "      <td>0.00</td>\n",
       "      <td>3913</td>\n",
       "      <td>[1127.0, 1226.0, 1707.0, 983.0, 1179.0, 657.0,...</td>\n",
       "    </tr>\n",
       "    <tr>\n",
       "      <th>rooms_clean</th>\n",
       "      <td>float64</td>\n",
       "      <td>0.12</td>\n",
       "      <td>8</td>\n",
       "      <td>[2.0, 3.0, 4.0, nan, 5.0, 1.0, 6.0, 7.0]</td>\n",
       "    </tr>\n",
       "    <tr>\n",
       "      <th>pileta</th>\n",
       "      <td>int64</td>\n",
       "      <td>0.00</td>\n",
       "      <td>2</td>\n",
       "      <td>[0, 1]</td>\n",
       "    </tr>\n",
       "    <tr>\n",
       "      <th>cochera</th>\n",
       "      <td>int64</td>\n",
       "      <td>0.00</td>\n",
       "      <td>2</td>\n",
       "      <td>[0, 1]</td>\n",
       "    </tr>\n",
       "    <tr>\n",
       "      <th>BarrioCerrado</th>\n",
       "      <td>int64</td>\n",
       "      <td>0.00</td>\n",
       "      <td>2</td>\n",
       "      <td>[0, 1]</td>\n",
       "    </tr>\n",
       "    <tr>\n",
       "      <th>Seguridad</th>\n",
       "      <td>int64</td>\n",
       "      <td>0.00</td>\n",
       "      <td>2</td>\n",
       "      <td>[0, 1]</td>\n",
       "    </tr>\n",
       "    <tr>\n",
       "      <th>Reciclar</th>\n",
       "      <td>int64</td>\n",
       "      <td>0.00</td>\n",
       "      <td>2</td>\n",
       "      <td>[0, 1]</td>\n",
       "    </tr>\n",
       "    <tr>\n",
       "      <th>Epoca</th>\n",
       "      <td>int64</td>\n",
       "      <td>0.00</td>\n",
       "      <td>2</td>\n",
       "      <td>[0, 1]</td>\n",
       "    </tr>\n",
       "    <tr>\n",
       "      <th>Jardin</th>\n",
       "      <td>int64</td>\n",
       "      <td>0.00</td>\n",
       "      <td>2</td>\n",
       "      <td>[1, 0]</td>\n",
       "    </tr>\n",
       "  </tbody>\n",
       "</table>\n",
       "</div>"
      ],
      "text/plain": [
       "                              type  Porcentaje de nulos  Valores distintos  \\\n",
       "property_type               object                 0.00                  4   \n",
       "provincia                   object                 0.00                 28   \n",
       "ciudad                      object                 0.03                409   \n",
       "departamento                object                 0.64                515   \n",
       "barrio                      object                 0.99                 17   \n",
       "price_aprox_usd_clean      float64                 0.00               8238   \n",
       "surface_total_in_m2_clean  float64                 0.00               1644   \n",
       "price_usd_per_m2_clean     float64                 0.00               3913   \n",
       "rooms_clean                float64                 0.12                  8   \n",
       "pileta                       int64                 0.00                  2   \n",
       "cochera                      int64                 0.00                  2   \n",
       "BarrioCerrado                int64                 0.00                  2   \n",
       "Seguridad                    int64                 0.00                  2   \n",
       "Reciclar                     int64                 0.00                  2   \n",
       "Epoca                        int64                 0.00                  2   \n",
       "Jardin                       int64                 0.00                  2   \n",
       "\n",
       "                                                                    Ejemplos  \n",
       "property_type                                  [PH, apartment, house, store]  \n",
       "provincia                  [Capital Federal, Bs.As. G.B.A. Zona Norte, Bs...  \n",
       "ciudad                     [Mataderos, Vicente López, Pilar, Mar del Plat...  \n",
       "departamento               [None, Munro, Pilar, Quilmes, Ramos Mejía, San...  \n",
       "barrio                     [None, Enyoi, QBay Yacht, Islas del Canal, Bar...  \n",
       "price_aprox_usd_clean      [62000.0, 130000.0, 239000.0, 169000.0, 165000...  \n",
       "surface_total_in_m2_clean  [55.0, 106.0, 140.0, 172.0, 117.04945629183474...  \n",
       "price_usd_per_m2_clean     [1127.0, 1226.0, 1707.0, 983.0, 1179.0, 657.0,...  \n",
       "rooms_clean                         [2.0, 3.0, 4.0, nan, 5.0, 1.0, 6.0, 7.0]  \n",
       "pileta                                                                [0, 1]  \n",
       "cochera                                                               [0, 1]  \n",
       "BarrioCerrado                                                         [0, 1]  \n",
       "Seguridad                                                             [0, 1]  \n",
       "Reciclar                                                              [0, 1]  \n",
       "Epoca                                                                 [0, 1]  \n",
       "Jardin                                                                [1, 0]  "
      ]
     },
     "execution_count": 91,
     "metadata": {},
     "output_type": "execute_result"
    }
   ],
   "source": [
    "data_describe_final = pd.DataFrame(round(data_final.isnull().sum() /data_final.shape[0],2), columns= ['Porcentaje de nulos'])\n",
    "data_describe_final['type'] = data_final.dtypes\n",
    "data_describe_final = data_describe_final[['type','Porcentaje de nulos']]\n",
    "values= []\n",
    "example=[]\n",
    "for x in data_final:\n",
    "    values.append(len(data_final[x].unique()))\n",
    "    example.append(data_final[x].unique())\n",
    "data_describe_final['Valores distintos'] = values\n",
    "data_describe_final['Ejemplos'] = example\n",
    "\n",
    "print(\"El dataset que se utilizará para realizar el modelo tiene\",data_final.shape[0],\" observaciones.\")\n",
    "data_describe_final"
   ]
  },
  {
   "cell_type": "code",
   "execution_count": null,
   "metadata": {},
   "outputs": [],
   "source": []
  }
 ],
 "metadata": {
  "kernelspec": {
   "display_name": "Python 3",
   "language": "python",
   "name": "python3"
  },
  "language_info": {
   "codemirror_mode": {
    "name": "ipython",
    "version": 3
   },
   "file_extension": ".py",
   "mimetype": "text/x-python",
   "name": "python",
   "nbconvert_exporter": "python",
   "pygments_lexer": "ipython3",
   "version": "3.7.7"
  }
 },
 "nbformat": 4,
 "nbformat_minor": 4
}
