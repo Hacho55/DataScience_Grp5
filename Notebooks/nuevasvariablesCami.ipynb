{
 "cells": [
  {
   "cell_type": "code",
   "execution_count": null,
   "metadata": {},
   "outputs": [],
   "source": [
    "#Pattern\n",
    "regexBalcon = re.compile(\"(?P<balcon>balcon|balcón|balcones)\")\n",
    "\n",
    "data['balcon'] = 0\n",
    "#Regex en la columna 'descripcion'\n",
    "MatchsBalcon = data['description_lower'].apply(lambda x: x if x is np.NaN else regexBalcon.search(x))\n",
    "maskBalcon_Match = MatchsBalcon.notnull()\n",
    "data.loc[maskBalcon_Match, 'balcon'] = 1\n",
    "\n",
    "#Regex en la columna 'title'\n",
    "MatchsBalcon = data['title_lower'].apply(lambda x: x if x is np.NaN else regexBalcon.search(x))\n",
    "maskBalcon_Match = MatchsBalcon.notnull()\n",
    "data.loc[maskBalcon_Match, 'balcon'] = 1\n",
    "\n",
    "chart_type('balcon')"
   ]
  },
  {
   "cell_type": "code",
   "execution_count": null,
   "metadata": {},
   "outputs": [],
   "source": [
    "#Pattern\n",
    "regexEstrenar = re.compile(\"(?P<Estrenar>(a estrenar)|(departamento nuevo))\")\n",
    "\n",
    "data['estrenar'] = 0\n",
    "#Regex en la columna 'descripcion'\n",
    "MatchsEstrenar = data['description_lower'].apply(lambda x: x if x is np.NaN else regexEstrenar.search(x))\n",
    "maskEstrenar_Match = MatchsEstrenar.notnull()\n",
    "data.loc[maskEstrenar_Match, 'estrenar'] = 1\n",
    "\n",
    "#Regex en la columna 'title'\n",
    "MatchsEstrenar = data['title_lower'].apply(lambda x: x if x is np.NaN else regexEstrenar.search(x))\n",
    "maskEstrenar_Match = MatchsEstrenar.notnull()\n",
    "data.loc[maskEstrenar_Match, 'estrenar'] = 1\n",
    "\n",
    "chart_type('estrenar')"
   ]
  },
  {
   "cell_type": "code",
   "execution_count": null,
   "metadata": {},
   "outputs": [],
   "source": [
    "#Pattern\n",
    "regexCalefaccion = re.compile(\"(?P<Calefaccion>(calefacciÃ³n por radiador)|(calefacciÃ³n central)|(calefaccion central)| \\\n",
    "(calefacción central)|(calefacciÃ³n por radiadores)|(calefaccion por losa radiante)|(calefacción por losa radiante))\")\n",
    "\n",
    "data['calefaccion'] = 0\n",
    "#Regex en la columna 'descripcion'\n",
    "MatchsCalefaccion = data['description_lower'].apply(lambda x: x if x is np.NaN else regexCalefaccion.search(x))\n",
    "maskCalefaccion_Match = MatchsCalefaccion.notnull()\n",
    "data.loc[maskCalefaccion_Match, 'calefaccion'] = 1\n",
    "\n",
    "#Regex en la columna 'title'\n",
    "MatchsCalefaccion = data['title_lower'].apply(lambda x: x if x is np.NaN else regexCalefaccion.search(x))\n",
    "maskCalefaccion_Match = MatchsCalefaccion.notnull()\n",
    "data.loc[maskCalefaccion_Match, 'calefaccion'] = 1\n",
    "\n",
    "chart_type('calefaccion')"
   ]
  }
 ],
 "metadata": {
  "kernelspec": {
   "display_name": "Python 3",
   "language": "python",
   "name": "python3"
  },
  "language_info": {
   "codemirror_mode": {
    "name": "ipython",
    "version": 3
   },
   "file_extension": ".py",
   "mimetype": "text/x-python",
   "name": "python",
   "nbconvert_exporter": "python",
   "pygments_lexer": "ipython3",
   "version": "3.7.7"
  }
 },
 "nbformat": 4,
 "nbformat_minor": 4
}
