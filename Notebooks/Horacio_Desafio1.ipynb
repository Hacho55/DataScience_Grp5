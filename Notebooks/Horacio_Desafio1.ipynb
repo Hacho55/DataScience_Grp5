{
 "cells": [
  {
   "cell_type": "markdown",
   "metadata": {},
   "source": [
    "# Desafio 1"
   ]
  },
  {
   "cell_type": "markdown",
   "metadata": {},
   "source": [
    "### Importacion de librerias y base de datos"
   ]
  },
  {
   "cell_type": "code",
   "execution_count": 570,
   "metadata": {},
   "outputs": [],
   "source": [
    "import numpy as np\n",
    "import pandas as pd"
   ]
  },
  {
   "cell_type": "code",
   "execution_count": 571,
   "metadata": {},
   "outputs": [
    {
     "name": "stdout",
     "output_type": "stream",
     "text": [
      "(121220, 26)\n"
     ]
    },
    {
     "data": {
      "text/html": [
       "<div>\n",
       "<style scoped>\n",
       "    .dataframe tbody tr th:only-of-type {\n",
       "        vertical-align: middle;\n",
       "    }\n",
       "\n",
       "    .dataframe tbody tr th {\n",
       "        vertical-align: top;\n",
       "    }\n",
       "\n",
       "    .dataframe thead th {\n",
       "        text-align: right;\n",
       "    }\n",
       "</style>\n",
       "<table border=\"1\" class=\"dataframe\">\n",
       "  <thead>\n",
       "    <tr style=\"text-align: right;\">\n",
       "      <th></th>\n",
       "      <th>Unnamed: 0</th>\n",
       "      <th>operation</th>\n",
       "      <th>property_type</th>\n",
       "      <th>place_name</th>\n",
       "      <th>place_with_parent_names</th>\n",
       "      <th>country_name</th>\n",
       "      <th>state_name</th>\n",
       "      <th>geonames_id</th>\n",
       "      <th>lat-lon</th>\n",
       "      <th>lat</th>\n",
       "      <th>...</th>\n",
       "      <th>surface_covered_in_m2</th>\n",
       "      <th>price_usd_per_m2</th>\n",
       "      <th>price_per_m2</th>\n",
       "      <th>floor</th>\n",
       "      <th>rooms</th>\n",
       "      <th>expenses</th>\n",
       "      <th>properati_url</th>\n",
       "      <th>description</th>\n",
       "      <th>title</th>\n",
       "      <th>image_thumbnail</th>\n",
       "    </tr>\n",
       "  </thead>\n",
       "  <tbody>\n",
       "    <tr>\n",
       "      <th>105671</th>\n",
       "      <td>105671</td>\n",
       "      <td>sell</td>\n",
       "      <td>house</td>\n",
       "      <td>La Plata</td>\n",
       "      <td>|Argentina|Bs.As. G.B.A. Zona Sur|La Plata|La Plata|</td>\n",
       "      <td>Argentina</td>\n",
       "      <td>Bs.As. G.B.A. Zona Sur</td>\n",
       "      <td>3432039.0</td>\n",
       "      <td>NaN</td>\n",
       "      <td>NaN</td>\n",
       "      <td>...</td>\n",
       "      <td>171.0</td>\n",
       "      <td>NaN</td>\n",
       "      <td>NaN</td>\n",
       "      <td>NaN</td>\n",
       "      <td>NaN</td>\n",
       "      <td>NaN</td>\n",
       "      <td>http://www.properati.com.ar/1bv2c_venta_casa_la-plata_mirta-libera-propiedades_gok</td>\n",
       "      <td>VENTA - CASA/ LOCAL/ TERRENO -  LA PLATA - Calle 07 71 y 72.Apto emprendimiento/desarrolloSobre avenida 7, buen lote de 8,66 x 34,54, con 171m2 cubiertos a refaccionar. Posee al frente local comercial de 5 x 7 con doble vidriera, cortina de enrollar y baño. La casa tiene entrada por pasillo lateral, es de estilo chorizo con todos los ambientes en hilera que dan a una galería.</td>\n",
       "      <td>Terreno - La Plata</td>\n",
       "      <td>https://thumbs4.properati.com/4/7OzlQPOuG-pR8SYyAoI4syqnCuo=/trim/198x0/smart/filters:strip_icc()/tbcn.s3-accelerate.amazonaws.com/water_pics/42520786403820870433167466765125523632727550518974342286557314857921714581149.jpg</td>\n",
       "    </tr>\n",
       "  </tbody>\n",
       "</table>\n",
       "<p>1 rows × 26 columns</p>\n",
       "</div>"
      ],
      "text/plain": [
       "        Unnamed: 0 operation property_type place_name  \\\n",
       "105671      105671      sell         house   La Plata   \n",
       "\n",
       "                                     place_with_parent_names country_name  \\\n",
       "105671  |Argentina|Bs.As. G.B.A. Zona Sur|La Plata|La Plata|    Argentina   \n",
       "\n",
       "                    state_name  geonames_id lat-lon  lat  ...  \\\n",
       "105671  Bs.As. G.B.A. Zona Sur    3432039.0     NaN  NaN  ...   \n",
       "\n",
       "        surface_covered_in_m2  price_usd_per_m2 price_per_m2  floor  rooms  \\\n",
       "105671                  171.0               NaN          NaN    NaN    NaN   \n",
       "\n",
       "        expenses  \\\n",
       "105671       NaN   \n",
       "\n",
       "                                                                             properati_url  \\\n",
       "105671  http://www.properati.com.ar/1bv2c_venta_casa_la-plata_mirta-libera-propiedades_gok   \n",
       "\n",
       "                                                                                                                                                                                                                                                                                                                                                                                        description  \\\n",
       "105671  VENTA - CASA/ LOCAL/ TERRENO -  LA PLATA - Calle 07 71 y 72.Apto emprendimiento/desarrolloSobre avenida 7, buen lote de 8,66 x 34,54, con 171m2 cubiertos a refaccionar. Posee al frente local comercial de 5 x 7 con doble vidriera, cortina de enrollar y baño. La casa tiene entrada por pasillo lateral, es de estilo chorizo con todos los ambientes en hilera que dan a una galería.    \n",
       "\n",
       "                     title  \\\n",
       "105671  Terreno - La Plata   \n",
       "\n",
       "                                                                                                                                                                                                                        image_thumbnail  \n",
       "105671  https://thumbs4.properati.com/4/7OzlQPOuG-pR8SYyAoI4syqnCuo=/trim/198x0/smart/filters:strip_icc()/tbcn.s3-accelerate.amazonaws.com/water_pics/42520786403820870433167466765125523632727550518974342286557314857921714581149.jpg  \n",
       "\n",
       "[1 rows x 26 columns]"
      ]
     },
     "execution_count": 571,
     "metadata": {},
     "output_type": "execute_result"
    }
   ],
   "source": [
    "data_location = \"../Data/properati.csv\"\n",
    "data = pd.read_csv(data_location, sep=\",\")\n",
    "print(data.shape)\n",
    "data.sample()"
   ]
  },
  {
   "cell_type": "markdown",
   "metadata": {},
   "source": [
    "Limpieza y ordenamiento de las columnas \"floor\" y \"rooms\" basados en el tipo de propiedad y la exploracion de los campos \"description\" y \"title\""
   ]
  },
  {
   "cell_type": "code",
   "execution_count": 572,
   "metadata": {},
   "outputs": [
    {
     "data": {
      "text/html": [
       "<div>\n",
       "<style scoped>\n",
       "    .dataframe tbody tr th:only-of-type {\n",
       "        vertical-align: middle;\n",
       "    }\n",
       "\n",
       "    .dataframe tbody tr th {\n",
       "        vertical-align: top;\n",
       "    }\n",
       "\n",
       "    .dataframe thead th {\n",
       "        text-align: right;\n",
       "    }\n",
       "</style>\n",
       "<table border=\"1\" class=\"dataframe\">\n",
       "  <thead>\n",
       "    <tr style=\"text-align: right;\">\n",
       "      <th></th>\n",
       "      <th>property_type</th>\n",
       "      <th>floor</th>\n",
       "      <th>rooms</th>\n",
       "      <th>description</th>\n",
       "      <th>title</th>\n",
       "    </tr>\n",
       "  </thead>\n",
       "  <tbody>\n",
       "    <tr>\n",
       "      <th>114422</th>\n",
       "      <td>house</td>\n",
       "      <td>NaN</td>\n",
       "      <td>NaN</td>\n",
       "      <td>casa en venta de estilo racionalista. con puerta de roble antigua reciclada. dos entradas de servicio. - seguridad 24 hs.- cochera para dos autos- revestimientos en baños y cocina con venecitas \"murvi\"- griferias fv- sanitarios roca- revestimientos exterior en tarquini- pisos de porcelanato \"ilva\"- calefacción por piso radiante, con caldera dual italiana\"baxi\".- 3 aires acondicionados \"elektra\"- gran jardín parquizado e iluminado - 2 dormitorio en planta alta, 1 principal en suite con vestidor- cocina grande bien equipada e incorporada al comedor- lavadero- dependencia de serv. o cuarto de herramientasmatriculado:julio mallmanncmcpsi 5965</td>\n",
       "      <td>casa en venta en pilar - altos del golf</td>\n",
       "    </tr>\n",
       "    <tr>\n",
       "      <th>84794</th>\n",
       "      <td>apartment</td>\n",
       "      <td>NaN</td>\n",
       "      <td>NaN</td>\n",
       "      <td>grupo mgmvende excelente 2 ambientes y 1/2 en vareseexcelente unidad, tanto por ubicacion, distribuccion y altura.mucha luz y grandes vistas a la ciudadcochera cubiertano dude en consultar.mart. y corr. público fabiana orfanelli - reg. nº3543 -grupo mgm desarrollos inmobiliarios</td>\n",
       "      <td>excelente 2 ambientes y 1/2 en varese</td>\n",
       "    </tr>\n",
       "    <tr>\n",
       "      <th>3072</th>\n",
       "      <td>house</td>\n",
       "      <td>NaN</td>\n",
       "      <td>4.0</td>\n",
       "      <td>venta de casa 5 ambientes en ituzaingó ,excelente chalet de categoria ubicado en la mejor zona de ituzaingo , jardin al frente cochera para dos autos, living  con hogar ,cocina-comedor amplio , baño completo , un dormitorio con placard, galeria , lavadero , amplisimo parque , planta alta 3 dormitorios  baño completo, espaciosos ambientes , posible escritorio ,excelente condiciones constructivas, consulte se escuchan propuestas.-información adicional: tipo de techo: teja francesa</td>\n",
       "      <td>u$d 240.000 - casa en venta - atacama     1100</td>\n",
       "    </tr>\n",
       "    <tr>\n",
       "      <th>61072</th>\n",
       "      <td>store</td>\n",
       "      <td>NaN</td>\n",
       "      <td>NaN</td>\n",
       "      <td>locallocal en venta, villa crespo!excelente ubicación, sobre av. scalabrini ortiz frente a parada de colectivos y a 2 cuadras de av. corrientes!local en 3 plantas, 195m2 totales!!!pb: 74m2 / 1º piso 81m2 / sotano 40m2.pb: planta de 3,2 x 18 que luego se ensancha a 5,2 con 2 baños independientes y cómoda escalera que distribuye a 1º piso y sotano.1º piso: planta de 17,7 x 5,3 con algunas divisiones en material y durlock y dos oficinas de 2,5 x 2,3 y 4,2 x 2,6. frente vidriado con persiana eléctrica.sotano: planta libre de 7,5 x 5,3 completamente utilizable.amplias posibilidades de refacción y modificación!ideal inversor!sucursal v. crespo ()sucursal almagro () deja constancia que los m2 indicados son aproximados, al igual que las medidas parciales de los ambientes, y el valor consignado de expensas mensuales está sujeto a verificación y/o ajustes. fotos de carácter no contractual.\" -  - ebertolotti</td>\n",
       "      <td>local en venta</td>\n",
       "    </tr>\n",
       "    <tr>\n",
       "      <th>47469</th>\n",
       "      <td>house</td>\n",
       "      <td>NaN</td>\n",
       "      <td>NaN</td>\n",
       "      <td>impecable residencia de estilo francã©s s/ 4630 m2 lote con salida a lã­ndisima calle cortada elortondo y a libertador, refaccionada en varias etapas manteniendo sus materiales originales. 867 m2 cubiertos y 69 m2 semicubiertos desarrollada en 3 plantas. en planta baja: hall, amplio living y comedor, estar con hogar, toilette, cocina con antecocina y comedor diario, dependencia de servicio, mã¡s 2 cuartos de servicio. 1er planta: 4 dormitorios en suite. 2da planta: 1 dormitorio en suite y altillo 35 m2, pisos de roble y caldã©n, ascensor. calefacciã³n central frã­o-calor. exterior : parque con distintas especies arboreas, pileta revestida, riego por aspersiã³n. detalles: excelente carpinterã­a, herrajes en bronce labrado, cocina y baã±os refaccionados, molduras de techos originales. casa de similar diseã±o destinada a casa de huã©spedes compuesta por 6 ambientes, garage doble, vigilancia.*apta varios destinos*</td>\n",
       "      <td>casa 4630m² con teléfono en elortondo 1800, san isidro, beccar, por u$s 3.500.000</td>\n",
       "    </tr>\n",
       "  </tbody>\n",
       "</table>\n",
       "</div>"
      ],
      "text/plain": [
       "       property_type  floor  rooms  \\\n",
       "114422         house    NaN    NaN   \n",
       "84794      apartment    NaN    NaN   \n",
       "3072           house    NaN    4.0   \n",
       "61072          store    NaN    NaN   \n",
       "47469          house    NaN    NaN   \n",
       "\n",
       "                                                                                                                                                                                                                                                                                                                                                                                                                                                                                                                                                                                                                                                                                                                                                                                                                                                                                                                                                        description  \\\n",
       "114422                                                                                                                                                                                                                                                                                       casa en venta de estilo racionalista. con puerta de roble antigua reciclada. dos entradas de servicio. - seguridad 24 hs.- cochera para dos autos- revestimientos en baños y cocina con venecitas \"murvi\"- griferias fv- sanitarios roca- revestimientos exterior en tarquini- pisos de porcelanato \"ilva\"- calefacción por piso radiante, con caldera dual italiana\"baxi\".- 3 aires acondicionados \"elektra\"- gran jardín parquizado e iluminado - 2 dormitorio en planta alta, 1 principal en suite con vestidor- cocina grande bien equipada e incorporada al comedor- lavadero- dependencia de serv. o cuarto de herramientasmatriculado:julio mallmanncmcpsi 5965   \n",
       "84794                                                                                                                                                                                                                                                                                                                                                                                                                                                                                                                                                                                                                                                                       grupo mgmvende excelente 2 ambientes y 1/2 en vareseexcelente unidad, tanto por ubicacion, distribuccion y altura.mucha luz y grandes vistas a la ciudadcochera cubiertano dude en consultar.mart. y corr. público fabiana orfanelli - reg. nº3543 -grupo mgm desarrollos inmobiliarios   \n",
       "3072                                                                                                                                                                                                                                                                                                                                                                                                                                                            venta de casa 5 ambientes en ituzaingó ,excelente chalet de categoria ubicado en la mejor zona de ituzaingo , jardin al frente cochera para dos autos, living  con hogar ,cocina-comedor amplio , baño completo , un dormitorio con placard, galeria , lavadero , amplisimo parque , planta alta 3 dormitorios  baño completo, espaciosos ambientes , posible escritorio ,excelente condiciones constructivas, consulte se escuchan propuestas.-información adicional: tipo de techo: teja francesa   \n",
       "61072                locallocal en venta, villa crespo!excelente ubicación, sobre av. scalabrini ortiz frente a parada de colectivos y a 2 cuadras de av. corrientes!local en 3 plantas, 195m2 totales!!!pb: 74m2 / 1º piso 81m2 / sotano 40m2.pb: planta de 3,2 x 18 que luego se ensancha a 5,2 con 2 baños independientes y cómoda escalera que distribuye a 1º piso y sotano.1º piso: planta de 17,7 x 5,3 con algunas divisiones en material y durlock y dos oficinas de 2,5 x 2,3 y 4,2 x 2,6. frente vidriado con persiana eléctrica.sotano: planta libre de 7,5 x 5,3 completamente utilizable.amplias posibilidades de refacción y modificación!ideal inversor!sucursal v. crespo ()sucursal almagro () deja constancia que los m2 indicados son aproximados, al igual que las medidas parciales de los ambientes, y el valor consignado de expensas mensuales está sujeto a verificación y/o ajustes. fotos de carácter no contractual.\" -  - ebertolotti   \n",
       "47469   impecable residencia de estilo francã©s s/ 4630 m2 lote con salida a lã­ndisima calle cortada elortondo y a libertador, refaccionada en varias etapas manteniendo sus materiales originales. 867 m2 cubiertos y 69 m2 semicubiertos desarrollada en 3 plantas. en planta baja: hall, amplio living y comedor, estar con hogar, toilette, cocina con antecocina y comedor diario, dependencia de servicio, mã¡s 2 cuartos de servicio. 1er planta: 4 dormitorios en suite. 2da planta: 1 dormitorio en suite y altillo 35 m2, pisos de roble y caldã©n, ascensor. calefacciã³n central frã­o-calor. exterior : parque con distintas especies arboreas, pileta revestida, riego por aspersiã³n. detalles: excelente carpinterã­a, herrajes en bronce labrado, cocina y baã±os refaccionados, molduras de techos originales. casa de similar diseã±o destinada a casa de huã©spedes compuesta por 6 ambientes, garage doble, vigilancia.*apta varios destinos*   \n",
       "\n",
       "                                                                                    title  \n",
       "114422                                            casa en venta en pilar - altos del golf  \n",
       "84794                                               excelente 2 ambientes y 1/2 en varese  \n",
       "3072                                       u$d 240.000 - casa en venta - atacama     1100  \n",
       "61072                                                                      local en venta  \n",
       "47469   casa 4630m² con teléfono en elortondo 1800, san isidro, beccar, por u$s 3.500.000  "
      ]
     },
     "metadata": {},
     "output_type": "display_data"
    },
    {
     "data": {
      "text/plain": [
       "property_type     object\n",
       "floor            float64\n",
       "rooms            float64\n",
       "description       object\n",
       "title             object\n",
       "dtype: object"
      ]
     },
     "execution_count": 572,
     "metadata": {},
     "output_type": "execute_result"
    }
   ],
   "source": [
    "dataFiltrada = data.loc[:, ['property_type', 'floor', 'rooms', 'description', 'title']]\n",
    "dataFiltrada['description'] = dataFiltrada['description'].str.lower()\n",
    "dataFiltrada['title'] = dataFiltrada['title'].str.lower()\n",
    "dataFiltrada.sample()\n",
    "display(dataFiltrada.sample(5))\n",
    "dataFiltrada.dtypes"
   ]
  },
  {
   "cell_type": "markdown",
   "metadata": {},
   "source": [
    "Las variables tienen el tipo correcto de datos para el analisis.\n",
    "Chequeo nulos en el campo \"property_type\" y valores"
   ]
  },
  {
   "cell_type": "code",
   "execution_count": 573,
   "metadata": {},
   "outputs": [
    {
     "name": "stdout",
     "output_type": "stream",
     "text": [
      "apartment    71065\n",
      "house        40268\n",
      "PH            5751\n",
      "store         4136\n",
      "Name: property_type, dtype: int64\n",
      "0\n"
     ]
    }
   ],
   "source": [
    "print(dataFiltrada.property_type.value_counts())\n",
    "print(dataFiltrada.property_type.isnull().sum())"
   ]
  },
  {
   "cell_type": "markdown",
   "metadata": {},
   "source": [
    "Nuevas columnas que son copia de las originales rooms_clean y floor_clean"
   ]
  },
  {
   "cell_type": "code",
   "execution_count": 574,
   "metadata": {},
   "outputs": [],
   "source": [
    "dataFiltrada['rooms_clean'] = dataFiltrada['rooms']\n",
    "dataFiltrada['floor_clean'] = dataFiltrada['floor']"
   ]
  },
  {
   "cell_type": "code",
   "execution_count": 575,
   "metadata": {},
   "outputs": [
    {
     "data": {
      "text/html": [
       "<div>\n",
       "<style scoped>\n",
       "    .dataframe tbody tr th:only-of-type {\n",
       "        vertical-align: middle;\n",
       "    }\n",
       "\n",
       "    .dataframe tbody tr th {\n",
       "        vertical-align: top;\n",
       "    }\n",
       "\n",
       "    .dataframe thead th {\n",
       "        text-align: right;\n",
       "    }\n",
       "</style>\n",
       "<table border=\"1\" class=\"dataframe\">\n",
       "  <thead>\n",
       "    <tr style=\"text-align: right;\">\n",
       "      <th></th>\n",
       "      <th>property_type</th>\n",
       "      <th>floor</th>\n",
       "      <th>rooms</th>\n",
       "      <th>description</th>\n",
       "      <th>title</th>\n",
       "      <th>rooms_clean</th>\n",
       "      <th>floor_clean</th>\n",
       "    </tr>\n",
       "  </thead>\n",
       "  <tbody>\n",
       "    <tr>\n",
       "      <th>10096</th>\n",
       "      <td>house</td>\n",
       "      <td>NaN</td>\n",
       "      <td>NaN</td>\n",
       "      <td>se vende casa en calle tucuman al 300, barrio arquitectura.  2 dormitorios, baño, cocina, living, comedor, lavadero, garage y espacio verde.</td>\n",
       "      <td>se vende casa en calle tucuman al 300</td>\n",
       "      <td>NaN</td>\n",
       "      <td>NaN</td>\n",
       "    </tr>\n",
       "  </tbody>\n",
       "</table>\n",
       "</div>"
      ],
      "text/plain": [
       "      property_type  floor  rooms  \\\n",
       "10096         house    NaN    NaN   \n",
       "\n",
       "                                                                                                                                        description  \\\n",
       "10096  se vende casa en calle tucuman al 300, barrio arquitectura.  2 dormitorios, baño, cocina, living, comedor, lavadero, garage y espacio verde.   \n",
       "\n",
       "                                       title  rooms_clean  floor_clean  \n",
       "10096  se vende casa en calle tucuman al 300          NaN          NaN  "
      ]
     },
     "execution_count": 575,
     "metadata": {},
     "output_type": "execute_result"
    }
   ],
   "source": [
    "dataFiltrada.sample()"
   ]
  },
  {
   "cell_type": "markdown",
   "metadata": {},
   "source": [
    "Los tipos de propiedad no tienen valores nulos y estan organizados en 4 categorias, se infiere que la seleccion de este campo es a traves de una lista definida. Esto nos permite organizar el dataframe por el campo de tipo de propiedad si es necesario."
   ]
  },
  {
   "cell_type": "markdown",
   "metadata": {},
   "source": [
    "### Tratamiento de rooms"
   ]
  },
  {
   "cell_type": "code",
   "execution_count": 576,
   "metadata": {},
   "outputs": [],
   "source": [
    "import re"
   ]
  },
  {
   "cell_type": "code",
   "execution_count": 577,
   "metadata": {},
   "outputs": [],
   "source": [
    "numeroAmbientesPattern = '(?P<numero>\\d{1})\\s?(ambientes|amb)'\n",
    "regexAmbientes = re.compile(numeroAmbientesPattern)"
   ]
  },
  {
   "cell_type": "code",
   "execution_count": 578,
   "metadata": {},
   "outputs": [],
   "source": [
    "descriptionObject = dataFiltrada.description\n",
    "ambientesMatches = descriptionObject.apply(lambda x: x if x is np.NaN else regexAmbientes.search(x))\n"
   ]
  },
  {
   "cell_type": "code",
   "execution_count": null,
   "metadata": {
    "collapsed": true,
    "jupyter": {
     "outputs_hidden": true
    }
   },
   "outputs": [],
   "source": []
  },
  {
   "cell_type": "code",
   "execution_count": 579,
   "metadata": {},
   "outputs": [
    {
     "name": "stdout",
     "output_type": "stream",
     "text": [
      "73830\n"
     ]
    }
   ],
   "source": [
    "print(dataFiltrada.rooms_clean.isnull().sum())\n",
    "roomsAmbientesMask = dataFiltrada.rooms_clean.isnull() & ambientesMatches.notnull()\n",
    "\n"
   ]
  },
  {
   "cell_type": "code",
   "execution_count": 580,
   "metadata": {},
   "outputs": [
    {
     "name": "stdout",
     "output_type": "stream",
     "text": [
      "73830\n",
      "54769\n"
     ]
    }
   ],
   "source": [
    "print(dataFiltrada.rooms_clean.isnull().sum())\n",
    "dataFiltrada.loc[roomsAmbientesMask, 'rooms_clean'] = ambientesMatches[roomsAmbientesMask].apply(lambda x: float(x.group(\"numero\")))\n",
    "\n",
    "print(dataFiltrada.rooms_clean.isnull().sum())\n",
    "\n"
   ]
  },
  {
   "cell_type": "markdown",
   "metadata": {},
   "source": [
    "Mismo regex sobre columna Title"
   ]
  },
  {
   "cell_type": "code",
   "execution_count": 581,
   "metadata": {},
   "outputs": [],
   "source": [
    "#numeroAmbientesPattern = '(?P<numero>\\d{1})\\s?(ambientes|amb)'\n",
    "#regexAmbientes = re.compile(numeroAmbientesPattern)"
   ]
  },
  {
   "cell_type": "code",
   "execution_count": 582,
   "metadata": {},
   "outputs": [],
   "source": [
    "titleObject = dataFiltrada.title\n",
    "ambientesMatches2 = titleObject.apply(lambda x: x if x is np.NaN else regexAmbientes.search(x))\n"
   ]
  },
  {
   "cell_type": "code",
   "execution_count": null,
   "metadata": {
    "collapsed": true,
    "jupyter": {
     "outputs_hidden": true
    }
   },
   "outputs": [],
   "source": []
  },
  {
   "cell_type": "code",
   "execution_count": 583,
   "metadata": {},
   "outputs": [
    {
     "name": "stdout",
     "output_type": "stream",
     "text": [
      "54769\n"
     ]
    }
   ],
   "source": [
    "print(dataFiltrada.rooms_clean.isnull().sum())\n",
    "roomsAmbientesMask2 = dataFiltrada.rooms_clean.isnull() & ambientesMatches2.notnull()\n",
    "\n"
   ]
  },
  {
   "cell_type": "code",
   "execution_count": 584,
   "metadata": {},
   "outputs": [
    {
     "name": "stdout",
     "output_type": "stream",
     "text": [
      "54769\n",
      "52131\n"
     ]
    }
   ],
   "source": [
    "print(dataFiltrada.rooms_clean.isnull().sum())\n",
    "dataFiltrada.loc[roomsAmbientesMask2, 'rooms_clean'] = ambientesMatches2[roomsAmbientesMask2].apply(lambda x: float(x.group(\"numero\")))\n",
    "\n",
    "print(dataFiltrada.rooms_clean.isnull().sum())\n",
    "\n"
   ]
  },
  {
   "cell_type": "markdown",
   "metadata": {},
   "source": [
    "Segundo criterio de regex para los ambientes"
   ]
  },
  {
   "cell_type": "code",
   "execution_count": 585,
   "metadata": {},
   "outputs": [],
   "source": [
    "def pasarANumero (x):\n",
    "    numeroStr = x.group(\"numeroPalabra\")\n",
    "    dictAmbientes = {'cero':0, 'uno':1, 'dos':2, 'tres':3, 'cuatro':4, 'cinco': 5, 'seis': 6, 'seís':6, 'siete': 7, 'ocho': 8, 'nueve': 9}\n",
    "    resultado = dictAmbientes[numeroStr]\n",
    "    return resultado\n",
    "\n",
    "    "
   ]
  },
  {
   "cell_type": "code",
   "execution_count": null,
   "metadata": {},
   "outputs": [],
   "source": []
  },
  {
   "cell_type": "code",
   "execution_count": 586,
   "metadata": {},
   "outputs": [],
   "source": [
    "numeroAmbientesPattern2 = '(?P<numeroPalabra>dos|tres|cuatro|cinco|seis|siete|ocho)\\s?(ambientes|amb)'\n",
    "regexAmbientes2 = re.compile(numeroAmbientesPattern2)"
   ]
  },
  {
   "cell_type": "code",
   "execution_count": 587,
   "metadata": {},
   "outputs": [],
   "source": [
    "#descriptionObject = dataFiltrada.description\n",
    "ambientesMatches3 = descriptionObject.apply(lambda x: x if x is np.NaN else regexAmbientes2.search(x))\n"
   ]
  },
  {
   "cell_type": "code",
   "execution_count": null,
   "metadata": {
    "collapsed": true,
    "jupyter": {
     "outputs_hidden": true
    }
   },
   "outputs": [],
   "source": []
  },
  {
   "cell_type": "code",
   "execution_count": 588,
   "metadata": {},
   "outputs": [
    {
     "name": "stdout",
     "output_type": "stream",
     "text": [
      "52131\n",
      "dos\n"
     ]
    }
   ],
   "source": [
    "print(dataFiltrada.rooms_clean.isnull().sum())\n",
    "roomsAmbientesMask3 = dataFiltrada.rooms_clean.isnull() & ambientesMatches3.notnull()\n",
    "\n",
    "print(ambientesMatches3[8].group('numeroPalabra'))"
   ]
  },
  {
   "cell_type": "code",
   "execution_count": 589,
   "metadata": {},
   "outputs": [
    {
     "name": "stdout",
     "output_type": "stream",
     "text": [
      "52131\n",
      "50195\n"
     ]
    }
   ],
   "source": [
    "print(dataFiltrada.rooms_clean.isnull().sum())\n",
    "dataFiltrada.loc[roomsAmbientesMask3, 'rooms_clean'] = ambientesMatches3[roomsAmbientesMask3].apply(pasarANumero)\n",
    "\n",
    "print(dataFiltrada.rooms_clean.isnull().sum())\n",
    "\n"
   ]
  },
  {
   "cell_type": "markdown",
   "metadata": {},
   "source": [
    "Ahora sobre title con el regex 2 de ambientes"
   ]
  },
  {
   "cell_type": "code",
   "execution_count": 590,
   "metadata": {},
   "outputs": [],
   "source": [
    "titleObject = dataFiltrada.title\n",
    "ambientesMatches4 = titleObject.apply(lambda x: x if x is np.NaN else regexAmbientes2.search(x))\n"
   ]
  },
  {
   "cell_type": "code",
   "execution_count": null,
   "metadata": {
    "collapsed": true,
    "jupyter": {
     "outputs_hidden": true
    }
   },
   "outputs": [],
   "source": []
  },
  {
   "cell_type": "code",
   "execution_count": 591,
   "metadata": {},
   "outputs": [
    {
     "name": "stdout",
     "output_type": "stream",
     "text": [
      "50195\n"
     ]
    }
   ],
   "source": [
    "print(dataFiltrada.rooms_clean.isnull().sum())\n",
    "roomsAmbientesMask4 = dataFiltrada.rooms_clean.isnull() & ambientesMatches4.notnull()\n"
   ]
  },
  {
   "cell_type": "code",
   "execution_count": 592,
   "metadata": {},
   "outputs": [
    {
     "name": "stdout",
     "output_type": "stream",
     "text": [
      "50195\n",
      "49928\n"
     ]
    }
   ],
   "source": [
    "print(dataFiltrada.rooms_clean.isnull().sum())\n",
    "dataFiltrada.loc[roomsAmbientesMask4, 'rooms_clean'] = ambientesMatches4[roomsAmbientesMask4].apply(pasarANumero)\n",
    "\n",
    "print(dataFiltrada.rooms_clean.isnull().sum())\n",
    "\n"
   ]
  },
  {
   "cell_type": "markdown",
   "metadata": {},
   "source": [
    "Ahora aplicamos un tercer regex en busqueda de dormitorios para completar los faltantes de ambientes."
   ]
  },
  {
   "cell_type": "code",
   "execution_count": 593,
   "metadata": {},
   "outputs": [],
   "source": [
    "numeroAmbientesPattern3 = '(?P<numeroPalabra>dos|tres|cuatro|cinco|seis|siete|ocho)\\s?(dormitorios|dorm|cuartos|hab|habitaciones)'\n",
    "regexAmbientes3 = re.compile(numeroAmbientesPattern3)\n",
    "\n",
    "\n"
   ]
  },
  {
   "cell_type": "code",
   "execution_count": 594,
   "metadata": {},
   "outputs": [],
   "source": [
    "def pasarANumeroDormi (x):\n",
    "    numeroStr = x.group(\"numeroPalabra\")\n",
    "    dictAmbientes = {'cero':0, 'un':1, 'dos':2, 'tres':3, 'cuatro':4, 'cinco': 5, 'seis': 6, 'seís':6, 'siete': 7, 'ocho': 8, 'nueve': 9}\n",
    "    resultado = dictAmbientes[numeroStr] + 1\n",
    "    return resultado"
   ]
  },
  {
   "cell_type": "code",
   "execution_count": 595,
   "metadata": {},
   "outputs": [],
   "source": [
    "descriptionObject = dataFiltrada.description\n",
    "ambientesMatches5 = descriptionObject.apply(lambda x: x if x is np.NaN else regexAmbientes3.search(x))\n"
   ]
  },
  {
   "cell_type": "code",
   "execution_count": null,
   "metadata": {
    "collapsed": true,
    "jupyter": {
     "outputs_hidden": true
    }
   },
   "outputs": [],
   "source": []
  },
  {
   "cell_type": "code",
   "execution_count": 596,
   "metadata": {},
   "outputs": [
    {
     "name": "stdout",
     "output_type": "stream",
     "text": [
      "49928\n",
      "dos\n"
     ]
    }
   ],
   "source": [
    "print(dataFiltrada.rooms_clean.isnull().sum())\n",
    "roomsAmbientesMask5 = dataFiltrada.rooms_clean.isnull() & ambientesMatches5.notnull()\n",
    "\n",
    "print(ambientesMatches5[5].group('numeroPalabra'))"
   ]
  },
  {
   "cell_type": "code",
   "execution_count": 597,
   "metadata": {},
   "outputs": [
    {
     "name": "stdout",
     "output_type": "stream",
     "text": [
      "49928\n",
      "39864\n"
     ]
    }
   ],
   "source": [
    "print(dataFiltrada.rooms_clean.isnull().sum())\n",
    "dataFiltrada.loc[roomsAmbientesMask5, 'rooms_clean'] = ambientesMatches5[roomsAmbientesMask5].apply(pasarANumeroDormi)\n",
    "\n",
    "print(dataFiltrada.rooms_clean.isnull().sum())\n",
    "\n"
   ]
  },
  {
   "cell_type": "markdown",
   "metadata": {},
   "source": [
    "Tercer regex sobre title"
   ]
  },
  {
   "cell_type": "code",
   "execution_count": 598,
   "metadata": {},
   "outputs": [],
   "source": [
    "\n",
    "ambientesMatches6 = titleObject.apply(lambda x: x if x is np.NaN else regexAmbientes3.search(x))\n"
   ]
  },
  {
   "cell_type": "code",
   "execution_count": null,
   "metadata": {
    "collapsed": true,
    "jupyter": {
     "outputs_hidden": true
    }
   },
   "outputs": [],
   "source": []
  },
  {
   "cell_type": "code",
   "execution_count": 599,
   "metadata": {},
   "outputs": [
    {
     "name": "stdout",
     "output_type": "stream",
     "text": [
      "39864\n",
      "dos\n"
     ]
    }
   ],
   "source": [
    "print(dataFiltrada.rooms_clean.isnull().sum())\n",
    "roomsAmbientesMask6 = dataFiltrada.rooms_clean.isnull() & ambientesMatches6.notnull()\n",
    "\n",
    "print(ambientesMatches6[5].group('numeroPalabra'))"
   ]
  },
  {
   "cell_type": "code",
   "execution_count": 600,
   "metadata": {},
   "outputs": [
    {
     "name": "stdout",
     "output_type": "stream",
     "text": [
      "39864\n",
      "39762\n"
     ]
    }
   ],
   "source": [
    "print(dataFiltrada.rooms_clean.isnull().sum())\n",
    "dataFiltrada.loc[roomsAmbientesMask6, 'rooms_clean'] = ambientesMatches6[roomsAmbientesMask6].apply(pasarANumeroDormi)\n",
    "\n",
    "print(dataFiltrada.rooms_clean.isnull().sum())\n",
    "\n"
   ]
  },
  {
   "cell_type": "markdown",
   "metadata": {},
   "source": [
    "Aplicamos el regex 4 para detectar numero de dormitorios en description"
   ]
  },
  {
   "cell_type": "code",
   "execution_count": 601,
   "metadata": {},
   "outputs": [],
   "source": [
    "numeroAmbientesPattern4 = '(?P<numero>\\d{1})\\s?(dormitorios|dorm|cuartos|hab|habitaciones)'\n",
    "regexAmbientes4 = re.compile(numeroAmbientesPattern4)\n",
    "\n"
   ]
  },
  {
   "cell_type": "code",
   "execution_count": 602,
   "metadata": {},
   "outputs": [],
   "source": [
    "\n",
    "ambientesMatches7 = descriptionObject.apply(lambda x: x if x is np.NaN else regexAmbientes4.search(x))\n"
   ]
  },
  {
   "cell_type": "code",
   "execution_count": null,
   "metadata": {
    "collapsed": true,
    "jupyter": {
     "outputs_hidden": true
    }
   },
   "outputs": [],
   "source": []
  },
  {
   "cell_type": "code",
   "execution_count": 603,
   "metadata": {},
   "outputs": [
    {
     "name": "stdout",
     "output_type": "stream",
     "text": [
      "39762\n",
      "1\n"
     ]
    }
   ],
   "source": [
    "print(dataFiltrada.rooms_clean.isnull().sum())\n",
    "roomsAmbientesMask7 = dataFiltrada.rooms_clean.isnull() & ambientesMatches7.notnull()\n",
    "\n",
    "print(ambientesMatches7[4].group('numero'))"
   ]
  },
  {
   "cell_type": "code",
   "execution_count": 604,
   "metadata": {},
   "outputs": [
    {
     "name": "stdout",
     "output_type": "stream",
     "text": [
      "39762\n",
      "21391\n"
     ]
    }
   ],
   "source": [
    "print(dataFiltrada.rooms_clean.isnull().sum())\n",
    "dataFiltrada.loc[roomsAmbientesMask7, 'rooms_clean'] = ambientesMatches7[roomsAmbientesMask7].apply(lambda x: float(x.group(\"numero\")) + 1)\n",
    "\n",
    "print(dataFiltrada.rooms_clean.isnull().sum())\n",
    "\n"
   ]
  },
  {
   "cell_type": "markdown",
   "metadata": {},
   "source": [
    "Cuarto regex sobre title"
   ]
  },
  {
   "cell_type": "code",
   "execution_count": 605,
   "metadata": {},
   "outputs": [],
   "source": [
    "\n",
    "ambientesMatches8 = titleObject.apply(lambda x: x if x is np.NaN else regexAmbientes4.search(x))\n"
   ]
  },
  {
   "cell_type": "code",
   "execution_count": null,
   "metadata": {
    "collapsed": true,
    "jupyter": {
     "outputs_hidden": true
    }
   },
   "outputs": [],
   "source": []
  },
  {
   "cell_type": "code",
   "execution_count": 606,
   "metadata": {},
   "outputs": [
    {
     "name": "stdout",
     "output_type": "stream",
     "text": [
      "21391\n",
      "2\n"
     ]
    }
   ],
   "source": [
    "print(dataFiltrada.rooms_clean.isnull().sum())\n",
    "roomsAmbientesMask8 = dataFiltrada.rooms_clean.isnull() & ambientesMatches8.notnull()\n",
    "\n",
    "print(ambientesMatches8[1].group('numero'))"
   ]
  },
  {
   "cell_type": "code",
   "execution_count": 607,
   "metadata": {},
   "outputs": [
    {
     "name": "stdout",
     "output_type": "stream",
     "text": [
      "21391\n",
      "20906\n"
     ]
    }
   ],
   "source": [
    "print(dataFiltrada.rooms_clean.isnull().sum())\n",
    "dataFiltrada.loc[roomsAmbientesMask8, 'rooms_clean'] = ambientesMatches8[roomsAmbientesMask8].apply(lambda x: float(x.group(\"numero\")) + 1)\n",
    "\n",
    "print(dataFiltrada.rooms_clean.isnull().sum())\n",
    "\n"
   ]
  },
  {
   "cell_type": "markdown",
   "metadata": {},
   "source": [
    "Quinto regex para detectar monoambientes sobre description. \"un/1 ambiente\""
   ]
  },
  {
   "cell_type": "code",
   "execution_count": 608,
   "metadata": {},
   "outputs": [],
   "source": [
    "numeroAmbientesPattern5 = '(?P<numeroPalabra>un|1|mono)\\s?(ambientes|amb)'\n",
    "regexAmbientes5 = re.compile(numeroAmbientesPattern5)"
   ]
  },
  {
   "cell_type": "code",
   "execution_count": 609,
   "metadata": {},
   "outputs": [],
   "source": [
    "\n",
    "ambientesMatches8 = descriptionObject.apply(lambda x: x if x is np.NaN else regexAmbientes5.search(x))\n"
   ]
  },
  {
   "cell_type": "code",
   "execution_count": null,
   "metadata": {
    "collapsed": true,
    "jupyter": {
     "outputs_hidden": true
    }
   },
   "outputs": [],
   "source": []
  },
  {
   "cell_type": "code",
   "execution_count": 610,
   "metadata": {},
   "outputs": [
    {
     "name": "stdout",
     "output_type": "stream",
     "text": [
      "20906\n",
      "mono\n"
     ]
    }
   ],
   "source": [
    "print(dataFiltrada.rooms_clean.isnull().sum())\n",
    "roomsAmbientesMask8 = dataFiltrada.rooms_clean.isnull() & ambientesMatches8.notnull()\n",
    "\n",
    "print(ambientesMatches8[7].group('numeroPalabra'))"
   ]
  },
  {
   "cell_type": "code",
   "execution_count": 611,
   "metadata": {},
   "outputs": [
    {
     "name": "stdout",
     "output_type": "stream",
     "text": [
      "20906\n",
      "17436\n"
     ]
    }
   ],
   "source": [
    "print(dataFiltrada.rooms_clean.isnull().sum())\n",
    "dataFiltrada.loc[roomsAmbientesMask8, 'rooms_clean'] = ambientesMatches8[roomsAmbientesMask8].apply(lambda x: float(1.0))\n",
    "\n",
    "print(dataFiltrada.rooms_clean.isnull().sum())\n",
    "\n"
   ]
  },
  {
   "cell_type": "code",
   "execution_count": null,
   "metadata": {},
   "outputs": [],
   "source": []
  },
  {
   "cell_type": "code",
   "execution_count": 612,
   "metadata": {},
   "outputs": [],
   "source": [
    "\n",
    "ambientesMatches9 = titleObject.apply(lambda x: x if x is np.NaN else regexAmbientes5.search(x))\n"
   ]
  },
  {
   "cell_type": "code",
   "execution_count": null,
   "metadata": {
    "collapsed": true,
    "jupyter": {
     "outputs_hidden": true
    }
   },
   "outputs": [],
   "source": []
  },
  {
   "cell_type": "code",
   "execution_count": 613,
   "metadata": {},
   "outputs": [
    {
     "name": "stdout",
     "output_type": "stream",
     "text": [
      "17436\n",
      "mono\n"
     ]
    }
   ],
   "source": [
    "print(dataFiltrada.rooms_clean.isnull().sum())\n",
    "roomsAmbientesMask9 = dataFiltrada.rooms_clean.isnull() & ambientesMatches9.notnull()\n",
    "\n",
    "print(ambientesMatches9[7].group('numeroPalabra'))"
   ]
  },
  {
   "cell_type": "code",
   "execution_count": 614,
   "metadata": {},
   "outputs": [
    {
     "name": "stdout",
     "output_type": "stream",
     "text": [
      "17436\n",
      "17259\n"
     ]
    }
   ],
   "source": [
    "print(dataFiltrada.rooms_clean.isnull().sum())\n",
    "dataFiltrada.loc[roomsAmbientesMask9, 'rooms_clean'] = ambientesMatches9[roomsAmbientesMask9].apply(lambda x: float(1.0))\n",
    "\n",
    "print(dataFiltrada.rooms_clean.isnull().sum())\n",
    "\n"
   ]
  },
  {
   "cell_type": "markdown",
   "metadata": {},
   "source": [
    "Regex numero 6 para detectar un dormitorio"
   ]
  },
  {
   "cell_type": "code",
   "execution_count": 615,
   "metadata": {},
   "outputs": [],
   "source": [
    "numeroAmbientesPattern6 = '(?P<numeroPalabra>un|1)\\s?(cuarto|dormi|hab)'\n",
    "regexAmbientes6 = re.compile(numeroAmbientesPattern6)"
   ]
  },
  {
   "cell_type": "code",
   "execution_count": 616,
   "metadata": {},
   "outputs": [],
   "source": [
    "\n",
    "ambientesMatches10 = descriptionObject.apply(lambda x: x if x is np.NaN else regexAmbientes6.search(x))\n"
   ]
  },
  {
   "cell_type": "code",
   "execution_count": null,
   "metadata": {
    "collapsed": true,
    "jupyter": {
     "outputs_hidden": true
    }
   },
   "outputs": [],
   "source": []
  },
  {
   "cell_type": "code",
   "execution_count": 617,
   "metadata": {},
   "outputs": [
    {
     "name": "stdout",
     "output_type": "stream",
     "text": [
      "17259\n",
      "1\n"
     ]
    }
   ],
   "source": [
    "print(dataFiltrada.rooms_clean.isnull().sum())\n",
    "roomsAmbientesMask10 = dataFiltrada.rooms_clean.isnull() & ambientesMatches10.notnull()\n",
    "\n",
    "print(ambientesMatches10[4].group('numeroPalabra'))"
   ]
  },
  {
   "cell_type": "code",
   "execution_count": 618,
   "metadata": {},
   "outputs": [
    {
     "name": "stdout",
     "output_type": "stream",
     "text": [
      "17259\n",
      "15759\n"
     ]
    }
   ],
   "source": [
    "print(dataFiltrada.rooms_clean.isnull().sum())\n",
    "dataFiltrada.loc[roomsAmbientesMask10, 'rooms_clean'] = ambientesMatches10[roomsAmbientesMask10].apply(lambda x: float(1.0)+1)\n",
    "\n",
    "print(dataFiltrada.rooms_clean.isnull().sum())\n",
    "\n"
   ]
  },
  {
   "cell_type": "code",
   "execution_count": 619,
   "metadata": {},
   "outputs": [],
   "source": [
    "\n",
    "ambientesMatches11 = titleObject.apply(lambda x: x if x is np.NaN else regexAmbientes6.search(x))\n"
   ]
  },
  {
   "cell_type": "code",
   "execution_count": null,
   "metadata": {
    "collapsed": true,
    "jupyter": {
     "outputs_hidden": true
    }
   },
   "outputs": [],
   "source": []
  },
  {
   "cell_type": "code",
   "execution_count": 620,
   "metadata": {},
   "outputs": [
    {
     "name": "stdout",
     "output_type": "stream",
     "text": [
      "15759\n"
     ]
    }
   ],
   "source": [
    "print(dataFiltrada.rooms_clean.isnull().sum())\n",
    "roomsAmbientesMask11 = dataFiltrada.rooms_clean.isnull() & ambientesMatches11.notnull()\n",
    "\n"
   ]
  },
  {
   "cell_type": "code",
   "execution_count": 621,
   "metadata": {},
   "outputs": [
    {
     "name": "stdout",
     "output_type": "stream",
     "text": [
      "15759\n",
      "15729\n"
     ]
    }
   ],
   "source": [
    "print(dataFiltrada.rooms_clean.isnull().sum())\n",
    "dataFiltrada.loc[roomsAmbientesMask11, 'rooms_clean'] = ambientesMatches11[roomsAmbientesMask11].apply(lambda x: float(1.0)+1)\n",
    "\n",
    "print(dataFiltrada.rooms_clean.isnull().sum())\n",
    "\n"
   ]
  },
  {
   "cell_type": "code",
   "execution_count": 622,
   "metadata": {},
   "outputs": [
    {
     "name": "stdout",
     "output_type": "stream",
     "text": [
      "73830\n",
      "15729\n"
     ]
    },
    {
     "data": {
      "text/html": [
       "<div>\n",
       "<style scoped>\n",
       "    .dataframe tbody tr th:only-of-type {\n",
       "        vertical-align: middle;\n",
       "    }\n",
       "\n",
       "    .dataframe tbody tr th {\n",
       "        vertical-align: top;\n",
       "    }\n",
       "\n",
       "    .dataframe thead th {\n",
       "        text-align: right;\n",
       "    }\n",
       "</style>\n",
       "<table border=\"1\" class=\"dataframe\">\n",
       "  <thead>\n",
       "    <tr style=\"text-align: right;\">\n",
       "      <th></th>\n",
       "      <th>description</th>\n",
       "      <th>title</th>\n",
       "    </tr>\n",
       "  </thead>\n",
       "  <tbody>\n",
       "    <tr>\n",
       "      <th>27</th>\n",
       "      <td>estancias propone vivir rodeados de naturaleza y verde. por este motivo se destinó el 50% del emprendimiento a espacios comunes con una parquización diseñada por el estudio thays. además de reservar algunos espacios en su estado natural para garantizar una mejor calidad de vida. la ribera del río luján y el bosque natural de acacias le permiten a los habitantes de estancias tener un contacto diario con la naturaleza en su estado puro. donde la mano del hombre solo ha intervenido para asegurar su conservación. barrio la pioneraen cumplimiento de la ley 2340 cucicba, ley 10.973 de la prov.bs.as., ley nacional 25.028, ley 22.802 de lealtad comercial, ley 24.240 de defensa al consumidor, las normas del código civil y comercial de la nación y constitucionales, los agentes no ejercen el corretaje inmobiliario. todas las operaciones inmobiliarias son objeto de intermediación y conclusión por parte de los martilleros y corredores colegiados, cuyos datos se exhiben debajo del nombre de la i...</td>\n",
       "      <td>excelente propiedad!!!! en estancias del pilar</td>\n",
       "    </tr>\n",
       "    <tr>\n",
       "      <th>47</th>\n",
       "      <td>estructura ecologica flotanteideal para ubicar en  centro nauticomateriales eps normas de calidad din 4102 y r1 según abnt mb 1562 y ensayado por el inti según iram 11918. trasladables por aguatransportables por tierrabiodigestor para tratamiento de aguasprotección galvanizada en toda la estructuracerramientos de aluminiovidrios  de seguridad a/a frio calordoble circuitos de agua instalación eléctrica</td>\n",
       "      <td>float life - casa flotante - ubicable en clubs nauticos</td>\n",
       "    </tr>\n",
       "    <tr>\n",
       "      <th>49</th>\n",
       "      <td>jpl. casa en el barrio san sebastian con bajada al lago, la casa se encuentra en construccion, ya se encuentra totalmente pintada ya sea por fuera o por dentro. esta ubicada en el area 5 de san sebastioan en un lote de 1000 m2</td>\n",
       "      <td>jpl. casa en san sebastian</td>\n",
       "    </tr>\n",
       "    <tr>\n",
       "      <th>57</th>\n",
       "      <td>venta de local sobre vía pública con renta - 3 de frente x 10 de fondo - baño compartimentado - excelente ubicación - a mts. de estacionamiento - frente a importante edificio de oficinas - a 2 cuadras de subte d, cabildo y juramento, etc. - ideal para inversionista -  de la paz 1970consúltenos:</td>\n",
       "      <td>local en excelente ubicación - venta con renta</td>\n",
       "    </tr>\n",
       "    <tr>\n",
       "      <th>58</th>\n",
       "      <td>magnífica residencia con calidad de construcción superlativa. se trata de un chalet con frente de ladrillo a la vista y techo pizarra. desarrollado sobre un lote de 1300m2, totalmente soleado por su orientación norte y entorno privado. salida a dos calles, en el exclusivo sector de av. del libertador al río en acassuso, partido de san isidro. cuenta con garage para tres autos y entrada para varios más.pb:se ingresa a un hall de entrada muy amplio con piso de mármol botticino originario de italia.al frente se encuentra un escritorio muy privado, con biblioteca.la recepción y el comedor principal son muy amplios con inmejorables visuales hacia el jardín, tienen grandes ventanales que permiten el ingreso de mucha luz. hogar a leña.el baño principal de la planta baja tiene ingreso también por el jardín, sirviendo el mismo tanto para recepción como vestuario, ya que posee ducha.el family room se integra a la recepción, ampliando esta última. luminosa cocina con isla desayunadora, amplia...</td>\n",
       "      <td>magnífica residencia en venta, ubicada en el exclusivo sector de av. del libertador al río en acassuso.</td>\n",
       "    </tr>\n",
       "    <tr>\n",
       "      <th>...</th>\n",
       "      <td>...</td>\n",
       "      <td>...</td>\n",
       "    </tr>\n",
       "    <tr>\n",
       "      <th>121157</th>\n",
       "      <td>torre de 16º pisos ubicado en pleno centro comercial de belgrano, sobre un lote con 23m de frenteunidades de entre 40m2 y 130m2 con flexibilidad para combinar departamentos y tipologías.sky view y gimnasio en piso 16º + pack completo de amenities interiores y exteriores en pb (terraza /parrillas/juego para niños/piscina/sum/laundry).cochera de uso mixto con servicio de valet parking para propietarios.aviso legal: las descripciones arquitectónicas y funcionales, valores de expensas, impuestos y servicios, fotos y medidas de este inmueble son aproximados. los datos fueron proporcionados por el propietario y pueden no estar actualizados a la hora de la visualización de este aviso por lo cual pueden arrojar inexactitudes y discordancias con las que surgen de los las facturas, títulos y planos legales del inmueble. los precios indicados podrán modificarse sin previo aviso. la fechas de inicio de obra o posesión son estimadas, podrán ser reprogramadas por la dirección de obra y dependerá...</td>\n",
       "      <td>departamento - belgrano c</td>\n",
       "    </tr>\n",
       "    <tr>\n",
       "      <th>121160</th>\n",
       "      <td>edificio en esquina de muy buena categoría de unos 45 años de antigüedad. pisos de altura 14, unidades por piso 1, ascensor principal 1, ascensor de servicio 1. vigilancia 24hs.funcionalidad: palier privado, hall de recepción, living y comedor amplios con salida a balcón al frente, hall íntimo con placards, dormitorio principal al frente con placards, 2º dormitorio al frente con placards, 3º dormitorio con placards y salida a balcón corrido al frente (sobre zabala), baño completo de época, baño con ducha de época, playroon/escritorio, cocina completa de época con office y entrada de servicio, lavadero independiente, dependencia de servicio con baño. doble circulación.luminosidad muy buena en toda la unidad. todos los ambientesson externos. vista: muy buenas vistas al frente a copa de los árboles.orientación: noreste (sol de mañana).estado general: muy bueno. pisos de parquet en toda la unidad (con alfombra). equipo de aire acondicionado split en living comedor y de pared en 2º dorm...</td>\n",
       "      <td>av .luis maria campos 1400- belgrano-capital federal</td>\n",
       "    </tr>\n",
       "    <tr>\n",
       "      <th>121209</th>\n",
       "      <td>edificio en esquina de muy buena categoría de unos 45 años de antigüedad. pisos de altura 14, unidades por piso 1, ascensor principal 1, ascensor de servicio 1. vigilancia 24hs.funcionalidad: palier privado, hall de recepción, living y comedor amplios con salida a balcón al frente, hall íntimo con placards, dormitorio principal al frente con placards, 2º dormitorio al frente con placards, 3º dormitorio con placards y salida a balcón corrido al frente (sobre zabala), baño completo de época, baño con ducha de época, playroon/escritorio, cocina completa de época con office y entrada de servicio, lavadero independiente, dependencia de servicio con baño. doble circulación.luminosidad muy buena en toda la unidad. todos los ambientesson externos. vista: muy buenas vistas al frente a copa de los árboles.orientación: noreste (sol de mañana).estado general: muy bueno. pisos de parquet en toda la unidad (con alfombra). equipo de aire acondicionado split en living comedor y de pared en 2º dorm...</td>\n",
       "      <td>av .luis maria campos 1400- belgrano-capital federal</td>\n",
       "    </tr>\n",
       "    <tr>\n",
       "      <th>121214</th>\n",
       "      <td>***venta con renta***local en edificio lomas park muy bien ubicado.muy buen local súper luminoso,amplio salón de ventas y atención al público. privado.2 baños. kichinette. 3 cocheras cubiertas. estacionamiento de cortesía.venta con renta: alquilado a search seguridad contrato por 5 años. inicio diciembre 2014 . con proyección de quedarse, alquilan además  oficinas en el piso de arriba. actualmente valor de alquiler: u$s 1.338. -para el 4to. año u$s 1.471.-para el 5to. año u$s 1.619.-</td>\n",
       "      <td>local - san isidro</td>\n",
       "    </tr>\n",
       "    <tr>\n",
       "      <th>121219</th>\n",
       "      <td>departamento de 77 m2 apto profesional. edificio racionalista de buena categoría. hall de recepción. dos despachos al frente y otro interno. cocina. baño completo. cocina. lavadero. dependencia. baño de servicio. para reciclar. baulera.código de inmueble: iap478380izrastzoff compañía inmobiliariajorge izrastzoff: cucicba 1354maría izrastzoff: cucicba 4516 | csi 5191continúe su búsqueda en el sitio web de izrastzoff, el más avanzado de la industria. contamos con sucursales en recoleta, barrio norte, nordelta y pilar. llámenos al .</td>\n",
       "      <td>departamento apto profesional en el centro</td>\n",
       "    </tr>\n",
       "  </tbody>\n",
       "</table>\n",
       "<p>15729 rows × 2 columns</p>\n",
       "</div>"
      ],
      "text/plain": [
       "                                                                                                                                                                                                                                                                                                                                                                                                                                                                                                                                                                                                                                                                                                                                                                                                                                                                                                                                                                                                                                    description  \\\n",
       "27      estancias propone vivir rodeados de naturaleza y verde. por este motivo se destinó el 50% del emprendimiento a espacios comunes con una parquización diseñada por el estudio thays. además de reservar algunos espacios en su estado natural para garantizar una mejor calidad de vida. la ribera del río luján y el bosque natural de acacias le permiten a los habitantes de estancias tener un contacto diario con la naturaleza en su estado puro. donde la mano del hombre solo ha intervenido para asegurar su conservación. barrio la pioneraen cumplimiento de la ley 2340 cucicba, ley 10.973 de la prov.bs.as., ley nacional 25.028, ley 22.802 de lealtad comercial, ley 24.240 de defensa al consumidor, las normas del código civil y comercial de la nación y constitucionales, los agentes no ejercen el corretaje inmobiliario. todas las operaciones inmobiliarias son objeto de intermediación y conclusión por parte de los martilleros y corredores colegiados, cuyos datos se exhiben debajo del nombre de la i...   \n",
       "47                                                                                                                                                                                                                                                                                                                                                                                                                                                                                                                                                                                                                         estructura ecologica flotanteideal para ubicar en  centro nauticomateriales eps normas de calidad din 4102 y r1 según abnt mb 1562 y ensayado por el inti según iram 11918. trasladables por aguatransportables por tierrabiodigestor para tratamiento de aguasprotección galvanizada en toda la estructuracerramientos de aluminiovidrios  de seguridad a/a frio calordoble circuitos de agua instalación eléctrica   \n",
       "49                                                                                                                                                                                                                                                                                                                                                                                                                                                                                                                                                                                                                                                                                                                                                                                                           jpl. casa en el barrio san sebastian con bajada al lago, la casa se encuentra en construccion, ya se encuentra totalmente pintada ya sea por fuera o por dentro. esta ubicada en el area 5 de san sebastioan en un lote de 1000 m2   \n",
       "57                                                                                                                                                                                                                                                                                                                                                                                                                                                                                                                                                                                                                                                                                                                                     venta de local sobre vía pública con renta - 3 de frente x 10 de fondo - baño compartimentado - excelente ubicación - a mts. de estacionamiento - frente a importante edificio de oficinas - a 2 cuadras de subte d, cabildo y juramento, etc. - ideal para inversionista -  de la paz 1970consúltenos:    \n",
       "58      magnífica residencia con calidad de construcción superlativa. se trata de un chalet con frente de ladrillo a la vista y techo pizarra. desarrollado sobre un lote de 1300m2, totalmente soleado por su orientación norte y entorno privado. salida a dos calles, en el exclusivo sector de av. del libertador al río en acassuso, partido de san isidro. cuenta con garage para tres autos y entrada para varios más.pb:se ingresa a un hall de entrada muy amplio con piso de mármol botticino originario de italia.al frente se encuentra un escritorio muy privado, con biblioteca.la recepción y el comedor principal son muy amplios con inmejorables visuales hacia el jardín, tienen grandes ventanales que permiten el ingreso de mucha luz. hogar a leña.el baño principal de la planta baja tiene ingreso también por el jardín, sirviendo el mismo tanto para recepción como vestuario, ya que posee ducha.el family room se integra a la recepción, ampliando esta última. luminosa cocina con isla desayunadora, amplia...   \n",
       "...                                                                                                                                                                                                                                                                                                                                                                                                                                                                                                                                                                                                                                                                                                                                                                                                                                                                                                                                                                                                                                         ...   \n",
       "121157  torre de 16º pisos ubicado en pleno centro comercial de belgrano, sobre un lote con 23m de frenteunidades de entre 40m2 y 130m2 con flexibilidad para combinar departamentos y tipologías.sky view y gimnasio en piso 16º + pack completo de amenities interiores y exteriores en pb (terraza /parrillas/juego para niños/piscina/sum/laundry).cochera de uso mixto con servicio de valet parking para propietarios.aviso legal: las descripciones arquitectónicas y funcionales, valores de expensas, impuestos y servicios, fotos y medidas de este inmueble son aproximados. los datos fueron proporcionados por el propietario y pueden no estar actualizados a la hora de la visualización de este aviso por lo cual pueden arrojar inexactitudes y discordancias con las que surgen de los las facturas, títulos y planos legales del inmueble. los precios indicados podrán modificarse sin previo aviso. la fechas de inicio de obra o posesión son estimadas, podrán ser reprogramadas por la dirección de obra y dependerá...   \n",
       "121160  edificio en esquina de muy buena categoría de unos 45 años de antigüedad. pisos de altura 14, unidades por piso 1, ascensor principal 1, ascensor de servicio 1. vigilancia 24hs.funcionalidad: palier privado, hall de recepción, living y comedor amplios con salida a balcón al frente, hall íntimo con placards, dormitorio principal al frente con placards, 2º dormitorio al frente con placards, 3º dormitorio con placards y salida a balcón corrido al frente (sobre zabala), baño completo de época, baño con ducha de época, playroon/escritorio, cocina completa de época con office y entrada de servicio, lavadero independiente, dependencia de servicio con baño. doble circulación.luminosidad muy buena en toda la unidad. todos los ambientesson externos. vista: muy buenas vistas al frente a copa de los árboles.orientación: noreste (sol de mañana).estado general: muy bueno. pisos de parquet en toda la unidad (con alfombra). equipo de aire acondicionado split en living comedor y de pared en 2º dorm...   \n",
       "121209  edificio en esquina de muy buena categoría de unos 45 años de antigüedad. pisos de altura 14, unidades por piso 1, ascensor principal 1, ascensor de servicio 1. vigilancia 24hs.funcionalidad: palier privado, hall de recepción, living y comedor amplios con salida a balcón al frente, hall íntimo con placards, dormitorio principal al frente con placards, 2º dormitorio al frente con placards, 3º dormitorio con placards y salida a balcón corrido al frente (sobre zabala), baño completo de época, baño con ducha de época, playroon/escritorio, cocina completa de época con office y entrada de servicio, lavadero independiente, dependencia de servicio con baño. doble circulación.luminosidad muy buena en toda la unidad. todos los ambientesson externos. vista: muy buenas vistas al frente a copa de los árboles.orientación: noreste (sol de mañana).estado general: muy bueno. pisos de parquet en toda la unidad (con alfombra). equipo de aire acondicionado split en living comedor y de pared en 2º dorm...   \n",
       "121214                                                                                                                                                                                                                                                                                                                                                                                                                                                                                                                                 ***venta con renta***local en edificio lomas park muy bien ubicado.muy buen local súper luminoso,amplio salón de ventas y atención al público. privado.2 baños. kichinette. 3 cocheras cubiertas. estacionamiento de cortesía.venta con renta: alquilado a search seguridad contrato por 5 años. inicio diciembre 2014 . con proyección de quedarse, alquilan además  oficinas en el piso de arriba. actualmente valor de alquiler: u$s 1.338. -para el 4to. año u$s 1.471.-para el 5to. año u$s 1.619.-   \n",
       "121219                                                                                                                                                                                                                                                                                                                                                                                                                                                                                  departamento de 77 m2 apto profesional. edificio racionalista de buena categoría. hall de recepción. dos despachos al frente y otro interno. cocina. baño completo. cocina. lavadero. dependencia. baño de servicio. para reciclar. baulera.código de inmueble: iap478380izrastzoff compañía inmobiliariajorge izrastzoff: cucicba 1354maría izrastzoff: cucicba 4516 | csi 5191continúe su búsqueda en el sitio web de izrastzoff, el más avanzado de la industria. contamos con sucursales en recoleta, barrio norte, nordelta y pilar. llámenos al .   \n",
       "\n",
       "                                                                                                           title  \n",
       "27                                                                excelente propiedad!!!! en estancias del pilar  \n",
       "47                                                       float life - casa flotante - ubicable en clubs nauticos  \n",
       "49                                                                                    jpl. casa en san sebastian  \n",
       "57                                                                local en excelente ubicación - venta con renta  \n",
       "58      magnífica residencia en venta, ubicada en el exclusivo sector de av. del libertador al río en acassuso.   \n",
       "...                                                                                                          ...  \n",
       "121157                                                                                 departamento - belgrano c  \n",
       "121160                                                      av .luis maria campos 1400- belgrano-capital federal  \n",
       "121209                                                      av .luis maria campos 1400- belgrano-capital federal  \n",
       "121214                                                                                        local - san isidro  \n",
       "121219                                                                departamento apto profesional en el centro  \n",
       "\n",
       "[15729 rows x 2 columns]"
      ]
     },
     "execution_count": 622,
     "metadata": {},
     "output_type": "execute_result"
    }
   ],
   "source": [
    "pd.options.display.max_colwidth = 1000\n",
    "print(dataFiltrada.rooms.isnull().sum())\n",
    "print(dataFiltrada.rooms_clean.isnull().sum())\n",
    "postAmbientesRegexMask = dataFiltrada.rooms_clean.isnull()\n",
    "dataFiltrada.loc[postAmbientesRegexMask,['description', 'title']]"
   ]
  },
  {
   "cell_type": "markdown",
   "metadata": {},
   "source": [
    "Analisis de promedio en cantidad de ambientes segun el tipo de propiedad sobre los valores no nulos."
   ]
  },
  {
   "cell_type": "code",
   "execution_count": 623,
   "metadata": {},
   "outputs": [
    {
     "data": {
      "text/html": [
       "<div>\n",
       "<style scoped>\n",
       "    .dataframe tbody tr th:only-of-type {\n",
       "        vertical-align: middle;\n",
       "    }\n",
       "\n",
       "    .dataframe tbody tr th {\n",
       "        vertical-align: top;\n",
       "    }\n",
       "\n",
       "    .dataframe thead th {\n",
       "        text-align: right;\n",
       "    }\n",
       "</style>\n",
       "<table border=\"1\" class=\"dataframe\">\n",
       "  <thead>\n",
       "    <tr style=\"text-align: right;\">\n",
       "      <th></th>\n",
       "      <th>rooms_clean</th>\n",
       "    </tr>\n",
       "    <tr>\n",
       "      <th>property_type</th>\n",
       "      <th></th>\n",
       "    </tr>\n",
       "  </thead>\n",
       "  <tbody>\n",
       "    <tr>\n",
       "      <th>PH</th>\n",
       "      <td>3.184500</td>\n",
       "    </tr>\n",
       "    <tr>\n",
       "      <th>apartment</th>\n",
       "      <td>2.515387</td>\n",
       "    </tr>\n",
       "    <tr>\n",
       "      <th>house</th>\n",
       "      <td>3.936017</td>\n",
       "    </tr>\n",
       "    <tr>\n",
       "      <th>store</th>\n",
       "      <td>2.933518</td>\n",
       "    </tr>\n",
       "  </tbody>\n",
       "</table>\n",
       "</div>"
      ],
      "text/plain": [
       "               rooms_clean\n",
       "property_type             \n",
       "PH                3.184500\n",
       "apartment         2.515387\n",
       "house             3.936017\n",
       "store             2.933518"
      ]
     },
     "execution_count": 623,
     "metadata": {},
     "output_type": "execute_result"
    }
   ],
   "source": [
    "roomsNoNulosMasK = dataFiltrada.rooms_clean.notnull()\n",
    "roomsNoNulos = dataFiltrada.loc[roomsNoNulosMasK, ['property_type', 'rooms_clean']]\n",
    "mediaRoomsPorTipo = roomsNoNulos.groupby(['property_type']).mean()\n",
    "#mediaRoomsPorTipo.rooms_clean.PH\n",
    "mediaRoomsPorTipo\n"
   ]
  },
  {
   "cell_type": "markdown",
   "metadata": {},
   "source": [
    "### Si consideramos que la cantidad de ambientes puede tener un caracter predictivo, se puede asignar a los nulos de acada tipo de propiedad el promedio para su categoria. "
   ]
  },
  {
   "cell_type": "code",
   "execution_count": 624,
   "metadata": {},
   "outputs": [
    {
     "data": {
      "text/plain": [
       "0         2.000000\n",
       "1         3.000000\n",
       "2         2.000000\n",
       "3         3.000000\n",
       "4         2.000000\n",
       "            ...   \n",
       "121215    3.000000\n",
       "121216    4.000000\n",
       "121217    1.000000\n",
       "121218    2.000000\n",
       "121219    2.515387\n",
       "Name: rooms_clean, Length: 121220, dtype: float64"
      ]
     },
     "execution_count": 624,
     "metadata": {},
     "output_type": "execute_result"
    }
   ],
   "source": [
    "#defino el agrupamiento\n",
    "grupoPorPropiedad = dataFiltrada.groupby(['property_type'])\n",
    "#transform para imputar los valores promedio por grupo\n",
    "roomsNullFilled = grupoPorPropiedad['rooms_clean'].transform(lambda grp: grp.fillna(grp.mean()))\n",
    "roomsNullFilled"
   ]
  },
  {
   "cell_type": "code",
   "execution_count": 625,
   "metadata": {},
   "outputs": [
    {
     "data": {
      "text/plain": [
       "0"
      ]
     },
     "execution_count": 625,
     "metadata": {},
     "output_type": "execute_result"
    }
   ],
   "source": [
    "roomsNullFilled.isnull().sum()"
   ]
  },
  {
   "cell_type": "code",
   "execution_count": 626,
   "metadata": {},
   "outputs": [
    {
     "data": {
      "text/plain": [
       "0"
      ]
     },
     "execution_count": 626,
     "metadata": {},
     "output_type": "execute_result"
    }
   ],
   "source": [
    "dataFiltrada['rooms_clean'] = roomsNullFilled\n",
    "dataFiltrada.rooms_clean.isnull().sum()"
   ]
  },
  {
   "cell_type": "markdown",
   "metadata": {},
   "source": [
    "## Hasta aca esta completa la columna 'rooms_clean' sobre el dataframe filtrado. ------------------------"
   ]
  },
  {
   "cell_type": "code",
   "execution_count": 627,
   "metadata": {},
   "outputs": [
    {
     "data": {
      "image/png": "[encoded data removed]",
      "text/plain": [
       "<Figure size 432x288 with 1 Axes>"
      ]
     },
     "metadata": {
      "needs_background": "light"
     },
     "output_type": "display_data"
    }
   ],
   "source": [
    "import matplotlib.pyplot as plt\n",
    "\n",
    "#propertySumPlot = dataFiltrada.property_type.value_counts()\n",
    "#propertySumPlot.dtypes\n",
    "plt.clf()\n",
    "dataFiltrada.groupby('property_type').size().plot(kind='bar')\n",
    "plt.show()\n"
   ]
  },
  {
   "cell_type": "markdown",
   "metadata": {},
   "source": [
    "### -------------------------------------------------------"
   ]
  },
  {
   "cell_type": "markdown",
   "metadata": {},
   "source": [
    "### CRITERIO A ESTABLECER - La propiedad tipo \"house\" no deberia tener valor en floor y podemos inputarle NaN o 0"
   ]
  },
  {
   "cell_type": "code",
   "execution_count": 525,
   "metadata": {},
   "outputs": [],
   "source": [
    "houseMask = dataFiltrada.property_type == \"house\"\n",
    "soloHouse = dataFiltrada.loc[houseMask, :]\n"
   ]
  },
  {
   "cell_type": "code",
   "execution_count": 526,
   "metadata": {},
   "outputs": [
    {
     "name": "stdout",
     "output_type": "stream",
     "text": [
      "(40268, 7)\n",
      "39503\n",
      "0.9810022846925599\n"
     ]
    },
    {
     "data": {
      "text/plain": [
       "1.0       385\n",
       "2.0       290\n",
       "3.0        18\n",
       "8.0         4\n",
       "7.0         4\n",
       "14.0        3\n",
       "32.0        2\n",
       "10.0        2\n",
       "22.0        2\n",
       "6.0         2\n",
       "135.0       2\n",
       "5.0         2\n",
       "313.0       2\n",
       "1420.0      1\n",
       "28.0        1\n",
       "36.0        1\n",
       "691.0       1\n",
       "33.0        1\n",
       "391.0       1\n",
       "27.0        1\n",
       "42.0        1\n",
       "9.0         1\n",
       "324.0       1\n",
       "11.0        1\n",
       "722.0       1\n",
       "50.0        1\n",
       "643.0       1\n",
       "57.0        1\n",
       "64.0        1\n",
       "12.0        1\n",
       "4.0         1\n",
       "1512.0      1\n",
       "21.0        1\n",
       "41.0        1\n",
       "15.0        1\n",
       "1291.0      1\n",
       "181.0       1\n",
       "3150.0      1\n",
       "82.0        1\n",
       "252.0       1\n",
       "343.0       1\n",
       "201.0       1\n",
       "25.0        1\n",
       "26.0        1\n",
       "77.0        1\n",
       "403.0       1\n",
       "136.0       1\n",
       "338.0       1\n",
       "2177.0      1\n",
       "1450.0      1\n",
       "384.0       1\n",
       "56.0        1\n",
       "1379.0      1\n",
       "24.0        1\n",
       "17.0        1\n",
       "110.0       1\n",
       "368.0       1\n",
       "269.0       1\n",
       "67.0        1\n",
       "287.0       1\n",
       "Name: floor, dtype: int64"
      ]
     },
     "execution_count": 526,
     "metadata": {},
     "output_type": "execute_result"
    }
   ],
   "source": [
    "print(soloHouse.shape)\n",
    "print(soloHouse.floor.isnull().sum())\n",
    "porcentajeNulosHouse = soloHouse.floor.isnull().sum() / soloHouse.shape[0]\n",
    "print(porcentajeNulosHouse)\n",
    "soloHouse.floor.value_counts()"
   ]
  },
  {
   "cell_type": "markdown",
   "metadata": {},
   "source": [
    "Los valores de house que no corresponden a valores nulos son el 2% de los datos. Por esto podemos aplicar el criterio para house, con floor en NaN"
   ]
  },
  {
   "cell_type": "code",
   "execution_count": 529,
   "metadata": {},
   "outputs": [
    {
     "data": {
      "text/plain": [
       "Series([], Name: floor_clean, dtype: int64)"
      ]
     },
     "execution_count": 529,
     "metadata": {},
     "output_type": "execute_result"
    }
   ],
   "source": [
    "soloHouse = soloHouse.assign(floor_clean=np.NaN)\n",
    "soloHouse.floor_clean.value_counts()"
   ]
  },
  {
   "cell_type": "code",
   "execution_count": null,
   "metadata": {},
   "outputs": [],
   "source": []
  },
  {
   "cell_type": "markdown",
   "metadata": {},
   "source": [
    "Ahora introduzco en dataFiltrada los valores para house con floor en NaN"
   ]
  },
  {
   "cell_type": "code",
   "execution_count": 530,
   "metadata": {},
   "outputs": [],
   "source": [
    "dataFiltrada['floor_clean'] = soloHouse.floor_clean"
   ]
  },
  {
   "cell_type": "code",
   "execution_count": 533,
   "metadata": {},
   "outputs": [
    {
     "data": {
      "text/html": [
       "<div>\n",
       "<style scoped>\n",
       "    .dataframe tbody tr th:only-of-type {\n",
       "        vertical-align: middle;\n",
       "    }\n",
       "\n",
       "    .dataframe tbody tr th {\n",
       "        vertical-align: top;\n",
       "    }\n",
       "\n",
       "    .dataframe thead th {\n",
       "        text-align: right;\n",
       "    }\n",
       "</style>\n",
       "<table border=\"1\" class=\"dataframe\">\n",
       "  <thead>\n",
       "    <tr style=\"text-align: right;\">\n",
       "      <th></th>\n",
       "      <th>property_type</th>\n",
       "      <th>floor</th>\n",
       "      <th>rooms</th>\n",
       "      <th>description</th>\n",
       "      <th>title</th>\n",
       "      <th>rooms_clean</th>\n",
       "      <th>floor_clean</th>\n",
       "    </tr>\n",
       "  </thead>\n",
       "  <tbody>\n",
       "    <tr>\n",
       "      <th>47641</th>\n",
       "      <td>house</td>\n",
       "      <td>NaN</td>\n",
       "      <td>3.0</td>\n",
       "      <td>venta de casa( para reciclar) 2 dormitorios, living, cocina, garage, patio,. calle europa en b°aviador origoni, ciudad de villa mercedes pcia de san luis.(argentina ) ficha xintel web código n°4143- todos los servicios. -  - echevarria maria &amp; asoc. bienes inmuebles</td>\n",
       "      <td>casa en venta</td>\n",
       "      <td>3.0</td>\n",
       "      <td>NaN</td>\n",
       "    </tr>\n",
       "  </tbody>\n",
       "</table>\n",
       "</div>"
      ],
      "text/plain": [
       "      property_type  floor  rooms  \\\n",
       "47641         house    NaN    3.0   \n",
       "\n",
       "                                                                                                                                                                                                                                                                      description  \\\n",
       "47641  venta de casa( para reciclar) 2 dormitorios, living, cocina, garage, patio,. calle europa en b°aviador origoni, ciudad de villa mercedes pcia de san luis.(argentina ) ficha xintel web código n°4143- todos los servicios. -  - echevarria maria & asoc. bienes inmuebles   \n",
       "\n",
       "               title  rooms_clean  floor_clean  \n",
       "47641  casa en venta          3.0          NaN  "
      ]
     },
     "execution_count": 533,
     "metadata": {},
     "output_type": "execute_result"
    }
   ],
   "source": [
    "dataFiltrada.loc[houseMask,:].sample()"
   ]
  },
  {
   "cell_type": "markdown",
   "metadata": {},
   "source": [
    "Ahora exploramos los locales \"store\""
   ]
  },
  {
   "cell_type": "code",
   "execution_count": 535,
   "metadata": {},
   "outputs": [],
   "source": [
    "soloStoreMask = dataFiltrada.property_type == 'store'\n",
    "soloStore = dataFiltrada.loc[soloStoreMask, :]\n"
   ]
  },
  {
   "cell_type": "code",
   "execution_count": 536,
   "metadata": {},
   "outputs": [
    {
     "name": "stdout",
     "output_type": "stream",
     "text": [
      "(4136, 7)\n",
      "4096\n",
      "0.9903288201160542\n"
     ]
    },
    {
     "data": {
      "text/plain": [
       "1.0     24\n",
       "2.0     10\n",
       "19.0     1\n",
       "31.0     1\n",
       "53.0     1\n",
       "10.0     1\n",
       "14.0     1\n",
       "4.0      1\n",
       "Name: floor, dtype: int64"
      ]
     },
     "execution_count": 536,
     "metadata": {},
     "output_type": "execute_result"
    }
   ],
   "source": [
    "print(soloStore.shape)\n",
    "print(soloStore.floor.isnull().sum())\n",
    "porcentajeNulosStore = soloStore.floor.isnull().sum() / soloStore.shape[0]\n",
    "print(porcentajeNulosStore)\n",
    "soloStore.floor.value_counts()"
   ]
  },
  {
   "cell_type": "markdown",
   "metadata": {},
   "source": [
    "Existe un muy bajo porcentaje de valores distintos a NaN(un 1%) aplicamos el mismo criterio que para el tipo house."
   ]
  },
  {
   "cell_type": "code",
   "execution_count": 538,
   "metadata": {},
   "outputs": [
    {
     "data": {
      "text/html": [
       "<div>\n",
       "<style scoped>\n",
       "    .dataframe tbody tr th:only-of-type {\n",
       "        vertical-align: middle;\n",
       "    }\n",
       "\n",
       "    .dataframe tbody tr th {\n",
       "        vertical-align: top;\n",
       "    }\n",
       "\n",
       "    .dataframe thead th {\n",
       "        text-align: right;\n",
       "    }\n",
       "</style>\n",
       "<table border=\"1\" class=\"dataframe\">\n",
       "  <thead>\n",
       "    <tr style=\"text-align: right;\">\n",
       "      <th></th>\n",
       "      <th>property_type</th>\n",
       "      <th>floor</th>\n",
       "      <th>rooms</th>\n",
       "      <th>description</th>\n",
       "      <th>title</th>\n",
       "      <th>rooms_clean</th>\n",
       "      <th>floor_clean</th>\n",
       "    </tr>\n",
       "  </thead>\n",
       "  <tbody>\n",
       "    <tr>\n",
       "      <th>98915</th>\n",
       "      <td>store</td>\n",
       "      <td>NaN</td>\n",
       "      <td>NaN</td>\n",
       "      <td>local desarrollado en planta baja. 60m2 con baño mas deposito de 60m2 en planta alta con baño  ambas propiedades sobre lote de 250m2 en excelente ubicacion comercial. cercanía a accesos. \"los datos, medidas y antigüedades son estimativos y suministrados por el propietario\". código de propiedad: dlo449905horacio igarzabal cmcpsi mat nº 3154 dic propiedades s.a. -</td>\n",
       "      <td>local desarrollado en planta baja 60m2   deposito en planta alta 60m2. excelente ubicacion</td>\n",
       "      <td>NaN</td>\n",
       "      <td>NaN</td>\n",
       "    </tr>\n",
       "  </tbody>\n",
       "</table>\n",
       "</div>"
      ],
      "text/plain": [
       "      property_type  floor  rooms  \\\n",
       "98915         store    NaN    NaN   \n",
       "\n",
       "                                                                                                                                                                                                                                                                                                                                                                         description  \\\n",
       "98915  local desarrollado en planta baja. 60m2 con baño mas deposito de 60m2 en planta alta con baño  ambas propiedades sobre lote de 250m2 en excelente ubicacion comercial. cercanía a accesos. \"los datos, medidas y antigüedades son estimativos y suministrados por el propietario\". código de propiedad: dlo449905horacio igarzabal cmcpsi mat nº 3154 dic propiedades s.a. -    \n",
       "\n",
       "                                                                                            title  \\\n",
       "98915  local desarrollado en planta baja 60m2   deposito en planta alta 60m2. excelente ubicacion   \n",
       "\n",
       "       rooms_clean  floor_clean  \n",
       "98915          NaN          NaN  "
      ]
     },
     "execution_count": 538,
     "metadata": {},
     "output_type": "execute_result"
    }
   ],
   "source": [
    "soloStore = soloStore.assign(floor_clean=np.NaN)\n",
    "soloStore.floor_clean.value_counts()\n",
    "soloStore.sample()"
   ]
  },
  {
   "cell_type": "markdown",
   "metadata": {},
   "source": [
    "Actualizo el dataframe con los valoers de locales en NaN"
   ]
  },
  {
   "cell_type": "code",
   "execution_count": 539,
   "metadata": {},
   "outputs": [],
   "source": [
    "dataFiltrada['floor_clean'] = soloStore.floor_clean"
   ]
  },
  {
   "cell_type": "markdown",
   "metadata": {},
   "source": [
    "Exploración de PH"
   ]
  },
  {
   "cell_type": "code",
   "execution_count": 540,
   "metadata": {},
   "outputs": [
    {
     "data": {
      "text/html": [
       "<div>\n",
       "<style scoped>\n",
       "    .dataframe tbody tr th:only-of-type {\n",
       "        vertical-align: middle;\n",
       "    }\n",
       "\n",
       "    .dataframe tbody tr th {\n",
       "        vertical-align: top;\n",
       "    }\n",
       "\n",
       "    .dataframe thead th {\n",
       "        text-align: right;\n",
       "    }\n",
       "</style>\n",
       "<table border=\"1\" class=\"dataframe\">\n",
       "  <thead>\n",
       "    <tr style=\"text-align: right;\">\n",
       "      <th></th>\n",
       "      <th>property_type</th>\n",
       "      <th>floor</th>\n",
       "      <th>rooms</th>\n",
       "      <th>description</th>\n",
       "      <th>title</th>\n",
       "      <th>rooms_clean</th>\n",
       "      <th>floor_clean</th>\n",
       "    </tr>\n",
       "  </thead>\n",
       "  <tbody>\n",
       "    <tr>\n",
       "      <th>15925</th>\n",
       "      <td>PH</td>\n",
       "      <td>NaN</td>\n",
       "      <td>3.0</td>\n",
       "      <td>venta casa con ph al fondo.casa 3 ambientes con garaje para 1 auto y patio. living comedor (3x5), cocina (3,50x3), dormitorio al frente (3x3,50) con pisos de parquet sin placard, dormitorio contra frente con pisos de parquet sin placard, bao con receptaculo, comedor diario con techo de chapa con cuartito de lavadero. al fondo ph 3 ambientes en 2 plantas. planta baja: living comedor (6x4), cocina (3,20x4), toilette. planta alta: dormitorio principal (4x4) con balcon, 2 dormitorio (4x3,50) con balcon, bao principal con receptaculo.yerua 800, lomas del miradorconsulte cod p322miriam malizia negocios inmobiliarios espora 46, ramos mejia / .publicado por miriam malizia ngeocios inmobiliarios a traves inmomap</td>\n",
       "      <td>venta casa 3 amb con ph 3 amb al fondo lomas del mirador</td>\n",
       "      <td>3.0</td>\n",
       "      <td>NaN</td>\n",
       "    </tr>\n",
       "    <tr>\n",
       "      <th>59118</th>\n",
       "      <td>PH</td>\n",
       "      <td>NaN</td>\n",
       "      <td>2.0</td>\n",
       "      <td>dos ambientes en primer piso por escalera.cocina integrada, living. dormitorio con placard y pisos parquet.baño reciclado.sin gastos!!! apto credito</td>\n",
       "      <td>dos ambientes a la calle</td>\n",
       "      <td>2.0</td>\n",
       "      <td>NaN</td>\n",
       "    </tr>\n",
       "    <tr>\n",
       "      <th>5900</th>\n",
       "      <td>PH</td>\n",
       "      <td>NaN</td>\n",
       "      <td>4.0</td>\n",
       "      <td>4 amb entrada independiente primero por escalera que cuenta con living-comedor, 3 dormitorios (1 en altos), baño con bañera, cocina comedor, patio cubierto y amplia terraza.- además cuenta con parrilla y horno de barro.-</td>\n",
       "      <td>4 amb al frente con balcón, patio y terraza</td>\n",
       "      <td>4.0</td>\n",
       "      <td>NaN</td>\n",
       "    </tr>\n",
       "    <tr>\n",
       "      <th>39472</th>\n",
       "      <td>PH</td>\n",
       "      <td>NaN</td>\n",
       "      <td>3.0</td>\n",
       "      <td>venta de ph  3 ambientes en villa luzuriaga amplios ambientes todo en pb  lavadero independiente patio de ingreso que distribuye  al interior posibilidad de seguir construyendo inmejorable ubicación excelentes vías de ingreso***consulte whatsapp +54 9 11 53772762****** comercialización sujeta - a la concreción de la tramitación del coti por parte del propietario - dar acatamiento a la resolución general nº 2371 de afip -  - patricia cimarelli propiedades</td>\n",
       "      <td>ph en venta</td>\n",
       "      <td>3.0</td>\n",
       "      <td>NaN</td>\n",
       "    </tr>\n",
       "    <tr>\n",
       "      <th>33588</th>\n",
       "      <td>PH</td>\n",
       "      <td>NaN</td>\n",
       "      <td>3.0</td>\n",
       "      <td>ph planta baja 3 ambientes  con garage al frente entrada independiente.garage de 2,80 x 5,80 placar completo de piso a techo y baulera , hall de distribución de 2,40 x 2,80, habitación principal de 3,05 x 3,10 con  placar completo de piso a techo, baño con bañera completa, 2 ° habitación de 3,30 x3,00  con baulera, living-comedor de 4,40 x 4,10, que posee un sótano reves(do con cerámica en perfectas condiciones de 3,80 x 3,00, cocina de 2,10 x 2,70 completa con anafe y horno empotrable, alacenas y bajo mesadasy doble circulacion, pa(o de 2,70 x 4,20 con lavadero incorporado cubierto completo con conexión y pileta. la terraza de 102 m2 toda libre  muy amplia apto para construir, con doble acceso uno por pa(o interno y otro directo de la calle. total de 90 m2 cubiertos y otros 102 m2 libres. estado general muy bueno.</td>\n",
       "      <td>vnta ph 3 ambientes liniers</td>\n",
       "      <td>3.0</td>\n",
       "      <td>NaN</td>\n",
       "    </tr>\n",
       "  </tbody>\n",
       "</table>\n",
       "</div>"
      ],
      "text/plain": [
       "      property_type  floor  rooms  \\\n",
       "15925            PH    NaN    3.0   \n",
       "59118            PH    NaN    2.0   \n",
       "5900             PH    NaN    4.0   \n",
       "39472            PH    NaN    3.0   \n",
       "33588            PH    NaN    3.0   \n",
       "\n",
       "                                                                                                                                                                                                                                                                                                                                                                                                                                                                                                                                                                                                                                                                                                                                                                                                                                                      description  \\\n",
       "15925                                                                                                                    venta casa con ph al fondo.casa 3 ambientes con garaje para 1 auto y patio. living comedor (3x5), cocina (3,50x3), dormitorio al frente (3x3,50) con pisos de parquet sin placard, dormitorio contra frente con pisos de parquet sin placard, bao con receptaculo, comedor diario con techo de chapa con cuartito de lavadero. al fondo ph 3 ambientes en 2 plantas. planta baja: living comedor (6x4), cocina (3,20x4), toilette. planta alta: dormitorio principal (4x4) con balcon, 2 dormitorio (4x3,50) con balcon, bao principal con receptaculo.yerua 800, lomas del miradorconsulte cod p322miriam malizia negocios inmobiliarios espora 46, ramos mejia / .publicado por miriam malizia ngeocios inmobiliarios a traves inmomap   \n",
       "59118                                                                                                                                                                                                                                                                                                                                                                                                                                                                                                                                                                                                                                                                                                        dos ambientes en primer piso por escalera.cocina integrada, living. dormitorio con placard y pisos parquet.baño reciclado.sin gastos!!! apto credito   \n",
       "5900                                                                                                                                                                                                                                                                                                                                                                                                                                                                                                                                                                                                                                 4 amb entrada independiente primero por escalera que cuenta con living-comedor, 3 dormitorios (1 en altos), baño con bañera, cocina comedor, patio cubierto y amplia terraza.- además cuenta con parrilla y horno de barro.-   \n",
       "39472                                                                                                                                                                                                                                                                                                                                                                                  venta de ph  3 ambientes en villa luzuriaga amplios ambientes todo en pb  lavadero independiente patio de ingreso que distribuye  al interior posibilidad de seguir construyendo inmejorable ubicación excelentes vías de ingreso***consulte whatsapp +54 9 11 53772762****** comercialización sujeta - a la concreción de la tramitación del coti por parte del propietario - dar acatamiento a la resolución general nº 2371 de afip -  - patricia cimarelli propiedades   \n",
       "33588  ph planta baja 3 ambientes  con garage al frente entrada independiente.garage de 2,80 x 5,80 placar completo de piso a techo y baulera , hall de distribución de 2,40 x 2,80, habitación principal de 3,05 x 3,10 con  placar completo de piso a techo, baño con bañera completa, 2 ° habitación de 3,30 x3,00  con baulera, living-comedor de 4,40 x 4,10, que posee un sótano reves(do con cerámica en perfectas condiciones de 3,80 x 3,00, cocina de 2,10 x 2,70 completa con anafe y horno empotrable, alacenas y bajo mesadasy doble circulacion, pa(o de 2,70 x 4,20 con lavadero incorporado cubierto completo con conexión y pileta. la terraza de 102 m2 toda libre  muy amplia apto para construir, con doble acceso uno por pa(o interno y otro directo de la calle. total de 90 m2 cubiertos y otros 102 m2 libres. estado general muy bueno.   \n",
       "\n",
       "                                                          title  rooms_clean  \\\n",
       "15925  venta casa 3 amb con ph 3 amb al fondo lomas del mirador          3.0   \n",
       "59118                                  dos ambientes a la calle          2.0   \n",
       "5900                4 amb al frente con balcón, patio y terraza          4.0   \n",
       "39472                                               ph en venta          3.0   \n",
       "33588                               vnta ph 3 ambientes liniers          3.0   \n",
       "\n",
       "       floor_clean  \n",
       "15925          NaN  \n",
       "59118          NaN  \n",
       "5900           NaN  \n",
       "39472          NaN  \n",
       "33588          NaN  "
      ]
     },
     "execution_count": 540,
     "metadata": {},
     "output_type": "execute_result"
    }
   ],
   "source": [
    "\n",
    "phMask = dataFiltrada.property_type == \"PH\"\n",
    "soloPH = dataFiltrada.loc[phMask, :]\n",
    "soloPH.sample(5)"
   ]
  },
  {
   "cell_type": "code",
   "execution_count": 128,
   "metadata": {},
   "outputs": [
    {
     "name": "stdout",
     "output_type": "stream",
     "text": [
      "(5751, 6)\n",
      "5178\n",
      "0.9003651538862807\n"
     ]
    },
    {
     "data": {
      "text/plain": [
       "1.0     154\n",
       "2.0     146\n",
       "3.0      63\n",
       "6.0      42\n",
       "5.0      38\n",
       "7.0      31\n",
       "4.0      31\n",
       "8.0      12\n",
       "9.0      11\n",
       "11.0     10\n",
       "10.0      9\n",
       "12.0      8\n",
       "14.0      7\n",
       "13.0      7\n",
       "16.0      2\n",
       "15.0      1\n",
       "17.0      1\n",
       "Name: floor, dtype: int64"
      ]
     },
     "execution_count": 128,
     "metadata": {},
     "output_type": "execute_result"
    }
   ],
   "source": [
    "\n",
    "print(soloPH.shape)\n",
    "print(soloPH.floor.isnull().sum())\n",
    "porcentajeNulosPH = soloPH.floor.isnull().sum() / soloPH.shape[0]\n",
    "print(porcentajeNulosPH)\n",
    "soloPH.floor.value_counts()\n",
    "#Creo que se puede hacer un corte en 3\n"
   ]
  },
  {
   "cell_type": "markdown",
   "metadata": {},
   "source": [
    "Criterio: Se respeta el valor de floor original, en el caso de los nulos se buscan referencias al piso en la descripcion, luego decidimos en funcion de los valores encontrados.\n",
    "O\n",
    "Limpiamos con NaN y buscamos valores para imputar desde las descripciones?"
   ]
  },
  {
   "cell_type": "markdown",
   "metadata": {},
   "source": [
    "Existen menciones de algunos locales que remarcan el piso, puede ser relevante por circulacion de gente o lugar en un shopping."
   ]
  },
  {
   "cell_type": "markdown",
   "metadata": {},
   "source": [
    "Vamos a explorar con Regex la descripcion para establecer el piso que se encuentra el local.\n"
   ]
  },
  {
   "cell_type": "code",
   "execution_count": 130,
   "metadata": {},
   "outputs": [],
   "source": []
  },
  {
   "cell_type": "code",
   "execution_count": 148,
   "metadata": {},
   "outputs": [],
   "source": [
    "PisoUnoPattern = '1.*er+.*piso|primer+.*piso|piso+.*primero|piso+.*uno|piso+.*1'\n",
    "PisoUnoRegex = re.compile(PisoUnoPattern)"
   ]
  },
  {
   "cell_type": "code",
   "execution_count": null,
   "metadata": {},
   "outputs": [],
   "source": [
    "pisoUnoMatches = dataFiltrada.description"
   ]
  },
  {
   "cell_type": "code",
   "execution_count": 144,
   "metadata": {},
   "outputs": [
    {
     "data": {
      "text/plain": [
       "0                                                                                                 None\n",
       "3                                                                                                 None\n",
       "6         <re.Match object; span=(102, 355), match='pisos de pinotea) - living - cocina comedor - bañ>\n",
       "16                                                                                                None\n",
       "34        <re.Match object; span=(156, 250), match='primer piso: living, cocina, comedor diarios, dor>\n",
       "                                                      ...                                             \n",
       "120972     <re.Match object; span=(16, 153), match='primer piso por escalera , 5 ambientes para remod>\n",
       "121081                                                                                            None\n",
       "121104                                                                                            None\n",
       "121130                                                                                            None\n",
       "121148                                           <re.Match object; span=(39, 50), match='primer piso'>\n",
       "Name: description, Length: 5178, dtype: object"
      ]
     },
     "execution_count": 144,
     "metadata": {},
     "output_type": "execute_result"
    }
   ],
   "source": [
    "phPisoUnoMatches = soloPHNull.description.apply(lambda x: PisoUnoRegex.search(x))\n",
    "phPisoUnoMatches"
   ]
  },
  {
   "cell_type": "code",
   "execution_count": 63,
   "metadata": {},
   "outputs": [
    {
     "name": "stdout",
     "output_type": "stream",
     "text": [
      "(71065, 6)\n",
      "64544\n",
      "0.9082389361851826\n"
     ]
    },
    {
     "data": {
      "text/plain": [
       "1.0       1517\n",
       "2.0       1096\n",
       "3.0        833\n",
       "4.0        625\n",
       "5.0        444\n",
       "          ... \n",
       "1204.0       1\n",
       "407.0        1\n",
       "63.0         1\n",
       "1202.0       1\n",
       "508.0        1\n",
       "Name: floor, Length: 150, dtype: int64"
      ]
     },
     "execution_count": 63,
     "metadata": {},
     "output_type": "execute_result"
    }
   ],
   "source": [
    "soloApartmentMask = dataFiltrada.property_type == 'apartment'\n",
    "soloApartment = dataFiltrada.loc[soloApartmentMask, :]\n",
    "print(soloApartment.shape)\n",
    "print(soloApartment.floor.isnull().sum())\n",
    "porcentajeNulosApartment = soloApartment.floor.isnull().sum() / soloApartment.shape[0]\n",
    "print(porcentajeNulosApartment)\n",
    "soloApartment.floor.value_counts()\n"
   ]
  },
  {
   "cell_type": "code",
   "execution_count": null,
   "metadata": {},
   "outputs": [],
   "source": []
  }
 ],
 "metadata": {
  "kernelspec": {
   "display_name": "Python 3",
   "language": "python",
   "name": "python3"
  },
  "language_info": {
   "codemirror_mode": {
    "name": "ipython",
    "version": 3
   },
   "file_extension": ".py",
   "mimetype": "text/x-python",
   "name": "python",
   "nbconvert_exporter": "python",
   "pygments_lexer": "ipython3",
   "version": "3.7.6"
  }
 },
 "nbformat": 4,
 "nbformat_minor": 4
}
